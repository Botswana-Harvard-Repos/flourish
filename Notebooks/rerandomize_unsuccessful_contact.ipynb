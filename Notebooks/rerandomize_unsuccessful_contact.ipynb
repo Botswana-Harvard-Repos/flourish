{
 "cells": [
  {
   "cell_type": "code",
   "execution_count": 42,
   "id": "9c8c0c58",
   "metadata": {},
   "outputs": [],
   "source": [
    "# Imports\n",
    "import csv\n",
    "import os \n",
    "import pandas as pd\n",
    "from django.core.exceptions import ValidationError\n",
    "os.environ[\"DJANGO_ALLOW_ASYNC_UNSAFE\"] = \"true\"\n",
    "from datetime import date"
   ]
  },
  {
   "cell_type": "code",
   "execution_count": 43,
   "id": "5cfac913",
   "metadata": {},
   "outputs": [],
   "source": [
    "success_log_entries_ids = LogEntry.objects.filter(~Q(phone_num_success=['none_of_the_above'])).values_list(\n",
    "    'study_maternal_identifier', flat=True)\n",
    "\n",
    "unsucessful_log_entries = LogEntry.objects.filter(phone_num_success=['none_of_the_above']).exclude(\n",
    "    study_maternal_identifier__in=success_log_entries_ids)\n"
   ]
  },
  {
   "cell_type": "code",
   "execution_count": 44,
   "id": "b619cb87",
   "metadata": {},
   "outputs": [
    {
     "data": {
      "text/plain": [
       "3604"
      ]
     },
     "execution_count": 44,
     "metadata": {},
     "output_type": "execute_result"
    }
   ],
   "source": [
    "len(success_log_entries_ids)"
   ]
  },
  {
   "cell_type": "code",
   "execution_count": 45,
   "id": "c55022f1",
   "metadata": {},
   "outputs": [
    {
     "data": {
      "text/plain": [
       "2815"
      ]
     },
     "execution_count": 45,
     "metadata": {},
     "output_type": "execute_result"
    }
   ],
   "source": [
    "unsucessful_log_entries.count()"
   ]
  },
  {
   "cell_type": "code",
   "execution_count": 46,
   "id": "9e292b1d",
   "metadata": {},
   "outputs": [
    {
     "data": {
      "text/plain": [
       "1624"
      ]
     },
     "execution_count": 46,
     "metadata": {},
     "output_type": "execute_result"
    }
   ],
   "source": [
    "unsuccessful_contact = list(set(unsucessful_log_entries.values_list('study_maternal_identifier', flat=True)))\n",
    "len(unsuccessful_contact)"
   ]
  },
  {
   "cell_type": "code",
   "execution_count": 48,
   "id": "ee8fa8d1",
   "metadata": {},
   "outputs": [
    {
     "data": {
      "text/plain": [
       "1603"
      ]
     },
     "execution_count": 48,
     "metadata": {},
     "output_type": "execute_result"
    }
   ],
   "source": [
    "unsuccessful_contact_wl = WorkList.objects.filter(study_maternal_identifier__in=unsuccessful_contact,\n",
    "                                                  consented=False)\n",
    "unsuccessful_contact_wl.count()"
   ]
  },
  {
   "cell_type": "code",
   "execution_count": 49,
   "id": "5a517c74",
   "metadata": {},
   "outputs": [],
   "source": [
    "# WorkList.objects.first().__dict__"
   ]
  },
  {
   "cell_type": "code",
   "execution_count": 50,
   "id": "4e88a081",
   "metadata": {},
   "outputs": [],
   "source": [
    "for w in unsuccessful_contact_wl:\n",
    "#     print(w._meta.label_lower)\n",
    "#     print(WorkList._meta.label_lower)\n",
    "#     break\n",
    "    w.assigned = None\n",
    "    w.date_assigned = None\n",
    "    w.is_called=False\n",
    "    w.save()"
   ]
  },
  {
   "cell_type": "code",
   "execution_count": 38,
   "id": "d4f2d092",
   "metadata": {},
   "outputs": [
    {
     "data": {
      "text/plain": [
       "1629"
      ]
     },
     "execution_count": 38,
     "metadata": {},
     "output_type": "execute_result"
    }
   ],
   "source": [
    "len(WorkList.objects.filter(\n",
    "                is_called=False,\n",
    "                assigned=None,\n",
    "                date_assigned=None,\n",
    "                consented=False).values_list(\n",
    "                    'study_maternal_identifier', flat=True))\n",
    "\n"
   ]
  },
  {
   "cell_type": "code",
   "execution_count": 41,
   "id": "fb3eacc3",
   "metadata": {},
   "outputs": [
    {
     "name": "stdout",
     "output_type": "stream",
     "text": [
      "94\n"
     ]
    },
    {
     "data": {
      "text/plain": [
       "1584"
      ]
     },
     "execution_count": 41,
     "metadata": {},
     "output_type": "execute_result"
    }
   ],
   "source": [
    "from decimal import Decimal\n",
    "\n",
    "over_age_limit = ChildDataset.objects.filter(\n",
    "            age_today__gte=Decimal('17.9')).values_list(\n",
    "                'study_maternal_identifier', flat=True)\n",
    "over_age_limit = list(set(over_age_limit))\n",
    "\n",
    "print(len(over_age_limit))\n",
    "\n",
    "identifiers = WorkList.objects.filter(\n",
    "                is_called=False,\n",
    "                assigned=None,\n",
    "                date_assigned=None,\n",
    "                consented=False).values_list(\n",
    "                    'study_maternal_identifier', flat=True)\n",
    "\n",
    "final_list = list(set(identifiers) - set(over_age_limit))\n",
    "\n",
    "len(final_list)"
   ]
  },
  {
   "cell_type": "code",
   "execution_count": 25,
   "id": "2120bc3e",
   "metadata": {},
   "outputs": [
    {
     "data": {
      "text/plain": [
       "26"
      ]
     },
     "execution_count": 25,
     "metadata": {},
     "output_type": "execute_result"
    }
   ],
   "source": [
    "identifiers = WorkList.objects.filter(\n",
    "                is_called=False,\n",
    "                assigned=None,\n",
    "                date_assigned=None,\n",
    "                consented=False).values_list(\n",
    "                    'study_maternal_identifier', flat=True)\n",
    "\n",
    "len(identifiers)"
   ]
  },
  {
   "cell_type": "code",
   "execution_count": null,
   "id": "d15b6ab5",
   "metadata": {},
   "outputs": [],
   "source": [
    "final_list = list(set(identifiers) - set(over_age_limit))\n",
    "\n",
    "len(final_list)"
   ]
  }
 ],
 "metadata": {
  "kernelspec": {
   "display_name": "Django Shell-Plus",
   "language": "python",
   "name": "django_extensions"
  },
  "language_info": {
   "codemirror_mode": {
    "name": "ipython",
    "version": 3
   },
   "file_extension": ".py",
   "mimetype": "text/x-python",
   "name": "python",
   "nbconvert_exporter": "python",
   "pygments_lexer": "ipython3",
   "version": "3.9.0"
  }
 },
 "nbformat": 4,
 "nbformat_minor": 5
}
