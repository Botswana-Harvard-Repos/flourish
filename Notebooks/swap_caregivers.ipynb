{
 "cells": [
  {
   "cell_type": "code",
   "execution_count": 2,
   "id": "9646440d",
   "metadata": {},
   "outputs": [],
   "source": [
    "# Imports\n",
    "import os, sys\n",
    "import django\n",
    "from datetime import datetime\n",
    "sys.path.append('../..') # add path to project root dir\n",
    "os.environ[\"DJANGO_SETTINGS_MODULE\"] = \"flourish.settings\"\n",
    "from django.apps import apps as django_apps\n",
    "os.environ[\"DJANGO_ALLOW_ASYNC_UNSAFE\"] = \"true\"\n",
    "django.setup()\n",
    "from edc_appointment.models import Appointment\n",
    "from flourish_caregiver.models import *\n",
    "from flourish_child.models import *\n",
    "from edc_registration.models import *\n",
    "from edc_visit_schedule.models import *\n",
    "from edc_constants.constants import *"
   ]
  },
  {
   "cell_type": "code",
   "execution_count": 3,
   "id": "a4cedfe1",
   "metadata": {},
   "outputs": [],
   "source": [
    "# init data to be used\n",
    "\n",
    "caregiver_subject_identifier = 'C142-040990642-6'\n",
    "caregiver_screening_identifier = 'S99Y7REX'\n",
    "child_subject_identifier = 'C142-040990642-6-10'\n",
    "new_child_subject_identifier = 'B142-040990642-6-10'\n",
    "new_subject_identifier = 'B142-040990642-6'\n",
    "previous_subject_identifier = '056-1982862-0'\n",
    "\n"
   ]
  },
  {
   "cell_type": "code",
   "execution_count": 4,
   "id": "9ee874ad",
   "metadata": {},
   "outputs": [],
   "source": [
    "# estabilish what exists\n",
    "caregiver_screening = ScreeningPriorBhpParticipants.objects.get(screening_identifier = caregiver_screening_identifier)\n",
    "maternal_dataset = MaternalDataset.objects.get(study_maternal_identifier=previous_subject_identifier)\n",
    "caregiver_consent = SubjectConsent.objects.get(subject_identifier=caregiver_subject_identifier)\n",
    "child_consent = CaregiverChildConsent.objects.get(subject_identifier = child_subject_identifier)"
   ]
  },
  {
   "cell_type": "code",
   "execution_count": 6,
   "id": "187a6d29",
   "metadata": {},
   "outputs": [],
   "source": [
    "# unassign screening to allow save the new screening\n",
    "\n",
    "caregiver_screening.study_maternal_identifier = ''\n",
    "caregiver_screening.save()"
   ]
  },
  {
   "cell_type": "code",
   "execution_count": 7,
   "id": "843cc39b",
   "metadata": {},
   "outputs": [],
   "source": [
    "# unassign to allow the new caregiver pid to be saved and generate desire screening id\n",
    "\n",
    "try:\n",
    "    MaternalDataset.objects.get(subject_identifier = new_subject_identifier)\n",
    "except MaternalDataset.DoesNotExist:\n",
    "    maternal_dataset.subject_identifier = new_subject_identifier\n",
    "    maternal_dataset.screening_identifier = ''\n",
    "    maternal_dataset.save()\n",
    "\n",
    "assert maternal_dataset.screening_identifier and maternal_dataset.screening_identifier != caregiver_screening.screening_identifier\n"
   ]
  },
  {
   "cell_type": "code",
   "execution_count": 47,
   "id": "2018f406",
   "metadata": {},
   "outputs": [],
   "source": [
    "# screening for the bio mother\n",
    "# the clinic to be changed if necessary \n",
    "\n",
    "from copy import deepcopy\n",
    "\n",
    "screening = None\n",
    "\n",
    "try:\n",
    "\n",
    "    screening = ScreeningPriorBhpParticipants.objects.get(subject_identifier = new_subject_identifier)\n",
    "except ScreeningPriorBhpParticipants.DoesNotExist:\n",
    "\n",
    "    screening = deepcopy(caregiver_screening)\n",
    "    screening.id = None\n",
    "    screening.slug = None\n",
    "    screening.flourish_participation = 'interested'\n",
    "    screening.screening_identifier = maternal_dataset.screening_identifier\n",
    "    screening.subject_identifier = new_subject_identifier\n",
    "    screening.is_consented = True\n",
    "    screening.mother_alive = YES\n",
    "    screening.save()\n",
    "    \n",
    "\n",
    "assert screening.mother_alive == YES\n",
    "assert new_subject_identifier\n"
   ]
  },
  {
   "cell_type": "code",
   "execution_count": 48,
   "id": "0191e485",
   "metadata": {},
   "outputs": [],
   "source": [
    "from edc_constants.constants import FEMALE, YES, OTHER, OMANG\n",
    "from edc_base.utils import get_utcnow\n",
    "import datetime\n",
    "import pytz\n",
    "\n",
    "\n",
    "utc=pytz.UTC\n",
    "\n",
    "\n",
    "new_mother_consent = None\n",
    "biological_mother_subject_consent = deepcopy(caregiver_consent)\n",
    "\n",
    "new_consent = None\n",
    "\n",
    "try:\n",
    "    \n",
    "    new_consent = SubjectConsent.objects.get(subject_identifier = new_subject_identifier)\n",
    "    \n",
    "except SubjectConsent.DoesNotExist:\n",
    "\n",
    "    \n",
    "    new_consent = SubjectConsent()\n",
    "    new_consent.screening_identifier = maternal_dataset.screening_identifier\n",
    "    new_consent.subject_identifier = maternal_dataset.subject_identifier\n",
    "    new_consent.first_name = maternal_dataset.first_name\n",
    "    new_consent.last_name = maternal_dataset.last_name\n",
    "    new_consent.initials = f'{maternal_dataset.first_name[0]}{ maternal_dataset.last_name[0]}'.upper()\n",
    "    new_consent.language = 'tn'\n",
    "    new_consent.recruit_source = 'BHP recruiter/clinician'\n",
    "    new_consent.recruitment_clinic = 'Prior'\n",
    "    new_consent.dob = datetime.date(1980, 1, 17)\n",
    "    new_consent.is_dob_estimated = '-'\n",
    "    new_consent.citizen = YES\n",
    "    new_consent.gender = FEMALE\n",
    "    new_consent.identity_type = 'country_id'\n",
    "    new_consent.identity = '123456789'\n",
    "    new_consent.confirm_identity = '123456789'\n",
    "    new_consent.remain_in_study = YES\n",
    "    new_consent.hiv_testing = NOT_APPLICABLE\n",
    "    new_consent.breastfeed_intent = NOT_APPLICABLE\n",
    "    new_consent.child_consent = YES\n",
    "    new_consent.consent_reviewed = YES\n",
    "    new_consent.study_questions = YES\n",
    "    new_consent.assessment_score = YES\n",
    "    new_consent.consent_signature = YES\n",
    "    new_consent.consent_copy = YES\n",
    "    new_consent.future_contact = YES\n",
    "    new_consent.biological_caregiver = YES\n",
    "    new_consent.consent_datetime = datetime.datetime(2022, 12, 14, 10, 47).replace(tzinfo=utc)\n",
    "    new_consent.version = '2'\n",
    "    new_consent.is_literate = YES\n",
    "    new_consent.save()\n",
    "    \n",
    "\n",
    "if not new_consent.caregiverchildconsent_set.exists():\n",
    "    new_consent.caregiverchildconsent_set.add(child_consent)\n",
    "    new_consent.save()\n",
    "\n",
    "assert new_consent\n",
    "assert new_consent.subject_identifier == new_subject_identifier\n"
   ]
  },
  {
   "cell_type": "code",
   "execution_count": 49,
   "id": "4adf2754",
   "metadata": {},
   "outputs": [],
   "source": [
    "try:\n",
    "    registered_consent =  RegisteredSubject.objects.get(subject_identifier = new_subject_identifier)\n",
    "except RegisteredSubject.DoesNotExist:\n",
    "    pass\n",
    "else:\n",
    "    registered_consent.relative_identifier = child_subject_identifier\n",
    "    registered_consent.save()\n",
    "\n",
    "assert registered_consent.relative_identifier == child_subject_identifier\n"
   ]
  },
  {
   "cell_type": "code",
   "execution_count": 50,
   "id": "f772d72b",
   "metadata": {},
   "outputs": [],
   "source": [
    "try:\n",
    "    child_registered_consent =  RegisteredSubject.objects.get(subject_identifier = child_subject_identifier)\n",
    "except RegisteredSubject.DoesNotExist:\n",
    "    pass\n",
    "else:\n",
    "    child_registered_consent.relative_identifier = new_subject_identifier\n",
    "    child_registered_consent.save()\n",
    "\n",
    "assert child_registered_consent.relative_identifier == new_subject_identifier"
   ]
  },
  {
   "cell_type": "code",
   "execution_count": 51,
   "id": "401e6b9d",
   "metadata": {},
   "outputs": [],
   "source": [
    "maternal_dataset.subject_identifier = new_subject_identifier\n",
    "maternal_dataset.save()"
   ]
  },
  {
   "cell_type": "code",
   "execution_count": 52,
   "id": "57e733a7",
   "metadata": {},
   "outputs": [],
   "source": [
    "try:\n",
    "    \n",
    "    version = FlourishConsentVersion.objects.get(\n",
    "        screening_identifier = maternal_dataset.screening_identifier,\n",
    "    )\n",
    "    \n",
    "except FlourishConsentVersion.DoesNotExist:\n",
    "    version = FlourishConsentVersion(\n",
    "        screening_identifier = maternal_dataset.screening_identifier,\n",
    "        version = '2',\n",
    "        child_version = '2'\n",
    "    )\n",
    "    \n",
    "    version.save()\n",
    "\n",
    "\n",
    "\n",
    "assert version.screening_identifier == maternal_dataset.screening_identifier"
   ]
  },
  {
   "cell_type": "code",
   "execution_count": 53,
   "id": "60b024e9",
   "metadata": {},
   "outputs": [],
   "source": [
    "from edc_appointment.models import Appointment as CaregiverAppointment\n",
    "from flourish_child.models import Appointment as ChildAppointment\n",
    "\n",
    "child_appointments = ChildAppointment.objects.filter(\n",
    "    subject_identifier=child_subject_identifier,\n",
    "    visit_code__gte=2001)\n",
    "\n",
    "for child_appointment in child_appointments:\n",
    "    \n",
    "    assert int(child_appointment.visit_code) >= 2001\n",
    "    \n",
    "    try:\n",
    "    \n",
    "        caregiver_appointment = CaregiverAppointment.objects.get(\n",
    "                subject_identifier = new_subject_identifier,\n",
    "                visit_code__istartswith=child_appointment.visit_code)\n",
    "        \n",
    "    except CaregiverAppointment.DoesNotExist:\n",
    "        pass\n",
    "    else:\n",
    "        assert caregiver_appointment.visit_code.startswith(child_appointment.visit_code)\n",
    "        \n",
    "        if caregiver_appointment.appt_datetime != child_appointment.appt_datetime:\n",
    "            caregiver_appointment.appt_datetime = child_appointment.appt_datetime\n",
    "            caregiver_appointment.save()\n",
    "            \n",
    "            \n",
    "    "
   ]
  },
  {
   "cell_type": "code",
   "execution_count": 56,
   "id": "ffef8f6f",
   "metadata": {},
   "outputs": [
    {
     "data": {
      "text/plain": [
       "(0, {})"
      ]
     },
     "execution_count": 56,
     "metadata": {},
     "output_type": "execute_result"
    }
   ],
   "source": [
    "# Delete appointments not needed thus 2001M and 2002M\n",
    "\n",
    "CaregiverAppointment.objects.filter(\n",
    "    subject_identifier = new_subject_identifier,\n",
    "    visit_code__in = ['2001M', '2002M']).delete()\n",
    "\n"
   ]
  },
  {
   "cell_type": "code",
   "execution_count": 58,
   "id": "960caac5",
   "metadata": {},
   "outputs": [
    {
     "data": {
      "text/plain": [
       "{'_state': <django.db.models.base.ModelState at 0x7fb30364f700>,\n",
       " 'created': datetime.datetime(2023, 2, 9, 13, 53, 12, 773701, tzinfo=<UTC>),\n",
       " 'modified': datetime.datetime(2023, 2, 23, 8, 39, 5, 79685, tzinfo=<UTC>),\n",
       " 'user_created': 'flourish',\n",
       " 'user_modified': 'flourish',\n",
       " 'hostname_created': 'flourish-dev',\n",
       " 'hostname_modified': 'cyborg-2.local',\n",
       " 'revision': '',\n",
       " 'device_created': '99',\n",
       " 'device_modified': '01',\n",
       " 'id': UUID('5caf7a8b-888f-4c7e-a97b-c577d4a80652'),\n",
       " 'site_id': 40,\n",
       " 'subject_identifier': 'B142-040990642-6',\n",
       " 'visit_schedule_name': 'b1_visit_schedule1',\n",
       " 'schedule_name': 'b_sec_quart1_schedule1',\n",
       " 'visit_code': '2009M',\n",
       " 'visit_code_sequence': 0,\n",
       " 'timepoint_status': 'open',\n",
       " 'timepoint_opened_datetime': datetime.datetime(2024, 4, 4, 6, 7, 33, tzinfo=<UTC>),\n",
       " 'timepoint_closed_datetime': None,\n",
       " 'timepoint': Decimal('9.0'),\n",
       " 'timepoint_datetime': datetime.datetime(2025, 4, 29, 13, 52, 58, tzinfo=<UTC>),\n",
       " 'appt_close_datetime': None,\n",
       " 'facility_name': '5-day clinic',\n",
       " 'appt_datetime': datetime.datetime(2024, 4, 4, 6, 7, 33, tzinfo=<UTC>),\n",
       " 'appt_type': 'clinic',\n",
       " 'appt_status': 'new',\n",
       " 'appt_reason': '',\n",
       " 'comment': '',\n",
       " 'is_confirmed': False}"
      ]
     },
     "execution_count": 58,
     "metadata": {},
     "output_type": "execute_result"
    }
   ],
   "source": [
    "caregiver_appointment.__dict__"
   ]
  },
  {
   "cell_type": "code",
   "execution_count": null,
   "id": "fa74ab1d",
   "metadata": {},
   "outputs": [],
   "source": []
  }
 ],
 "metadata": {
  "kernelspec": {
   "display_name": "Django Shell-Plus",
   "language": "python",
   "name": "django_extensions"
  },
  "language_info": {
   "codemirror_mode": {
    "name": "ipython",
    "version": 3
   },
   "file_extension": ".py",
   "mimetype": "text/x-python",
   "name": "python",
   "nbconvert_exporter": "python",
   "pygments_lexer": "ipython3",
   "version": "3.10.4"
  }
 },
 "nbformat": 4,
 "nbformat_minor": 5
}
