{
 "cells": [
  {
   "cell_type": "code",
   "execution_count": 3,
   "id": "4da24cfd",
   "metadata": {},
   "outputs": [],
   "source": [
    "# Imports\n",
    "import os\n",
    "from django.apps import apps as django_apps\n",
    "\n",
    "os.environ[\"DJANGO_ALLOW_ASYNC_UNSAFE\"] = \"true\""
   ]
  },
  {
   "cell_type": "code",
   "execution_count": 4,
   "id": "c4ce0fc1",
   "metadata": {},
   "outputs": [],
   "source": [
    "from flourish_child.models import Appointment\n",
    "\n",
    "child_idx = 'B142-040990678-0-10'\n",
    "lower_visit = 2004\n",
    "visit = 2007\n",
    "\n",
    "while visit >= lower_visit:\n",
    "    try:\n",
    "        old_visit = ChildVisit.objects.get(subject_identifier=child_idx, visit_code=visit)\n",
    "    except ChildVisit.DoesNotExist:\n",
    "        print(visit)\n",
    "        break\n",
    "    else:\n",
    "        appt = old_visit.appointment\n",
    "        new_visit_code = visit + 1\n",
    "        new_appt = Appointment.objects.filter(\n",
    "            subject_identifier=child_idx, visit_code=new_visit_code)\n",
    "        new_appt.update(\n",
    "            appt_datetime=appt.appt_datetime,\n",
    "            appt_type=appt.appt_type,\n",
    "            appt_status=appt.appt_status,\n",
    "            appt_reason=appt.appt_reason)\n",
    "        old_visit.appointment = new_appt[0]\n",
    "        old_visit.save()\n",
    "        visit -= 1"
   ]
  },
  {
   "cell_type": "code",
   "execution_count": 5,
   "id": "45c264cd",
   "metadata": {},
   "outputs": [
    {
     "data": {
      "text/plain": [
       "1"
      ]
     },
     "execution_count": 5,
     "metadata": {},
     "output_type": "execute_result"
    }
   ],
   "source": [
    "Appointment.objects.filter(subject_identifier=child_idx, visit_code='2004').update(appt_status='in_progress')"
   ]
  },
  {
   "cell_type": "code",
   "execution_count": null,
   "id": "efa42806",
   "metadata": {},
   "outputs": [],
   "source": []
  }
 ],
 "metadata": {
  "kernelspec": {
   "display_name": "Django Shell-Plus",
   "language": "python",
   "name": "django_extensions"
  },
  "language_info": {
   "codemirror_mode": {
    "name": "ipython",
    "version": 3
   },
   "file_extension": ".py",
   "mimetype": "text/x-python",
   "name": "python",
   "nbconvert_exporter": "python",
   "pygments_lexer": "ipython3",
   "version": "3.8.13"
  }
 },
 "nbformat": 4,
 "nbformat_minor": 5
}
