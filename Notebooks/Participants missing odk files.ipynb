{
 "cells": [
  {
   "cell_type": "code",
   "execution_count": 1,
   "id": "e08e401c",
   "metadata": {},
   "outputs": [],
   "source": [
    "import os \n",
    "\n",
    "os.environ[\"DJANGO_ALLOW_ASYNC_UNSAFE\"] = \"true\"\n"
   ]
  },
  {
   "cell_type": "code",
   "execution_count": 15,
   "id": "dd9b0397",
   "metadata": {},
   "outputs": [],
   "source": [
    "from tqdm.auto import tqdm "
   ]
  },
  {
   "cell_type": "code",
   "execution_count": 22,
   "id": "0ea40f41",
   "metadata": {},
   "outputs": [
    {
     "name": "stdout",
     "output_type": "stream",
     "text": [
      "1047\n"
     ]
    }
   ],
   "source": [
    "from django.db.models import Count, Q\n",
    "from edc_odk.models import ConsentCopies, SpecimenConsentCopies, OmangCopies, LabResultsFiles, NoteToFile,ClinicianNotesArchives\n",
    "from flourish_caregiver.models import SubjectConsent, ClinicianNotes\n",
    "import pandas as pd\n",
    "\n",
    "all_part = SubjectConsent.objects.all().values_list('subject_identifier',\n",
    "                                                    flat=True).distinct()\n",
    "print(all_part.count())\n",
    "all_part_count=len(set(list(all_part)))\n",
    "all_part=set(list(all_part))\n",
    "\n",
    "data={}\n",
    "data['all_concented']=all_part_count\n"
   ]
  },
  {
   "cell_type": "code",
   "execution_count": 23,
   "id": "b38be974",
   "metadata": {},
   "outputs": [
    {
     "data": {
      "application/vnd.jupyter.widget-view+json": {
       "model_id": "84c3a64e70e64b96803efab84ee09a7b",
       "version_major": 2,
       "version_minor": 0
      },
      "text/plain": [
       "  0%|          | 0/1047 [00:00<?, ?it/s]"
      ]
     },
     "metadata": {},
     "output_type": "display_data"
    }
   ],
   "source": [
    "without_consents=[]\n",
    "for sub in tqdm(all_part):\n",
    "    try:\n",
    "        ci=ConsentCopies.objects.get(subject_identifier=sub)\n",
    "    except ConsentCopies.DoesNotExist:\n",
    "        without_consents.append(sub)\n",
    "    else:\n",
    "        if len(list(ci.consent_images.all())) < 1:\n",
    "            without_consents.append(sub)\n",
    "\n",
    "\n",
    "data['without_consents']=len(set(list(without_consents)))"
   ]
  },
  {
   "cell_type": "code",
   "execution_count": 24,
   "id": "b72d1066",
   "metadata": {},
   "outputs": [
    {
     "data": {
      "application/vnd.jupyter.widget-view+json": {
       "model_id": "e18fc0732e7d4b17b4a411a61b099a3a",
       "version_major": 2,
       "version_minor": 0
      },
      "text/plain": [
       "  0%|          | 0/1047 [00:00<?, ?it/s]"
      ]
     },
     "metadata": {},
     "output_type": "display_data"
    }
   ],
   "source": [
    "without_sp_consents = []\n",
    "\n",
    "for sub in tqdm(all_part):\n",
    "    try:\n",
    "        scc=SpecimenConsentCopies.objects.get(subject_identifier=sub)\n",
    "    except SpecimenConsentCopies.DoesNotExist:\n",
    "        without_sp_consents.append(sub)\n",
    "    else:\n",
    "        if len(list(scc.specimen_consent_images.all())) < 1:\n",
    "            without_sp_consents.append(sub)\n",
    "\n",
    "data['without_sp_consents']=len(set(list(without_sp_consents)))"
   ]
  },
  {
   "cell_type": "code",
   "execution_count": 25,
   "id": "9bee914a",
   "metadata": {},
   "outputs": [
    {
     "data": {
      "application/vnd.jupyter.widget-view+json": {
       "model_id": "bd83accdc1844dd8b86814fd6b3e06b4",
       "version_major": 2,
       "version_minor": 0
      },
      "text/plain": [
       "  0%|          | 0/1047 [00:00<?, ?it/s]"
      ]
     },
     "metadata": {},
     "output_type": "display_data"
    },
    {
     "name": "stdout",
     "output_type": "stream",
     "text": [
      "1046\n"
     ]
    }
   ],
   "source": [
    "without_omang = []\n",
    "\n",
    "for sub in tqdm(all_part):\n",
    "    try:\n",
    "        oc=OmangCopies.objects.get(subject_identifier=sub)\n",
    "    except OmangCopies.DoesNotExist:\n",
    "        without_omang.append(sub)\n",
    "    else:\n",
    "        if len(list(oc.national_id_images.all())) < 0:\n",
    "            without_omang.append(sub)\n",
    "\n",
    "print(len(without_omang))\n",
    "data['without_omang']=len(set(list(without_omang)))\n"
   ]
  },
  {
   "cell_type": "code",
   "execution_count": 26,
   "id": "4adda27e",
   "metadata": {},
   "outputs": [
    {
     "name": "stdout",
     "output_type": "stream",
     "text": [
      "1047\n"
     ]
    }
   ],
   "source": [
    "without_lab_files = []\n",
    "\n",
    "for sub in tqdm(all_part):\n",
    "    try:\n",
    "        lr=LabResultsFiles.objects.get(subject_identifier=sub)\n",
    "    except LabResultsFiles.DoesNotExist:\n",
    "        without_lab_files.append(sub)\n",
    "    else:\n",
    "        if len(list(lr.lab_results.all())) < 1:\n",
    "            without_lab_files.append(sub)\n",
    "\n",
    "print(len(without_lab_files))\n",
    "data['without_lab_files']=len(set(list(without_lab_files)))\n"
   ]
  },
  {
   "cell_type": "code",
   "execution_count": 28,
   "id": "8adfcb38",
   "metadata": {},
   "outputs": [
    {
     "data": {
      "application/vnd.jupyter.widget-view+json": {
       "model_id": "2aa675020dca49a69b1221cd47b6d404",
       "version_major": 2,
       "version_minor": 0
      },
      "text/plain": [
       "  0%|          | 0/1047 [00:00<?, ?it/s]"
      ]
     },
     "metadata": {},
     "output_type": "display_data"
    },
    {
     "name": "stdout",
     "output_type": "stream",
     "text": [
      "49\n"
     ]
    }
   ],
   "source": [
    "without_clinician_notes = []\n",
    "\n",
    "for sub in tqdm(all_part):\n",
    "    try:\n",
    "        cn=ClinicianNotes.objects.get(maternal_visit__subject_identifier=sub)\n",
    "    except ClinicianNotes.MultipleObjectsReturned:\n",
    "        pass\n",
    "    except ClinicianNotes.DoesNotExist:\n",
    "        without_clinician_notes.append(sub)\n",
    "    else:\n",
    "        if len(list(cn.caregiver_clinician_notes.all())) < 1:\n",
    "            without_clinician_notes.append(sub)\n",
    "\n",
    "print(len(without_clinician_notes))\n",
    "data['without_clinician_notes']=len(set(list(without_clinician_notes)))\n"
   ]
  },
  {
   "cell_type": "code",
   "execution_count": 29,
   "id": "ad329981",
   "metadata": {},
   "outputs": [
    {
     "data": {
      "application/vnd.jupyter.widget-view+json": {
       "model_id": "82ed8f8655d745249d420f9f7e6ef5ff",
       "version_major": 2,
       "version_minor": 0
      },
      "text/plain": [
       "  0%|          | 0/1047 [00:00<?, ?it/s]"
      ]
     },
     "metadata": {},
     "output_type": "display_data"
    },
    {
     "name": "stdout",
     "output_type": "stream",
     "text": [
      "1047\n"
     ]
    }
   ],
   "source": [
    "from edc_odk.models import ClinicianNotesArchives\n",
    "\n",
    "without_clinician_notes_archives = []\n",
    "\n",
    "for sub in tqdm(all_part):\n",
    "    try:\n",
    "        cna=ClinicianNotesArchives.objects.get(subject_identifier=sub)\n",
    "    except ClinicianNotesArchives.MultipleObjectsReturned:\n",
    "        pass\n",
    "    except ClinicianNotesArchives.DoesNotExist:\n",
    "        without_clinician_notes_archives.append(sub)\n",
    "    else:\n",
    "        if len(list(cna.clinician_notes_archives.all())) < 1:\n",
    "            without_clinician_notes_archives.append(sub)\n",
    "\n",
    "print(len(without_clinician_notes_archives))\n",
    "data['without_clinician_notes_archives']=len(set(list(without_clinician_notes_archives)))"
   ]
  },
  {
   "cell_type": "code",
   "execution_count": 30,
   "id": "ef0dec77",
   "metadata": {},
   "outputs": [
    {
     "data": {
      "application/vnd.jupyter.widget-view+json": {
       "model_id": "7e1ae8e143ec4792bd640a22720cf1b8",
       "version_major": 2,
       "version_minor": 0
      },
      "text/plain": [
       "  0%|          | 0/1047 [00:00<?, ?it/s]"
      ]
     },
     "metadata": {},
     "output_type": "display_data"
    },
    {
     "name": "stdout",
     "output_type": "stream",
     "text": [
      "1047\n"
     ]
    }
   ],
   "source": [
    "without_note_to_files = []\n",
    "\n",
    "for sub in tqdm(all_part):\n",
    "    try:\n",
    "        cn=NoteToFile.objects.get(subject_identifier=sub)\n",
    "    except NoteToFile.MultipleObjectsReturned:\n",
    "        pass\n",
    "    except NoteToFile.DoesNotExist:\n",
    "        without_note_to_files.append(sub)\n",
    "    else:\n",
    "        if len(list(cn.note_to_file.all())) < 1:\n",
    "            without_note_to_files.append(sub)\n",
    "\n",
    "print(len(without_note_to_files))\n",
    "data['without_note_to_files']=len(set(list(without_note_to_files)))\n"
   ]
  },
  {
   "cell_type": "code",
   "execution_count": 32,
   "id": "21e9fadf",
   "metadata": {},
   "outputs": [
    {
     "name": "stdout",
     "output_type": "stream",
     "text": [
      "Maternal Report\n"
     ]
    },
    {
     "data": {
      "text/html": [
       "<div>\n",
       "<style scoped>\n",
       "    .dataframe tbody tr th:only-of-type {\n",
       "        vertical-align: middle;\n",
       "    }\n",
       "\n",
       "    .dataframe tbody tr th {\n",
       "        vertical-align: top;\n",
       "    }\n",
       "\n",
       "    .dataframe thead th {\n",
       "        text-align: right;\n",
       "    }\n",
       "</style>\n",
       "<table border=\"1\" class=\"dataframe\">\n",
       "  <thead>\n",
       "    <tr style=\"text-align: right;\">\n",
       "      <th></th>\n",
       "      <th>all_concented</th>\n",
       "      <th>without_consents</th>\n",
       "      <th>without_sp_consents</th>\n",
       "      <th>without_omang</th>\n",
       "      <th>without_lab_files</th>\n",
       "      <th>without_clinician_notes</th>\n",
       "      <th>without_clinician_notes_archives</th>\n",
       "      <th>without_note_to_files</th>\n",
       "    </tr>\n",
       "  </thead>\n",
       "  <tbody>\n",
       "    <tr>\n",
       "      <th>Count</th>\n",
       "      <td>1047</td>\n",
       "      <td>1047</td>\n",
       "      <td>1047</td>\n",
       "      <td>1046</td>\n",
       "      <td>1047</td>\n",
       "      <td>49</td>\n",
       "      <td>1047</td>\n",
       "      <td>1047</td>\n",
       "    </tr>\n",
       "  </tbody>\n",
       "</table>\n",
       "</div>"
      ],
      "text/plain": [
       "       all_concented  without_consents  without_sp_consents  without_omang  \\\n",
       "Count           1047              1047                 1047           1046   \n",
       "\n",
       "       without_lab_files  without_clinician_notes  \\\n",
       "Count               1047                       49   \n",
       "\n",
       "       without_clinician_notes_archives  without_note_to_files  \n",
       "Count                              1047                   1047  "
      ]
     },
     "execution_count": 32,
     "metadata": {},
     "output_type": "execute_result"
    }
   ],
   "source": [
    "df = pd.DataFrame(data, index=['Count'])\n",
    "print('Maternal Report')\n",
    "df"
   ]
  },
  {
   "cell_type": "code",
   "execution_count": 53,
   "id": "d429d9e3",
   "metadata": {},
   "outputs": [
    {
     "data": {
      "text/plain": [
       "644"
      ]
     },
     "execution_count": 53,
     "metadata": {},
     "output_type": "execute_result"
    }
   ],
   "source": [
    "all_child = ChildAssent.objects.all().values_list('subject_identifier',\n",
    "                                                    flat=True).distinct()\n",
    "all_child_count=len(set(list(all_child)))\n",
    "all_child=set(list(all_child))\n",
    "\n",
    "data={}\n",
    "data['all_concented']=all_child_count\n",
    "all_child_count"
   ]
  },
  {
   "cell_type": "code",
   "execution_count": 44,
   "id": "3cb3bfa3",
   "metadata": {},
   "outputs": [
    {
     "data": {
      "application/vnd.jupyter.widget-view+json": {
       "model_id": "773cf83b57ed464fb5a1d97389bcc06a",
       "version_major": 2,
       "version_minor": 0
      },
      "text/plain": [
       "  0%|          | 0/644 [00:00<?, ?it/s]"
      ]
     },
     "metadata": {},
     "output_type": "display_data"
    },
    {
     "name": "stdout",
     "output_type": "stream",
     "text": [
      "644\n"
     ]
    }
   ],
   "source": [
    "without_lab_files = []\n",
    "\n",
    "for sub in tqdm(all_child):\n",
    "    try:\n",
    "        cn=LabResultsFiles.objects.get(subject_identifier=sub)\n",
    "    except LabResultsFiles.DoesNotExist:\n",
    "        without_lab_files.append(sub)\n",
    "    else:\n",
    "        if len(list(cn.lab_results.all())) < 1:\n",
    "            without_lab_files.append(sub)\n",
    "\n",
    "print(len(without_lab_files))\n",
    "data['without_lab_files']=len(set(list(without_lab_files)))"
   ]
  },
  {
   "cell_type": "code",
   "execution_count": 48,
   "id": "f4e3d563",
   "metadata": {},
   "outputs": [
    {
     "data": {
      "application/vnd.jupyter.widget-view+json": {
       "model_id": "5ff0659fb5ad49a08efd4bde03164f14",
       "version_major": 2,
       "version_minor": 0
      },
      "text/plain": [
       "  0%|          | 0/644 [00:00<?, ?it/s]"
      ]
     },
     "metadata": {},
     "output_type": "display_data"
    },
    {
     "name": "stdout",
     "output_type": "stream",
     "text": [
      "10\n"
     ]
    }
   ],
   "source": [
    "without_note_to_files = []\n",
    "\n",
    "for sub in tqdm(all_child):\n",
    "    try:\n",
    "        cn=ChildClinicianNotes.objects.get(child_visit__subject_identifier=sub)\n",
    "    except ChildClinicianNotes.DoesNotExist:\n",
    "        without_note_to_files.append(sub)\n",
    "    except ChildClinicianNotes.MultipleObjectsReturned:\n",
    "        pass\n",
    "    else:\n",
    "        if len(list(cn.child_clinician_notes.all())) < 1:\n",
    "            without_note_to_files.append(sub)\n",
    "\n",
    "print(len(without_note_to_files))\n",
    "data['without_note_to_files']=len(set(list(without_note_to_files)))"
   ]
  },
  {
   "cell_type": "code",
   "execution_count": 50,
   "id": "07572f2d",
   "metadata": {},
   "outputs": [
    {
     "data": {
      "application/vnd.jupyter.widget-view+json": {
       "model_id": "245580b7f73946a2bc548712e977de3a",
       "version_major": 2,
       "version_minor": 0
      },
      "text/plain": [
       "  0%|          | 0/644 [00:00<?, ?it/s]"
      ]
     },
     "metadata": {},
     "output_type": "display_data"
    },
    {
     "name": "stdout",
     "output_type": "stream",
     "text": [
      "644\n"
     ]
    }
   ],
   "source": [
    "without_note_to_files = []\n",
    "\n",
    "for sub in tqdm(all_child):\n",
    "    try:\n",
    "        cn=NoteToFile.objects.get(subject_identifier=sub)\n",
    "    except NoteToFile.DoesNotExist:\n",
    "        without_note_to_files.append(sub)\n",
    "    except NoteToFile.MultipleObjectsReturned:\n",
    "        pass\n",
    "    else:\n",
    "        if len(list(cn.note_to_file.all())) < 1:\n",
    "            without_note_to_files.append(sub)\n",
    "\n",
    "print(len(without_note_to_files))\n",
    "data['without_note_to_files']=len(set(list(without_note_to_files)))"
   ]
  },
  {
   "cell_type": "code",
   "execution_count": 52,
   "id": "25b317a2",
   "metadata": {},
   "outputs": [
    {
     "data": {
      "application/vnd.jupyter.widget-view+json": {
       "model_id": "761d3e8bc901422ea402981fbc4371f3",
       "version_major": 2,
       "version_minor": 0
      },
      "text/plain": [
       "  0%|          | 0/644 [00:00<?, ?it/s]"
      ]
     },
     "metadata": {},
     "output_type": "display_data"
    },
    {
     "name": "stdout",
     "output_type": "stream",
     "text": [
      "644\n"
     ]
    }
   ],
   "source": [
    "without_birth_certificate = []\n",
    "\n",
    "for sub in tqdm(all_child):\n",
    "    try:\n",
    "        cn=BirthCertificate.objects.get(subject_identifier=sub)\n",
    "    except BirthCertificate.DoesNotExist:\n",
    "        without_birth_certificate.append(sub)\n",
    "    except BirthCertificate.MultipleObjectsReturned:\n",
    "        pass\n",
    "    else:\n",
    "        if len(list(cn.birth_certificate_images.all())) < 1:\n",
    "            without_birth_certificate.append(sub)\n",
    "\n",
    "print(len(without_birth_certificate))\n",
    "data['without_birth_certificate']=len(set(list(without_birth_certificate)))"
   ]
  },
  {
   "cell_type": "code",
   "execution_count": 55,
   "id": "ec017948",
   "metadata": {},
   "outputs": [
    {
     "data": {
      "application/vnd.jupyter.widget-view+json": {
       "model_id": "9a1633373ca44acd97e222dda7dda1f0",
       "version_major": 2,
       "version_minor": 0
      },
      "text/plain": [
       "  0%|          | 0/644 [00:00<?, ?it/s]"
      ]
     },
     "metadata": {},
     "output_type": "display_data"
    },
    {
     "name": "stdout",
     "output_type": "stream",
     "text": [
      "644\n"
     ]
    }
   ],
   "source": [
    "without_assents = []\n",
    "\n",
    "for sub in tqdm(all_child):\n",
    "    try:\n",
    "        cn=Assent.objects.get(subject_identifier=sub)\n",
    "    except Assent.DoesNotExist:\n",
    "        without_assents.append(sub)\n",
    "    else:\n",
    "        if len(list(cn.assent_images.all())) < 1:\n",
    "            without_assents.append(sub)\n",
    "\n",
    "print(len(without_assents))\n",
    "data['without_assents']=len(set(list(without_assents)))"
   ]
  },
  {
   "cell_type": "code",
   "execution_count": null,
   "id": "3f598b6c",
   "metadata": {},
   "outputs": [],
   "source": [
    "without_continued_part = []\n",
    "\n",
    "for sub in tqdm(all_child):\n",
    "    try:\n",
    "        cn=Assent.objects.get(subject_identifier=sub)\n",
    "    except Assent.DoesNotExist:\n",
    "        without_continued_part.append(sub)\n",
    "    else:\n",
    "        if len(list(cn.continued_participation_images.all())) < 1:\n",
    "            without_continued_part.append(sub)\n",
    "\n",
    "print(len(without_continued_part))\n",
    "data['without_continued_part']=len(set(list(without_continued_part)))"
   ]
  }
 ],
 "metadata": {
  "kernelspec": {
   "display_name": "Django Shell-Plus",
   "language": "python",
   "name": "django_extensions"
  },
  "language_info": {
   "codemirror_mode": {
    "name": "ipython",
    "version": 3
   },
   "file_extension": ".py",
   "mimetype": "text/x-python",
   "name": "python",
   "nbconvert_exporter": "python",
   "pygments_lexer": "ipython3",
   "version": "3.9.6"
  }
 },
 "nbformat": 4,
 "nbformat_minor": 5
}
