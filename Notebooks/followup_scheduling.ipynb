{
 "cells": [
  {
   "cell_type": "code",
   "execution_count": 1,
   "id": "7a9b919e",
   "metadata": {},
   "outputs": [],
   "source": [
    "import os\n",
    "import csv\n",
    "os.environ[\"DJANGO_ALLOW_ASYNC_UNSAFE\"] = \"true\"\n",
    "from django.apps import apps as django_apps\n",
    "import math\n",
    "from calendar import monthrange\n",
    "from datetime import date, timedelta\n",
    "from dateutil.relativedelta import relativedelta\n",
    "from edc_base.utils import get_utcnow, age\n",
    "\n",
    "edc_protocol = django_apps.get_app_config('edc_protocol')"
   ]
  },
  {
   "cell_type": "code",
   "execution_count": 2,
   "id": "64494106",
   "metadata": {},
   "outputs": [],
   "source": [
    "##\n",
    "# Get holidays loaded on the system for a specified month, and year.\n",
    "##\n",
    "def get_holidays(year, month):\n",
    "    facility_app_config = django_apps.get_app_config('edc_facility')\n",
    "\n",
    "    facility = facility_app_config.get_facility('5-day clinic')\n",
    "\n",
    "    holiday_list = facility.holidays.holidays.filter(\n",
    "        local_date__year=year,\n",
    "        local_date__month=month).values_list('local_date', flat=True)\n",
    "    return [h.day for h in holiday_list]"
   ]
  },
  {
   "cell_type": "code",
   "execution_count": 3,
   "id": "8d0f18bb",
   "metadata": {},
   "outputs": [],
   "source": [
    "##\n",
    "# Query the participant note for pids already scheduled for a follow up.\n",
    "##\n",
    "def get_pids_scheduled():\n",
    "    return ParticipantNote.objects.filter(\n",
    "        title='Follow Up Schedule', ).values_list('subject_identifier', flat=True)"
   ]
  },
  {
   "cell_type": "code",
   "execution_count": 4,
   "id": "ff8404c0",
   "metadata": {},
   "outputs": [],
   "source": [
    "## \n",
    "# Returns last date a participant was scheduled for a follow,\n",
    "# by querying the participants' note by latest scheduled.\n",
    "##\n",
    "def get_last_date_fu_scheduled(max_per_day):\n",
    "    part_notes = ParticipantNote.objects.filter(title='Follow Up Schedule', )\n",
    "    if part_notes:\n",
    "        last_scheduled = part_notes.latest('date')\n",
    "        num_scheduled = part_notes.filter(date=last_scheduled.date)\n",
    "        return last_scheduled.date, max_per_day - num_scheduled.count()\n",
    "    return None, 0"
   ]
  },
  {
   "cell_type": "code",
   "execution_count": 5,
   "id": "cbf251fe",
   "metadata": {},
   "outputs": [],
   "source": [
    "## \n",
    "# Get all the days in a year available to schedule a follow, based\n",
    "# on a particular start date.\n",
    "##\n",
    "def get_dates_to_schedule(start_date=None, available_dates=[]):\n",
    "    for month in range(start_date.month, 13): # Month is always 1..12\n",
    "        holidays = get_holidays(start_date.year, month)\n",
    "        initial_day = start_date.day if start_date.month == month else 1\n",
    "        for day in range(initial_day, monthrange(start_date.year, month)[1] + 1):\n",
    "            current_date = date(start_date.year, month, day)\n",
    "            if day not in holidays and current_date.weekday() < 5:\n",
    "                available_dates.append(current_date)\n",
    "    return available_dates"
   ]
  },
  {
   "cell_type": "code",
   "execution_count": 6,
   "id": "0b5672dc",
   "metadata": {},
   "outputs": [],
   "source": [
    "## \n",
    "# Returns the number of available slots to schedule partipants for a given day,\n",
    "# this is with regards to the max number that can be scheduled per day.\n",
    "##\n",
    "def slots_available(fu_date, max_per_day):\n",
    "    fu_notes = ParticipantNote.objects.filter(title='Follow Up Schedule', date=fu_date).count()\n",
    "    return max_per_day - fu_notes"
   ]
  },
  {
   "cell_type": "code",
   "execution_count": 7,
   "id": "81fc57dd",
   "metadata": {},
   "outputs": [],
   "source": [
    "## \n",
    "# Returns the number of days needed to schedule all participants' in a list,\n",
    "# this is with regards to the max number that can be scheduled per day.\n",
    "##\n",
    "def days_needed(pids_count, max_per_day, remainder_slots):\n",
    "    days_needed = 0\n",
    "    if remainder_slots:\n",
    "        days_needed = 1\n",
    "        pids_count - remainder_slots\n",
    "    days_needed += pids_count/max_per_day if not pids_count%max_per_day else pids_count/max_per_day + 1\n",
    "    return days_needed"
   ]
  },
  {
   "cell_type": "code",
   "execution_count": 8,
   "id": "a20cff6f",
   "metadata": {},
   "outputs": [],
   "source": [
    "## \n",
    "# Updates a dates key dict with a list of pid values to be scheduled for that date.\n",
    "##\n",
    "def schedule_for_date(schedule, day, pids, slot_nums):\n",
    "    schedule.update({f'{day}': pids[:slot_nums]})\n",
    "    del pids[:slot_nums]"
   ]
  },
  {
   "cell_type": "code",
   "execution_count": 9,
   "id": "c2f4acb7",
   "metadata": {},
   "outputs": [],
   "source": [
    "def schedule_fu_visit(max_per_day, pids, begin_date=None, schedule = {}):\n",
    "    start_date, remainder_slot = None, None\n",
    "    if begin_date:\n",
    "        start_date, remainder_slots = begin_date, slots_available(\n",
    "            begin_date, max_per_day)\n",
    "    else:\n",
    "        start_date, remainder_slots = get_last_date_fu_scheduled(max_per_day)\n",
    "\n",
    "    full_scheduled = remainder_slots == 0\n",
    "    if start_date and full_scheduled:\n",
    "        start_date = start_date + timedelta(days=1)\n",
    "\n",
    "    days_available = get_dates_to_schedule(start_date=start_date, )\n",
    "\n",
    "    last_day = begin_date\n",
    "    while len(days_available) > 0 and pids:\n",
    "        last_day = days_available[0]\n",
    "        num_available = slots_available(last_day, max_per_day)\n",
    "        if num_available:\n",
    "            schedule_for_date(schedule, last_day, pids, num_available)\n",
    "        del days_available[:1]\n",
    " \n",
    "    if pids:\n",
    "        schedule_fu_visit(max_per_day, pids, last_day, schedule)\n",
    "\n",
    "    return schedule"
   ]
  },
  {
   "cell_type": "code",
   "execution_count": 11,
   "id": "3e3ddad9",
   "metadata": {},
   "outputs": [
    {
     "data": {
      "text/plain": [
       "0"
      ]
     },
     "execution_count": 11,
     "metadata": {},
     "output_type": "execute_result"
    }
   ],
   "source": [
    "# Child cohort A participants' ANC {45days before 18months and 45 days after}\n",
    "child_identifiers=OnScheduleChildCohortABirth.objects.exclude(\n",
    "    subject_identifier__in=get_pids_scheduled()).values_list('subject_identifier', flat=True)\n",
    "childa_dob_limit = get_utcnow() - relativedelta(months=18)\n",
    "childa_dob_lower_limit = childa_dob_limit - relativedelta(days=45)\n",
    "childa_dob_upper_limit = childa_dob_limit + relativedelta(days=45)\n",
    "cohort_anc = CaregiverChildConsent.objects.filter(cohort='cohort_a',\n",
    "                                                  subject_identifier__in=child_identifiers, )\n",
    "#                                                   child_dob__gte=childa_dob_lower_limit.date(),\n",
    "#                                                   child_dob__gte=childa_dob_limit.date(),\n",
    "#                                                   child_dob__lte=childa_dob_upper_limit.date()\n",
    "ageing_out = []\n",
    "childa_dob_lower_limit = childa_dob_lower_limit.date()\n",
    "childa_dob_upper_limit = childa_dob_upper_limit.date()\n",
    "for child in cohort_anc:\n",
    "    child_age = age(child.child_dob, get_utcnow())\n",
    "    lower_age = age(childa_dob_lower_limit, get_utcnow())\n",
    "    upper_age = age(childa_dob_upper_limit, get_utcnow())\n",
    "    if ((lower_age.years + lower_age.months/12) < (child_age.years + child_age.months/12)\n",
    "            and (upper_age.years + upper_age.months/12) > (child_age.years + child_age.months/12)):\n",
    "        ageing_out.append(child)\n",
    "len(ageing_out)"
   ]
  },
  {
   "cell_type": "code",
   "execution_count": 12,
   "id": "5386b8fe",
   "metadata": {},
   "outputs": [
    {
     "data": {
      "text/plain": [
       "88"
      ]
     },
     "execution_count": 12,
     "metadata": {},
     "output_type": "execute_result"
    }
   ],
   "source": [
    "# Child cohort A participants' PRIOR-BHP\n",
    "a_records = {}\n",
    "a_urgent = []\n",
    "exclude_pids = list(child_identifiers)\n",
    "exclude_pids.extend(list(get_pids_scheduled()))\n",
    "childa_dob_upper_limit = get_utcnow() - relativedelta(years=5)\n",
    "cohort_a_prior = CaregiverChildConsent.objects.exclude(\n",
    "    subject_identifier__in=exclude_pids).filter(cohort='cohort_a',\n",
    "                                                child_dob__gte=childa_dob_upper_limit.date())\n",
    "\n",
    "for subject in cohort_a_prior:\n",
    "    child_age = age(subject.child_dob, get_utcnow())\n",
    "    age_str = f'{child_age.years}.{child_age.months}'\n",
    "    a_records.update({f'{subject.subject_identifier}': (child_age.years + child_age.months/12)})\n",
    "    if (child_age.years + child_age.months/12) >= (4 + 5/12):\n",
    "        a_urgent.append({'subject_identifier': subject.subject_identifier, 'age': age_str})\n",
    "\n",
    "# sort in order of priority\n",
    "sorted_arecords = sorted(a_records.items(), key=lambda record: record[1], reverse=True)\n",
    "sorted_qs = cohort_a_prior.order_by('child_dob').values_list('subject_identifier', flat=True)\n",
    "\n",
    "schedule = schedule_fu_visit(1, list(sorted_qs), get_utcnow())\n",
    "len(sorted_arecords)"
   ]
  },
  {
   "cell_type": "code",
   "execution_count": 14,
   "id": "a10786a6",
   "metadata": {},
   "outputs": [
    {
     "name": "stdout",
     "output_type": "stream",
     "text": [
      "89\n"
     ]
    }
   ],
   "source": [
    "# Add PIDs to calendar\n",
    "# TO DO: consider both cohorts before adding to calendar\n",
    "created = 0\n",
    "for fu_date, sidxs in schedule.items():\n",
    "    for sidx in sidxs:\n",
    "        ParticipantNote.objects.create(\n",
    "            subject_identifier=sidx, title='Follow Up Schedule', date=fu_date, color='grey')\n",
    "    created += 1\n",
    "print(created)"
   ]
  },
  {
   "cell_type": "code",
   "execution_count": 27,
   "id": "2576c828",
   "metadata": {},
   "outputs": [],
   "source": [
    "# Export to csv\n",
    "import csv\n",
    "keys = ['subject_identifier', 'age']\n",
    "with open('cohort_a_urgent.csv', 'w', newline='') as output_file:\n",
    "    dict_writer = csv.DictWriter(output_file, keys)\n",
    "    dict_writer.writeheader()\n",
    "    dict_writer.writerows(a_urgent)"
   ]
  },
  {
   "cell_type": "code",
   "execution_count": 17,
   "id": "ffdc29dd",
   "metadata": {},
   "outputs": [
    {
     "data": {
      "text/plain": [
       "<QuerySet ['B142-040990065-0-25', 'B142-040990065-0-35', 'B142-040990280-5-10', 'B142-040990109-6-10', 'B142-040990077-5-10', 'B142-040990145-0-10', 'B142-040990966-9-10', 'B142-040990252-4-10', 'B142-040990248-2-10', 'B142-040990287-0-10', 'C142-040990124-5-10', 'B142-040990040-3-10', 'B142-040990643-4-10', 'B142-040990152-6-10', 'B142-040990081-7-10', 'B142-040990045-2-10', 'B142-040990221-9-10', 'B142-040990156-7-10', 'B142-040990324-1-10', 'B142-040990120-3-10', '...(remaining elements truncated)...']>"
      ]
     },
     "execution_count": 17,
     "metadata": {},
     "output_type": "execute_result"
    }
   ],
   "source": [
    "# Child cohort B participants'\n",
    "b_records = {}\n",
    "b_urgent = []\n",
    "childb_dob_upper_limit = get_utcnow() - relativedelta(years=10, months=5)\n",
    "childb_dob_lower_limit = get_utcnow() - relativedelta(years=5)\n",
    "cohort_b = CaregiverChildConsent.objects.exclude(\n",
    "    subject_identifier__in=get_pids_scheduled()).filter(cohort='cohort_b',\n",
    "                                                        child_dob__lte=childb_dob_lower_limit.date(),\n",
    "                                                        child_dob__gt=childb_dob_upper_limit.date())\n",
    "\n",
    "for subject in cohort_b:\n",
    "    child_age = age(subject.child_dob, get_utcnow())\n",
    "    age_str = f'{child_age.years}.{child_age.months}'\n",
    "    b_records.update({f'{subject.subject_identifier}': age_str})\n",
    "    if (child_age.years + child_age.months/12) >= 10 and (child_age.years + child_age.months/12) <= (10 + 5/12):\n",
    "        b_urgent.append({'subject_identifier': subject.subject_identifier, 'age': age_str})\n",
    "\n",
    "# sort in order of priority\n",
    "sorted_brecords = sorted(b_records.items(), key=lambda record: record[1], reverse=True)\n",
    "sorted_qs = cohort_b.order_by('child_dob').values_list('subject_identifier', flat=True)\n",
    "\n",
    "b_schedule = schedule_fu_visit(2, list(sorted_qs), get_utcnow())\n",
    "len(sorted_brecords)\n",
    "sorted_qs"
   ]
  },
  {
   "cell_type": "code",
   "execution_count": 19,
   "id": "3d0732fe",
   "metadata": {},
   "outputs": [
    {
     "name": "stdout",
     "output_type": "stream",
     "text": [
      "151\n"
     ]
    }
   ],
   "source": [
    "# Add PIDs to calendar\n",
    "# TO DO: consider both cohorts before adding to calendar\n",
    "created = 0\n",
    "for fu_date, sidxs in b_schedule.items():\n",
    "    for sidx in sidxs:\n",
    "        ParticipantNote.objects.create(\n",
    "            subject_identifier=sidx, title='Follow Up Schedule', date=fu_date, color='grey')\n",
    "    created += 1\n",
    "print(created)"
   ]
  },
  {
   "cell_type": "code",
   "execution_count": null,
   "id": "256eaf25",
   "metadata": {},
   "outputs": [],
   "source": [
    "# Export to csv\n",
    "import csv\n",
    "keys = ['subject_identifier', 'age']\n",
    "with open('cohort_b_urgent.csv', 'w', newline='') as output_file:\n",
    "    dict_writer = csv.DictWriter(output_file, keys)\n",
    "    dict_writer.writeheader()\n",
    "    dict_writer.writerows(b_urgent)"
   ]
  },
  {
   "cell_type": "code",
   "execution_count": 59,
   "id": "ecdde947",
   "metadata": {},
   "outputs": [
    {
     "data": {
      "text/plain": [
       "78"
      ]
     },
     "execution_count": 59,
     "metadata": {},
     "output_type": "execute_result"
    }
   ],
   "source": [
    "# Child cohort C participants'\n",
    "c_records = {}\n",
    "childc_dob_lower_limit = get_utcnow() - relativedelta(years=10)\n",
    "cohort_c = CaregiverChildConsent.objects.exclude(\n",
    "    subject_identifier__in=get_pids_scheduled()).filter(cohort='cohort_c',\n",
    "                                                        child_dob__lte=childc_dob_lower_limit.date(), )\n",
    "for subject in cohort_c:\n",
    "    child_age = age(subject.child_dob, get_utcnow())\n",
    "    age_str = f'{child_age.years}.{child_age.months}'\n",
    "    c_records.update({f'{subject.subject_identifier}': age_str})\n",
    "cohort_c.count()"
   ]
  },
  {
   "cell_type": "code",
   "execution_count": 134,
   "id": "26d0a48e",
   "metadata": {},
   "outputs": [
    {
     "data": {
      "text/plain": [
       "194"
      ]
     },
     "execution_count": 134,
     "metadata": {},
     "output_type": "execute_result"
    }
   ],
   "source": []
  }
 ],
 "metadata": {
  "kernelspec": {
   "display_name": "Django Shell-Plus",
   "language": "python",
   "name": "django_extensions"
  },
  "language_info": {
   "codemirror_mode": {
    "name": "ipython",
    "version": 3
   },
   "file_extension": ".py",
   "mimetype": "text/x-python",
   "name": "python",
   "nbconvert_exporter": "python",
   "pygments_lexer": "ipython3",
   "version": "3.6.6"
  }
 },
 "nbformat": 4,
 "nbformat_minor": 5
}
