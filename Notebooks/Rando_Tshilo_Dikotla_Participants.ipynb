{
 "cells": [
  {
   "cell_type": "code",
   "execution_count": 1,
   "id": "87f4547f",
   "metadata": {},
   "outputs": [],
   "source": [
    "#notebook for TD HUU randomization report"
   ]
  },
  {
   "cell_type": "code",
   "execution_count": 2,
   "id": "13e1af9d",
   "metadata": {},
   "outputs": [],
   "source": [
    "# Imports\n",
    "import os \n",
    "import pandas as pd\n",
    "from django.core.exceptions import ValidationError\n",
    "os.environ[\"DJANGO_ALLOW_ASYNC_UNSAFE\"] = \"true\"\n",
    "from datetime import date"
   ]
  },
  {
   "cell_type": "code",
   "execution_count": 32,
   "id": "47349c32",
   "metadata": {},
   "outputs": [
    {
     "name": "stdout",
     "output_type": "stream",
     "text": [
      "Total Consented Caregivers:  1048\n",
      "Total TD Caregivers:  388\n",
      "Total TD HUU Caregivers:  114\n",
      "Total TD Consented HUU:  47\n",
      "Total TD Not Consented HUU:  67\n",
      "Total TD Offstudy:  0\n"
     ]
    }
   ],
   "source": [
    "consents_pids = SubjectConsent.objects.all().values_list('screening_identifier', flat=True).distinct()\n",
    "consents_pids = list(set(consents_pids))\n",
    "\n",
    "# TD HUU Caregivers\n",
    "td_huu_md = MaternalDataset.objects.filter(\n",
    "    protocol='Tshilo Dikotla',\n",
    "    mom_hivstatus='HIV-uninfected').values_list('study_maternal_identifier', flat=True)\n",
    "td_huu_md = list(set(td_huu_md))\n",
    "\n",
    "\n",
    "# TD Caregivers\n",
    "td_md = MaternalDataset.objects.filter(\n",
    "    protocol='Tshilo Dikotla')\n",
    "\n",
    "#Consented HUU\n",
    "consented_md = MaternalDataset.objects.filter(\n",
    "    protocol='Tshilo Dikotla',\n",
    "    mom_hivstatus='HIV-uninfected',\n",
    "    screening_identifier__in=consents_pids)\n",
    "consented_md_pids = consented_md.values_list('study_maternal_identifier', flat=True)\n",
    "consented_md_pids = list(set(consented_md_pids))\n",
    "\n",
    "#Unconsented HUU\n",
    "td_huu_md = MaternalDataset.objects.filter(\n",
    "    protocol='Tshilo Dikotla',\n",
    "    mom_hivstatus='HIV-uninfected')\n",
    "td_huu_md_pids = td_huu_md.values_list('study_maternal_identifier', flat=True)\n",
    "td_huu_md_pids = list(set(td_huu_md_pids))\n",
    "td_uncosent_pids = list(set(td_huu_md_pids)-set(consented_md_pids))\n",
    "\n",
    "# TD HUU Offstudy\n",
    "off_study_identifiers = CaregiverOffStudy.objects.values_list(\n",
    "    'subject_identifier', flat=True)\n",
    "consents = SubjectConsent.objects.filter(\n",
    "    subject_identifier__in=off_study_identifiers).values_list(\n",
    "    'screening_identifier', flat=True)\n",
    "consents = list(set(consents))\n",
    "offstudy = MaternalDataset.objects.filter(\n",
    "    protocol='Tshilo Dikotla',\n",
    "    mom_hivstatus='HIV-uninfected',\n",
    "    screening_identifier__in=consents).values_list('study_maternal_identifier', flat=True)\n",
    "offstudy = list(set(offstudy))\n",
    "\n",
    "data_dict = {\n",
    "    'TD HUU': td_huu_md,\n",
    "    'TD HUU Consented': consented_md_pids,\n",
    "    'TD Not Consented HUU': td_uncosent_pids,\n",
    "    'TD HUU Offstudy': offstudy\n",
    "}\n",
    "\n",
    "print(\"Total Consented Caregivers: \", len(consents_pids))\n",
    "print(\"Total TD Caregivers: \", td_md.count())\n",
    "print(\"Total TD HUU Caregivers: \", len(td_huu_md))\n",
    "print(\"Total TD Consented HUU: \", len(consented_md_pids))\n",
    "print(\"Total TD Not Consented HUU: \", len(td_uncosent_pids))\n",
    "print(\"Total TD Offstudy: \", len(offstudy))"
   ]
  },
  {
   "cell_type": "code",
   "execution_count": 21,
   "id": "1eaa39b5",
   "metadata": {},
   "outputs": [
    {
     "name": "stdout",
     "output_type": "stream",
     "text": [
      "Total in the worklist:  114\n",
      "Total randomised TD HUU:  76\n",
      "Total Not Randomised TD HUU:  0\n",
      "Total missing from worklist:  0\n"
     ]
    }
   ],
   "source": [
    "# TD Randomised HUU\n",
    "td_md_identifier = MaternalDataset.objects.filter(\n",
    "    protocol='Tshilo Dikotla',\n",
    "    mom_hivstatus='HIV-uninfected').values_list('study_maternal_identifier', flat=True)\n",
    "td_md_identifier = list(set(td_md_identifier))\n",
    "\n",
    "randomised_worklist = WorkList.objects.filter(\n",
    "    assigned__isnull=False,\n",
    "    study_maternal_identifier__in=td_md_identifier).values_list(\n",
    "        'study_maternal_identifier', flat=True)\n",
    "randomised_worklist = list(set(randomised_worklist))\n",
    "\n",
    "# Not Ranndomised\n",
    "not_randomised_worklist = WorkList.objects.filter(\n",
    "    assigned__isnull=True,\n",
    "    study_maternal_identifier__in=td_md_identifier).values_list(\n",
    "        'study_maternal_identifier', flat=True)\n",
    "not_randomised_worklist = list(set(not_randomised_worklist))\n",
    "final_not_randomised_worklist = []\n",
    "for ident in not_randomised_worklist:\n",
    "    log = LogEntry.objects.filter(study_maternal_identifier=ident)\n",
    "    if not log:\n",
    "        final_not_randomised_worklist.append(ident)\n",
    "final_not_randomised_worklist = list(set(final_not_randomised_worklist))\n",
    "\n",
    "# Missing worklist per prev study\n",
    "worklist_identifiers = WorkList.objects.filter(\n",
    "    study_maternal_identifier__in=td_md_identifier).values_list('study_maternal_identifier', flat=True)\n",
    "worklist_identifiers = list(set(worklist_identifiers))\n",
    "missing_worklist_identifiers = list(\n",
    "    set(td_md_identifier) - set(worklist_identifiers))\n",
    "\n",
    "# Worklist\n",
    "worklist = WorkList.objects.filter(\n",
    "    study_maternal_identifier__in=td_md_identifier).values_list(\n",
    "        'study_maternal_identifier', flat=True)\n",
    "worklist = list(set(worklist))\n",
    "\n",
    "data_rando_dict = {\n",
    "    'Total in the worklist': worklist,\n",
    "    'Total randomised TD HUU': randomised_worklist,\n",
    "    'Total Not Randomised TD HUU': final_not_randomised_worklist,\n",
    "    'Total missing from worklist': missing_worklist_identifiers\n",
    "}\n",
    "\n",
    "print(\"Total in the worklist: \", len(worklist))\n",
    "print(\"Total randomised TD HUU: \", len(randomised_worklist))\n",
    "print(\"Total Not Randomised TD HUU: \", len(final_not_randomised_worklist))\n",
    "print(\"Total missing from worklist: \", len(missing_worklist_identifiers))"
   ]
  },
  {
   "cell_type": "code",
   "execution_count": 24,
   "id": "32c598af",
   "metadata": {},
   "outputs": [
    {
     "name": "stdout",
     "output_type": "stream",
     "text": [
      "Attempts made:  113\n",
      "No Attempts:  1\n"
     ]
    }
   ],
   "source": [
    "# Attempts\n",
    "td_md_identifier = MaternalDataset.objects.filter(\n",
    "    protocol='Tshilo Dikotla',\n",
    "    mom_hivstatus='HIV-uninfected').values_list('study_maternal_identifier', flat=True)\n",
    "td_md_identifier = list(set(td_md_identifier))\n",
    "\n",
    "qs = LogEntry.objects.filter(study_maternal_identifier__in=td_md_identifier)\n",
    "attempt_identifiers = qs.values_list(\n",
    "        'study_maternal_identifier', flat=True)\n",
    "attempt_identifiers = list(set(attempt_identifiers))\n",
    "\n",
    "# Not attempted\n",
    "not_attempted = list(set(td_md_identifier) - set(attempt_identifiers))\n",
    "\n",
    "data_attemps_dict = {\n",
    "    'TD HUU attempts': attempt_identifiers,\n",
    "    'TD HUU Not attempted': not_attempted\n",
    "}\n",
    "\n",
    "print(\"Attempts made: \", len(attempt_identifiers))\n",
    "print('No Attempts: ', len(not_attempted))"
   ]
  },
  {
   "cell_type": "code",
   "execution_count": 26,
   "id": "1bbec2dd",
   "metadata": {},
   "outputs": [
    {
     "name": "stdout",
     "output_type": "stream",
     "text": [
      "TD HUU Continued Contact:  21\n"
     ]
    }
   ],
   "source": [
    "# Continued Contact\n",
    "continued_contact = []\n",
    "for identifier in attempt_identifiers:\n",
    "    obj = LogEntry.objects.filter(\n",
    "        study_maternal_identifier=identifier).order_by('-created')\n",
    "    if obj:\n",
    "        if obj[0].appt in ['thinking']:\n",
    "            continued_contact.append(identifier)\n",
    "        elif obj[0].may_call == 'No' and not obj[0].appt in ['No']:\n",
    "            continued_contact.append(identifier)\n",
    "    logs = LogEntry.objects.filter(\n",
    "        phone_num_success=['none_of_the_above'],\n",
    "        study_maternal_identifier=identifier).order_by('-created')\n",
    "    if logs:\n",
    "        if logs.count() <= 3:\n",
    "            if logs[0].final_contact == 'No':\n",
    "                continued_contact.append(identifier)\n",
    "continued_contact = list(set(continued_contact) - set(consented_md_pids))\n",
    "\n",
    "data_attemps_dict = {'TD HUU Continued Contact': len(continued_contact)}\n",
    "\n",
    "print('TD HUU Continued Contact: ', len(continued_contact))"
   ]
  },
  {
   "cell_type": "code",
   "execution_count": 27,
   "id": "4ba991d0",
   "metadata": {},
   "outputs": [
    {
     "name": "stdout",
     "output_type": "stream",
     "text": [
      "Unreacheble:  0\n"
     ]
    }
   ],
   "source": [
    "unreacheble = []\n",
    "for identifier in attempt_identifiers:\n",
    "    logs = LogEntry.objects.filter(\n",
    "        phone_num_success=['none_of_the_above'],\n",
    "        study_maternal_identifier=identifier).order_by('-created')\n",
    "    if logs.count() >= 3:\n",
    "        if (logs[0].phone_num_success == ['none_of_the_above'] and\n",
    "            logs[1].phone_num_success == ['none_of_the_above'] and \n",
    "            logs[2].phone_num_success == ['none_of_the_above'] and\n",
    "            logs[0].final_contact == 'Yes'):\n",
    "            unreacheble.append(identifier)\n",
    "unreacheble = list(set(unreacheble) - set(consented_md_pids))\n",
    "\n",
    "\n",
    "print('TD HUU Unreacheble: ', len(unreacheble))"
   ]
  },
  {
   "cell_type": "code",
   "execution_count": 31,
   "id": "06663dba",
   "metadata": {},
   "outputs": [
    {
     "name": "stdout",
     "output_type": "stream",
     "text": [
      "TD HUU Declined:  13\n"
     ]
    }
   ],
   "source": [
    "# Declined from call log\n",
    "declined_do_not_call = LogEntry.objects.filter(\n",
    "    study_maternal_identifier__in=attempt_identifiers,\n",
    "    may_call__iexact='No').values_list(\n",
    "        'study_maternal_identifier', flat=True)\n",
    "declined_do_not_call = list(set(declined_do_not_call))\n",
    "\n",
    "# Screening rejects\n",
    "screened_identifiers = ScreeningPriorBhpParticipants.objects.filter(\n",
    "    flourish_participation='No',\n",
    "    study_maternal_identifier__in=attempt_identifiers).values_list(\n",
    "        'study_maternal_identifier', flat=True)\n",
    "screened_identifiers = list(set(screened_identifiers))\n",
    "\n",
    "# Merge the 2 above lists\n",
    "identifiers = screened_identifiers + declined_do_not_call\n",
    "identifiers = list(set(identifiers) - set(consented_md_pids))\n",
    "\n",
    "print('TD HUU Declined: ', len(identifiers))"
   ]
  },
  {
   "cell_type": "code",
   "execution_count": null,
   "id": "e2e4d94a",
   "metadata": {},
   "outputs": [],
   "source": []
  }
 ],
 "metadata": {
  "kernelspec": {
   "display_name": "Django Shell-Plus",
   "language": "python",
   "name": "django_extensions"
  },
  "language_info": {
   "codemirror_mode": {
    "name": "ipython",
    "version": 3
   },
   "file_extension": ".py",
   "mimetype": "text/x-python",
   "name": "python",
   "nbconvert_exporter": "python",
   "pygments_lexer": "ipython3",
   "version": "3.10.8"
  }
 },
 "nbformat": 4,
 "nbformat_minor": 5
}
