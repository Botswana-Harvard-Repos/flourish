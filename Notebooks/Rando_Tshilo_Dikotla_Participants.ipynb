{
 "cells": [
  {
   "cell_type": "code",
   "execution_count": 1,
   "id": "39afbe60",
   "metadata": {},
   "outputs": [],
   "source": [
    "# Imports\n",
    "import os \n",
    "import pandas as pd\n",
    "from django.core.exceptions import ValidationError\n",
    "os.environ[\"DJANGO_ALLOW_ASYNC_UNSAFE\"] = \"true\"\n",
    "from datetime import date"
   ]
  },
  {
   "cell_type": "code",
   "execution_count": 2,
   "id": "87f4547f",
   "metadata": {},
   "outputs": [],
   "source": []
  },
  {
   "cell_type": "code",
   "execution_count": 3,
   "id": "47349c32",
   "metadata": {},
   "outputs": [],
   "source": [
    "consents_pids = SubjectConsent.objects.values_list('screening_identifier', flat=True).distinct()\n",
    "\n",
    "\n",
    "#Consented HUU\n",
    "consented_md = MaternalDataset.objects.filter(protocol='Tshilo Dikotla',\n",
    "                                              mom_hivstatus='HIV-uninfected',\n",
    "                                              screening_identifier__in=consents_pids)\n",
    "\n",
    "consented_md_pids = consented_md.values_list('study_maternal_identifier', flat=True)\n",
    "\n",
    "#Unconsented HUU\n",
    "\n",
    "td_uncosent_md = MaternalDataset.objects.filter(protocol='Tshilo Dikotla',\n",
    "                                      mom_hivstatus='HIV-uninfected').exclude(\n",
    "    screening_identifier__in=consents_pids)\n",
    "\n",
    "td_uncosent_md_pids = td_uncosent_md.values_list('study_maternal_identifier', flat=True)\n"
   ]
  },
  {
   "cell_type": "code",
   "execution_count": 4,
   "id": "1eaa39b5",
   "metadata": {},
   "outputs": [
    {
     "data": {
      "text/plain": [
       "67"
      ]
     },
     "execution_count": 4,
     "metadata": {},
     "output_type": "execute_result"
    }
   ],
   "source": [
    "#not_randomized\n",
    "non_rando = WorkList.objects.filter(study_maternal_identifier__in=td_uncosent_md_pids, assigned=None)\n",
    "\n",
    "# WorkList.objects.first().__dict__\n",
    "print(non_rando.count())"
   ]
  },
  {
   "cell_type": "code",
   "execution_count": 5,
   "id": "1bbec2dd",
   "metadata": {},
   "outputs": [],
   "source": [
    "#unconsented_HUU call logs\n",
    "td_unconsent_log_entries = LogEntry.objects.filter(study_maternal_identifier__in=td_uncosent_md_pids)\n",
    "td_unconsent_log_entries.count()\n",
    "\n",
    "\n",
    "df = pd.DataFrame([td.__dict__ for td in td_unconsent_log_entries ])\n",
    "# df.to_csv('/Users/imosweu/td_unconsented.csv', encoding='utf-8')\n",
    "df.to_csv('/home/flourish/td_unconsented.csv', encoding='utf-8')"
   ]
  },
  {
   "cell_type": "code",
   "execution_count": null,
   "id": "4ba991d0",
   "metadata": {},
   "outputs": [],
   "source": [
    "unconsent_log_entry_ids = list(set(td_unconsent_log_entries.values_list('study_maternal_identifier', flat=True)))\n",
    "\n",
    "\n",
    "#success contact unconsented huu\n",
    "success_log_entries = LogEntry.objects.filter(~Q(phone_num_success=['none_of_the_above']),\n",
    "                                             study_maternal_identifier__in=td_uncosent_md_pids)\n",
    "\n",
    "success_log_entries_ids = success_log_entries.values_list('study_maternal_identifier', flat=True)\n",
    "\n",
    "success_df = pd.DataFrame([td.__dict__ for td in success_log_entries ])\n",
    "# df.to_csv('/Users/imosweu/td_unconsented.csv', encoding='utf-8')\n",
    "success_df.to_csv('/home/flourish/td_unconsent_success_contact.csv', encoding='utf-8')\n",
    "success_log_entries.count()\n"
   ]
  },
  {
   "cell_type": "code",
   "execution_count": null,
   "id": "06663dba",
   "metadata": {},
   "outputs": [],
   "source": []
  },
  {
   "cell_type": "code",
   "execution_count": 17,
   "id": "e2e4d94a",
   "metadata": {},
   "outputs": [],
   "source": [
    "#Final decline\n",
    "declined = LogEntry.objects.filter(study_maternal_identifier__in=success_log_entries_ids,\n",
    "                                   appt='No')\n",
    "\n",
    "declined_ids = declined.values_list('study_maternal_identifier', flat=True)\n",
    "\n",
    "\n",
    "final_decline = []\n",
    "for a in declined_ids:\n",
    "    dec_logs = LogEntry.objects.filter(study_maternal_identifier=a)\n",
    "    for d in dec_logs:\n",
    "        try:\n",
    "            LogEntry.objects.get(study_maternal_identifier=d.study_maternal_identifier,\n",
    "                                 call_datetime__gt=d.call_datetime, appt='Yes')\n",
    "        except LogEntry.DoesNotExist:\n",
    "            final_decline.append(d)\n",
    "            \n",
    "declined_df = pd.DataFrame([td.__dict__ for td in final_decline ])\n",
    "declined_df.to_csv('/home/flourish/td_declined_contact.csv', encoding='utf-8')\n",
    "\n",
    "len(final_decline)"
   ]
  },
  {
   "cell_type": "code",
   "execution_count": null,
   "id": "d23d406e",
   "metadata": {},
   "outputs": [],
   "source": [
    "may_not_call = LogEntry.objects.filter(study_maternal_identifier__in=success_log_entries_ids,\n",
    "                                       may_call__icontains='no_')\n",
    "\n",
    "may_not_call_ids = may_not_call.values_list('study_maternal_identifier', flat=True)\n",
    "\n",
    "final_may_not_call = []\n",
    "for m in may_not_call_ids:\n",
    "    dec_logs = LogEntry.objects.filter(study_maternal_identifier=m)\n",
    "    for d in dec_logs:\n",
    "        try:\n",
    "            LogEntry.objects.get(study_maternal_identifier=d.study_maternal_identifier,\n",
    "                                 call_datetime__gt=d.call_datetime, may_call__icontains='no_')\n",
    "        except LogEntry.DoesNotExist:\n",
    "            final_may_not_call.append(d)\n",
    "            \n",
    "final_may_not_call_df = pd.DataFrame([td.__dict__ for td in final_may_not_call ])\n",
    "final_may_not_call_df.to_csv('/home/flourish/td_final_may_not_call.csv', encoding='utf-8')"
   ]
  },
  {
   "cell_type": "code",
   "execution_count": null,
   "id": "69ac3621",
   "metadata": {},
   "outputs": [],
   "source": []
  },
  {
   "cell_type": "code",
   "execution_count": null,
   "id": "3fe08058",
   "metadata": {},
   "outputs": [],
   "source": [
    "#unsuccesssuccess contact unconsented huu\n",
    "unsucessful_log_entries = LogEntry.objects.filter(phone_num_success=['none_of_the_above'],\n",
    "                                                 study_maternal_identifier__in=td_uncosent_md_pids).exclude(\n",
    "    study_maternal_identifier__in=success_log_entries_ids)\n",
    "\n",
    "unsucessful_log_entries.count()\n",
    "\n",
    "unsuccess_df = pd.DataFrame([td.__dict__ for td in unsucessful_log_entries ])\n",
    "# df.to_csv('/Users/imosweu/td_unconsented.csv', encoding='utf-8')\n",
    "unsuccess_df.to_csv('/home/flourish/td_unsuccess_contact.csv', encoding='utf-8')"
   ]
  },
  {
   "cell_type": "code",
   "execution_count": 7,
   "id": "5c1c4ea0",
   "metadata": {},
   "outputs": [],
   "source": []
  },
  {
   "cell_type": "code",
   "execution_count": 13,
   "id": "12edd30f",
   "metadata": {},
   "outputs": [],
   "source": []
  },
  {
   "cell_type": "code",
   "execution_count": 16,
   "id": "b9471107",
   "metadata": {},
   "outputs": [],
   "source": []
  },
  {
   "cell_type": "code",
   "execution_count": null,
   "id": "3501c34c",
   "metadata": {},
   "outputs": [],
   "source": []
  },
  {
   "cell_type": "code",
   "execution_count": null,
   "id": "6426c06b",
   "metadata": {},
   "outputs": [],
   "source": []
  }
 ],
 "metadata": {
  "kernelspec": {
   "display_name": "Django Shell-Plus",
   "language": "python",
   "name": "django_extensions"
  },
  "language_info": {
   "codemirror_mode": {
    "name": "ipython",
    "version": 3
   },
   "file_extension": ".py",
   "mimetype": "text/x-python",
   "name": "python",
   "nbconvert_exporter": "python",
   "pygments_lexer": "ipython3",
   "version": "3.9.0"
  }
 },
 "nbformat": 4,
 "nbformat_minor": 5
}
