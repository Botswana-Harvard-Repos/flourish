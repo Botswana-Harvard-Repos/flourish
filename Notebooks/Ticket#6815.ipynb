{
 "cells": [
  {
   "cell_type": "code",
   "execution_count": 1,
   "id": "2612ef6e",
   "metadata": {},
   "outputs": [],
   "source": [
    "# Imports\n",
    "import os \n",
    "import pandas as pd\n",
    "from django.apps import apps as django_apps\n",
    "from django.core.exceptions import ValidationError\n",
    "os.environ[\"DJANGO_ALLOW_ASYNC_UNSAFE\"] = \"true\""
   ]
  },
  {
   "cell_type": "code",
   "execution_count": 11,
   "id": "4079bfe0",
   "metadata": {},
   "outputs": [],
   "source": [
    "from flourish_child.models import Appointment\n",
    "\n",
    "\n",
    "def delete_appointments(pid, visit_code):\n",
    "    \n",
    "    try:\n",
    "        appt = Appointment.objects.get(subject_identifier=pid, visit_code = visit_code)\n",
    "        \n",
    "    except Appointment.DoesNotExist:\n",
    "        print('process already done')\n",
    "    except Appointment.MultipleObjectsReturned:\n",
    "        print('please add more parameters because there is more than one appts')\n",
    "    else:\n",
    "        try:\n",
    "            child_visit = ChildVisit.objects.get(appointment = appt)\n",
    "        except ChildVisit.DoesNotExist:\n",
    "            pass\n",
    "        else:\n",
    "            child_visit.delete()\n",
    "        appt.delete()\n",
    "        \n",
    "        print('Done....')\n",
    "        "
   ]
  },
  {
   "cell_type": "code",
   "execution_count": 12,
   "id": "7769e94f",
   "metadata": {},
   "outputs": [
    {
     "name": "stdout",
     "output_type": "stream",
     "text": [
      "process already done\n"
     ]
    }
   ],
   "source": [
    "subject_identifier = 'B142-040990849-7-10'\n",
    "visit_code = '2003'\n",
    "\n",
    "delete_appointments(subject_identifier, visit_code)"
   ]
  },
  {
   "cell_type": "code",
   "execution_count": 13,
   "id": "1cc52f6b",
   "metadata": {},
   "outputs": [
    {
     "name": "stdout",
     "output_type": "stream",
     "text": [
      "process already done\n"
     ]
    }
   ],
   "source": [
    "\n",
    "subject_identifier = 'B142-040990705-1-10'\n",
    "visit_code = '2004'\n",
    "\n",
    "delete_appointments(subject_identifier, visit_code)\n"
   ]
  },
  {
   "cell_type": "code",
   "execution_count": null,
   "id": "1d2223cc",
   "metadata": {},
   "outputs": [],
   "source": [
    "\n"
   ]
  }
 ],
 "metadata": {
  "kernelspec": {
   "display_name": "Django Shell-Plus",
   "language": "python",
   "name": "django_extensions"
  },
  "language_info": {
   "codemirror_mode": {
    "name": "ipython",
    "version": 3
   },
   "file_extension": ".py",
   "mimetype": "text/x-python",
   "name": "python",
   "nbconvert_exporter": "python",
   "pygments_lexer": "ipython3",
   "version": "3.10.4"
  }
 },
 "nbformat": 4,
 "nbformat_minor": 5
}
