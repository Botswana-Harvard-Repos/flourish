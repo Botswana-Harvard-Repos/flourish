{
 "cells": [
  {
   "cell_type": "code",
   "execution_count": 1,
   "id": "68f0d0f0",
   "metadata": {},
   "outputs": [],
   "source": [
    "# Imports\n",
    "import os \n",
    "import pandas as pd\n",
    "from django.core.exceptions import ValidationError\n",
    "os.environ[\"DJANGO_ALLOW_ASYNC_UNSAFE\"] = \"true\"\n",
    "from datetime import date\n",
    "from edc_appointment.models import Appointment"
   ]
  },
  {
   "cell_type": "code",
   "execution_count": 2,
   "id": "26815a7b",
   "metadata": {},
   "outputs": [],
   "source": [
    "count = 0\n",
    "dups = []\n",
    "def update_window(g, pid):\n",
    "    subject_identifier = pid\n",
    "\n",
    "    print(\">>>>>>>>>>>>>\", pid)\n",
    "\n",
    "    onses = g.objects.filter(subject_identifier=subject_identifier)\n",
    "    \n",
    "    for ons in onses:\n",
    "        sn = ons.schedule_name\n",
    "        \n",
    "        try:\n",
    "            ap0 = Appointment.objects.get(subject_identifier=subject_identifier,\n",
    "                                          visit_code_sequence=0,\n",
    "                                          visit_code='2000M')\n",
    "        except Appointment.MultipleObjectsReturned:\n",
    "            dups.append(subject_identifier)\n",
    "        else:\n",
    "\n",
    "            ons.schedule_name = ons.schedule_name + 'x'\n",
    "            ons.save()\n",
    "\n",
    "            if sn[:-1] == 'x':\n",
    "                count += 1\n",
    "    #         import pdb; pdb.set_trace()\n",
    "            try:\n",
    "                ap0 = Appointment.objects.get(subject_identifier=subject_identifier,\n",
    "                                              schedule_name=sn,\n",
    "                                              visit_code_sequence=0,\n",
    "                                              visit_code='2000M')\n",
    "            except Appointment.DoesNotExist:\n",
    "                print(\":::::::::::::::::\", sn)\n",
    "\n",
    "            ap0.schedule_name = ons.schedule_name\n",
    "            ap0.save()\n",
    "\n",
    "            # resave enroll visit\n",
    "            cpe = CaregiverPreviouslyEnrolled.objects.get(subject_identifier=subject_identifier)\n",
    "\n",
    "            cpe.save()\n",
    "\n",
    "    #         import pdb; pdb.set_trace()\n",
    "            print('}}}}}}}}}}}}', sn)\n",
    "            ap1 = Appointment.objects.get(subject_identifier=subject_identifier,\n",
    "                                          schedule_name=sn,\n",
    "                                          visit_code_sequence=0,\n",
    "                                         visit_code='2000M')\n",
    "\n",
    "            ap1.user_modified = ap0.user_modified\n",
    "            ap1.appt_status = ap0.appt_status\n",
    "            ap1.appt_reason = ap0.appt_reason\n",
    "            ap1.appt_datetime = ap0.appt_datetime\n",
    "\n",
    "            ap1.save()\n",
    "\n",
    "            try:\n",
    "                v1 = MaternalVisit.objects.get(appointment=ap0)\n",
    "                v1.appointment = ap1\n",
    "                v1.save()\n",
    "            except:\n",
    "                pass\n",
    "\n",
    "            ap0.delete()\n",
    "            ons.delete()"
   ]
  },
  {
   "cell_type": "code",
   "execution_count": null,
   "id": "fd23ae08",
   "metadata": {},
   "outputs": [],
   "source": []
  },
  {
   "cell_type": "code",
   "execution_count": 3,
   "id": "67b18b73",
   "metadata": {},
   "outputs": [],
   "source": [
    "##Maternal Window\n",
    "from edc_appointment.models import Appointment\n",
    "\n",
    "pids = []\n",
    "\n",
    "for g in [OnScheduleCohortAEnrollment, OnScheduleCohortBEnrollment, OnScheduleCohortCEnrollment,\n",
    "         OnScheduleCohortASec, OnScheduleCohortBSec, OnScheduleCohortCSec]:\n",
    "    \n",
    "    inner_pids = []\n",
    "    for a in g.objects.all():\n",
    "        try:\n",
    "            prev_enrol = CaregiverPreviouslyEnrolled.objects.get(subject_identifier=a.subject_identifier,)\n",
    "        except CaregiverPreviouslyEnrolled.DoesNotExist:\n",
    "            pass\n",
    "        else:\n",
    "            if prev_enrol.report_datetime.date() != a.onschedule_datetime.date():\n",
    "                pids.append([a.subject_identifier, g])\n",
    "                inner_pids.append(a.subject_identifier)\n",
    "            \n",
    "    \n"
   ]
  },
  {
   "cell_type": "code",
   "execution_count": 11,
   "id": "c165b58a",
   "metadata": {},
   "outputs": [
    {
     "data": {
      "text/plain": [
       "[['B142-040990044-5',\n",
       "  flourish_caregiver.models.onschedule.OnScheduleCohortBEnrollment],\n",
       " ['B142-040990623-6',\n",
       "  flourish_caregiver.models.onschedule.OnScheduleCohortCEnrollment],\n",
       " ['B142-040990602-0',\n",
       "  flourish_caregiver.models.onschedule.OnScheduleCohortBSec],\n",
       " ['B142-040990612-9',\n",
       "  flourish_caregiver.models.onschedule.OnScheduleCohortCSec],\n",
       " ['B142-040990002-3',\n",
       "  flourish_caregiver.models.onschedule.OnScheduleCohortCSec],\n",
       " ['B142-040990001-5',\n",
       "  flourish_caregiver.models.onschedule.OnScheduleCohortCSec],\n",
       " ['B142-040990005-6',\n",
       "  flourish_caregiver.models.onschedule.OnScheduleCohortCSec],\n",
       " ['B142-040990003-1',\n",
       "  flourish_caregiver.models.onschedule.OnScheduleCohortCSec],\n",
       " ['B142-040990606-1',\n",
       "  flourish_caregiver.models.onschedule.OnScheduleCohortCSec],\n",
       " ['B142-040990007-2',\n",
       "  flourish_caregiver.models.onschedule.OnScheduleCohortCSec]]"
      ]
     },
     "execution_count": 11,
     "metadata": {},
     "output_type": "execute_result"
    }
   ],
   "source": [
    "pids"
   ]
  },
  {
   "cell_type": "code",
   "execution_count": 4,
   "id": "b47ec679",
   "metadata": {},
   "outputs": [
    {
     "data": {
      "text/plain": [
       "23"
      ]
     },
     "execution_count": 4,
     "metadata": {},
     "output_type": "execute_result"
    }
   ],
   "source": [
    "len(pids)"
   ]
  },
  {
   "cell_type": "code",
   "execution_count": 5,
   "id": "64777d15",
   "metadata": {},
   "outputs": [
    {
     "name": "stdout",
     "output_type": "stream",
     "text": [
      ">>>>>>>>>>>>> B142-040990504-8\n",
      "}}}}}}}}}}}} a_enrol1_schedule1\n",
      ">>>>>>>>>>>>> B142-040990581-6\n",
      "}}}}}}}}}}}} a_enrol1_schedule1\n",
      ">>>>>>>>>>>>> B142-040990006-4\n",
      "}}}}}}}}}}}} b_enrol1_schedule1\n",
      ">>>>>>>>>>>>> B142-040990009-8\n",
      "}}}}}}}}}}}} b_enrol1_schedule1\n",
      ">>>>>>>>>>>>> B142-040990044-5\n",
      "}}}}}}}}}}}} b_enrol1_schedule1\n",
      "Appointment matching query does not exist.\n",
      ">>>>>>>>>>>>> B142-040990585-7\n",
      "}}}}}}}}}}}} b_enrol1_schedule1\n",
      ">>>>>>>>>>>>> B142-040990008-0\n",
      "}}}}}}}}}}}} c_enrol1_schedule1\n",
      ">>>>>>>>>>>>> B142-040990623-6\n",
      "Associated caregiver consent on behalf of child for this participant not found\n",
      ">>>>>>>>>>>>> B142-040990023-9\n",
      "}}}}}}}}}}}} b_sec1_schedule1\n",
      "}}}}}}}}}}}} b_sec2_schedule1\n",
      ">>>>>>>>>>>>> B142-040990602-0\n",
      "Associated caregiver consent on behalf of child for this participant not found\n",
      ">>>>>>>>>>>>> B142-040990263-1\n",
      "}}}}}}}}}}}} c_sec1_schedule1\n",
      ">>>>>>>>>>>>> B142-040990612-9\n",
      "Associated caregiver consent on behalf of child for this participant not found\n",
      ">>>>>>>>>>>>> B142-040990002-3\n",
      "}}}}}}}}}}}} c_sec1_schedule1\n",
      "::::::::::::::::: c_sec2_schedule1\n",
      "}}}}}}}}}}}} c_sec2_schedule1\n",
      "Appointment matching query does not exist.\n",
      ">>>>>>>>>>>>> B142-040990001-5\n",
      "}}}}}}}}}}}} c_sec1_schedule1\n",
      "::::::::::::::::: c_sec2_schedule1\n",
      "}}}}}}}}}}}} c_sec2_schedule1\n",
      "Appointment matching query does not exist.\n",
      ">>>>>>>>>>>>> B142-040990005-6\n",
      "}}}}}}}}}}}} c_sec1_schedule1\n",
      "::::::::::::::::: c_sec2_schedule1\n",
      "}}}}}}}}}}}} c_sec2_schedule1\n",
      "Appointment matching query does not exist.\n",
      ">>>>>>>>>>>>> B142-040990001-5\n",
      "}}}}}}}}}}}} c_sec1_schedule1\n",
      "}}}}}}}}}}}} c_sec2_schedule1x\n",
      "Appointment matching query does not exist.\n",
      ">>>>>>>>>>>>> B142-040990003-1\n",
      "}}}}}}}}}}}} c_sec1_schedule1\n",
      "::::::::::::::::: c_sec2_schedule1\n",
      "}}}}}}}}}}}} c_sec2_schedule1\n",
      "Appointment matching query does not exist.\n",
      ">>>>>>>>>>>>> B142-040990005-6\n",
      "}}}}}}}}}}}} c_sec1_schedule1\n",
      "}}}}}}}}}}}} c_sec2_schedule1x\n",
      "Appointment matching query does not exist.\n",
      ">>>>>>>>>>>>> B142-040990182-3\n",
      "}}}}}}}}}}}} c_sec1_schedule1\n",
      ">>>>>>>>>>>>> B142-040990003-1\n",
      "}}}}}}}}}}}} c_sec1_schedule1\n",
      "}}}}}}}}}}}} c_sec2_schedule1x\n",
      "Appointment matching query does not exist.\n",
      ">>>>>>>>>>>>> B142-040990002-3\n",
      "}}}}}}}}}}}} c_sec1_schedule1\n",
      "}}}}}}}}}}}} c_sec2_schedule1x\n",
      "Appointment matching query does not exist.\n",
      ">>>>>>>>>>>>> B142-040990606-1\n",
      "Associated caregiver consent on behalf of child for this participant not found\n",
      ">>>>>>>>>>>>> B142-040990007-2\n",
      "::::::::::::::::: c_sec1_schedule1\n",
      "local variable 'ap0' referenced before assignment\n"
     ]
    }
   ],
   "source": [
    "failed_pids = []\n",
    "for pid, sch in pids:\n",
    "        consents = SubjectConsent.objects.filter(subject_identifier=pid)\n",
    "#         try:\n",
    "#             FlourishConsentVersion.objects.get(screening_identifier=consents[0].screening_identifier)\n",
    "#         except FlourishConsentVersion.DoesNotExist:\n",
    "#             failed_pids.append(a.subject_identifier)\n",
    "#         else:\n",
    "        try:\n",
    "            update_window(sch, pid)\n",
    "        except Exception as e:\n",
    "            print(e)\n",
    "            failed_pids.append(pid)"
   ]
  },
  {
   "cell_type": "code",
   "execution_count": 1,
   "id": "ff862596",
   "metadata": {},
   "outputs": [
    {
     "ename": "NameError",
     "evalue": "name 'count' is not defined",
     "output_type": "error",
     "traceback": [
      "\u001b[0;31m---------------------------------------------------------------------------\u001b[0m",
      "\u001b[0;31mNameError\u001b[0m                                 Traceback (most recent call last)",
      "\u001b[0;32m<ipython-input-1-26780ddf2751>\u001b[0m in \u001b[0;36m<module>\u001b[0;34m\u001b[0m\n\u001b[0;32m----> 1\u001b[0;31m \u001b[0mcount\u001b[0m\u001b[0;34m\u001b[0m\u001b[0;34m\u001b[0m\u001b[0m\n\u001b[0m",
      "\u001b[0;31mNameError\u001b[0m: name 'count' is not defined"
     ]
    }
   ],
   "source": [
    "count"
   ]
  },
  {
   "cell_type": "code",
   "execution_count": 9,
   "id": "a73ad799",
   "metadata": {},
   "outputs": [
    {
     "data": {
      "text/plain": [
       "14"
      ]
     },
     "execution_count": 9,
     "metadata": {},
     "output_type": "execute_result"
    }
   ],
   "source": [
    "len(failed_pids)"
   ]
  },
  {
   "cell_type": "code",
   "execution_count": 14,
   "id": "44d24d8c",
   "metadata": {},
   "outputs": [
    {
     "data": {
      "text/plain": [
       "21"
      ]
     },
     "execution_count": 14,
     "metadata": {},
     "output_type": "execute_result"
    }
   ],
   "source": [
    "\n",
    "len(pids)"
   ]
  },
  {
   "cell_type": "code",
   "execution_count": 3,
   "id": "4a4de715",
   "metadata": {},
   "outputs": [
    {
     "name": "stdout",
     "output_type": "stream",
     "text": [
      "> \u001b[0;32m/Users/imosweu/source/flourish-caregiver/flourish_caregiver/models/signals.py\u001b[0m(259)\u001b[0;36mcaregiver_child_consent_on_post_save\u001b[0;34m()\u001b[0m\n",
      "\u001b[0;32m    257 \u001b[0;31m        \u001b[0;32mimport\u001b[0m \u001b[0mpdb\u001b[0m\u001b[0;34m;\u001b[0m \u001b[0mpdb\u001b[0m\u001b[0;34m.\u001b[0m\u001b[0mset_trace\u001b[0m\u001b[0;34m(\u001b[0m\u001b[0;34m)\u001b[0m\u001b[0;34m\u001b[0m\u001b[0;34m\u001b[0m\u001b[0m\n",
      "\u001b[0m\u001b[0;32m    258 \u001b[0;31m\u001b[0;34m\u001b[0m\u001b[0m\n",
      "\u001b[0m\u001b[0;32m--> 259 \u001b[0;31m        \u001b[0;32mif\u001b[0m \u001b[0;32mnot\u001b[0m \u001b[0mchildren_count\u001b[0m\u001b[0;34m:\u001b[0m\u001b[0;34m\u001b[0m\u001b[0;34m\u001b[0m\u001b[0m\n",
      "\u001b[0m\u001b[0;32m    260 \u001b[0;31m            children_count = 1 + child_dummy_consent_cls.objects.filter(\n",
      "\u001b[0m\u001b[0;32m    261 \u001b[0;31m                \u001b[0msubject_identifier__startswith\u001b[0m\u001b[0;34m=\u001b[0m\u001b[0minstance\u001b[0m\u001b[0;34m.\u001b[0m\u001b[0msubject_consent\u001b[0m\u001b[0;34m.\u001b[0m\u001b[0msubject_identifier\u001b[0m\u001b[0;34m\u001b[0m\u001b[0;34m\u001b[0m\u001b[0m\n",
      "\u001b[0m\n",
      "ipdb> c\n",
      "> \u001b[0;32m/Users/imosweu/source/flourish-caregiver/flourish_caregiver/models/signals.py\u001b[0m(259)\u001b[0;36mcaregiver_child_consent_on_post_save\u001b[0;34m()\u001b[0m\n",
      "\u001b[0;32m    257 \u001b[0;31m        \u001b[0;32mimport\u001b[0m \u001b[0mpdb\u001b[0m\u001b[0;34m;\u001b[0m \u001b[0mpdb\u001b[0m\u001b[0;34m.\u001b[0m\u001b[0mset_trace\u001b[0m\u001b[0;34m(\u001b[0m\u001b[0;34m)\u001b[0m\u001b[0;34m\u001b[0m\u001b[0;34m\u001b[0m\u001b[0m\n",
      "\u001b[0m\u001b[0;32m    258 \u001b[0;31m\u001b[0;34m\u001b[0m\u001b[0m\n",
      "\u001b[0m\u001b[0;32m--> 259 \u001b[0;31m        \u001b[0;32mif\u001b[0m \u001b[0;32mnot\u001b[0m \u001b[0mchildren_count\u001b[0m\u001b[0;34m:\u001b[0m\u001b[0;34m\u001b[0m\u001b[0;34m\u001b[0m\u001b[0m\n",
      "\u001b[0m\u001b[0;32m    260 \u001b[0;31m            children_count = 1 + child_dummy_consent_cls.objects.filter(\n",
      "\u001b[0m\u001b[0;32m    261 \u001b[0;31m                \u001b[0msubject_identifier__startswith\u001b[0m\u001b[0;34m=\u001b[0m\u001b[0minstance\u001b[0m\u001b[0;34m.\u001b[0m\u001b[0msubject_consent\u001b[0m\u001b[0;34m.\u001b[0m\u001b[0msubject_identifier\u001b[0m\u001b[0;34m\u001b[0m\u001b[0;34m\u001b[0m\u001b[0m\n",
      "\u001b[0m\n",
      "ipdb> c\n",
      "}}}}}}}}}}}} c_sec1_schedule1\n",
      "> \u001b[0;32m<ipython-input-3-290dcd46aa14>\u001b[0m(33)\u001b[0;36m<module>\u001b[0;34m()\u001b[0m\n",
      "\u001b[0;32m     31 \u001b[0;31m    \u001b[0mprint\u001b[0m\u001b[0;34m(\u001b[0m\u001b[0;34m'}}}}}}}}}}}}'\u001b[0m\u001b[0;34m,\u001b[0m \u001b[0msn\u001b[0m\u001b[0;34m)\u001b[0m\u001b[0;34m\u001b[0m\u001b[0;34m\u001b[0m\u001b[0m\n",
      "\u001b[0m\u001b[0;32m     32 \u001b[0;31m    \u001b[0;32mimport\u001b[0m \u001b[0mpdb\u001b[0m\u001b[0;34m;\u001b[0m \u001b[0mpdb\u001b[0m\u001b[0;34m.\u001b[0m\u001b[0mset_trace\u001b[0m\u001b[0;34m(\u001b[0m\u001b[0;34m)\u001b[0m\u001b[0;34m\u001b[0m\u001b[0;34m\u001b[0m\u001b[0m\n",
      "\u001b[0m\u001b[0;32m---> 33 \u001b[0;31m    ap1 = Appointment.objects.get(subject_identifier=subject_identifier,\n",
      "\u001b[0m\u001b[0;32m     34 \u001b[0;31m                                  \u001b[0mschedule_name\u001b[0m\u001b[0;34m=\u001b[0m\u001b[0msn\u001b[0m\u001b[0;34m,\u001b[0m\u001b[0;34m\u001b[0m\u001b[0;34m\u001b[0m\u001b[0m\n",
      "\u001b[0m\u001b[0;32m     35 \u001b[0;31m                                  \u001b[0mvisit_code_sequence\u001b[0m\u001b[0;34m=\u001b[0m\u001b[0;36m0\u001b[0m\u001b[0;34m,\u001b[0m\u001b[0;34m\u001b[0m\u001b[0;34m\u001b[0m\u001b[0m\n",
      "\u001b[0m\n",
      "ipdb> c\n"
     ]
    }
   ],
   "source": [
    "# for pid, sch in [['B142-040990044-5', OnScheduleCohortBEnrollment],]:\n",
    "\n",
    "subject_identifier = 'B142-040990044-5'\n",
    "onses = OnScheduleCohortCSec.objects.filter(subject_identifier='B142-040990044-5')\n",
    "if onses.count() > 1:\n",
    "    print(\"lllllll\", subject_identifier)\n",
    "\n",
    "for ons in onses:\n",
    "    sn = ons.schedule_name\n",
    "\n",
    "    ons.schedule_name = ons.schedule_name + 'x'\n",
    "    ons.save()\n",
    "\n",
    "    try:\n",
    "        ap0 = Appointment.objects.get(subject_identifier=subject_identifier,\n",
    "                                      schedule_name=sn,\n",
    "                                      visit_code_sequence=0,\n",
    "                                      visit_code='2000M')\n",
    "    except Appointment.DoesNotExist:\n",
    "        print(\":::::::::::::::::\", sn)\n",
    "\n",
    "    ap0.schedule_name = ons.schedule_name\n",
    "    ap0.save()\n",
    "\n",
    "     # resave enroll visit\n",
    "    ccc = CaregiverChildConsent.objects.get(subject_identifier=ons.child_subject_identifier)\n",
    "\n",
    "    ccc.save()\n",
    "\n",
    "#         import pdb; pdb.set_trace()\n",
    "    print('}}}}}}}}}}}}', sn)\n",
    "    import pdb; pdb.set_trace()\n",
    "    ap1 = Appointment.objects.get(subject_identifier=subject_identifier,\n",
    "                                  schedule_name=sn,\n",
    "                                  visit_code_sequence=0,\n",
    "                                 visit_code='2000M')\n",
    "\n",
    "    ap1.user_modified = ap0.user_modified\n",
    "    ap1.appt_status = ap0.appt_status\n",
    "    ap1.appt_reason = ap0.appt_reason\n",
    "    ap1.appt_datetime = ap0.appt_datetime\n",
    "\n",
    "    ap1.save()\n",
    "\n",
    "    try:\n",
    "        v1 = MaternalVisit.objects.get(appointment=ap0)\n",
    "        v1.appointment = ap1\n",
    "        v1.save()\n",
    "    except:\n",
    "        pass\n",
    "\n",
    "    ap0.delete()\n",
    "    ons.delete()\n"
   ]
  },
  {
   "cell_type": "code",
   "execution_count": null,
   "id": "bafe734e",
   "metadata": {},
   "outputs": [],
   "source": [
    "subject_identifier = 'B142-040990044-5'\n",
    "onses = OnScheduleCohortBEnrollment.objects.filter(subject_identifier='B142-040990044-5')\n",
    "if onses.count() > 1:\n",
    "    print(\"lllllll\", subject_identifier)\n",
    "\n",
    "for ons in onses:\n",
    "    sn = ons.schedule_name\n",
    "\n",
    "    ons.schedule_name = ons.schedule_name + 'x'\n",
    "    ons.save()\n",
    "\n",
    "    try:\n",
    "        ap0 = Appointment.objects.get(subject_identifier=subject_identifier,\n",
    "                                      schedule_name=sn,\n",
    "                                      visit_code_sequence=0,\n",
    "                                      visit_code='2000M')\n",
    "    except Appointment.DoesNotExist:\n",
    "        print(\":::::::::::::::::\", sn)\n",
    "\n",
    "    ap0.schedule_name = ons.schedule_name\n",
    "    ap0.save()\n",
    "\n",
    "    # resave enroll visit\n",
    "    ccc = CaregiverChildConsent.objects.get(subject_identifier=ons.child_subject_identifier)\n",
    "\n",
    "    ccc.save()\n",
    "\n",
    "#         import pdb; pdb.set_trace()\n",
    "    print('}}}}}}}}}}}}', sn)\n",
    "    import pdb; pdb.set_trace()\n",
    "    ap1 = Appointment.objects.get(subject_identifier=subject_identifier,\n",
    "                                  schedule_name=sn,\n",
    "                                  visit_code_sequence=0,\n",
    "                                 visit_code='2000M')\n",
    "\n",
    "    ap1.user_modified = ap0.user_modified\n",
    "    ap1.appt_status = ap0.appt_status\n",
    "    ap1.appt_reason = ap0.appt_reason\n",
    "    ap1.appt_datetime = ap0.appt_datetime\n",
    "\n",
    "    ap1.save()\n",
    "\n",
    "    try:\n",
    "        v1 = MaternalVisit.objects.get(appointment=ap0)\n",
    "        v1.appointment = ap1\n",
    "        v1.save()\n",
    "    except:\n",
    "        pass\n",
    "\n",
    "    ap0.delete()\n",
    "    ons.delete()\n"
   ]
  },
  {
   "cell_type": "code",
   "execution_count": 22,
   "id": "27ae0001",
   "metadata": {},
   "outputs": [],
   "source": [
    "ap1, ap2, ap3 = Appointment.objects.filter(subject_identifier='B142-040990044-5', visit_code='2000M')\n"
   ]
  },
  {
   "cell_type": "code",
   "execution_count": 24,
   "id": "b2ba4ef4",
   "metadata": {},
   "outputs": [
    {
     "data": {
      "text/plain": [
       "{'_state': <django.db.models.base.ModelState at 0x13470eaf0>,\n",
       " 'created': datetime.datetime(2021, 5, 28, 13, 3, 42, 473363, tzinfo=<UTC>),\n",
       " 'modified': datetime.datetime(2022, 3, 25, 13, 58, 56, 321574, tzinfo=<UTC>),\n",
       " 'user_created': 'flourish',\n",
       " 'user_modified': 'skgole',\n",
       " 'hostname_created': 'flourish',\n",
       " 'hostname_modified': 'Itumelengs-MacBook-Pro.local',\n",
       " 'revision': '',\n",
       " 'device_created': '99',\n",
       " 'device_modified': '99',\n",
       " 'id': UUID('5234ac74-98ae-44bf-9567-0ffc1ea8444a'),\n",
       " 'site_id': 40,\n",
       " 'subject_identifier': 'B142-040990044-5',\n",
       " 'visit_schedule_name': 'c1_visit_schedule1',\n",
       " 'schedule_name': 'c_sec1_schedule1',\n",
       " 'visit_code': '2000M',\n",
       " 'visit_code_sequence': 0,\n",
       " 'timepoint_status': 'open',\n",
       " 'timepoint_opened_datetime': datetime.datetime(2021, 5, 28, 13, 4, 5, tzinfo=<UTC>),\n",
       " 'timepoint_closed_datetime': None,\n",
       " 'timepoint': Decimal('0.0'),\n",
       " 'timepoint_datetime': datetime.datetime(2021, 5, 28, 13, 4, 5, tzinfo=<UTC>),\n",
       " 'appt_close_datetime': None,\n",
       " 'facility_name': '5-day clinic',\n",
       " 'appt_datetime': datetime.datetime(2021, 5, 28, 13, 4, 5, tzinfo=<UTC>),\n",
       " 'appt_type': 'clinic',\n",
       " 'appt_status': 'done',\n",
       " 'appt_reason': 'scheduled',\n",
       " 'comment': '',\n",
       " 'is_confirmed': False}"
      ]
     },
     "execution_count": 24,
     "metadata": {},
     "output_type": "execute_result"
    }
   ],
   "source": [
    "ap3.__dict__"
   ]
  },
  {
   "cell_type": "code",
   "execution_count": null,
   "id": "4688084d",
   "metadata": {},
   "outputs": [],
   "source": []
  }
 ],
 "metadata": {
  "kernelspec": {
   "display_name": "Django Shell-Plus",
   "language": "python",
   "name": "django_extensions"
  },
  "language_info": {
   "codemirror_mode": {
    "name": "ipython",
    "version": 3
   },
   "file_extension": ".py",
   "mimetype": "text/x-python",
   "name": "python",
   "nbconvert_exporter": "python",
   "pygments_lexer": "ipython3",
   "version": "3.9.0"
  }
 },
 "nbformat": 4,
 "nbformat_minor": 5
}
