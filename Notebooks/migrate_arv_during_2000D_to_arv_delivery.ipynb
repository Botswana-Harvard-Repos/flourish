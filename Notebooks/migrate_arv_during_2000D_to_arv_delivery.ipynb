{
 "cells": [
  {
   "cell_type": "code",
   "execution_count": 4,
   "id": "912ec459",
   "metadata": {},
   "outputs": [],
   "source": [
    "# Imports\n",
    "import json\n",
    "import os \n",
    "import pandas as pd\n",
    "from django.apps import apps as django_apps\n",
    "from django.core.exceptions import ValidationError\n",
    "from edc_constants.constants import NOT_APPLICABLE, NO, YES\n",
    "os.environ[\"DJANGO_ALLOW_ASYNC_UNSAFE\"] = \"true\""
   ]
  },
  {
   "cell_type": "code",
   "execution_count": 5,
   "id": "8e971caa",
   "metadata": {},
   "outputs": [
    {
     "name": "stdout",
     "output_type": "stream",
     "text": [
      "Created 22 of 22 objects.\n"
     ]
    }
   ],
   "source": [
    "delivery_objs = MaternalArvDuringPreg.objects.filter(maternal_visit__visit_code='2000D')\n",
    "is_created = 0\n",
    "\n",
    "for obj in delivery_objs:\n",
    "    defaults = {'last_visit_change': obj.is_interrupt,\n",
    "                'change_reason': obj.interrupt,\n",
    "                'change_reason_other': obj.interrupt_other, }\n",
    "    if obj.is_interrupt == NO:\n",
    "        defaults.update({'resume_treat': NOT_APPLICABLE})\n",
    "    if obj.is_interrupt == YES:\n",
    "        print(obj.maternal_visit.subject_identifier)\n",
    "    obj, created = MaternalArvAtDelivery.objects.update_or_create(\n",
    "        maternal_visit=obj.maternal_visit,\n",
    "        report_datetime=obj.report_datetime,\n",
    "        defaults=defaults)\n",
    "    if created:\n",
    "        is_created += 1\n",
    "print(f'Created {is_created} of {delivery_objs.count()} objects.')"
   ]
  },
  {
   "cell_type": "code",
   "execution_count": null,
   "id": "6b83b349",
   "metadata": {},
   "outputs": [],
   "source": []
  }
 ],
 "metadata": {
  "kernelspec": {
   "display_name": "Django Shell-Plus",
   "language": "python",
   "name": "django_extensions"
  },
  "language_info": {
   "codemirror_mode": {
    "name": "ipython",
    "version": 3
   },
   "file_extension": ".py",
   "mimetype": "text/x-python",
   "name": "python",
   "nbconvert_exporter": "python",
   "pygments_lexer": "ipython3",
   "version": "3.6.15"
  }
 },
 "nbformat": 4,
 "nbformat_minor": 5
}
