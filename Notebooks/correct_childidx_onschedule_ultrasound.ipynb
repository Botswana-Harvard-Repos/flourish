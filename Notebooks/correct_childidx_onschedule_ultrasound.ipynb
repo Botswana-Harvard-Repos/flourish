{
 "cells": [
  {
   "cell_type": "code",
   "execution_count": 6,
   "id": "47409a2b",
   "metadata": {},
   "outputs": [],
   "source": [
    "import os, sys\n",
    "import django\n",
    "sys.path.append('../') # add path to project root dir\n",
    "os.environ[\"DJANGO_SETTINGS_MODULE\"] = \"flourish.settings\"\n",
    "from django.apps import apps as django_apps\n",
    "os.environ[\"DJANGO_ALLOW_ASYNC_UNSAFE\"] = \"true\""
   ]
  },
  {
   "cell_type": "code",
   "execution_count": 7,
   "id": "fd067804",
   "metadata": {},
   "outputs": [
    {
     "ename": "ImportError",
     "evalue": "cannot import name 'Ultrasound' from 'flourish_caregiver.models' (/Users/amediphoko/source/flourish-caregiver/flourish_caregiver/models/__init__.py)",
     "output_type": "error",
     "traceback": [
      "\u001b[0;31m---------------------------------------------------------------------------\u001b[0m",
      "\u001b[0;31mImportError\u001b[0m                               Traceback (most recent call last)",
      "\u001b[0;32m<ipython-input-7-ee3909bf2ce6>\u001b[0m in \u001b[0;36m<module>\u001b[0;34m\u001b[0m\n\u001b[0;32m----> 1\u001b[0;31m \u001b[0;32mfrom\u001b[0m \u001b[0mflourish_caregiver\u001b[0m\u001b[0;34m.\u001b[0m\u001b[0mmodels\u001b[0m \u001b[0;32mimport\u001b[0m \u001b[0mUltrasound\u001b[0m\u001b[0;34m\u001b[0m\u001b[0;34m\u001b[0m\u001b[0m\n\u001b[0m\u001b[1;32m      2\u001b[0m \u001b[0multrasounds\u001b[0m \u001b[0;34m=\u001b[0m \u001b[0mUltrasound\u001b[0m\u001b[0;34m.\u001b[0m\u001b[0mobjects\u001b[0m\u001b[0;34m.\u001b[0m\u001b[0mall\u001b[0m\u001b[0;34m(\u001b[0m\u001b[0;34m)\u001b[0m\u001b[0;34m\u001b[0m\u001b[0;34m\u001b[0m\u001b[0m\n",
      "\u001b[0;31mImportError\u001b[0m: cannot import name 'Ultrasound' from 'flourish_caregiver.models' (/Users/amediphoko/source/flourish-caregiver/flourish_caregiver/models/__init__.py)"
     ]
    }
   ],
   "source": [
    "from flourish_caregiver.models import Ultrasound\n",
    "ultrasounds = Ultrasound.objects.all()"
   ]
  },
  {
   "cell_type": "code",
   "execution_count": null,
   "id": "1f78e72a",
   "metadata": {},
   "outputs": [],
   "source": [
    "for ultrasound in ultrasounds:\n",
    "    try:\n",
    "        if (ultrasound.ga_confirmed > 16 and ultrasound.ga_confirmed < 30) and (ultrasound.ga_confirmed_after < 16 or ultrasound.ga_confirmed_after > 30):\n",
    "            print(ultrasound.child_subject_identifier)\n",
    "    except forms.ValidationError:\n",
    "        subject_identifier = ultrasound.subject_identifier\n",
    "        childconsents = CaregiverChildConsent.objects.filter(\n",
    "            subject_consent__subject_identifier=subject_identifier)\n",
    "        for consent in childconsents:\n",
    "            cohort = Cohort.objects.filter(\n",
    "                subject_identifier=consent.subject_identifier,\n",
    "                current_cohort=True).latest('assign_datetime')\n",
    "            if cohort.name == 'cohort_a':\n",
    "                onschedule_model = ultrasound.maternal_visit.schedule.onschedule_model\n",
    "                onschedule_model_cls = django_apps.get_model(onschedule_model)\n",
    "                try:\n",
    "                    onschedule_obj = onschedule_model_cls.objects.get(\n",
    "                        subject_identifier=subject_identifier,\n",
    "                        schedule_name=ultrasound.maternal_visit.schedule_name)\n",
    "                except onschedule_model_cls.DoesNotExist:\n",
    "                    print('does not exist', subject_identifier)\n",
    "                else:\n",
    "                    if onschedule_obj.child_subject_identifier == subject_identifier:\n",
    "                        onschedule_obj.child_subject_identifier = consent.subject_identifier\n",
    "                        onschedule_obj.save()\n",
    "                    if ultrasound.child_subject_identifier == subject_identifier:\n",
    "                        ultrasound.child_subject_identifier = consent.subject_identifier\n",
    "                        ultrasound.save_base(raw=True)\n",
    "                    print('childidx', onschedule_obj.child_subject_identifier)\n",
    "        print('error', ultrasound.child_subject_identifier)\n"
   ]
  }
 ],
 "metadata": {
  "kernelspec": {
   "display_name": "Django Shell-Plus",
   "language": "python",
   "name": "django_extensions"
  },
  "language_info": {
   "codemirror_mode": {
    "name": "ipython",
    "version": 3
   },
   "file_extension": ".py",
   "mimetype": "text/x-python",
   "name": "python",
   "nbconvert_exporter": "python",
   "pygments_lexer": "ipython3",
   "version": "3.8.13"
  }
 },
 "nbformat": 4,
 "nbformat_minor": 5
}
