{
 "cells": [
  {
   "cell_type": "code",
   "execution_count": 1,
   "id": "47409a2b",
   "metadata": {},
   "outputs": [],
   "source": [
    "import os, sys\n",
    "import django\n",
    "sys.path.append('../') # add path to project root dir\n",
    "os.environ[\"DJANGO_SETTINGS_MODULE\"] = \"flourish.settings\"\n",
    "from django.apps import apps as django_apps\n",
    "os.environ[\"DJANGO_ALLOW_ASYNC_UNSAFE\"] = \"true\""
   ]
  },
  {
   "cell_type": "code",
   "execution_count": 2,
   "id": "fd067804",
   "metadata": {},
   "outputs": [],
   "source": [
    "ultrasounds = UltraSound.objects.all()"
   ]
  },
  {
   "cell_type": "code",
   "execution_count": 3,
   "id": "1f78e72a",
   "metadata": {},
   "outputs": [
    {
     "name": "stdout",
     "output_type": "stream",
     "text": [
      "B142-040990625-1-10\n",
      "B142-040991122-8-10\n",
      "B142-040991190-5-10\n",
      "B142-040990919-8-10\n"
     ]
    }
   ],
   "source": [
    "for ultrasound in ultrasounds:\n",
    "    try:\n",
    "        if (ultrasound.ga_confirmed > 16 and ultrasound.ga_confirmed < 30) and (ultrasound.ga_confirmed_after < 16 or ultrasound.ga_confirmed_after > 30):\n",
    "            print(ultrasound.child_subject_identifier)\n",
    "    except forms.ValidationError:\n",
    "        subject_identifier = ultrasound.subject_identifier\n",
    "        childconsents = CaregiverChildConsent.objects.filter(\n",
    "            subject_consent__subject_identifier=subject_identifier)\n",
    "        for consent in childconsents:\n",
    "            cohort = Cohort.objects.filter(\n",
    "                subject_identifier=consent.subject_identifier,\n",
    "                current_cohort=True).latest('assign_datetime')\n",
    "            if cohort.name == 'cohort_a':\n",
    "                onschedule_model = ultrasound.maternal_visit.schedule.onschedule_model\n",
    "                onschedule_model_cls = django_apps.get_model(onschedule_model)\n",
    "                try:\n",
    "                    onschedule_obj = onschedule_model_cls.objects.get(\n",
    "                        subject_identifier=subject_identifier,\n",
    "                        schedule_name=ultrasound.maternal_visit.schedule_name)\n",
    "                except onschedule_model_cls.DoesNotExist:\n",
    "                    print('does not exist', subject_identifier)\n",
    "                else:\n",
    "                    if onschedule_obj.child_subject_identifier == subject_identifier:\n",
    "                        onschedule_obj.child_subject_identifier = consent.subject_identifier\n",
    "                        onschedule_obj.save()\n",
    "                    if ultrasound.child_subject_identifier == subject_identifier:\n",
    "                        ultrasound.child_subject_identifier = consent.subject_identifier\n",
    "                        ultrasound.save_base(raw=True)\n",
    "                    print('childidx', onschedule_obj.child_subject_identifier)\n",
    "        print('error', ultrasound.child_subject_identifier)\n"
   ]
  },
  {
   "cell_type": "code",
   "execution_count": null,
   "id": "ffe6eb83",
   "metadata": {},
   "outputs": [],
   "source": []
  }
 ],
 "metadata": {
  "kernelspec": {
   "display_name": "Django Shell-Plus",
   "language": "python",
   "name": "django_extensions"
  },
  "language_info": {
   "codemirror_mode": {
    "name": "ipython",
    "version": 3
   },
   "file_extension": ".py",
   "mimetype": "text/x-python",
   "name": "python",
   "nbconvert_exporter": "python",
   "pygments_lexer": "ipython3",
   "version": "3.8.13"
  }
 },
 "nbformat": 4,
 "nbformat_minor": 5
}
