{
 "cells": [
  {
   "cell_type": "code",
   "execution_count": 3,
   "id": "b819bd20",
   "metadata": {},
   "outputs": [],
   "source": [
    "\n",
    "import pandas as pd\n",
    "from django_pandas.io import read_frame\n",
    "\n"
   ]
  },
  {
   "cell_type": "code",
   "execution_count": 4,
   "id": "5a30dbe9",
   "metadata": {},
   "outputs": [],
   "source": [
    "\n",
    "import os\n",
    "import django\n",
    "os.environ.setdefault('DJANGO_SETTINGS_MODULE', 'rest.settings')\n",
    "os.environ[\"DJANGO_ALLOW_ASYNC_UNSAFE\"] = \"true\"\n",
    "django.setup()\n"
   ]
  },
  {
   "cell_type": "code",
   "execution_count": 5,
   "id": "e2f276e0",
   "metadata": {},
   "outputs": [],
   "source": [
    "from edc_search.model_mixins import SearchSlugManager, SearchSlugUpdater"
   ]
  },
  {
   "cell_type": "code",
   "execution_count": 17,
   "id": "f7818d90",
   "metadata": {},
   "outputs": [],
   "source": [
    "f= ScreeningPregWomenManager"
   ]
  },
  {
   "cell_type": "code",
   "execution_count": 22,
   "id": "0436f1f6",
   "metadata": {},
   "outputs": [
    {
     "data": {
      "text/plain": [
       "<bound method SearchSlugManager.update_search_slugs of <edc_search.model_mixins.SearchSlugManager object at 0x11c805d60>>"
      ]
     },
     "execution_count": 22,
     "metadata": {},
     "output_type": "execute_result"
    }
   ],
   "source": [
    "f.update_search_slugs"
   ]
  },
  {
   "cell_type": "code",
   "execution_count": 3,
   "id": "37e58cc4",
   "metadata": {},
   "outputs": [],
   "source": [
    "query=ScreeningPregWomen.objects.all()"
   ]
  },
  {
   "cell_type": "code",
   "execution_count": 7,
   "id": "3b580b77",
   "metadata": {},
   "outputs": [],
   "source": [
    "search_slug_updater_cls = SearchSlugUpdater\n",
    "search_slug_field_name = 'slug'"
   ]
  },
  {
   "cell_type": "code",
   "execution_count": 8,
   "id": "b01b2c28",
   "metadata": {},
   "outputs": [],
   "source": [
    "for obj in query:\n",
    "    updater = search_slug_updater_cls(\n",
    "        fields=obj.get_search_slug_fields(),\n",
    "        model_obj=obj)\n",
    "    setattr(obj, search_slug_field_name, updater.slug)\n",
    "    obj.save_base(update_fields=[search_slug_field_name])"
   ]
  },
  {
   "cell_type": "code",
   "execution_count": 12,
   "id": "35ec0b8a",
   "metadata": {},
   "outputs": [
    {
     "data": {
      "text/plain": [
       "{'_state': <django.db.models.base.ModelState at 0x11aac0d90>,\n",
       " 'created': datetime.datetime(2021, 11, 9, 12, 6, 51, 711660, tzinfo=<UTC>),\n",
       " 'modified': datetime.datetime(2022, 1, 26, 14, 24, 55, 218919, tzinfo=tzutc()),\n",
       " 'user_created': 'lmakgeng',\n",
       " 'user_modified': 'mcturner',\n",
       " 'hostname_created': 'flourish',\n",
       " 'hostname_modified': 'mcturner',\n",
       " 'revision': '',\n",
       " 'device_created': '99',\n",
       " 'device_modified': '99',\n",
       " 'id': UUID('02ab2be8-3943-48b4-9530-569ad1c0f198'),\n",
       " 'site_id': 40,\n",
       " 'subject_identifier': 'B142-040990474-4',\n",
       " 'slug': 'b142-040990474-4|s99bypce',\n",
       " 'screening_identifier': 'S99BYPCE',\n",
       " 'report_datetime': datetime.datetime(2021, 11, 9, 12, 6, 45, tzinfo=<UTC>),\n",
       " 'hiv_testing': 'Yes',\n",
       " 'breastfeed_intent': 'Yes',\n",
       " 'ineligibility': [],\n",
       " 'is_eligible': True,\n",
       " 'is_consented': False,\n",
       " 'search_slug_warning': None}"
      ]
     },
     "execution_count": 12,
     "metadata": {},
     "output_type": "execute_result"
    }
   ],
   "source": [
    "query[0].__dict__"
   ]
  },
  {
   "cell_type": "code",
   "execution_count": 9,
   "id": "2f54e359",
   "metadata": {},
   "outputs": [],
   "source": [
    "query[0].subject_identifier='B142-040990474-4'"
   ]
  },
  {
   "cell_type": "code",
   "execution_count": 10,
   "id": "0a28e059",
   "metadata": {},
   "outputs": [],
   "source": [
    "lmakgeng=query[0]"
   ]
  },
  {
   "cell_type": "code",
   "execution_count": 11,
   "id": "880cd94b",
   "metadata": {},
   "outputs": [],
   "source": [
    "lmakgeng.save()"
   ]
  },
  {
   "cell_type": "code",
   "execution_count": null,
   "id": "eec27bc5",
   "metadata": {},
   "outputs": [],
   "source": []
  },
  {
   "cell_type": "code",
   "execution_count": null,
   "id": "a80be54f",
   "metadata": {},
   "outputs": [],
   "source": []
  },
  {
   "cell_type": "code",
   "execution_count": 37,
   "id": "ec19d689",
   "metadata": {},
   "outputs": [],
   "source": [
    "s1=SubjectConsent.objects.get(screening_identifier='S99KB8XA')"
   ]
  },
  {
   "cell_type": "markdown",
   "id": "853ac733",
   "metadata": {},
   "source": [
    "s1\n"
   ]
  },
  {
   "cell_type": "code",
   "execution_count": 38,
   "id": "aff01025",
   "metadata": {},
   "outputs": [
    {
     "data": {
      "text/plain": [
       "{'_state': <django.db.models.base.ModelState at 0x1174cdc70>,\n",
       " 'created': datetime.datetime(2021, 12, 6, 11, 15, 36, 916266, tzinfo=<UTC>),\n",
       " 'modified': datetime.datetime(2022, 1, 27, 10, 4, 9, 704430, tzinfo=<UTC>),\n",
       " 'user_created': 'gelija',\n",
       " 'user_modified': 'root',\n",
       " 'hostname_created': 'flourish',\n",
       " 'hostname_modified': 'mcturner',\n",
       " 'revision': '',\n",
       " 'device_created': '99',\n",
       " 'device_modified': '99',\n",
       " 'id': UUID('aaaa95ee-ff45-46c2-84b0-7b30c6771482'),\n",
       " 'site_id': 40,\n",
       " 'subject_identifier_as_pk': UUID('fef14b97-2da0-4885-9038-142879a71594'),\n",
       " 'subject_identifier_aka': None,\n",
       " 'slug': 'b142-040990527-9',\n",
       " 'citizen': 'Yes',\n",
       " 'legal_marriage': 'N/A',\n",
       " 'marriage_certificate': 'N/A',\n",
       " 'marriage_certificate_no': None,\n",
       " 'identity': '040528916',\n",
       " 'confirm_identity': '040528916',\n",
       " 'first_name': 'PONTSHO LILLIAN',\n",
       " 'last_name': 'TLHOKWANE',\n",
       " 'initials': 'PLT',\n",
       " 'dob': datetime.date(1996, 4, 9),\n",
       " 'is_dob_estimated': '-',\n",
       " 'guardian_name': None,\n",
       " 'subject_type': '',\n",
       " 'is_incarcerated': None,\n",
       " 'is_literate': 'Yes',\n",
       " 'witness_name': '',\n",
       " 'language': 'tn',\n",
       " 'is_verified': False,\n",
       " 'is_verified_datetime': None,\n",
       " 'verified_by': None,\n",
       " 'consent_datetime': datetime.datetime(2021, 12, 6, 9, 19, tzinfo=<UTC>),\n",
       " 'report_datetime': datetime.datetime(2021, 12, 6, 9, 19, tzinfo=<UTC>),\n",
       " 'version': '2',\n",
       " 'updates_versions': False,\n",
       " 'sid': None,\n",
       " 'comment': None,\n",
       " 'dm_comment': None,\n",
       " 'consent_identifier': UUID('5b6741d8-3c23-4117-9857-e078ef130682'),\n",
       " 'consent_reviewed': 'Yes',\n",
       " 'study_questions': 'Yes',\n",
       " 'assessment_score': 'Yes',\n",
       " 'consent_signature': 'Yes',\n",
       " 'consent_copy': 'Yes',\n",
       " 'subject_identifier': 'B142-040990527-9',\n",
       " 'screening_identifier': 'S99KB8XA',\n",
       " 'gender': 'F',\n",
       " 'identity_type': 'country_id',\n",
       " 'recruit_source': 'BHP recruiter/clinician',\n",
       " 'recruit_source_other': None,\n",
       " 'recruitment_clinic': 'Nkoyaphiri',\n",
       " 'recruitment_clinic_other': None,\n",
       " 'remain_in_study': 'Yes',\n",
       " 'biological_caregiver': 'Yes',\n",
       " 'hiv_testing': 'Yes',\n",
       " 'breastfeed_intent': 'Yes',\n",
       " 'future_contact': 'Yes',\n",
       " 'child_consent': 'Yes',\n",
       " 'ineligibility': '[]',\n",
       " 'is_eligible': True,\n",
       " 'multiple_birth': False}"
      ]
     },
     "execution_count": 38,
     "metadata": {},
     "output_type": "execute_result"
    }
   ],
   "source": [
    "s1.__dict__\n"
   ]
  },
  {
   "cell_type": "code",
   "execution_count": 36,
   "id": "e2ef9e64",
   "metadata": {},
   "outputs": [],
   "source": [
    "s1.save()"
   ]
  },
  {
   "cell_type": "code",
   "execution_count": 32,
   "id": "9d73dd05",
   "metadata": {},
   "outputs": [],
   "source": [
    "registered_subject=RegisteredSubject.objects.get(subject_identifier='B142-040990527-9')"
   ]
  },
  {
   "cell_type": "code",
   "execution_count": 33,
   "id": "15f342ec",
   "metadata": {},
   "outputs": [],
   "source": [
    "registered_subject.save()"
   ]
  },
  {
   "cell_type": "code",
   "execution_count": 27,
   "id": "4ccb2524",
   "metadata": {},
   "outputs": [],
   "source": [
    "subject_consent=SubjectConsent.objects.get(subject_identifier='B142-040990539-4')"
   ]
  },
  {
   "cell_type": "code",
   "execution_count": 28,
   "id": "edbda5ef",
   "metadata": {},
   "outputs": [
    {
     "ename": "ProtectedError",
     "evalue": "(\"Cannot delete some instances of model 'SubjectConsent' because they are referenced through protected foreign keys: 'CaregiverChildConsent.subject_consent'.\", {<CaregiverChildConsent: CaregiverChildConsent object (91695b72-370a-4f72-92c4-85599b600353)>})",
     "output_type": "error",
     "traceback": [
      "\u001b[0;31m---------------------------------------------------------------------------\u001b[0m",
      "\u001b[0;31mProtectedError\u001b[0m                            Traceback (most recent call last)",
      "\u001b[0;32m/var/folders/kr/573_yvxd1lj69fqnmkkpzgfh0000gs/T/ipykernel_30147/427425654.py\u001b[0m in \u001b[0;36m<module>\u001b[0;34m\u001b[0m\n\u001b[0;32m----> 1\u001b[0;31m \u001b[0msubject_consent\u001b[0m\u001b[0;34m.\u001b[0m\u001b[0mdelete\u001b[0m\u001b[0;34m(\u001b[0m\u001b[0;34m)\u001b[0m\u001b[0;34m\u001b[0m\u001b[0;34m\u001b[0m\u001b[0m\n\u001b[0m",
      "\u001b[0;32m~/.venvs/flourish/lib/python3.9/site-packages/django/db/models/base.py\u001b[0m in \u001b[0;36mdelete\u001b[0;34m(self, using, keep_parents)\u001b[0m\n\u001b[1;32m    944\u001b[0m \u001b[0;34m\u001b[0m\u001b[0m\n\u001b[1;32m    945\u001b[0m         \u001b[0mcollector\u001b[0m \u001b[0;34m=\u001b[0m \u001b[0mCollector\u001b[0m\u001b[0;34m(\u001b[0m\u001b[0musing\u001b[0m\u001b[0;34m=\u001b[0m\u001b[0musing\u001b[0m\u001b[0;34m)\u001b[0m\u001b[0;34m\u001b[0m\u001b[0;34m\u001b[0m\u001b[0m\n\u001b[0;32m--> 946\u001b[0;31m         \u001b[0mcollector\u001b[0m\u001b[0;34m.\u001b[0m\u001b[0mcollect\u001b[0m\u001b[0;34m(\u001b[0m\u001b[0;34m[\u001b[0m\u001b[0mself\u001b[0m\u001b[0;34m]\u001b[0m\u001b[0;34m,\u001b[0m \u001b[0mkeep_parents\u001b[0m\u001b[0;34m=\u001b[0m\u001b[0mkeep_parents\u001b[0m\u001b[0;34m)\u001b[0m\u001b[0;34m\u001b[0m\u001b[0;34m\u001b[0m\u001b[0m\n\u001b[0m\u001b[1;32m    947\u001b[0m         \u001b[0;32mreturn\u001b[0m \u001b[0mcollector\u001b[0m\u001b[0;34m.\u001b[0m\u001b[0mdelete\u001b[0m\u001b[0;34m(\u001b[0m\u001b[0;34m)\u001b[0m\u001b[0;34m\u001b[0m\u001b[0;34m\u001b[0m\u001b[0m\n\u001b[1;32m    948\u001b[0m \u001b[0;34m\u001b[0m\u001b[0m\n",
      "\u001b[0;32m~/.venvs/flourish/lib/python3.9/site-packages/django/db/models/deletion.py\u001b[0m in \u001b[0;36mcollect\u001b[0;34m(self, objs, source, nullable, collect_related, source_attr, reverse_dependency, keep_parents, fail_on_restricted)\u001b[0m\n\u001b[1;32m    300\u001b[0m                         \u001b[0mprotected_objects\u001b[0m\u001b[0;34m[\u001b[0m\u001b[0mkey\u001b[0m\u001b[0;34m]\u001b[0m \u001b[0;34m+=\u001b[0m \u001b[0merror\u001b[0m\u001b[0;34m.\u001b[0m\u001b[0mprotected_objects\u001b[0m\u001b[0;34m\u001b[0m\u001b[0;34m\u001b[0m\u001b[0m\n\u001b[1;32m    301\u001b[0m         \u001b[0;32mif\u001b[0m \u001b[0mprotected_objects\u001b[0m\u001b[0;34m:\u001b[0m\u001b[0;34m\u001b[0m\u001b[0;34m\u001b[0m\u001b[0m\n\u001b[0;32m--> 302\u001b[0;31m             raise ProtectedError(\n\u001b[0m\u001b[1;32m    303\u001b[0m                 \u001b[0;34m'Cannot delete some instances of model %r because they are '\u001b[0m\u001b[0;34m\u001b[0m\u001b[0;34m\u001b[0m\u001b[0m\n\u001b[1;32m    304\u001b[0m                 'referenced through protected foreign keys: %s.' % (\n",
      "\u001b[0;31mProtectedError\u001b[0m: (\"Cannot delete some instances of model 'SubjectConsent' because they are referenced through protected foreign keys: 'CaregiverChildConsent.subject_consent'.\", {<CaregiverChildConsent: CaregiverChildConsent object (91695b72-370a-4f72-92c4-85599b600353)>})"
     ]
    }
   ],
   "source": [
    "subject_consent.delete()"
   ]
  },
  {
   "cell_type": "code",
   "execution_count": 7,
   "id": "b96acbb7",
   "metadata": {},
   "outputs": [],
   "source": [
    "screening_objs= ScreeningPregWomen.objects.all()"
   ]
  },
  {
   "cell_type": "code",
   "execution_count": 8,
   "id": "a815ecc0",
   "metadata": {},
   "outputs": [],
   "source": [
    "for screening in screening_objs:\n",
    "    consent_obj = SubjectConsent.objects.get(\n",
    "                    screening_identifier=screening.screening_identifier)\n",
    "    screening.subject_identifier = consent_obj.subject_identifier\n",
    "    screening.save()\n",
    "\n",
    "    "
   ]
  },
  {
   "cell_type": "code",
   "execution_count": null,
   "id": "dad00ee2",
   "metadata": {},
   "outputs": [],
   "source": [
    "441"
   ]
  }
 ],
 "metadata": {
  "kernelspec": {
   "display_name": "Django Shell-Plus",
   "language": "python",
   "name": "django_extensions"
  },
  "language_info": {
   "codemirror_mode": {
    "name": "ipython",
    "version": 3
   },
   "file_extension": ".py",
   "mimetype": "text/x-python",
   "name": "python",
   "nbconvert_exporter": "python",
   "pygments_lexer": "ipython3",
   "version": "3.9.9"
  }
 },
 "nbformat": 4,
 "nbformat_minor": 5
}
