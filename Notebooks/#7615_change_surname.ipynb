{
 "cells": [
  {
   "cell_type": "code",
   "execution_count": null,
   "metadata": {},
   "outputs": [],
   "source": [
    "import os, sys\n",
    "import django\n",
    "from datetime import datetime\n",
    "sys.path.append('../..') # add path to project root dir\n",
    "os.environ[\"DJANGO_SETTINGS_MODULE\"] = \"flourish.settings\"\n",
    "from django.apps import apps as django_apps\n",
    "os.environ[\"DJANGO_ALLOW_ASYNC_UNSAFE\"] = \"true\"\n",
    "from django.apps import apps as django_apps\n",
    "\n",
    "django.setup()"
   ]
  },
  {
   "cell_type": "code",
   "execution_count": null,
   "metadata": {},
   "outputs": [],
   "source": [
    "from flourish_caregiver.models import SubjectConsent\n",
    "pid = 'B142-040990094-0'\n",
    "last_name = 'LELOKWANE'\n",
    "try:\n",
    "    subject_consent = SubjectConsent.objects.get(subject_identifier = pid,version =4)\n",
    "except SubjectConsent.DoesNotExist:\n",
    "    pass\n",
    "else:\n",
    "    subject_consent.last_name = last_name\n",
    "    subject_consent.save()"
   ]
  }
 ],
 "metadata": {
  "language_info": {
   "name": "python"
  },
  "orig_nbformat": 4
 },
 "nbformat": 4,
 "nbformat_minor": 2
}
