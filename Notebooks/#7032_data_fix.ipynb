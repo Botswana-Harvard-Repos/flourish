{
 "cells": [
  {
   "cell_type": "code",
   "execution_count": 57,
   "id": "600b23a7",
   "metadata": {},
   "outputs": [],
   "source": [
    "import os \n",
    "import pandas as pd\n",
    "from django.apps import apps as django_apps\n",
    "from django.core.exceptions import ValidationError\n",
    "os.environ[\"DJANGO_ALLOW_ASYNC_UNSAFE\"] = \"true\""
   ]
  },
  {
   "cell_type": "markdown",
   "id": "a7b01ffe",
   "metadata": {},
   "source": [
    "## Data Fix for PID B142-040990022-1 & B142-040990022-1-60\n",
    "\n",
    "Remove schedule with 2000M & 2000, including the CRFs and PRNs (Enrollment schedules)\n",
    "\n",
    "**NB: Leave other schedules**\n"
   ]
  },
  {
   "cell_type": "code",
   "execution_count": 58,
   "id": "ee3c3f90",
   "metadata": {},
   "outputs": [],
   "source": [
    "from edc_appointment.models import Appointment as CaregiverAppointment\n",
    "from flourish_child.models import Appointment as ChildAppointment\n",
    "from django.core.exceptions import ObjectDoesNotExist\n",
    "\n",
    "caregiver_subject_identifier = 'B142-040990022-1'\n",
    "child_subject_identifier = 'B142-040990022-1-60'"
   ]
  },
  {
   "cell_type": "markdown",
   "id": "202e895a",
   "metadata": {},
   "source": [
    "### CAREGIVER DATA FIX"
   ]
  },
  {
   "cell_type": "code",
   "execution_count": 59,
   "id": "cc0e9855",
   "metadata": {},
   "outputs": [],
   "source": [
    "\n",
    "try:\n",
    "    onschedule_instance = OnScheduleCohortAEnrollment.objects.get(\n",
    "        subject_identifier = caregiver_subject_identifier,\n",
    "        child_subject_identifier = child_subject_identifier)\n",
    "\n",
    "    subject_history_instance = SubjectScheduleHistory.objects.get(\n",
    "        subject_identifier = caregiver_subject_identifier,\n",
    "        onschedule_model = 'flourish_caregiver.onschedulecohortaenrollment')\n",
    "\n",
    "    appointment = CaregiverAppointment.objects.get(\n",
    "        subject_identifier = caregiver_subject_identifier,\n",
    "        visit_code = '2000M',\n",
    "        schedule_name = 'a_enrol2_schedule1',\n",
    "        visit_code_sequence = '0')\n",
    "\n",
    "except ObjectDoesNotExist:\n",
    "    pass\n",
    "else:\n",
    "    appointment.delete()\n",
    "    onschedule_instance.delete()\n",
    "    subject_history_instance.delete()"
   ]
  },
  {
   "cell_type": "markdown",
   "id": "d6d3175b",
   "metadata": {},
   "source": [
    "### CHILD DATA FIX"
   ]
  },
  {
   "cell_type": "code",
   "execution_count": 60,
   "id": "652c9360",
   "metadata": {},
   "outputs": [],
   "source": [
    "child_onschedule_instance = OnScheduleChildCohortAEnrollment.objects.filter(\n",
    "    subject_identifier = child_subject_identifier,)\n",
    "\n",
    "child_subject_history_instance = SubjectScheduleHistory.objects.filter(\n",
    "    subject_identifier = child_subject_identifier,\n",
    "    onschedule_model = 'flourish_child.onschedulechildcohortaenrollment')\n",
    "\n",
    "try:\n",
    "\n",
    "    child_appointment = ChildAppointment.objects.get(\n",
    "        subject_identifier = child_subject_identifier,\n",
    "        schedule_name = 'child_a_enrol_schedule1',\n",
    "        visit_code = '2000',\n",
    "        visit_code_sequence = '0')\n",
    "    \n",
    "    child_visit = ChildVisit.objects.get(\n",
    "        appointment = child_appointment)\n",
    "    \n",
    "except (ChildAppointment.DoesNotExist, \n",
    "        ChildVisit.DoesNotExist):\n",
    "    pass\n",
    "else:\n",
    "\n",
    "    child_requisitions = ChildRequisition.objects.filter(\n",
    "     child_visit = child_visit)\n",
    "\n",
    "    child_requisitions.delete()\n",
    "    child_visit.delete() \n",
    "    child_appointment.delete()\n",
    "    child_onschedule_instance.delete()\n",
    "    child_subject_history_instance.delete()"
   ]
  },
  {
   "cell_type": "code",
   "execution_count": null,
   "id": "a69b65af",
   "metadata": {},
   "outputs": [],
   "source": []
  },
  {
   "cell_type": "code",
   "execution_count": null,
   "id": "b09d8d77",
   "metadata": {},
   "outputs": [],
   "source": []
  }
 ],
 "metadata": {
  "kernelspec": {
   "display_name": "Django Shell-Plus",
   "language": "python",
   "name": "django_extensions"
  },
  "language_info": {
   "codemirror_mode": {
    "name": "ipython",
    "version": 3
   },
   "file_extension": ".py",
   "mimetype": "text/x-python",
   "name": "python",
   "nbconvert_exporter": "python",
   "pygments_lexer": "ipython3",
   "version": "3.11.3"
  }
 },
 "nbformat": 4,
 "nbformat_minor": 5
}
