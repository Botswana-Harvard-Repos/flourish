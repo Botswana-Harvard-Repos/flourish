{
 "cells": [
  {
   "cell_type": "code",
   "execution_count": 1,
   "id": "5acd5e83",
   "metadata": {},
   "outputs": [],
   "source": [
    "# Imports\n",
    "import os \n",
    "import pandas as pd\n",
    "from django.core.exceptions import ValidationError\n",
    "os.environ[\"DJANGO_ALLOW_ASYNC_UNSAFE\"] = \"true\"\n",
    "from datetime import date\n",
    "data_path = '/Users/imosweu/'"
   ]
  },
  {
   "cell_type": "code",
   "execution_count": 9,
   "id": "246d1c65",
   "metadata": {},
   "outputs": [
    {
     "name": "stdout",
     "output_type": "stream",
     "text": [
      "2021-10-14 08:04:09.215238+00:00\n",
      "2021-11-08 08:29:43.462071+00:00\n",
      "2021-12-08 06:25:57.754284+00:00\n",
      "2021-12-14 07:42:51.151023+00:00\n",
      "2022-01-13 07:12:02.335549+00:00\n",
      "2022-02-07 09:10:44.799881+00:00\n",
      "2022-02-21 08:36:05.982077+00:00\n",
      "2022-03-01 08:58:27.158375+00:00\n",
      "2022-03-08 07:58:07.955510+00:00\n",
      "2022-03-11 07:40:53.898287+00:00\n",
      "2022-07-20 07:45:55.833044+00:00\n",
      "2022-07-22 09:38:26.391736+00:00\n",
      "2022-08-15 08:24:33.104225+00:00\n",
      "2022-08-29 07:57:55.628571+00:00\n",
      "2022-09-01 06:57:43.069994+00:00\n",
      "/Users/imosweu/flourish_caregiver.caregiveredinburghreferral.csv\n"
     ]
    }
   ],
   "source": [
    "cer = CaregiverEdinburghReferral.objects.all()\n",
    "cer.count()\n",
    "cer[0].__dict__\n",
    "\n",
    "\n",
    "edinburg_ref_data = []\n",
    "edinburg_file_path = data_path + CaregiverEdinburghReferral._meta.label_lower + '.csv'\n",
    "for obj in cer:\n",
    "    data = obj.__dict__\n",
    "    edinburg_ref_data.append(data)\n",
    "    print(obj.modified)\n",
    "    \n",
    "df_edinburg_crf = pd.DataFrame(edinburg_ref_data)\n",
    "print(edinburg_file_path)\n",
    "df_edinburg_crf.to_csv(edinburg_file_path, sep='|', encoding='utf-8')"
   ]
  },
  {
   "cell_type": "code",
   "execution_count": 10,
   "id": "642d2853",
   "metadata": {},
   "outputs": [
    {
     "name": "stdout",
     "output_type": "stream",
     "text": [
      "2021-06-07 09:16:54.836969+00:00\n",
      "2021-08-16 10:22:13.685628+00:00\n",
      "2021-10-12 08:57:33.533784+00:00\n",
      "2021-10-28 08:13:45.701566+00:00\n",
      "2021-11-03 09:15:44.242236+00:00\n",
      "2021-11-29 08:18:07.430387+00:00\n",
      "2022-01-12 07:12:13.952878+00:00\n",
      "/Users/imosweu/flourish_caregiver.caregivergadreferral.csv\n"
     ]
    }
   ],
   "source": [
    "CaregiverGadReferral.objects.count()\n",
    "\n",
    "cgr = CaregiverGadReferral.objects.all()\n",
    "cgr.count()\n",
    "cgr[0].__dict__\n",
    "\n",
    "gad_ref_data = []\n",
    "gad_file_path = data_path + CaregiverGadReferral._meta.label_lower + '.csv'\n",
    "for gobj in cgr:\n",
    "    gdata = gobj.__dict__\n",
    "    gad_ref_data.append(gdata)\n",
    "    print(gobj.modified)\n",
    "    \n",
    "df_gad_crf = pd.DataFrame(gad_ref_data)\n",
    "print(gad_file_path)\n",
    "df_gad_crf.to_csv(gad_file_path, sep='|', encoding='utf-8')"
   ]
  },
  {
   "cell_type": "code",
   "execution_count": 11,
   "id": "7ddcc0ce",
   "metadata": {},
   "outputs": [],
   "source": [
    "CaregiverHamdReferral.objects.count()\n",
    "\n",
    "for a in CaregiverHamdReferral.objects.all():\n",
    "    print(a.modified)"
   ]
  },
  {
   "cell_type": "code",
   "execution_count": 12,
   "id": "eb768343",
   "metadata": {},
   "outputs": [
    {
     "name": "stdout",
     "output_type": "stream",
     "text": [
      "2021-05-28 11:21:27.044524+00:00\n",
      "2021-06-01 07:31:32.031065+00:00\n",
      "2021-06-03 06:26:37.744618+00:00\n",
      "2021-06-04 08:34:00.302177+00:00\n",
      "2021-06-07 09:16:49.709627+00:00\n",
      "2021-06-18 07:38:53.159152+00:00\n",
      "2021-06-23 06:41:28.939359+00:00\n",
      "2021-06-24 07:00:28.659426+00:00\n",
      "2021-07-07 10:47:47.060048+00:00\n",
      "2021-07-13 06:43:34.173218+00:00\n",
      "2021-07-14 10:47:06.203197+00:00\n",
      "2021-07-27 07:04:32.686444+00:00\n",
      "2021-07-27 07:06:01.964829+00:00\n",
      "2021-07-30 07:54:25.155368+00:00\n",
      "2021-08-16 10:19:12.429934+00:00\n",
      "2021-08-19 08:20:36.304145+00:00\n",
      "2021-08-19 09:51:14.394327+00:00\n",
      "2021-08-24 10:32:42.943031+00:00\n",
      "2021-08-25 07:30:03.256586+00:00\n",
      "2021-09-03 08:57:25.024285+00:00\n",
      "2021-10-11 06:44:17.077831+00:00\n",
      "2021-10-11 09:50:44.908228+00:00\n",
      "2021-10-12 08:50:11.698085+00:00\n",
      "2021-10-14 09:16:34.656424+00:00\n",
      "2021-10-15 07:34:35.840776+00:00\n",
      "2021-10-22 10:31:07.070874+00:00\n",
      "2021-10-28 08:13:28.515472+00:00\n",
      "2021-11-01 09:17:46.229674+00:00\n",
      "2021-11-03 09:07:37.986044+00:00\n",
      "2021-11-05 09:01:49.610518+00:00\n",
      "2021-11-09 07:11:05.467902+00:00\n",
      "2021-11-12 08:54:39.866165+00:00\n",
      "2021-11-12 09:47:20.926354+00:00\n",
      "2021-11-15 06:51:18.117773+00:00\n",
      "2021-11-16 07:32:34.334027+00:00\n",
      "2021-11-17 09:16:06.356797+00:00\n",
      "2021-11-17 11:08:59.584863+00:00\n",
      "2021-11-18 06:13:28.763113+00:00\n",
      "2021-11-26 07:13:54.224908+00:00\n",
      "2021-11-29 08:16:38.663207+00:00\n",
      "2021-11-29 08:23:58.420460+00:00\n",
      "2021-11-30 10:13:47.489840+00:00\n",
      "2021-12-01 06:14:40.053599+00:00\n",
      "2021-12-02 10:36:20.493417+00:00\n",
      "2021-12-06 06:46:02.977325+00:00\n",
      "2021-12-09 06:55:19.588652+00:00\n",
      "2021-12-09 08:03:09.373713+00:00\n",
      "2021-12-15 06:31:16.475638+00:00\n",
      "2021-12-15 07:25:25.350089+00:00\n",
      "2021-12-15 10:31:37.322346+00:00\n",
      "2021-12-16 06:36:50.389735+00:00\n",
      "2022-01-12 07:08:47.699867+00:00\n",
      "2022-01-18 07:05:05.019503+00:00\n",
      "2022-01-25 08:00:14.406440+00:00\n",
      "2022-02-09 07:57:34.054343+00:00\n",
      "2022-02-15 06:55:09.396200+00:00\n",
      "2022-02-25 09:18:51.073960+00:00\n",
      "2022-03-01 08:03:16.049870+00:00\n",
      "2022-03-08 06:16:27.997800+00:00\n",
      "2022-03-08 10:19:55.846284+00:00\n",
      "2022-03-25 11:04:51.675272+00:00\n",
      "2022-03-25 14:13:28.968477+00:00\n",
      "2022-03-29 13:04:08.152715+00:00\n",
      "2022-04-13 09:02:33.250879+00:00\n",
      "2022-04-22 09:13:15.008305+00:00\n",
      "2022-04-28 10:19:58.102774+00:00\n",
      "2022-04-29 07:57:14.389612+00:00\n",
      "2022-05-03 06:49:28.428592+00:00\n",
      "2022-05-03 08:09:09.488124+00:00\n",
      "2022-05-04 10:06:26.223766+00:00\n",
      "2022-05-18 10:10:58.693571+00:00\n",
      "2022-05-23 08:52:28.429621+00:00\n",
      "2022-05-23 12:30:00.322107+00:00\n",
      "2022-06-13 06:54:23.988300+00:00\n",
      "2022-06-13 07:50:22.928294+00:00\n",
      "2022-06-13 07:59:23.646605+00:00\n",
      "2022-06-16 07:41:40.518633+00:00\n",
      "2022-06-16 08:22:16.414421+00:00\n",
      "2022-06-17 08:37:45.621327+00:00\n",
      "2022-06-30 08:36:45.185937+00:00\n",
      "2022-07-11 09:58:20.505594+00:00\n",
      "2022-07-22 08:26:55.640132+00:00\n",
      "2022-08-05 07:55:40.280337+00:00\n",
      "2022-08-10 10:20:28.528608+00:00\n",
      "2022-08-11 10:13:53.465115+00:00\n",
      "2022-08-17 06:39:40.538886+00:00\n",
      "2022-08-23 07:18:18.473159+00:00\n",
      "2022-08-24 10:02:28.518951+00:00\n",
      "2022-08-29 09:07:49.772941+00:00\n",
      "2022-09-13 08:01:48.867734+00:00\n",
      "2022-09-19 06:36:34.022925+00:00\n",
      "2022-09-21 09:24:13.294355+00:00\n",
      "2022-09-23 09:43:57.964339+00:00\n",
      "2022-09-27 07:42:33.949029+00:00\n",
      "2022-09-29 08:24:52.032500+00:00\n",
      "2022-10-10 08:48:30.554782+00:00\n",
      "2022-10-11 10:12:07.925376+00:00\n",
      "2022-10-12 10:38:22.915682+00:00\n",
      "2022-10-12 12:47:23.478813+00:00\n",
      "2022-10-21 09:21:05.799639+00:00\n",
      "2022-10-25 09:37:32.220034+00:00\n",
      "2022-10-31 06:53:40.438961+00:00\n",
      "/Users/imosweu/flourish_caregiver.caregiverphqreferral.csv\n"
     ]
    }
   ],
   "source": [
    "CaregiverPhqReferral.objects.count()\n",
    "\n",
    "cpr = CaregiverPhqReferral.objects.all()\n",
    "cpr.count()\n",
    "cpr[0].__dict__\n",
    "\n",
    "phq_ref_data = []\n",
    "phq_file_path = data_path + CaregiverPhqReferral._meta.label_lower + '.csv'\n",
    "for pobj in cpr:\n",
    "    pdata = pobj.__dict__\n",
    "    phq_ref_data.append(pdata)\n",
    "    print(pobj.modified)\n",
    "    \n",
    "df_phq_crf = pd.DataFrame(phq_ref_data)\n",
    "print(phq_file_path)\n",
    "df_phq_crf.to_csv(phq_file_path, sep='|', encoding='utf-8')\n",
    "\n"
   ]
  },
  {
   "cell_type": "code",
   "execution_count": 13,
   "id": "1d0aa803",
   "metadata": {},
   "outputs": [],
   "source": [
    "ChildGadReferral.objects.count()\n",
    "\n",
    "for a in ChildGadReferral.objects.all():\n",
    "    print(a.modified)"
   ]
  },
  {
   "cell_type": "code",
   "execution_count": 15,
   "id": "a402e35b",
   "metadata": {},
   "outputs": [
    {
     "name": "stdout",
     "output_type": "stream",
     "text": [
      "2021-10-25 07:02:52.034927+00:00\n",
      "/Users/imosweu/flourish_child.childphqreferral.csv\n"
     ]
    }
   ],
   "source": [
    "ChildPhqReferral.objects.count()\n",
    "\n",
    "chpr = ChildPhqReferral.objects.all()\n",
    "chpr.count()\n",
    "chpr[0].__dict__\n",
    "\n",
    "cphq_ref_data = []\n",
    "cphq_file_path = data_path + ChildPhqReferral._meta.label_lower + '.csv'\n",
    "for cpobj in chpr:\n",
    "    cpdata = cpobj.__dict__\n",
    "    cphq_ref_data.append(cpdata)\n",
    "    print(cpobj.modified)\n",
    "    \n",
    "df_cphq_crf = pd.DataFrame(cphq_ref_data)\n",
    "print(cphq_file_path)\n",
    "df_cphq_crf.to_csv(cphq_file_path, sep='|', encoding='utf-8')"
   ]
  },
  {
   "cell_type": "code",
   "execution_count": null,
   "id": "21ffc43b",
   "metadata": {},
   "outputs": [],
   "source": []
  },
  {
   "cell_type": "code",
   "execution_count": null,
   "id": "d82e7dc8",
   "metadata": {},
   "outputs": [],
   "source": [
    "#Restore Referral Data"
   ]
  },
  {
   "cell_type": "code",
   "execution_count": 2,
   "id": "c507c458",
   "metadata": {},
   "outputs": [
    {
     "ename": "DoesNotExist",
     "evalue": "CaregiverPhqReferral matching query does not exist.",
     "output_type": "error",
     "traceback": [
      "\u001b[0;31m---------------------------------------------------------------------------\u001b[0m",
      "\u001b[0;31mDoesNotExist\u001b[0m                              Traceback (most recent call last)",
      "\u001b[0;32m<ipython-input-2-1bcf1d8b02e8>\u001b[0m in \u001b[0;36m<module>\u001b[0;34m\u001b[0m\n\u001b[1;32m      2\u001b[0m \u001b[0;34m\u001b[0m\u001b[0m\n\u001b[1;32m      3\u001b[0m \u001b[0;32mfor\u001b[0m \u001b[0mg\u001b[0m \u001b[0;32min\u001b[0m \u001b[0mfus\u001b[0m\u001b[0;34m:\u001b[0m\u001b[0;34m\u001b[0m\u001b[0;34m\u001b[0m\u001b[0m\n\u001b[0;32m----> 4\u001b[0;31m     phq_obj = CaregiverPhqReferral.objects.get(maternal_visit__subject_identifier=g[0],\n\u001b[0m\u001b[1;32m      5\u001b[0m                                               maternal_visit__visit_code=g[1])\n\u001b[1;32m      6\u001b[0m \u001b[0;34m\u001b[0m\u001b[0m\n",
      "\u001b[0;32m~/.venvs/flourish-live/lib/python3.9/site-packages/django/db/models/manager.py\u001b[0m in \u001b[0;36mmanager_method\u001b[0;34m(self, *args, **kwargs)\u001b[0m\n\u001b[1;32m     83\u001b[0m         \u001b[0;32mdef\u001b[0m \u001b[0mcreate_method\u001b[0m\u001b[0;34m(\u001b[0m\u001b[0mname\u001b[0m\u001b[0;34m,\u001b[0m \u001b[0mmethod\u001b[0m\u001b[0;34m)\u001b[0m\u001b[0;34m:\u001b[0m\u001b[0;34m\u001b[0m\u001b[0;34m\u001b[0m\u001b[0m\n\u001b[1;32m     84\u001b[0m             \u001b[0;32mdef\u001b[0m \u001b[0mmanager_method\u001b[0m\u001b[0;34m(\u001b[0m\u001b[0mself\u001b[0m\u001b[0;34m,\u001b[0m \u001b[0;34m*\u001b[0m\u001b[0margs\u001b[0m\u001b[0;34m,\u001b[0m \u001b[0;34m**\u001b[0m\u001b[0mkwargs\u001b[0m\u001b[0;34m)\u001b[0m\u001b[0;34m:\u001b[0m\u001b[0;34m\u001b[0m\u001b[0;34m\u001b[0m\u001b[0m\n\u001b[0;32m---> 85\u001b[0;31m                 \u001b[0;32mreturn\u001b[0m \u001b[0mgetattr\u001b[0m\u001b[0;34m(\u001b[0m\u001b[0mself\u001b[0m\u001b[0;34m.\u001b[0m\u001b[0mget_queryset\u001b[0m\u001b[0;34m(\u001b[0m\u001b[0;34m)\u001b[0m\u001b[0;34m,\u001b[0m \u001b[0mname\u001b[0m\u001b[0;34m)\u001b[0m\u001b[0;34m(\u001b[0m\u001b[0;34m*\u001b[0m\u001b[0margs\u001b[0m\u001b[0;34m,\u001b[0m \u001b[0;34m**\u001b[0m\u001b[0mkwargs\u001b[0m\u001b[0;34m)\u001b[0m\u001b[0;34m\u001b[0m\u001b[0;34m\u001b[0m\u001b[0m\n\u001b[0m\u001b[1;32m     86\u001b[0m             \u001b[0mmanager_method\u001b[0m\u001b[0;34m.\u001b[0m\u001b[0m__name__\u001b[0m \u001b[0;34m=\u001b[0m \u001b[0mmethod\u001b[0m\u001b[0;34m.\u001b[0m\u001b[0m__name__\u001b[0m\u001b[0;34m\u001b[0m\u001b[0;34m\u001b[0m\u001b[0m\n\u001b[1;32m     87\u001b[0m             \u001b[0mmanager_method\u001b[0m\u001b[0;34m.\u001b[0m\u001b[0m__doc__\u001b[0m \u001b[0;34m=\u001b[0m \u001b[0mmethod\u001b[0m\u001b[0;34m.\u001b[0m\u001b[0m__doc__\u001b[0m\u001b[0;34m\u001b[0m\u001b[0;34m\u001b[0m\u001b[0m\n",
      "\u001b[0;32m~/.venvs/flourish-live/lib/python3.9/site-packages/cacheops/query.py\u001b[0m in \u001b[0;36mget\u001b[0;34m(self, *args, **kwargs)\u001b[0m\n\u001b[1;32m    351\u001b[0m             \u001b[0mqs\u001b[0m \u001b[0;34m=\u001b[0m \u001b[0mself\u001b[0m\u001b[0;34m\u001b[0m\u001b[0;34m\u001b[0m\u001b[0m\n\u001b[1;32m    352\u001b[0m \u001b[0;34m\u001b[0m\u001b[0m\n\u001b[0;32m--> 353\u001b[0;31m         \u001b[0;32mreturn\u001b[0m \u001b[0mqs\u001b[0m\u001b[0;34m.\u001b[0m\u001b[0m_no_monkey\u001b[0m\u001b[0;34m.\u001b[0m\u001b[0mget\u001b[0m\u001b[0;34m(\u001b[0m\u001b[0mqs\u001b[0m\u001b[0;34m,\u001b[0m \u001b[0;34m*\u001b[0m\u001b[0margs\u001b[0m\u001b[0;34m,\u001b[0m \u001b[0;34m**\u001b[0m\u001b[0mkwargs\u001b[0m\u001b[0;34m)\u001b[0m\u001b[0;34m\u001b[0m\u001b[0;34m\u001b[0m\u001b[0m\n\u001b[0m\u001b[1;32m    354\u001b[0m \u001b[0;34m\u001b[0m\u001b[0m\n\u001b[1;32m    355\u001b[0m     \u001b[0;32mdef\u001b[0m \u001b[0mfirst\u001b[0m\u001b[0;34m(\u001b[0m\u001b[0mself\u001b[0m\u001b[0;34m)\u001b[0m\u001b[0;34m:\u001b[0m\u001b[0;34m\u001b[0m\u001b[0;34m\u001b[0m\u001b[0m\n",
      "\u001b[0;32m~/.venvs/flourish-live/lib/python3.9/site-packages/django/db/models/query.py\u001b[0m in \u001b[0;36mget\u001b[0;34m(self, *args, **kwargs)\u001b[0m\n\u001b[1;32m    427\u001b[0m             \u001b[0;32mreturn\u001b[0m \u001b[0mclone\u001b[0m\u001b[0;34m.\u001b[0m\u001b[0m_result_cache\u001b[0m\u001b[0;34m[\u001b[0m\u001b[0;36m0\u001b[0m\u001b[0;34m]\u001b[0m\u001b[0;34m\u001b[0m\u001b[0;34m\u001b[0m\u001b[0m\n\u001b[1;32m    428\u001b[0m         \u001b[0;32mif\u001b[0m \u001b[0;32mnot\u001b[0m \u001b[0mnum\u001b[0m\u001b[0;34m:\u001b[0m\u001b[0;34m\u001b[0m\u001b[0;34m\u001b[0m\u001b[0m\n\u001b[0;32m--> 429\u001b[0;31m             raise self.model.DoesNotExist(\n\u001b[0m\u001b[1;32m    430\u001b[0m                 \u001b[0;34m\"%s matching query does not exist.\"\u001b[0m \u001b[0;34m%\u001b[0m\u001b[0;34m\u001b[0m\u001b[0;34m\u001b[0m\u001b[0m\n\u001b[1;32m    431\u001b[0m                 \u001b[0mself\u001b[0m\u001b[0;34m.\u001b[0m\u001b[0mmodel\u001b[0m\u001b[0;34m.\u001b[0m\u001b[0m_meta\u001b[0m\u001b[0;34m.\u001b[0m\u001b[0mobject_name\u001b[0m\u001b[0;34m\u001b[0m\u001b[0;34m\u001b[0m\u001b[0m\n",
      "\u001b[0;31mDoesNotExist\u001b[0m: CaregiverPhqReferral matching query does not exist."
     ]
    }
   ],
   "source": [
    "fus = [['B142-040990901-6', '2001M'], ['B142-040990906-5', '2001M']]\n",
    "\n",
    "for g in fus:\n",
    "    phq_obj = CaregiverPhqReferral.objects.get(maternal_visit__subject_identifier=g[0],\n",
    "                                              maternal_visit__visit_code=g[1])\n",
    "    \n",
    "    \n",
    "    \n",
    "    phq_dict = phq_obj.__dict__\n",
    "    from pprint import pprint\n",
    "    pprint(phq_dict)\n",
    "    del phq_dict['_state']\n",
    "    del phq_dict['id']\n",
    "    \n",
    "#     CaregiverPhqReferralFU.objects.create(**phq_dict)\n"
   ]
  },
  {
   "cell_type": "code",
   "execution_count": 7,
   "id": "2cf1345b",
   "metadata": {},
   "outputs": [
    {
     "data": {
      "text/plain": [
       "(208,\n",
       " {'flourish_caregiver.CaregiverPhqReferral': 104,\n",
       "  'flourish_caregiver.ReferralFormMixin': 104})"
      ]
     },
     "execution_count": 7,
     "metadata": {},
     "output_type": "execute_result"
    }
   ],
   "source": [
    "CaregiverEdinburghReferral.objects.all().delete()\n",
    "CaregiverGadReferral.objects.all().delete()\n",
    "CaregiverHamdReferral.objects.all().delete()\n",
    "CaregiverPhqReferral.objects.all().delete()"
   ]
  },
  {
   "cell_type": "code",
   "execution_count": null,
   "id": "c1fc1dc0",
   "metadata": {},
   "outputs": [],
   "source": []
  }
 ],
 "metadata": {
  "kernelspec": {
   "display_name": "Django Shell-Plus",
   "language": "python",
   "name": "django_extensions"
  },
  "language_info": {
   "codemirror_mode": {
    "name": "ipython",
    "version": 3
   },
   "file_extension": ".py",
   "mimetype": "text/x-python",
   "name": "python",
   "nbconvert_exporter": "python",
   "pygments_lexer": "ipython3",
   "version": "3.9.0"
  }
 },
 "nbformat": 4,
 "nbformat_minor": 5
}
