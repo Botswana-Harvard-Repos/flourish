{
 "cells": [
  {
   "cell_type": "code",
   "execution_count": null,
   "id": "85aad51f",
   "metadata": {},
   "outputs": [],
   "source": [
    "# Imports\n",
    "import os \n",
    "import pandas as pd\n",
    "from django.core.exceptions import ValidationError\n",
    "os.environ[\"DJANGO_ALLOW_ASYNC_UNSAFE\"] = \"true\"\n",
    "from datetime import date"
   ]
  },
  {
   "cell_type": "code",
   "execution_count": null,
   "id": "24467bcb",
   "metadata": {},
   "outputs": [],
   "source": [
    "##Maternal Window\n",
    "from edc_appointment.models import Appointment\n",
    "\n",
    "subject_identifier = 'B142-040990037-9'\n",
    "\n",
    "ons = OnScheduleCohortBSecQuart.objects.get(subject_identifier=subject_identifier)\n",
    "\n",
    "sn = ons.schedule_name\n",
    "ons.schedule_name = ons.schedule_name + 'x'\n",
    "ons.save()\n",
    "\n",
    "apps = Appointment.objects.filter(subject_identifier=subject_identifier,\n",
    "                                  schedule_name=sn)\n",
    "\n",
    "for ap0 in apps:\n",
    "\n",
    "    ap0.schedule_name = ons.schedule_name\n",
    "    ap0.save()\n",
    "\n",
    "# resave enroll visit\n",
    "\n",
    "cpe = CaregiverPreviouslyEnrolled.objects.get(subject_identifier=subject_identifier, visit_code='2000M')\n",
    "\n",
    "cpe.save()\n",
    "\n",
    "ap1 = Appointment.objects.get(subject_identifier=subject_identifier,\n",
    "                              visit_code='2000M', schedule_name=sn)\n",
    "ap0 = Appointment.objects.get(subject_identifier=subject_identifier,\n",
    "                              visit_code='2000M', schedule_name=ons.schedule_name)\n",
    "\n",
    "ap1.user_modified = ap0.user_modified\n",
    "ap1.appt_status = ap0.appt_status\n",
    "ap1.appt_reason = ap0.appt_reason\n",
    "ap1.appt_datetime = ap0.appt_datetime\n",
    "\n",
    "ap1.save()\n",
    "\n",
    "try:\n",
    "    v1 = MaternalVisit.objects.get(appointment=ap0)\n",
    "    v1.appointment = ap1\n",
    "    v1.save()\n",
    "except:\n",
    "    pass\n",
    "\n",
    "apps.delete()\n",
    "ons.delete()"
   ]
  },
  {
   "cell_type": "code",
   "execution_count": null,
   "id": "13fc6818",
   "metadata": {},
   "outputs": [],
   "source": []
  }
 ],
 "metadata": {
  "kernelspec": {
   "display_name": "Django Shell-Plus",
   "language": "python",
   "name": "django_extensions"
  },
  "language_info": {
   "codemirror_mode": {
    "name": "ipython",
    "version": 3
   },
   "file_extension": ".py",
   "mimetype": "text/x-python",
   "name": "python",
   "nbconvert_exporter": "python",
   "pygments_lexer": "ipython3",
   "version": "3.9.0"
  }
 },
 "nbformat": 4,
 "nbformat_minor": 5
}
