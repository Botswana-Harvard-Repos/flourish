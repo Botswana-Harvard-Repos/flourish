{
 "cells": [
  {
   "cell_type": "code",
   "execution_count": 12,
   "id": "6f730233",
   "metadata": {},
   "outputs": [],
   "source": [
    "import os\n",
    "import pytz\n",
    "os.environ[\"DJANGO_ALLOW_ASYNC_UNSAFE\"] = \"true\""
   ]
  },
  {
   "cell_type": "code",
   "execution_count": 13,
   "id": "cffec477",
   "metadata": {},
   "outputs": [],
   "source": [
    "from edc_visit_schedule.site_visit_schedules import site_visit_schedules\n",
    "tz = pytz.timezone('Africa/Gaborone')\n",
    "\n",
    "subject_identifier = 'C142-040990749-9-10'\n",
    "onsch = OnScheduleChildCohortCFUQuart.objects.get(subject_identifier=subject_identifier)\n",
    "ssh = SubjectScheduleHistory.objects.get(\n",
    "    subject_identifier=subject_identifier, schedule_name=onsch.schedule_name)\n",
    "visit = ChildVisit.objects.get(subject_identifier=subject_identifier, visit_code='3000')\n",
    "dt = visit.report_datetime.astimezone(tz)\n",
    "\n",
    "_, schedule = site_visit_schedules.get_by_onschedule_model_schedule_name(\n",
    "    onschedule_model=ssh.onschedule_model, name=ssh.schedule_name)\n",
    "schedule.put_on_schedule(\n",
    "    subject_identifier=onsch.subject_identifier, onschedule_datetime=dt,\n",
    "    schedule_name=onsch.schedule_name, base_appt_datetime=dt)"
   ]
  },
  {
   "cell_type": "code",
   "execution_count": 15,
   "id": "0f88526e",
   "metadata": {},
   "outputs": [
    {
     "data": {
      "text/plain": [
       "(1, {'edc_visit_schedule.SubjectScheduleHistory': 1})"
      ]
     },
     "execution_count": 15,
     "metadata": {},
     "output_type": "execute_result"
    }
   ],
   "source": [
    "from edc_appointment.models import Appointment\n",
    "\n",
    "sidx = 'B142-040990811-7'\n",
    "onsch = OnScheduleCohortBSecQuart.objects.get(subject_identifier=sidx)\n",
    "appts = Appointment.objects.filter(subject_identifier=sidx, schedule_name=onsch.schedule_name)\n",
    "ssh = SubjectScheduleHistory.objects.get(\n",
    "    subject_identifier=sidx, schedule_name=onsch.schedule_name)\n",
    "appts.delete()\n",
    "onsch.delete()\n",
    "ssh.delete()"
   ]
  },
  {
   "cell_type": "code",
   "execution_count": 21,
   "id": "ee98bae4",
   "metadata": {},
   "outputs": [
    {
     "data": {
      "text/plain": [
       "(1, {'flourish_caregiver.OnScheduleCohortATb2Months': 1})"
      ]
     },
     "execution_count": 21,
     "metadata": {},
     "output_type": "execute_result"
    }
   ],
   "source": [
    "subject_identifier = 'B142-040990502-2'\n",
    "child_sidx = subject_identifier + '-60'\n",
    "onsch = OnScheduleCohortATb2Months.objects.get(\n",
    "    subject_identifier=subject_identifier, child_subject_identifier=child_sidx)\n",
    "appt = Appointment.objects.get(subject_identifier=subject_identifier, schedule_name=onsch.schedule_name)\n",
    "ssh = SubjectScheduleHistory.objects.get(\n",
    "    subject_identifier=subject_identifier, schedule_name=onsch.schedule_name)\n",
    "appt.delete()\n",
    "ssh.delete()\n",
    "onsch.delete()"
   ]
  },
  {
   "cell_type": "code",
   "execution_count": 23,
   "id": "4d6d7926",
   "metadata": {},
   "outputs": [
    {
     "data": {
      "text/plain": [
       "(1, {'flourish_caregiver.OnScheduleCohortATb6Months': 1})"
      ]
     },
     "execution_count": 23,
     "metadata": {},
     "output_type": "execute_result"
    }
   ],
   "source": [
    "subject_identifier = 'B142-040990128-6'\n",
    "onsch = OnScheduleCohortATb6Months.objects.get(subject_identifier=subject_identifier)\n",
    "ssh = SubjectScheduleHistory.objects.get(subject_identifier=subject_identifier,\n",
    "                                         schedule_name=onsch.schedule_name)\n",
    "ssh.delete()\n",
    "onsch.delete()"
   ]
  },
  {
   "cell_type": "code",
   "execution_count": 34,
   "id": "c2004170",
   "metadata": {},
   "outputs": [],
   "source": [
    "from flourish_caregiver.models import CaregiverOffSchedule\n",
    "from django.db.models.signals import post_save, post_delete\n",
    "\n",
    "post_delete.disconnect(dispatch_uid='offschedule_model_on_post_delete')\n",
    "\n",
    "subject_identifier = 'B142-040991059-2'\n",
    "onsch = OnScheduleCohortCFU.objects.get(subject_identifier=subject_identifier)\n",
    "ssh = SubjectScheduleHistory.objects.get(subject_identifier=subject_identifier,\n",
    "                                         schedule_name=onsch.schedule_name)\n",
    "appts = Appointment.objects.filter(subject_identifier=subject_identifier, schedule_name=onsch.schedule_name)\n",
    "appts.delete()\n",
    "ssh.delete()\n",
    "onsch.delete()\n",
    "\n",
    "quart_onsch = OnScheduleCohortCQuarterly.objects.get(subject_identifier=subject_identifier)\n",
    "quart_ssh = SubjectScheduleHistory.objects.get(subject_identifier=subject_identifier,\n",
    "                                               schedule_name=quart_onsch.schedule_name)\n",
    "visit = MaternalVisit.objects.get(subject_identifier=subject_identifier, visit_code='2000M')\n",
    "dt = visit.report_datetime.astimezone(tz)\n",
    "\n",
    "offschedule = CaregiverOffSchedule.objects.get(\n",
    "    subject_identifier=subject_identifier, schedule_name=quart_onsch.schedule_name)\n",
    "offschedule.delete()\n",
    "quart_ssh.offschedule_datetime = None\n",
    "quart_ssh.schedule_status = 'onschedule'\n",
    "quart_ssh.save()\n",
    "\n",
    "_, schedule = site_visit_schedules.get_by_onschedule_model_schedule_name(\n",
    "    onschedule_model=quart_ssh.onschedule_model, name=quart_ssh.schedule_name)\n",
    "schedule.put_on_schedule(\n",
    "    subject_identifier=quart_onsch.subject_identifier, onschedule_datetime=dt,\n",
    "    schedule_name=quart_onsch.schedule_name, base_appt_datetime=dt)\n"
   ]
  },
  {
   "cell_type": "code",
   "execution_count": 41,
   "id": "a0ef2bc2",
   "metadata": {},
   "outputs": [],
   "source": [
    "from flourish_child.models import ChildOffSchedule\n",
    "from flourish_child.models import Appointment\n",
    "subject_identifier = 'B142-040991059-2-10'\n",
    "onsch = OnScheduleChildCohortCFU.objects.get(subject_identifier=subject_identifier)\n",
    "ssh = SubjectScheduleHistory.objects.get(subject_identifier=subject_identifier,\n",
    "                                         schedule_name=onsch.schedule_name)\n",
    "appts = Appointment.objects.filter(subject_identifier=subject_identifier, schedule_name=onsch.schedule_name)\n",
    "appts.delete()\n",
    "ssh.delete()\n",
    "onsch.delete()\n",
    "\n",
    "quart_onsch = OnScheduleChildCohortCQuarterly.objects.get(subject_identifier=subject_identifier)\n",
    "quart_ssh = SubjectScheduleHistory.objects.get(subject_identifier=subject_identifier,\n",
    "                                               schedule_name=quart_onsch.schedule_name)\n",
    "visit = ChildVisit.objects.get(subject_identifier=subject_identifier, visit_code='2000')\n",
    "dt = visit.report_datetime.astimezone(tz)\n",
    "\n",
    "offschedule = ChildOffSchedule.objects.get(\n",
    "    subject_identifier=subject_identifier, schedule_name=quart_onsch.schedule_name)\n",
    "offschedule.delete()\n",
    "quart_ssh.offschedule_datetime = None\n",
    "quart_ssh.schedule_status = 'onschedule'\n",
    "quart_ssh.save()\n",
    "\n",
    "_, schedule = site_visit_schedules.get_by_onschedule_model_schedule_name(\n",
    "    onschedule_model=quart_ssh.onschedule_model, name=quart_ssh.schedule_name)\n",
    "schedule.put_on_schedule(\n",
    "    subject_identifier=quart_onsch.subject_identifier, onschedule_datetime=dt,\n",
    "    schedule_name=quart_onsch.schedule_name, base_appt_datetime=dt)\n"
   ]
  },
  {
   "cell_type": "code",
   "execution_count": null,
   "id": "a135ff3f",
   "metadata": {},
   "outputs": [],
   "source": []
  }
 ],
 "metadata": {
  "kernelspec": {
   "display_name": "Django Shell-Plus",
   "language": "python",
   "name": "django_extensions"
  },
  "language_info": {
   "codemirror_mode": {
    "name": "ipython",
    "version": 3
   },
   "file_extension": ".py",
   "mimetype": "text/x-python",
   "name": "python",
   "nbconvert_exporter": "python",
   "pygments_lexer": "ipython3",
   "version": "3.8.13"
  }
 },
 "nbformat": 4,
 "nbformat_minor": 5
}
