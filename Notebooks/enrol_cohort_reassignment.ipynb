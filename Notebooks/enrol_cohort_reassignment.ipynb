{
 "cells": [
  {
   "cell_type": "code",
   "execution_count": 10,
   "id": "b697a29c",
   "metadata": {},
   "outputs": [],
   "source": [
    "import os\n",
    "import pytz\n",
    "os.environ[\"DJANGO_ALLOW_ASYNC_UNSAFE\"] = \"true\"\n",
    "# from cacheops import invalidate_all\n",
    "from django.apps import apps as django_apps\n",
    "from flourish_caregiver.helper_classes.utils import cohort_assigned\n",
    "from flourish_caregiver.helper_classes import SequentialCohortEnrollment\n",
    "from flourish_caregiver.helper_classes.schedule_dict import child_schedule_dict, caregiver_schedule_dict\n",
    "from flourish_child.models import Appointment as ChildAppointment\n",
    "from edc_appointment.models import Appointment\n",
    "from edc_appointment.constants import NEW_APPT\n",
    "from edc_visit_schedule import site_visit_schedules\n",
    "from edc_base.utils import get_utcnow, age, relativedelta\n",
    "from tqdm import tqdm"
   ]
  },
  {
   "cell_type": "code",
   "execution_count": 2,
   "id": "5eb3dfec",
   "metadata": {},
   "outputs": [],
   "source": [
    "child_identifiers = CaregiverChildConsent.objects.exclude(\n",
    "    preg_enroll=True).values_list('subject_identifier', flat=True).distinct()\n",
    "child_identifiers = list(set(child_identifiers))"
   ]
  },
  {
   "cell_type": "code",
   "execution_count": null,
   "id": "c20d7398",
   "metadata": {},
   "outputs": [],
   "source": [
    "# Order pids by aged out\n",
    "child_identifiers.sort()\n",
    "upper_limit = {'cohort_a': 5, 'cohort_b': 10, 'cohort_a_sec': 5, 'cohort_b_sec': 10, }\n",
    "ordered_child_idx = []\n",
    "for idx in tqdm(child_identifiers):\n",
    "    earliest_consent = CaregiverChildConsent.objects.filter(subject_identifier=idx).earliest('consent_datetime')\n",
    "    cohort = earliest_consent.cohort\n",
    "    child_age = age(earliest_consent.child_dob, get_utcnow().date())\n",
    "    child_age = round(child_age.years + (child_age.months/12) + (child_age.days/365.25), 2)\n",
    "    age_limit = upper_limit.get(cohort)\n",
    "    if age_limit and child_age > age_limit:\n",
    "        ordered_child_idx.append(idx)\n",
    "        child_identifiers.remove(idx)"
   ]
  },
  {
   "cell_type": "code",
   "execution_count": null,
   "id": "1f2ab8d4",
   "metadata": {},
   "outputs": [],
   "source": [
    "child_identifiers = ordered_child_idx + child_identifiers\n",
    "len(child_identifiers)\n",
    "child_identifiers"
   ]
  },
  {
   "cell_type": "code",
   "execution_count": 3,
   "id": "c3bf1f13",
   "metadata": {},
   "outputs": [
    {
     "name": "stderr",
     "output_type": "stream",
     "text": [
      "100%|██████████| 989/989 [00:43<00:00, 22.87it/s]"
     ]
    },
    {
     "name": "stdout",
     "output_type": "stream",
     "text": [
      "Created 0 cohort instance(s)\n"
     ]
    },
    {
     "name": "stderr",
     "output_type": "stream",
     "text": [
      "\n"
     ]
    }
   ],
   "source": [
    "# Create cohort instance for enrolment cohort\n",
    "count = 0\n",
    "for idx in tqdm(child_identifiers):\n",
    "    childconsent_obj = CaregiverChildConsent.objects.filter(subject_identifier=idx).earliest('consent_datetime')\n",
    "    obj, created = Cohort.objects.get_or_create(\n",
    "        subject_identifier=childconsent_obj.subject_identifier,\n",
    "        name=childconsent_obj.cohort,\n",
    "        defaults={'assign_datetime': get_utcnow(), 'enrollment_cohort': True})\n",
    "    if created:\n",
    "        count += 1\n",
    "print(f'Created {count} cohort instance(s)')"
   ]
  },
  {
   "cell_type": "code",
   "execution_count": 3,
   "id": "98ae4499",
   "metadata": {},
   "outputs": [
    {
     "name": "stderr",
     "output_type": "stream",
     "text": [
      "100%|██████████| 989/989 [02:34<00:00,  6.42it/s]\n"
     ]
    }
   ],
   "source": [
    "# Current age cohort recalculation\n",
    "# import math\n",
    "\n",
    "# records = []\n",
    "# age_limits = {'cohort_a': 5,\n",
    "#               'cohort_b': 10, }\n",
    "# for idx in tqdm(child_identifiers):\n",
    "#     childconsent_obj = CaregiverChildConsent.objects.filter(subject_identifier=idx).earliest('consent_datetime')\n",
    "#     if not childconsent_obj.is_preg:\n",
    "#         enrol_cohort = childconsent_obj.cohort\n",
    "#         cohort = cohort_assigned(\n",
    "#             childconsent_obj.study_child_identifier,\n",
    "#             childconsent_obj.child_dob,\n",
    "#             get_utcnow().date())\n",
    "\n",
    "#         child_age = age(childconsent_obj.child_dob, get_utcnow().date())\n",
    "#         child_age = round(child_age.years + (child_age.months/12) + (child_age.days/365.25), 2)\n",
    "#         caregiver_subject_identifier = childconsent_obj.subject_consent.subject_identifier\n",
    "#         if (cohort and enrol_cohort != cohort and cohort != f'{enrol_cohort}_sec'):\n",
    "#             limit_age = age_limits.get(enrol_cohort, 0)\n",
    "#             difference = (child_age - limit_age) * 365.25\n",
    "#             date_aged = get_utcnow().date() - relativedelta(days=difference)\n",
    "\n",
    "#             records.append({'subject_identifier': idx,\n",
    "#                             'caregiver_subject_identifier': caregiver_subject_identifier,\n",
    "#                             'child_count': childconsent_obj.caregiver_visit_count,\n",
    "#                             'child_dob': childconsent_obj.child_dob,\n",
    "#                             'enrolment_cohort': enrol_cohort,\n",
    "#                             'current_age': child_age,\n",
    "#                             'current_cohort': cohort,\n",
    "#                             'date_aged_up': date_aged})"
   ]
  },
  {
   "cell_type": "code",
   "execution_count": null,
   "id": "09b984e9",
   "metadata": {},
   "outputs": [],
   "source": [
    "# no_followup = []\n",
    "# followup = []\n",
    "# for record in records:\n",
    "#     enrol_cohort = record.get('enrolment_cohort')\n",
    "#     if 'sec' in enrol_cohort:\n",
    "#         no_followup.append(record)\n",
    "#         continue\n",
    "#     model = child_schedule_dict[enrol_cohort]['followup']['onschedule_model']\n",
    "#     model_cls = django_apps.get_model(model)\n",
    "#     try:\n",
    "#         model_cls.objects.get(subject_identifier=record.get('subject_identifier'))\n",
    "#     except model_cls.DoesNotExist:\n",
    "#         no_followup.append(record)\n",
    "#     else:\n",
    "#         followup.append(record)"
   ]
  },
  {
   "cell_type": "code",
   "execution_count": null,
   "id": "0b555ac7",
   "metadata": {},
   "outputs": [],
   "source": [
    "# import csv\n",
    "# keys = no_followup[0].keys()\n",
    "# with open('main_to_sec.csv', 'w', newline='') as output_file:\n",
    "#     dict_writer = csv.DictWriter(output_file, keys)\n",
    "#     dict_writer.writeheader()\n",
    "#     dict_writer.writerows(no_followup)"
   ]
  },
  {
   "cell_type": "code",
   "execution_count": 11,
   "id": "6fd21821",
   "metadata": {},
   "outputs": [],
   "source": [
    "def take_off_schedule(onschedule_model_obj):\n",
    "    subject_identifier = onschedule_model_obj.subject_identifier\n",
    "    schedule_name = onschedule_model_obj.schedule_name\n",
    "    onschedule_model = onschedule_model_obj.onschedule_model\n",
    "\n",
    "    _, schedule = site_visit_schedules.get_by_onschedule_model_schedule_name(\n",
    "        onschedule_model=onschedule_model, name=schedule_name)\n",
    "\n",
    "    if schedule.is_onschedule(\n",
    "        subject_identifier=subject_identifier, report_datetime=get_utcnow()):\n",
    "        schedule.take_off_schedule(\n",
    "            subject_identifier=subject_identifier,\n",
    "            schedule_name=schedule_name)\n"
   ]
  },
  {
   "cell_type": "code",
   "execution_count": 12,
   "id": "9c747e9d",
   "metadata": {},
   "outputs": [],
   "source": [
    "def delete_completed_appointments(appointment_model_cls, subject_identifier,\n",
    "                                  schedule_name ):\n",
    "    complete_appts = appointment_model_cls.objects.filter(\n",
    "        Q(schedule_name__icontains='quart') | Q(schedule_name__icontains='qt'),\n",
    "        subject_identifier=subject_identifier, ).exclude(\n",
    "            appt_status=NEW_APPT).values_list('visit_code', flat=True).distinct()\n",
    "\n",
    "    new_appts = appointment_model_cls.objects.filter(\n",
    "        subject_identifier=subject_identifier,\n",
    "        schedule_name=schedule_name,\n",
    "        visit_code__in=complete_appts)\n",
    "    if new_appts.exists():\n",
    "        new_appts.delete()"
   ]
  },
  {
   "cell_type": "code",
   "execution_count": 13,
   "id": "4cda1fe7",
   "metadata": {},
   "outputs": [],
   "source": [
    "def update_onschedule_model(subject_identifier, child_subject_identifier,\n",
    "                            onschedule_model, schedule_name, ):\n",
    "\n",
    "    onschedule_model_cls = django_apps.get_model(onschedule_model)\n",
    "    try:\n",
    "        onschedule_model_cls.objects.get(\n",
    "            subject_identifier=subject_identifier,\n",
    "            schedule_name=schedule_name,\n",
    "            child_subject_identifier=child_subject_identifier)\n",
    "    except onschedule_model_cls.DoesNotExist:\n",
    "        try:\n",
    "            onschedule_obj = onschedule_model_cls.objects.get(\n",
    "                subject_identifier=subject_identifier,\n",
    "                schedule_name=schedule_name)\n",
    "        except schedule.onschedule_model_cls.DoesNotExist:\n",
    "            pass\n",
    "        else:\n",
    "            onschedule_obj.child_subject_identifier = child_subject_identifier\n",
    "            onschedule_obj.save()"
   ]
  },
  {
   "cell_type": "code",
   "execution_count": 14,
   "id": "a002bac1",
   "metadata": {},
   "outputs": [],
   "source": [
    "def put_on_schedule(onschedule_model, schedule_name,\n",
    "                    subject_identifier, base_appt_datetime=None, ):\n",
    "    _, schedule = site_visit_schedules.get_by_onschedule_model_schedule_name(\n",
    "        onschedule_model=onschedule_model,\n",
    "        name=schedule_name)\n",
    "\n",
    "    schedule.put_on_schedule(\n",
    "        subject_identifier=subject_identifier,\n",
    "        onschedule_datetime=get_utcnow(),\n",
    "        base_appt_datetime=base_appt_datetime,\n",
    "        schedule_name=schedule_name)"
   ]
  },
  {
   "cell_type": "code",
   "execution_count": 15,
   "id": "f1bab738",
   "metadata": {},
   "outputs": [],
   "source": [
    "def put_onschedule(cohort, schedule_type, schedule_dict, onschedule_datetime,\n",
    "                   subject_identifier, appointment_cls, is_caregiver=False, child_count=None):\n",
    "    onschedule_model = schedule_dict[cohort][schedule_type]['onschedule_model']\n",
    "    if is_caregiver:\n",
    "        schedule_name = schedule_dict[cohort][schedule_type][child_count]\n",
    "    else:\n",
    "        schedule_name = schedule_dict[cohort][schedule_type]['name']\n",
    "\n",
    "    _, schedule = site_visit_schedules.get_by_onschedule_model_schedule_name(\n",
    "            onschedule_model=onschedule_model,\n",
    "            name=schedule_name)\n",
    "\n",
    "    if not schedule.is_onschedule(\n",
    "        subject_identifier=subject_identifier, report_datetime=onschedule_datetime):\n",
    "\n",
    "        put_on_schedule(onschedule_model=onschedule_model,\n",
    "                        schedule_name=schedule_name,\n",
    "                        base_appt_datetime=onschedule_datetime,\n",
    "                        subject_identifier=subject_identifier)\n",
    "\n",
    "        delete_completed_appointments(\n",
    "                appointment_model_cls=appointment_cls,\n",
    "                subject_identifier=subject_identifier,\n",
    "                schedule_name=schedule_name) \n",
    "            \n",
    "    return onschedule_model, schedule_name\n"
   ]
  },
  {
   "cell_type": "code",
   "execution_count": 16,
   "id": "de284b12",
   "metadata": {},
   "outputs": [],
   "source": [
    "def get_onschedule_obj(subject_identifier, cohort):\n",
    "    cohort = f'{cohort}_' if 'sec' not in cohort else cohort\n",
    "    try:\n",
    "        schedule_obj = SubjectScheduleHistory.objects.filter(\n",
    "            subject_identifier=subject_identifier,\n",
    "            schedule_name__icontains=cohort.replace('cohort_', '')).filter(\n",
    "            Q(schedule_name__icontains='qt') | Q(schedule_name__icontains='quart')).latest('onschedule_datetime')\n",
    "    except SubjectScheduleHistory.DoesNotExist:\n",
    "        raise\n",
    "    else:\n",
    "        return schedule_obj"
   ]
  },
  {
   "cell_type": "code",
   "execution_count": 17,
   "id": "7cc5a3af",
   "metadata": {},
   "outputs": [],
   "source": [
    "def get_schedule_type(onschedule_obj, current_cohort):\n",
    "    schedule_name = onschedule_obj.schedule_name\n",
    "    if 'fu' in schedule_name and '_sec' not in current_cohort:\n",
    "        return 'followup_quarterly'\n",
    "    else:\n",
    "        return 'quarterly'"
   ]
  },
  {
   "cell_type": "code",
   "execution_count": 18,
   "id": "a80489c0",
   "metadata": {},
   "outputs": [],
   "source": [
    "cohort_ages = {'cohort_b': 7, 'cohort_c': 12}\n",
    "def enrol_fu_schedule(child_age, cohort, schedule_dict, subject_identifier, child_sidx,\n",
    "                      appointment_cls, is_caregiver=False, child_count=None):\n",
    "    onschedule_datetime = None\n",
    "    age_fu = cohort_ages.get(cohort, child_age)\n",
    "    if child_age < age_fu:\n",
    "        age_diff = round(age_fu - child_age, 2)\n",
    "        age_in_months = round(age_diff * 12)\n",
    "        onschedule_datetime = get_utcnow() + relativedelta(months=age_in_months)\n",
    "    else:\n",
    "        onschedule_datetime = get_utcnow() + relativedelta(months=6)\n",
    "\n",
    "    if onschedule_datetime:\n",
    "        onschedule_model, schedule_name = put_onschedule(\n",
    "            cohort, 'followup', schedule_dict, onschedule_datetime,\n",
    "            subject_identifier, appointment_cls, is_caregiver=is_caregiver, child_count=str(child_count))\n",
    "\n",
    "        if is_caregiver:\n",
    "            update_onschedule_model(subject_identifier, child_sidx,\n",
    "                                    onschedule_model, schedule_name, )"
   ]
  },
  {
   "cell_type": "code",
   "execution_count": 19,
   "id": "f490a3c4",
   "metadata": {},
   "outputs": [],
   "source": [
    "# child_identifiers=['B142-040990096-5-25', 'B142-040990096-5-35']"
   ]
  },
  {
   "cell_type": "code",
   "execution_count": 21,
   "id": "197f73bf",
   "metadata": {},
   "outputs": [
    {
     "name": "stderr",
     "output_type": "stream",
     "text": [
      "\r",
      "  0%|          | 0/2 [00:00<?, ?it/s]"
     ]
    },
    {
     "name": "stdout",
     "output_type": "stream",
     "text": [
      "start B142-040990096-5-25\n"
     ]
    },
    {
     "name": "stderr",
     "output_type": "stream",
     "text": [
      "\r",
      " 50%|█████     | 1/2 [00:10<00:10, 10.45s/it]"
     ]
    },
    {
     "name": "stdout",
     "output_type": "stream",
     "text": [
      "done B142-040990096-5-25\n",
      "start B142-040990096-5-35\n"
     ]
    },
    {
     "name": "stderr",
     "output_type": "stream",
     "text": [
      "100%|██████████| 2/2 [00:19<00:00,  9.55s/it]"
     ]
    },
    {
     "name": "stdout",
     "output_type": "stream",
     "text": [
      "done B142-040990096-5-35\n"
     ]
    },
    {
     "name": "stderr",
     "output_type": "stream",
     "text": [
      "\n"
     ]
    }
   ],
   "source": [
    "# from cacheops import invalidate_model\n",
    "\"\"\"\n",
    "    Take participant offschedule for enrolment cohort and put onschedule for subsequent cohort schedule\n",
    "    1. Create a cohort instance for `current cohort`,\n",
    "        NOTE: If cohort instance already exists assume already put onschedule\n",
    "    2. Take offschedule for `enrolment cohort`\n",
    "    3. Put onschedule for `current cohort`\n",
    "    4. Make sure to align appointments for `current cohort` schedule with enrolment\n",
    "\"\"\"\n",
    "for idx in tqdm(child_identifiers):\n",
    "    childconsent_obj = CaregiverChildConsent.objects.filter(subject_identifier=idx).earliest('consent_datetime')\n",
    "    if childconsent_obj.is_preg:\n",
    "        continue\n",
    "    enrol_cohort = childconsent_obj.cohort\n",
    "    current_cohort = cohort_assigned(\n",
    "        childconsent_obj.study_child_identifier,\n",
    "        childconsent_obj.child_dob,\n",
    "        get_utcnow().date())\n",
    "\n",
    "    caregiver_subject_identifier = childconsent_obj.subject_consent.subject_identifier\n",
    "    if (current_cohort and enrol_cohort != current_cohort and current_cohort != f'{enrol_cohort}_sec'):\n",
    "        if idx in ['B142-040990120-3-10', 'B142-040990263-1-10', 'B142-040990341-5-10',\n",
    "                   'B142-040990466-0-10', 'B142-040990612-9-60', 'B142-040990666-5-60',\n",
    "                   'B142-040990755-6-10', 'B142-040990943-8-10', 'C142-040990599-8-10',\n",
    "                   'B142-040990528-7-60']:\n",
    "            continue\n",
    "        if not bool(SubjectScheduleHistory.objects.onschedules(subject_identifier=idx)):\n",
    "            continue\n",
    "\n",
    "        print('start', idx)\n",
    "        child_age = age(childconsent_obj.child_dob, get_utcnow().date())\n",
    "        child_age = (child_age.years + (child_age.months/12))\n",
    "\n",
    "        obj, created = Cohort.objects.get_or_create(\n",
    "            subject_identifier=idx,\n",
    "            name=current_cohort,\n",
    "            defaults={'assign_datetime': get_utcnow(), 'enrollment_cohort': False})\n",
    "\n",
    "        # Take child offschedule\n",
    "        onschedule_obj = get_onschedule_obj(idx, enrol_cohort)\n",
    "        take_off_schedule(onschedule_obj)\n",
    "\n",
    "        # Put child onschedule\n",
    "        schedule_type = get_schedule_type(onschedule_obj, current_cohort)\n",
    "        put_onschedule(current_cohort, schedule_type, child_schedule_dict,\n",
    "                       onschedule_obj.onschedule_datetime,\n",
    "                       idx, ChildAppointment, )\n",
    "\n",
    "        # Put child onschedule for followup\n",
    "        if '_sec' not in current_cohort:\n",
    "            enrol_fu_schedule(\n",
    "                child_age, current_cohort, child_schedule_dict, idx, idx,\n",
    "                ChildAppointment, is_caregiver=False, child_count=None)\n",
    "\n",
    "        # Take caregiver offschedule\n",
    "        onschedule_obj = get_onschedule_obj(caregiver_subject_identifier, enrol_cohort)\n",
    "        take_off_schedule(onschedule_obj)\n",
    "\n",
    "        # Put caregiver onschedule\n",
    "        schedule_type = get_schedule_type(onschedule_obj, current_cohort)\n",
    "        child_count = childconsent_obj.caregiver_visit_count\n",
    "        onschedule_model, schedule_name = put_onschedule(\n",
    "            current_cohort, schedule_type, caregiver_schedule_dict,\n",
    "            onschedule_obj.onschedule_datetime,\n",
    "            caregiver_subject_identifier, Appointment, is_caregiver=True, child_count=str(child_count))\n",
    "\n",
    "        # Update child subject identifier\n",
    "        update_onschedule_model(caregiver_subject_identifier, idx,\n",
    "                                onschedule_model, schedule_name, )\n",
    "\n",
    "        # Put caregiver onschedule for followup\n",
    "        if '_sec' not in current_cohort:\n",
    "            enrol_fu_schedule(\n",
    "                child_age, current_cohort, caregiver_schedule_dict, caregiver_subject_identifier, idx,\n",
    "                Appointment, is_caregiver=True, child_count=str(child_count))\n",
    "\n",
    "        print('done', idx)\n",
    "#         invalidate_model(Cohort)\n",
    "#         invalidate_all()"
   ]
  },
  {
   "cell_type": "code",
   "execution_count": 22,
   "id": "6377d58c",
   "metadata": {},
   "outputs": [],
   "source": [
    "cohorts = Cohort.objects.filter(subject_identifier__in=child_identifiers)\n",
    "for cohort in cohorts:\n",
    "    cohort.save()"
   ]
  },
  {
   "cell_type": "code",
   "execution_count": null,
   "id": "f725ee18",
   "metadata": {},
   "outputs": [],
   "source": [
    "# Data fix to complete the caregiver visit count on the child consent.\n",
    "child_consents =  CaregiverChildConsent.objects.values_list('subject_identifier', flat=True)\n",
    "\n",
    "\n",
    "caregiver_models = dir(django_apps.get_app_config('flourish_caregiver').models_module.onschedule)\n",
    "caregiver_models = [model for model in caregiver_models if model.lower().startswith('onschedulecohort')]\n",
    "\n",
    "for idx in twins:\n",
    "    for onschedule in caregiver_models:\n",
    "        onschedule = onschedule.lower()\n",
    "        onschedule_cls = django_apps.get_model(f'flourish_caregiver.{onschedule}')\n",
    "\n",
    "        reg_subject = RegisteredSubject.objects.get(subject_identifier=idx)\n",
    "        onschedule_obj = onschedule_cls.objects.filter(subject_identifier=reg_subject.relative_identifier).first()\n",
    "        if not onschedule_obj:\n",
    "            continue\n",
    "        schedule_name = onschedule_obj.schedule_name[:-1]\n",
    "        consents = CaregiverChildConsent.objects.filter(subject_identifier=idx)\n",
    "        for index in range(len(schedule_name)):\n",
    "            if schedule_name[index].isdigit():\n",
    "                consents.update(caregiver_visit_count=int(schedule_name[index]))\n",
    "        break\n",
    "\n",
    "twins = CaregiverChildConsent.objects.filter(\n",
    "    Q(subject_identifier__endswith='-25') | Q(subject_identifier__endswith='-35')).values_list('subject_identifier', flat=True)\n",
    "twins = list(set(twins))\n",
    "# Use registered subject and relative identifier to update them"
   ]
  },
  {
   "cell_type": "code",
   "execution_count": null,
   "id": "e079ecdb",
   "metadata": {},
   "outputs": [],
   "source": []
  }
 ],
 "metadata": {
  "kernelspec": {
   "display_name": "Django Shell-Plus",
   "language": "python",
   "name": "django_extensions"
  },
  "language_info": {
   "codemirror_mode": {
    "name": "ipython",
    "version": 3
   },
   "file_extension": ".py",
   "mimetype": "text/x-python",
   "name": "python",
   "nbconvert_exporter": "python",
   "pygments_lexer": "ipython3",
   "version": "3.6.15"
  }
 },
 "nbformat": 4,
 "nbformat_minor": 5
}
