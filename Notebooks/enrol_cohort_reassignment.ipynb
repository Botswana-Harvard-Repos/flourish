{
 "cells": [
  {
   "cell_type": "code",
   "execution_count": 1,
   "id": "1f9190c5",
   "metadata": {},
   "outputs": [],
   "source": [
    "import os\n",
    "import pytz\n",
    "os.environ[\"DJANGO_ALLOW_ASYNC_UNSAFE\"] = \"true\"\n",
    "from django.apps import apps as django_apps\n",
    "from flourish_caregiver.models.signals import cohort_assigned\n",
    "from flourish_caregiver.helper_classes import SequentialCohortEnrollment\n",
    "from flourish_caregiver.helper_classes.schedule_dict import child_schedule_dict, caregiver_schedule_dict\n",
    "from flourish_child.models import Appointment as ChildAppointment\n",
    "from edc_appointment.models import Appointment\n",
    "from edc_appointment.constants import NEW_APPT\n",
    "from edc_visit_schedule import site_visit_schedules\n",
    "from edc_base.utils import get_utcnow, age\n",
    "from tqdm import tqdm"
   ]
  },
  {
   "cell_type": "code",
   "execution_count": 2,
   "id": "5eb3dfec",
   "metadata": {},
   "outputs": [],
   "source": [
    "child_identifiers = CaregiverChildConsent.objects.exclude(\n",
    "    preg_enroll=True).values_list('subject_identifier', flat=True).distinct()\n",
    "child_identifiers = list(set(child_identifiers))[1:]"
   ]
  },
  {
   "cell_type": "code",
   "execution_count": 3,
   "id": "c3bf1f13",
   "metadata": {},
   "outputs": [
    {
     "name": "stderr",
     "output_type": "stream",
     "text": [
      "100%|██████████| 989/989 [00:43<00:00, 22.87it/s]"
     ]
    },
    {
     "name": "stdout",
     "output_type": "stream",
     "text": [
      "Created 0 cohort instance(s)\n"
     ]
    },
    {
     "name": "stderr",
     "output_type": "stream",
     "text": [
      "\n"
     ]
    }
   ],
   "source": [
    "# Create cohort instance for enrolment cohort\n",
    "count = 0\n",
    "for idx in tqdm(child_identifiers):\n",
    "    childconsent_obj = CaregiverChildConsent.objects.filter(subject_identifier=idx).earliest('consent_datetime')\n",
    "    obj, created = Cohort.objects.get_or_create(\n",
    "        subject_identifier=childconsent_obj.subject_identifier,\n",
    "        name=childconsent_obj.cohort,\n",
    "        defaults={'assign_datetime': get_utcnow(), 'enrollment_cohort': True})\n",
    "    if created:\n",
    "        count += 1\n",
    "print(f'Created {count} cohort instance(s)')"
   ]
  },
  {
   "cell_type": "code",
   "execution_count": 4,
   "id": "98ae4499",
   "metadata": {},
   "outputs": [
    {
     "name": "stderr",
     "output_type": "stream",
     "text": [
      "100%|██████████| 989/989 [02:31<00:00,  6.53it/s]\n"
     ]
    }
   ],
   "source": [
    "# Current age cohort recalculation\n",
    "records = []\n",
    "for idx in tqdm(child_identifiers):\n",
    "    childconsent_obj = CaregiverChildConsent.objects.filter(subject_identifier=idx).earliest('consent_datetime')\n",
    "    if not childconsent_obj.is_preg:\n",
    "        enrol_cohort = childconsent_obj.cohort\n",
    "        cohort = cohort_assigned(\n",
    "            childconsent_obj.study_child_identifier,\n",
    "            childconsent_obj.child_dob,\n",
    "            get_utcnow().date())\n",
    "\n",
    "        child_age = age(childconsent_obj.child_dob, get_utcnow().date())\n",
    "        child_age = round(child_age.years + (child_age.months/12) + (child_age.days/365.25), 2)\n",
    "        caregiver_subject_identifier = childconsent_obj.subject_consent.subject_identifier\n",
    "        if (cohort and enrol_cohort != cohort and cohort != f'{enrol_cohort}_sec'):\n",
    "            records.append({'subject_identifier': idx,\n",
    "                            'caregiver_subject_identifier': caregiver_subject_identifier,\n",
    "                            'child_count': childconsent_obj.caregiver_visit_count,\n",
    "                            'enrolment_cohort': enrol_cohort,\n",
    "                            'current_age': child_age,\n",
    "                            'current_cohort': cohort, })\n",
    "#         else:\n",
    "#             record.update({'current_cohort': enrol_cohort, })"
   ]
  },
  {
   "cell_type": "code",
   "execution_count": 5,
   "id": "6fd21821",
   "metadata": {},
   "outputs": [],
   "source": [
    "def take_off_schedule(onschedule_model_obj):\n",
    "    subject_identifier = onschedule_model_obj.subject_identifier\n",
    "    schedule_name = onschedule_model_obj.schedule_name\n",
    "    onschedule_model = onschedule_model_obj.onschedule_model\n",
    "\n",
    "    _, schedule = site_visit_schedules.get_by_onschedule_model_schedule_name(\n",
    "        onschedule_model=onschedule_model, name=schedule_name)\n",
    "\n",
    "    if schedule.is_onschedule(\n",
    "        subject_identifier=subject_identifier, report_datetime=get_utcnow()):\n",
    "        schedule.take_off_schedule(\n",
    "            subject_identifier=subject_identifier,\n",
    "            schedule_name=schedule_name)\n"
   ]
  },
  {
   "cell_type": "code",
   "execution_count": 6,
   "id": "9c747e9d",
   "metadata": {},
   "outputs": [],
   "source": [
    "def delete_completed_appointments(appointment_model_cls, subject_identifier,\n",
    "                                  schedule_name ):\n",
    "    complete_appts = appointment_model_cls.objects.filter(\n",
    "        Q(schedule_name__icontains='quart') | Q(schedule_name__icontains='qt'),\n",
    "        subject_identifier=subject_identifier, ).exclude(\n",
    "            appt_status=NEW_APPT).values_list('visit_code', flat=True).distinct()\n",
    "\n",
    "    new_appts = appointment_model_cls.objects.filter(\n",
    "        subject_identifier=subject_identifier,\n",
    "        schedule_name=schedule_name,\n",
    "        visit_code__in=complete_appts)\n",
    "    if new_appts.exists():\n",
    "        new_appts.delete()"
   ]
  },
  {
   "cell_type": "code",
   "execution_count": 7,
   "id": "4cda1fe7",
   "metadata": {},
   "outputs": [],
   "source": [
    "def update_onschedule_model(subject_identifier, child_subject_identifier,\n",
    "                            onschedule_model, schedule_name, ):\n",
    "\n",
    "    onschedule_model_cls = django_apps.get_model(onschedule_model)\n",
    "    try:\n",
    "        onschedule_model_cls.objects.get(\n",
    "            subject_identifier=subject_identifier,\n",
    "            schedule_name=schedule_name,\n",
    "            child_subject_identifier=child_subject_identifier)\n",
    "    except onschedule_model_cls.DoesNotExist:\n",
    "        try:\n",
    "            onschedule_obj = onschedule_model_cls.objects.get(\n",
    "                subject_identifier=subject_identifier,\n",
    "                schedule_name=schedule_name)\n",
    "        except schedule.onschedule_model_cls.DoesNotExist:\n",
    "            pass\n",
    "        else:\n",
    "            onschedule_obj.child_subject_identifier = child_subject_identifier\n",
    "            onschedule_obj.save()"
   ]
  },
  {
   "cell_type": "code",
   "execution_count": 8,
   "id": "a002bac1",
   "metadata": {},
   "outputs": [],
   "source": [
    "def put_on_schedule(onschedule_model, schedule_name,\n",
    "                    subject_identifier, base_appt_datetime=None, ):\n",
    "    _, schedule = site_visit_schedules.get_by_onschedule_model_schedule_name(\n",
    "        onschedule_model=onschedule_model,\n",
    "        name=schedule_name)\n",
    "\n",
    "    schedule.put_on_schedule(\n",
    "        subject_identifier=subject_identifier,\n",
    "        onschedule_datetime=get_utcnow(),\n",
    "        base_appt_datetime=base_appt_datetime,\n",
    "        schedule_name=schedule_name)"
   ]
  },
  {
   "cell_type": "code",
   "execution_count": 9,
   "id": "f1bab738",
   "metadata": {},
   "outputs": [],
   "source": [
    "def put_onschedule(cohort, schedule_type, schedule_dict, onschedule_datetime,\n",
    "                   subject_identifier, appointment_cls, is_caregiver=False, child_count=None):\n",
    "    onschedule_model = schedule_dict[cohort][schedule_type]['onschedule_model']\n",
    "    if is_caregiver:\n",
    "        schedule_name=caregiver_schedule_dict[cohort][schedule_type][child_count]\n",
    "    else:\n",
    "        schedule_name = schedule_dict[cohort][schedule_type]['name']\n",
    "\n",
    "    _, schedule = site_visit_schedules.get_by_onschedule_model_schedule_name(\n",
    "            onschedule_model=onschedule_model,\n",
    "            name=schedule_name)\n",
    "\n",
    "    if not schedule.is_onschedule(\n",
    "        subject_identifier=subject_identifier, report_datetime=onschedule_datetime):\n",
    "\n",
    "        put_on_schedule(onschedule_model=onschedule_model,\n",
    "                        schedule_name=schedule_name,\n",
    "                        base_appt_datetime=onschedule_datetime,\n",
    "                        subject_identifier=subject_identifier)\n",
    "\n",
    "        delete_completed_appointments(\n",
    "                appointment_model_cls=appointment_cls,\n",
    "                subject_identifier=subject_identifier,\n",
    "                schedule_name=schedule_name)\n",
    "    return onschedule_model, schedule_name\n",
    "        "
   ]
  },
  {
   "cell_type": "code",
   "execution_count": 10,
   "id": "de284b12",
   "metadata": {},
   "outputs": [],
   "source": [
    "def get_onschedule_obj(subject_identifier, cohort):\n",
    "    cohort = f'{cohort}_' if 'sec' not in cohort else cohort\n",
    "    try:\n",
    "        schedule_obj = SubjectScheduleHistory.objects.filter(\n",
    "            subject_identifier=subject_identifier,\n",
    "            schedule_name__icontains=cohort.replace('cohort_', '')).filter(\n",
    "            Q(schedule_name__icontains='qt') | Q(schedule_name__icontains='quart')).latest('onschedule_datetime')\n",
    "    except SubjectScheduleHistory.DoesNotExist:\n",
    "        raise\n",
    "    else:\n",
    "        return schedule_obj"
   ]
  },
  {
   "cell_type": "code",
   "execution_count": 11,
   "id": "7cc5a3af",
   "metadata": {},
   "outputs": [],
   "source": [
    "def get_schedule_type(onschedule_obj):\n",
    "    schedule_name = onschedule_obj.schedule_name\n",
    "    if 'fu' in schedule_name:\n",
    "        return 'followup_quarterly'\n",
    "    else:\n",
    "        return 'quarterly'"
   ]
  },
  {
   "cell_type": "code",
   "execution_count": 12,
   "id": "197f73bf",
   "metadata": {},
   "outputs": [
    {
     "name": "stderr",
     "output_type": "stream",
     "text": [
      "\r",
      "  0%|          | 0/291 [00:00<?, ?it/s]"
     ]
    },
    {
     "name": "stdout",
     "output_type": "stream",
     "text": [
      "start B142-040990078-3-10\n"
     ]
    },
    {
     "name": "stderr",
     "output_type": "stream",
     "text": [
      "\r",
      "  0%|          | 1/291 [00:01<05:58,  1.24s/it]"
     ]
    },
    {
     "name": "stdout",
     "output_type": "stream",
     "text": [
      "done B142-040990078-3-10\n",
      "start B142-040990708-5-10\n"
     ]
    },
    {
     "name": "stderr",
     "output_type": "stream",
     "text": [
      "\r",
      "  1%|          | 2/291 [00:02<05:09,  1.07s/it]"
     ]
    },
    {
     "name": "stdout",
     "output_type": "stream",
     "text": [
      "done B142-040990708-5-10\n",
      "start B142-040990104-7-10\n"
     ]
    },
    {
     "name": "stderr",
     "output_type": "stream",
     "text": [
      "\r",
      "  1%|          | 3/291 [00:03<05:06,  1.07s/it]"
     ]
    },
    {
     "name": "stdout",
     "output_type": "stream",
     "text": [
      "done B142-040990104-7-10\n",
      "start B142-040990175-7-10\n"
     ]
    },
    {
     "name": "stderr",
     "output_type": "stream",
     "text": [
      "\r",
      "  1%|▏         | 4/291 [00:04<05:06,  1.07s/it]"
     ]
    },
    {
     "name": "stdout",
     "output_type": "stream",
     "text": [
      "done B142-040990175-7-10\n",
      "start B142-040990488-4-10\n"
     ]
    },
    {
     "name": "stderr",
     "output_type": "stream",
     "text": [
      "\r",
      "  2%|▏         | 5/291 [00:05<04:59,  1.05s/it]"
     ]
    },
    {
     "name": "stdout",
     "output_type": "stream",
     "text": [
      "done B142-040990488-4-10\n",
      "start B142-040990549-3-10\n"
     ]
    },
    {
     "name": "stderr",
     "output_type": "stream",
     "text": [
      "\r",
      "  2%|▏         | 6/291 [00:06<04:53,  1.03s/it]"
     ]
    },
    {
     "name": "stdout",
     "output_type": "stream",
     "text": [
      "done B142-040990549-3-10\n",
      "start B142-040990795-2-10\n"
     ]
    },
    {
     "name": "stderr",
     "output_type": "stream",
     "text": [
      "  2%|▏         | 6/291 [00:06<05:24,  1.14s/it]\n"
     ]
    },
    {
     "ename": "KeyError",
     "evalue": "'None'",
     "output_type": "error",
     "traceback": [
      "\u001b[0;31m---------------------------------------------------------------------------\u001b[0m",
      "\u001b[0;31mKeyError\u001b[0m                                  Traceback (most recent call last)",
      "\u001b[0;32m<ipython-input-12-d142f93b5942>\u001b[0m in \u001b[0;36m<module>\u001b[0;34m\u001b[0m\n\u001b[1;32m     41\u001b[0m         \u001b[0mcurrent_cohort\u001b[0m\u001b[0;34m,\u001b[0m \u001b[0mschedule_type\u001b[0m\u001b[0;34m,\u001b[0m \u001b[0mcaregiver_schedule_dict\u001b[0m\u001b[0;34m,\u001b[0m\u001b[0;34m\u001b[0m\u001b[0;34m\u001b[0m\u001b[0m\n\u001b[1;32m     42\u001b[0m         \u001b[0monschedule_obj\u001b[0m\u001b[0;34m.\u001b[0m\u001b[0monschedule_datetime\u001b[0m\u001b[0;34m,\u001b[0m\u001b[0;34m\u001b[0m\u001b[0;34m\u001b[0m\u001b[0m\n\u001b[0;32m---> 43\u001b[0;31m         caregiver_subject_identifier, Appointment, is_caregiver=True, child_count=str(child_count))\n\u001b[0m\u001b[1;32m     44\u001b[0m \u001b[0;34m\u001b[0m\u001b[0m\n\u001b[1;32m     45\u001b[0m     \u001b[0;31m# Update child subject identifier\u001b[0m\u001b[0;34m\u001b[0m\u001b[0;34m\u001b[0m\u001b[0;34m\u001b[0m\u001b[0m\n",
      "\u001b[0;32m<ipython-input-9-8bb8aa5e4a1f>\u001b[0m in \u001b[0;36mput_onschedule\u001b[0;34m(cohort, schedule_type, schedule_dict, onschedule_datetime, subject_identifier, appointment_cls, is_caregiver, child_count)\u001b[0m\n\u001b[1;32m      3\u001b[0m     \u001b[0monschedule_model\u001b[0m \u001b[0;34m=\u001b[0m \u001b[0mschedule_dict\u001b[0m\u001b[0;34m[\u001b[0m\u001b[0mcohort\u001b[0m\u001b[0;34m]\u001b[0m\u001b[0;34m[\u001b[0m\u001b[0mschedule_type\u001b[0m\u001b[0;34m]\u001b[0m\u001b[0;34m[\u001b[0m\u001b[0;34m'onschedule_model'\u001b[0m\u001b[0;34m]\u001b[0m\u001b[0;34m\u001b[0m\u001b[0;34m\u001b[0m\u001b[0m\n\u001b[1;32m      4\u001b[0m     \u001b[0;32mif\u001b[0m \u001b[0mis_caregiver\u001b[0m\u001b[0;34m:\u001b[0m\u001b[0;34m\u001b[0m\u001b[0;34m\u001b[0m\u001b[0m\n\u001b[0;32m----> 5\u001b[0;31m         \u001b[0mschedule_name\u001b[0m\u001b[0;34m=\u001b[0m\u001b[0mcaregiver_schedule_dict\u001b[0m\u001b[0;34m[\u001b[0m\u001b[0mcohort\u001b[0m\u001b[0;34m]\u001b[0m\u001b[0;34m[\u001b[0m\u001b[0mschedule_type\u001b[0m\u001b[0;34m]\u001b[0m\u001b[0;34m[\u001b[0m\u001b[0mchild_count\u001b[0m\u001b[0;34m]\u001b[0m\u001b[0;34m\u001b[0m\u001b[0;34m\u001b[0m\u001b[0m\n\u001b[0m\u001b[1;32m      6\u001b[0m     \u001b[0;32melse\u001b[0m\u001b[0;34m:\u001b[0m\u001b[0;34m\u001b[0m\u001b[0;34m\u001b[0m\u001b[0m\n\u001b[1;32m      7\u001b[0m         \u001b[0mschedule_name\u001b[0m \u001b[0;34m=\u001b[0m \u001b[0mschedule_dict\u001b[0m\u001b[0;34m[\u001b[0m\u001b[0mcohort\u001b[0m\u001b[0;34m]\u001b[0m\u001b[0;34m[\u001b[0m\u001b[0mschedule_type\u001b[0m\u001b[0;34m]\u001b[0m\u001b[0;34m[\u001b[0m\u001b[0;34m'name'\u001b[0m\u001b[0;34m]\u001b[0m\u001b[0;34m\u001b[0m\u001b[0;34m\u001b[0m\u001b[0m\n",
      "\u001b[0;31mKeyError\u001b[0m: 'None'"
     ]
    }
   ],
   "source": [
    "\"\"\"\n",
    "    Take participant offschedule for enrolment cohort and put onschedule for subsequent cohort schedule\n",
    "    1. Create a cohort instance for `current cohort`,\n",
    "        NOTE: If cohort instance already exists assume already put onschedule\n",
    "    2. Take offschedule for `enrolment cohort`\n",
    "    3. Put onschedule for `current cohort`\n",
    "    4. Make sure to align appointments for `current cohort` schedule with enrolment\n",
    "\"\"\"\n",
    "for cohort_change in tqdm(records):\n",
    "    enrol_cohort = cohort_change.get('enrolment_cohort')\n",
    "    current_cohort = cohort_change.get('current_cohort')\n",
    "    subject_identifier=cohort_change.get('subject_identifier')\n",
    "    caregiver_subject_identifier=cohort_change.get('caregiver_subject_identifier')\n",
    "    if subject_identifier == 'B142-040990341-5-10':\n",
    "        continue\n",
    "\n",
    "    print('start', subject_identifier)\n",
    "    obj, created = Cohort.objects.get_or_create(\n",
    "        subject_identifier=subject_identifier,\n",
    "        name=current_cohort,\n",
    "        defaults={'assign_datetime': get_utcnow(), 'enrollment_cohort': False})\n",
    "\n",
    "    # Take child offschedule\n",
    "    onschedule_obj = get_onschedule_obj(subject_identifier, enrol_cohort)\n",
    "    take_off_schedule(onschedule_obj)\n",
    "    \n",
    "    # Put child onschedule\n",
    "    schedule_type = get_schedule_type(onschedule_obj)\n",
    "    put_onschedule(current_cohort, schedule_type, child_schedule_dict,\n",
    "                   onschedule_obj.onschedule_datetime,\n",
    "                   subject_identifier, ChildAppointment, )\n",
    "\n",
    "    # Take caregiver offschedule\n",
    "    onschedule_obj = get_onschedule_obj(caregiver_subject_identifier, enrol_cohort)\n",
    "    take_off_schedule(onschedule_obj)\n",
    "\n",
    "    # Put caregiver onschedule\n",
    "    schedule_type = get_schedule_type(onschedule_obj)\n",
    "    child_count = cohort_change.get('child_count')\n",
    "    onschedule_model, schedule_name = put_onschedule(\n",
    "        current_cohort, schedule_type, caregiver_schedule_dict,\n",
    "        onschedule_obj.onschedule_datetime,\n",
    "        caregiver_subject_identifier, Appointment, is_caregiver=True, child_count=str(child_count))\n",
    "\n",
    "    # Update child subject identifier\n",
    "    update_onschedule_model(caregiver_subject_identifier, subject_identifier,\n",
    "                            onschedule_model, schedule_name, )\n",
    "    print('done', subject_identifier)"
   ]
  },
  {
   "cell_type": "code",
   "execution_count": null,
   "id": "f725ee18",
   "metadata": {},
   "outputs": [],
   "source": []
  },
  {
   "cell_type": "code",
   "execution_count": null,
   "id": "e079ecdb",
   "metadata": {},
   "outputs": [],
   "source": []
  }
 ],
 "metadata": {
  "kernelspec": {
   "display_name": "Django Shell-Plus",
   "language": "python",
   "name": "django_extensions"
  },
  "language_info": {
   "codemirror_mode": {
    "name": "ipython",
    "version": 3
   },
   "file_extension": ".py",
   "mimetype": "text/x-python",
   "name": "python",
   "nbconvert_exporter": "python",
   "pygments_lexer": "ipython3",
   "version": "3.6.15"
  }
 },
 "nbformat": 4,
 "nbformat_minor": 5
}
