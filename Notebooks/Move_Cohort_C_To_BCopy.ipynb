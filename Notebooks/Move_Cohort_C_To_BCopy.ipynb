{
 "cells": [
  {
   "cell_type": "code",
   "execution_count": 1,
   "id": "cfcb0ad5",
   "metadata": {},
   "outputs": [],
   "source": [
    "# Imports\n",
    "import os \n",
    "import pandas as pd\n",
    "from django.apps import apps as django_apps\n",
    "from django.core.exceptions import ValidationError\n",
    "os.environ[\"DJANGO_ALLOW_ASYNC_UNSAFE\"] = \"true\"\n",
    "from datetime import date\n",
    "from edc_appointment.models import Appointment"
   ]
  },
  {
   "cell_type": "code",
   "execution_count": 2,
   "id": "4a869dbf",
   "metadata": {},
   "outputs": [],
   "source": [
    "def switch_to_cohortc_quart(mv):\n",
    "    #Maternal Visit\n",
    "#     mv.save()\n",
    "\n",
    "    old_q_apps = None\n",
    "    q_ons = None\n",
    "\n",
    "    try:\n",
    "        q_ons = OnScheduleCohortCQuarterly.objects.get(\n",
    "            subject_identifier=mv.subject_identifier)\n",
    "    except OnScheduleCohortCQuarterly.DoesNotExist:\n",
    "        print('whoa!', mv.subject_identifier)\n",
    "    else:\n",
    "        old_q_apps = Appointment.objects.filter(subject_identifier=q_ons.subject_identifier,\n",
    "                                             schedule_name=q_ons.schedule_name,\n",
    "                                             visit_code_sequence=0)\n",
    "    \n",
    "    vs = mv.schedule_name.split('_')\n",
    "    fschedule_name = '_'.join([vs[0], vs[1].replace('enrol', 'quarterly'), vs[2]])\n",
    "        \n",
    "    #check new enrollment onschedule model\n",
    "    print(\">>>>>>>>>>>>>\", fschedule_name)\n",
    "    try:\n",
    "        ons = OnScheduleCohortBQuarterly.objects.get(\n",
    "            subject_identifier=mv.subject_identifier,\n",
    "            schedule_name=fschedule_name)\n",
    "    except:\n",
    "        print('hmmmmm!', mv.subject_identifier)\n",
    "    else:\n",
    "        print('Modify newly generated quart appointments')\n",
    "        \n",
    "        if old_q_apps:\n",
    "            for appt in Appointment.objects.filter(schedule_name=ons.schedule_name,\n",
    "                                               subject_identifier=ons.subject_identifier):\n",
    "                ap = old_q_apps.get(visit_code=appt.visit_code)\n",
    "\n",
    "                try:\n",
    "                    v1 = MaternalVisit.objects.get(appointment=ap)\n",
    "                    v1.appointment = appt\n",
    "                    v1.save()\n",
    "                except:\n",
    "                    pass\n",
    "                \n",
    "                appt.user_modified = ap.user_modified\n",
    "                appt.appt_status = ap.appt_status\n",
    "                appt.appt_reason = ap.appt_reason\n",
    "                appt.appt_datetime = ap.appt_datetime\n",
    "\n",
    "                appt.save()\n",
    "\n",
    "            ssh = SubjectScheduleHistory.objects.get(subject_identifier=old_q_apps[0].subject_identifier,\n",
    "                                                           schedule_name=old_q_apps[0].schedule_name)\n",
    "            ssh.delete()\n",
    "\n",
    "            old_q_apps.delete()\n",
    "            q_ons.delete()\n"
   ]
  },
  {
   "cell_type": "code",
   "execution_count": 3,
   "id": "48b6da98",
   "metadata": {},
   "outputs": [],
   "source": [
    "def switch_to_cohortc_enroll(subject_identifier, new_cohort):\n",
    "    #Change cohort in consent\n",
    "    child_consent = CaregiverChildConsent.objects.filter(subject_identifier=subject_identifier).latest(\n",
    "        'consent_datetime')\n",
    "    child_consent.cohort = new_cohort\n",
    "    child_consent.save()\n",
    "\n",
    "    old_apps = None\n",
    "    a_ons = None\n",
    "\n",
    "    try:\n",
    "        a_ons = OnScheduleCohortCEnrollment.objects.get(\n",
    "            subject_identifier=child_consent.subject_identifier[:-3])\n",
    "    except OnScheduleCohortCEnrollment.DoesNotExist:\n",
    "        print('whoa!', child_consent.subject_identifier[:-3])\n",
    "    else:\n",
    "        old_apps = Appointment.objects.filter(subject_identifier=a_ons.subject_identifier,\n",
    "                                             schedule_name=a_ons.schedule_name,\n",
    "                                             visit_code_sequence=0)\n",
    "\n",
    "    #check new enrollment onschedule model\n",
    "    try:\n",
    "        ons = OnScheduleCohortBEnrollment.objects.get(\n",
    "            subject_identifier=child_consent.subject_identifier[:-3],\n",
    "            child_subject_identifier=child_consent.subject_identifier)\n",
    "    except:\n",
    "        print('waittttt!', child_consent.subject_identifier[:-3])\n",
    "    else:\n",
    "        print('\\n\\nModify newly generated enrol appointments')\n",
    "        \n",
    "        print(old_apps)\n",
    "        if old_apps:\n",
    "            new_apps = Appointment.objects.filter(schedule_name=ons.schedule_name,\n",
    "                                                  subject_identifier=ons.subject_identifier)\n",
    "            for a in new_apps:\n",
    "\n",
    "                ap = old_apps.get(visit_code=a.visit_code)\n",
    "\n",
    "\n",
    "                try:\n",
    "                    v1 = MaternalVisit.objects.get(appointment=ap)\n",
    "                    v1.appointment = a\n",
    "                    v1.save()\n",
    "                except:\n",
    "                    pass\n",
    "\n",
    "                a.user_modified = ap.user_modified\n",
    "                a.appt_status = ap.appt_status\n",
    "                a.appt_reason = ap.appt_reason\n",
    "                a.appt_datetime = ap.appt_datetime\n",
    "\n",
    "                a.save()\n",
    "\n",
    "            ssh = SubjectScheduleHistory.objects.get(subject_identifier=old_apps[0].subject_identifier,\n",
    "                                                           schedule_name=old_apps[0].schedule_name)\n",
    "            ssh.delete()\n",
    "\n",
    "            initial_mv = MaternalVisit.objects.filter(subject_identifier=new_apps[0].subject_identifier,\n",
    "                                                     schedule_name=new_apps[0].schedule_name).order_by(\n",
    "                'report_datetime')[0]\n",
    "            \n",
    "            old_apps.delete()\n",
    "            a_ons.delete()\n",
    "    \n",
    "            switch_to_cohortc_quart(initial_mv)\n",
    "\n"
   ]
  },
  {
   "cell_type": "code",
   "execution_count": 4,
   "id": "9c3060e3",
   "metadata": {},
   "outputs": [
    {
     "data": {
      "text/plain": [
       "Decimal('7.10')"
      ]
     },
     "execution_count": 4,
     "metadata": {},
     "output_type": "execute_result"
    }
   ],
   "source": [
    "cccv = CaregiverChildConsent.objects.first()\n",
    "cccv.child_age_at_enrollment"
   ]
  },
  {
   "cell_type": "code",
   "execution_count": 4,
   "id": "aa528495",
   "metadata": {},
   "outputs": [],
   "source": [
    "pids_2_move = CaregiverChildConsent.objects.filter(cohort='cohort_c', child_age_at_enrollment=10.5).values_list(\n",
    "    'subject_identifier', flat=True).distinct()\n",
    "#     child_dob__year='2012', child_dob__month__lt='2', cohort='cohort_b').values_list(\n",
    "#     'subject_identifier', flat=True).distinct()"
   ]
  },
  {
   "cell_type": "code",
   "execution_count": 5,
   "id": "97e4315e",
   "metadata": {},
   "outputs": [
    {
     "data": {
      "text/plain": [
       "2"
      ]
     },
     "execution_count": 5,
     "metadata": {},
     "output_type": "execute_result"
    }
   ],
   "source": [
    "pids_2_move.count()"
   ]
  },
  {
   "cell_type": "code",
   "execution_count": 7,
   "id": "449ee284",
   "metadata": {},
   "outputs": [
    {
     "name": "stdout",
     "output_type": "stream",
     "text": [
      "Modify newly generated enrol appointments\n",
      "<QuerySet [<Appointment: 2000M.0>]>\n",
      ">>>>>>>>>>>>> c_quarterly1_schedule1\n",
      "hmmmmm! B142-040990976-8\n",
      "Modify newly generated enrol appointments\n",
      "<QuerySet [<Appointment: 2000M.0>]>\n",
      ">>>>>>>>>>>>> c_quarterly1_schedule1\n",
      "hmmmmm! B142-040990639-2\n",
      "Modify newly generated enrol appointments\n",
      "<QuerySet [<Appointment: 2000M.0>]>\n",
      ">>>>>>>>>>>>> c_quarterly1_schedule1\n",
      "hmmmmm! B142-040990771-3\n",
      "Modify newly generated enrol appointments\n",
      "<QuerySet [<Appointment: 2000M.0>]>\n",
      ">>>>>>>>>>>>> c_quarterly1_schedule1\n",
      "hmmmmm! B142-040990790-3\n",
      "Modify newly generated enrol appointments\n",
      "<QuerySet [<Appointment: 2000M.0>]>\n",
      ">>>>>>>>>>>>> c_quarterly1_schedule1\n",
      "hmmmmm! B142-040990950-3\n",
      "Modify newly generated enrol appointments\n",
      "<QuerySet [<Appointment: 2000M.0>]>\n",
      ">>>>>>>>>>>>> c_quarterly1_schedule1\n",
      "hmmmmm! B142-040990766-3\n",
      "Modify newly generated enrol appointments\n",
      "<QuerySet [<Appointment: 2000M.0>]>\n",
      ">>>>>>>>>>>>> c_quarterly1_schedule1\n",
      "hmmmmm! B142-040990849-7\n"
     ]
    }
   ],
   "source": [
    "for pid in pids_2_move:\n",
    "    switch_to_cohortc_enroll(pid, 'cohort_b')"
   ]
  },
  {
   "cell_type": "code",
   "execution_count": null,
   "id": "dd1c8b0c",
   "metadata": {},
   "outputs": [],
   "source": []
  }
 ],
 "metadata": {
  "kernelspec": {
   "display_name": "Django Shell-Plus",
   "language": "python",
   "name": "django_extensions"
  },
  "language_info": {
   "codemirror_mode": {
    "name": "ipython",
    "version": 3
   },
   "file_extension": ".py",
   "mimetype": "text/x-python",
   "name": "python",
   "nbconvert_exporter": "python",
   "pygments_lexer": "ipython3",
   "version": "3.9.0"
  }
 },
 "nbformat": 4,
 "nbformat_minor": 5
}
