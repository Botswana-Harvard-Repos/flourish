{
 "cells": [
  {
   "cell_type": "code",
   "execution_count": null,
   "id": "edf5aed5",
   "metadata": {},
   "outputs": [],
   "source": [
    "# Imports\n",
    "import os \n",
    "os.environ[\"DJANGO_ALLOW_ASYNC_UNSAFE\"] = 'true'"
   ]
  },
  {
   "cell_type": "code",
   "execution_count": 20,
   "id": "f8ff7b45",
   "metadata": {},
   "outputs": [
    {
     "name": "stdout",
     "output_type": "stream",
     "text": [
      "B142-040990838-0-10 : Already Exist\n",
      "B142-040990705-1-10 : Already Exist\n",
      "B142-040991059-2-10 : Already Exist\n"
     ]
    }
   ],
   "source": [
    "from django.forms import model_to_dict\n",
    "from flourish_child.models import TbReferalAdol as TbCRF\n",
    "from flourish_prn.models import TbReferalAdol as TbPRN\n",
    "from edc_metadata.constants import REQUIRED, KEYED\n",
    "from edc_appointment.constants import COMPLETE_APPT\n",
    "from flourish_child.models import Appointment as ChildAppointment\n",
    "from django.db import IntegrityError\n",
    "    \n",
    "visit_code = '2100A'\n",
    "\n",
    "tb_referral_objs = TbPRN.objects.all()\n",
    "\n",
    "for obj in tb_referral_objs:\n",
    "    instance_dict = model_to_dict(obj)\n",
    "    \n",
    "    del instance_dict['action_identifier']\n",
    "    del instance_dict['parent_tracking_identifier']\n",
    "    del instance_dict['related_tracking_identifier']\n",
    "    del instance_dict['subject_identifier']\n",
    "    del instance_dict['tracking_identifier']\n",
    "    \n",
    "    try:\n",
    "        child_visit = ChildVisit.objects.get(visit_code=visit_code,\n",
    "                                             visit_code_sequence = 0,\n",
    "                                             subject_identifier = obj.subject_identifier)\n",
    "        \n",
    "    except ChildVisit.DoesNotExist:\n",
    "        pass\n",
    "    else:\n",
    "        \n",
    "        try:\n",
    "            TbCRF.objects.get(\n",
    "                child_visit=child_visit,\n",
    "            )\n",
    "        except TbCRF.DoesNotExist:\n",
    "            \n",
    "            TbCRF.objects.create(\n",
    "                child_visit=child_visit,\n",
    "                **instance_dict\n",
    "            )\n",
    "            \n",
    "            # Delete metadata so they can be auto created\n",
    "            CrfMetadata.objects.filter(\n",
    "                subject_identifier = child_visit.subject_identifier,\n",
    "                visit_code = child_visit.visit_code,\n",
    "                visit_code_sequence = child_visit.visit_code_sequence,\n",
    "            ).delete()\n",
    "        \n",
    "            # Update the metadata\n",
    "            child_visit.save()\n",
    "            \n",
    "            print(f'{child_visit.subject_identifier} : Created')\n",
    "            \n",
    "        else:\n",
    "            print(f'{child_visit.subject_identifier} : Already Exist')\n",
    "\n",
    "\n",
    "        \n",
    "\n",
    "    \n",
    "\n"
   ]
  },
  {
   "cell_type": "code",
   "execution_count": null,
   "id": "a7ac9051",
   "metadata": {},
   "outputs": [],
   "source": []
  },
  {
   "cell_type": "code",
   "execution_count": null,
   "id": "c0447dde",
   "metadata": {},
   "outputs": [],
   "source": []
  }
 ],
 "metadata": {
  "kernelspec": {
   "display_name": "Django Shell-Plus",
   "language": "python",
   "name": "django_extensions"
  },
  "language_info": {
   "codemirror_mode": {
    "name": "ipython",
    "version": 3
   },
   "file_extension": ".py",
   "mimetype": "text/x-python",
   "name": "python",
   "nbconvert_exporter": "python",
   "pygments_lexer": "ipython3",
   "version": "3.10.4"
  }
 },
 "nbformat": 4,
 "nbformat_minor": 5
}
