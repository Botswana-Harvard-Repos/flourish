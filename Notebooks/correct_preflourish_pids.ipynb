{
 "cells": [
  {
   "cell_type": "code",
   "execution_count": 1,
   "id": "88140120",
   "metadata": {},
   "outputs": [
    {
     "data": {
      "text/plain": [
       "False"
      ]
     },
     "execution_count": 1,
     "metadata": {},
     "output_type": "execute_result"
    }
   ],
   "source": [
    "import os\n",
    "os.environ[\"DJANGO_ALLOW_ASYNC_UNSAFE\"] = \"true\"\n",
    "from django.apps import apps as django_apps\n",
    "\n",
    "from django.db.models.signals import post_save\n",
    "post_save.disconnect(dispatch_uid='pre_flourish_assent_post_save')\n",
    "post_save.disconnect(dispatch_uid='pre_flourish_child_dummy_consent_on_post_save')"
   ]
  },
  {
   "cell_type": "code",
   "execution_count": 2,
   "id": "9a2e8229",
   "metadata": {},
   "outputs": [],
   "source": [
    "def get_childconsent_data(qs_data, parent_consent):\n",
    "    fields = ['first_name', 'last_name', 'gender', 'child_dob', 'child_test', 'child_remain_in_study',\n",
    "              'child_preg_test', 'child_knows_status', 'identity', 'identity_type', 'confirm_identity',\n",
    "              'future_studies_contact', 'consent_datetime']\n",
    "    data = {'subject_consent': parent_consent}\n",
    "    for field in fields:\n",
    "        data[field] = qs_data.get(field)\n",
    "    return data"
   ]
  },
  {
   "cell_type": "code",
   "execution_count": 3,
   "id": "b6f40adb",
   "metadata": {},
   "outputs": [],
   "source": [
    "def remove_related_objs(child_identifier):\n",
    "    registeredsubject = PreFlourishRegisteredSubject.objects.filter(\n",
    "        subject_identifier=child_identifier)\n",
    "    identifiermodel = IdentifierModel.objects.filter(identifier=child_identifier)\n",
    "    registeredsubject.delete()\n",
    "    identifiermodel.delete()"
   ]
  },
  {
   "cell_type": "code",
   "execution_count": 4,
   "id": "fb577c81",
   "metadata": {},
   "outputs": [],
   "source": [
    "siblings = []\n",
    "consents = PreFlourishConsent.objects.all()\n",
    "for consent in consents:\n",
    "    if consent.preflourishcaregiverchildconsent_set.count() > 1:\n",
    "        siblings.append(consent)"
   ]
  },
  {
   "cell_type": "code",
   "execution_count": 5,
   "id": "d4487317",
   "metadata": {},
   "outputs": [],
   "source": [
    "idxs_to_change = {}\n",
    "\n",
    "for consent in siblings:\n",
    "    idxs = []\n",
    "    child_consents = consent.preflourishcaregiverchildconsent_set.order_by(\n",
    "        'consent_datetime').values_list('subject_identifier', flat=True)\n",
    "    for child_sidx in child_consents:\n",
    "        if child_sidx[-3:] in ['-20', '-30', '-40']:\n",
    "            idxs.append(child_sidx)\n",
    "\n",
    "    idxs_to_change.update({f'{consent.subject_identifier}': idxs})\n",
    "    pf_childconsents = consent.preflourishcaregiverchildconsent_set.filter(\n",
    "        subject_identifier__in=idxs)\n",
    "    pf_childconsents_copy = []\n",
    "    for childconsent in pf_childconsents:\n",
    "        dict_copy = childconsent.__dict__.copy()\n",
    "        pf_childconsents_copy.append(get_childconsent_data(dict_copy, consent))\n",
    "        remove_related_objs(childconsent.subject_identifier)\n",
    "    pf_childconsents.delete()\n",
    "\n",
    "    for obj in pf_childconsents_copy:\n",
    "        # Recreate objects\n",
    "        childconsent = PreFlourishCaregiverChildConsent(**obj)\n",
    "        childconsent.save()"
   ]
  },
  {
   "cell_type": "code",
   "execution_count": 6,
   "id": "c0056656",
   "metadata": {},
   "outputs": [
    {
     "data": {
      "text/plain": [
       "{'B142-040991222-6P': ['B142-040991222-6P-20'],\n",
       " 'B142-040991228-3P': ['B142-040991228-3P-20'],\n",
       " 'B142-040991242-4P': ['B142-040991242-4P-20', 'B142-040991242-4P-30'],\n",
       " 'B142-040991244-0P': ['B142-040991244-0P-20']}"
      ]
     },
     "execution_count": 6,
     "metadata": {},
     "output_type": "execute_result"
    }
   ],
   "source": [
    "idxs_to_change"
   ]
  },
  {
   "cell_type": "code",
   "execution_count": 11,
   "id": "8d562bb4",
   "metadata": {},
   "outputs": [
    {
     "name": "stdout",
     "output_type": "stream",
     "text": [
      "B142-040991222-6P-20\n",
      "B142-040991228-3P-20\n",
      "B142-040991242-4P-20\n",
      "B142-040991242-4P-30\n",
      "B142-040991244-0P-20\n"
     ]
    }
   ],
   "source": [
    "from pre_flourish.models.appointment import Appointment\n",
    "\n",
    "# forms to change: Child Assent, DummyConsent, OnSchedules, Appointments, Visits, Contacts, OffSchedule, OffStudy\n",
    "for caregiver_idx, child_idxs in idxs_to_change.items():\n",
    "    for idx in child_idxs:\n",
    "        related_chilconsent = None\n",
    "        try:\n",
    "            assent = PreFlourishChildAssent.objects.get(subject_identifier=idx)\n",
    "        except PreFlourishChildAssent.DoesNotExist:\n",
    "            assent = None\n",
    "\n",
    "        if assent and assent.identity:\n",
    "            related_chilconsent = PreFlourishCaregiverChildConsent.objects.get(\n",
    "                identity=assent.identity)\n",
    "        elif assent:\n",
    "            related_chilconsent = PreFlourishCaregiverChildConsent.objects.get(\n",
    "                first_name=assent.first_name, last_name=assent.last_name, child_dob=assent.dob)\n",
    "\n",
    "        new_child_identifier = getattr(related_chilconsent, 'subject_identifier', None)\n",
    "        if not new_child_identifier:\n",
    "            print(idx)\n",
    "        if new_child_identifier:\n",
    "            print(idx)\n",
    "            post_save.disconnect(dispatch_uid='pre_flourish_assent_post_save')\n",
    "            post_save.disconnect(dispatch_uid='pre_flourish_child_dummy_consent_on_post_save')\n",
    "\n",
    "            OnScheduleChildPreFlourish.objects.filter(subject_identifier=idx).update(\n",
    "                subject_identifier=new_child_identifier)\n",
    "\n",
    "            SubjectScheduleHistory.objects.filter(subject_identifier=idx).update(\n",
    "                subject_identifier=new_child_identifier)\n",
    "\n",
    "            Appointment.objects.filter(subject_identifier=idx).update(\n",
    "                subject_identifier=new_child_identifier)\n",
    "\n",
    "            PreFlourishVisit.objects.filter(subject_identifier=idx).update(\n",
    "                subject_identifier=new_child_identifier)\n",
    "            # Update metadata\n",
    "            CrfMetadata.objects.filter(subject_identifier=idx).update(\n",
    "                subject_identifier=new_child_identifier)\n",
    "            RequisitionMetadata.objects.filter(subject_identifier=idx).update(\n",
    "                subject_identifier=new_child_identifier)\n",
    "\n",
    "            PreFlourishContact.objects.filter(subject_identifier=idx).update(\n",
    "                subject_identifier=new_child_identifier)\n",
    "\n",
    "            offstudy = PreFlourishChildOffStudy.objects.filter(subject_identifier=idx)\n",
    "            if offstudy:\n",
    "                offstudy.update(subject_identifier=new_child_identifier)\n",
    "                ChildOffSchedule.objects.filter(\n",
    "                    subject_identifier=idx).update(subject_identifier=new_child_identifier)\n",
    "\n",
    "            PreFlourishChildDummySubjectConsent.objects.filter(subject_identifier=idx).update(\n",
    "                subject_identifier=new_child_identifier)\n",
    "\n",
    "            assent.subject_identifier = new_child_identifier\n",
    "            assent.save()"
   ]
  },
  {
   "cell_type": "code",
   "execution_count": null,
   "id": "2516a92d",
   "metadata": {},
   "outputs": [],
   "source": []
  }
 ],
 "metadata": {
  "kernelspec": {
   "display_name": "Django Shell-Plus",
   "language": "python",
   "name": "django_extensions"
  },
  "language_info": {
   "codemirror_mode": {
    "name": "ipython",
    "version": 3
   },
   "file_extension": ".py",
   "mimetype": "text/x-python",
   "name": "python",
   "nbconvert_exporter": "python",
   "pygments_lexer": "ipython3",
   "version": "3.8.13"
  }
 },
 "nbformat": 4,
 "nbformat_minor": 5
}
