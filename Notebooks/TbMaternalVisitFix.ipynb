{
 "cells": [
  {
   "cell_type": "code",
   "execution_count": 1,
   "id": "8475c3fc",
   "metadata": {},
   "outputs": [],
   "source": [
    "# Imports\n",
    "import os \n",
    "os.environ[\"DJANGO_ALLOW_ASYNC_UNSAFE\"] = \"true\"\n"
   ]
  },
  {
   "cell_type": "code",
   "execution_count": 2,
   "id": "92c9acd1",
   "metadata": {},
   "outputs": [
    {
     "ename": "NameError",
     "evalue": "name 'TbInformedConsent' is not defined",
     "output_type": "error",
     "traceback": [
      "\u001b[0;31m---------------------------------------------------------------------------\u001b[0m",
      "\u001b[0;31mNameError\u001b[0m                                 Traceback (most recent call last)",
      "\u001b[1;32m/Users/mchawawa/source/flourish-project/flourish/Notebooks/TbMaternalVisitFix.ipynb Cell 2\u001b[0m in \u001b[0;36m<cell line: 1>\u001b[0;34m()\u001b[0m\n\u001b[0;32m----> <a href='vscode-notebook-cell:/Users/mchawawa/source/flourish-project/flourish/Notebooks/TbMaternalVisitFix.ipynb#X13sZmlsZQ%3D%3D?line=0'>1</a>\u001b[0m subject_identifiers \u001b[39m=\u001b[39m TbInformedConsent\u001b[39m.\u001b[39mobjects\u001b[39m.\u001b[39mvalues_list(\u001b[39m'\u001b[39m\u001b[39msubject_identifier\u001b[39m\u001b[39m'\u001b[39m, flat\u001b[39m=\u001b[39m\u001b[39mTrue\u001b[39;00m)\n\u001b[1;32m      <a href='vscode-notebook-cell:/Users/mchawawa/source/flourish-project/flourish/Notebooks/TbMaternalVisitFix.ipynb#X13sZmlsZQ%3D%3D?line=3'>4</a>\u001b[0m OnScheduleCohortATb2Months\u001b[39m.\u001b[39mobjects\u001b[39m.\u001b[39mfilter(\n\u001b[1;32m      <a href='vscode-notebook-cell:/Users/mchawawa/source/flourish-project/flourish/Notebooks/TbMaternalVisitFix.ipynb#X13sZmlsZQ%3D%3D?line=4'>5</a>\u001b[0m     schedule_name \u001b[39m=\u001b[39m \u001b[39m'\u001b[39m\u001b[39mtb_2_months_schedule\u001b[39m\u001b[39m'\u001b[39m,\n\u001b[1;32m      <a href='vscode-notebook-cell:/Users/mchawawa/source/flourish-project/flourish/Notebooks/TbMaternalVisitFix.ipynb#X13sZmlsZQ%3D%3D?line=5'>6</a>\u001b[0m     subject_identifier__in \u001b[39m=\u001b[39m subject_identifiers)\u001b[39m.\u001b[39mupdate(schedule_name\u001b[39m=\u001b[39m\u001b[39m'\u001b[39m\u001b[39ma_tb1_2_months_schedule1\u001b[39m\u001b[39m'\u001b[39m)\n\u001b[1;32m      <a href='vscode-notebook-cell:/Users/mchawawa/source/flourish-project/flourish/Notebooks/TbMaternalVisitFix.ipynb#X13sZmlsZQ%3D%3D?line=7'>8</a>\u001b[0m SubjectScheduleHistory\u001b[39m.\u001b[39mobjects\u001b[39m.\u001b[39mfilter(\n\u001b[1;32m      <a href='vscode-notebook-cell:/Users/mchawawa/source/flourish-project/flourish/Notebooks/TbMaternalVisitFix.ipynb#X13sZmlsZQ%3D%3D?line=8'>9</a>\u001b[0m     schedule_name \u001b[39m=\u001b[39m \u001b[39m'\u001b[39m\u001b[39mtb_2_months_schedule\u001b[39m\u001b[39m'\u001b[39m,\n\u001b[1;32m     <a href='vscode-notebook-cell:/Users/mchawawa/source/flourish-project/flourish/Notebooks/TbMaternalVisitFix.ipynb#X13sZmlsZQ%3D%3D?line=9'>10</a>\u001b[0m     subject_identifier__in \u001b[39m=\u001b[39m subject_identifiers)\u001b[39m.\u001b[39mupdate(schedule_name\u001b[39m=\u001b[39m\u001b[39m'\u001b[39m\u001b[39ma_tb1_2_months_schedule1\u001b[39m\u001b[39m'\u001b[39m)\n",
      "\u001b[0;31mNameError\u001b[0m: name 'TbInformedConsent' is not defined"
     ]
    }
   ],
   "source": [
    "subject_identifiers = TbInformedConsent.objects.values_list('subject_identifier', flat=True)\n",
    "\n",
    "\n",
    "OnScheduleCohortATb2Months.objects.filter(\n",
    "    schedule_name = 'tb_2_months_schedule',\n",
    "    subject_identifier__in = subject_identifiers).update(schedule_name='a_tb1_2_months_schedule1')\n",
    "\n",
    "SubjectScheduleHistory.objects.filter(\n",
    "    schedule_name = 'tb_2_months_schedule',\n",
    "    subject_identifier__in = subject_identifiers).update(schedule_name='a_tb1_2_months_schedule1')\n",
    "\n",
    "\n",
    "OnScheduleCohortATb6Months.objects.filter(\n",
    "    schedule_name = 'tb_6_months_schedule',\n",
    "    subject_identifier__in = subject_identifiers).update(schedule_name='a_tb1_6_months_schedule1')\n",
    "\n",
    "SubjectScheduleHistory.objects.filter(\n",
    "    schedule_name = 'tb_6_months_schedule',\n",
    "    subject_identifier__in = subject_identifiers).update(\n",
    "    schedule_name='a_tb1_6_months_schedule1'\n",
    ")\n"
   ]
  },
  {
   "cell_type": "code",
   "execution_count": 88,
   "id": "095f556d",
   "metadata": {},
   "outputs": [
    {
     "data": {
      "text/plain": [
       "8"
      ]
     },
     "execution_count": 88,
     "metadata": {},
     "output_type": "execute_result"
    }
   ],
   "source": [
    "from edc_appointment.models import Appointment \n",
    "\n",
    "Appointment.objects.filter(\n",
    "    schedule_name = 'tb_2_months_schedule',\n",
    "    subject_identifier__in = subject_identifiers\n",
    ").update(schedule_name='a_tb1_2_months_schedule1')\n",
    "\n",
    "Appointment.objects.filter(\n",
    "    schedule_name = 'tb_6_months_schedule',\n",
    "    subject_identifier__in = subject_identifiers\n",
    ").update(schedule_name='a_tb1_6_months_schedule1')\n"
   ]
  },
  {
   "cell_type": "code",
   "execution_count": 94,
   "id": "3ff747db",
   "metadata": {},
   "outputs": [
    {
     "ename": "SyntaxError",
     "evalue": "keyword argument repeated: schedule_name__icontains (4084180869.py, line 9)",
     "output_type": "error",
     "traceback": [
      "\u001b[0;36m  Input \u001b[0;32mIn [94]\u001b[0;36m\u001b[0m\n\u001b[0;31m    schedule_name__icontains = '2',\u001b[0m\n\u001b[0m    ^\u001b[0m\n\u001b[0;31mSyntaxError\u001b[0m\u001b[0;31m:\u001b[0m keyword argument repeated: schedule_name__icontains\n"
     ]
    }
   ],
   "source": [
    "# B142-040991009-7\n",
    "\n",
    "from django.db.models import Q\n",
    "\n",
    "OnScheduleCohortATb2Months.objects.filter(\n",
    "    subject_identifier='B142-040991009-7').update(schedule_name='a_tb2_2_months_schedule1')\n",
    "\n",
    "SubjectScheduleHistory.objects.filter(\n",
    "    subject_identifier = 'B142-040991009-7',\n",
    "    schedule_name__icontains = 'tb',\n",
    "    schedule_name__icontains = '2',\n",
    ").update(visit_schedule_name = 'a2_visit_schedule1', \n",
    "         schedule_name = 'a_tb2_2_months_schedule1')\n",
    "\n",
    "\n",
    "Appointment.objects.filter(\n",
    "    schedule_name__icontains = 'tb',\n",
    "    schedule_name__icontains = '2',\n",
    "    subject_identifier = 'B142-040991009-7',\n",
    ").update(schedule_name = 'a_tb2_2_months_schedule1', \n",
    "         visit_schedule_name = 'a2_visit_schedule1')\n",
    "\n",
    "\n",
    "#  B142-040990570-9\n",
    "\n",
    "OnScheduleCohortATb2Months.objects.filter(\n",
    "    subject_identifier='B142-040990570-9').update(schedule_name='a_tb3_2_months_schedule1')\n",
    "\n",
    "SubjectScheduleHistory.objects.filter(\n",
    "    Q(schedule_name__icontains = 'tb') &\n",
    "    Q(schedule_name__icontains = '2'),\n",
    "        subject_identifier = 'B142-040990570-9',\n",
    ").update(visit_schedule_name = 'a3_visit_schedule1', \n",
    "         schedule_name = 'a_tb3_2_months_schedule1')\n",
    "\n",
    "\n",
    "Appointment.objects.filter(\n",
    "    Q(schedule_name__icontains = 'tb') &\n",
    "    Q(schedule_name__icontains = '2'),\n",
    "    subject_identifier = 'B142-040990570-9',\n",
    ").update(schedule_name = 'a_tb3_2_months_schedule1', \n",
    "         visit_schedule_name = 'a3_visit_schedule1')\n",
    "\n",
    "\n"
   ]
  },
  {
   "cell_type": "code",
   "execution_count": 70,
   "id": "393c464b",
   "metadata": {},
   "outputs": [
    {
     "data": {
      "text/plain": [
       "{'_state': <django.db.models.base.ModelState at 0x7fd2d4a80340>,\n",
       " 'created': datetime.datetime(2022, 7, 11, 13, 59, 57, 486203, tzinfo=<UTC>),\n",
       " 'modified': datetime.datetime(2022, 12, 5, 14, 33, 54, 788571, tzinfo=<UTC>),\n",
       " 'user_created': 'flourish',\n",
       " 'user_modified': 'flourish',\n",
       " 'hostname_created': 'flourish',\n",
       " 'hostname_modified': 'flourish',\n",
       " 'revision': '',\n",
       " 'device_created': '99',\n",
       " 'device_modified': '99',\n",
       " 'id': UUID('0240157d-8b0e-4996-8a80-326d604ff52b'),\n",
       " 'site_id': 40,\n",
       " 'report_datetime': datetime.datetime(2022, 3, 25, 20, 0, tzinfo=<UTC>),\n",
       " 'onschedule_datetime': datetime.datetime(2022, 3, 25, 20, 0, tzinfo=<UTC>),\n",
       " 'subject_identifier': 'B142-040990479-3',\n",
       " 'child_subject_identifier': 'B142-040990479-3-10',\n",
       " 'schedule_name': 'a_tb1_2_months_schedule1'}"
      ]
     },
     "execution_count": 70,
     "metadata": {},
     "output_type": "execute_result"
    }
   ],
   "source": [
    "OnScheduleCohortATb2Months.objects.first().__dict__"
   ]
  },
  {
   "cell_type": "code",
   "execution_count": null,
   "id": "bee4675e",
   "metadata": {},
   "outputs": [],
   "source": []
  }
 ],
 "metadata": {
  "kernelspec": {
   "display_name": "flourish",
   "language": "python",
   "name": "python3"
  },
  "language_info": {
   "codemirror_mode": {
    "name": "ipython",
    "version": 3
   },
   "file_extension": ".py",
   "mimetype": "text/x-python",
   "name": "python",
   "nbconvert_exporter": "python",
   "pygments_lexer": "ipython3",
   "version": "3.10.4"
  }
 },
 "nbformat": 4,
 "nbformat_minor": 5
}
