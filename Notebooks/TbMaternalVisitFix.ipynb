{
 "cells": [
  {
   "cell_type": "code",
   "execution_count": 86,
   "id": "8475c3fc",
   "metadata": {},
   "outputs": [],
   "source": [
    "# Imports\n",
    "import os \n",
    "os.environ[\"DJANGO_ALLOW_ASYNC_UNSAFE\"] = \"true\"\n"
   ]
  },
  {
   "cell_type": "code",
   "execution_count": 87,
   "id": "92c9acd1",
   "metadata": {},
   "outputs": [
    {
     "data": {
      "text/plain": [
       "9"
      ]
     },
     "execution_count": 87,
     "metadata": {},
     "output_type": "execute_result"
    }
   ],
   "source": [
    "subject_identifiers = TbInformedConsent.objects.values_list('subject_identifier', flat=True)\n",
    "\n",
    "\n",
    "OnScheduleCohortATb2Months.objects.filter(\n",
    "    schedule_name = 'tb_2_months_schedule',\n",
    "    subject_identifier__in = subject_identifiers).update(schedule_name='tb_two1_months_schedule1')\n",
    "\n",
    "SubjectScheduleHistory.objects.filter(\n",
    "    schedule_name = 'tb_2_months_schedule',\n",
    "    subject_identifier__in = subject_identifiers).update(schedule_name='tb_two1_months_schedule1')\n",
    "\n",
    "\n",
    "OnScheduleCohortATb6Months.objects.filter(\n",
    "    schedule_name = 'tb_6_months_schedule',\n",
    "    subject_identifier__in = subject_identifiers).update(schedule_name='tb_six1_months_schedule1')\n",
    "\n",
    "SubjectScheduleHistory.objects.filter(\n",
    "    schedule_name = 'tb_6_months_schedule',\n",
    "    subject_identifier__in = subject_identifiers).update(\n",
    "    schedule_name='tb_six1_months_schedule1'\n",
    ")\n"
   ]
  },
  {
   "cell_type": "code",
   "execution_count": 88,
   "id": "095f556d",
   "metadata": {},
   "outputs": [
    {
     "data": {
      "text/plain": [
       "8"
      ]
     },
     "execution_count": 88,
     "metadata": {},
     "output_type": "execute_result"
    }
   ],
   "source": [
    "from edc_appointment.models import Appointment \n",
    "\n",
    "Appointment.objects.filter(\n",
    "    schedule_name = 'tb_2_months_schedule',\n",
    "    subject_identifier__in = subject_identifiers\n",
    ").update(schedule_name='tb_two1_months_schedule1')\n",
    "\n",
    "Appointment.objects.filter(\n",
    "    schedule_name = 'tb_6_months_schedule',\n",
    "    subject_identifier__in = subject_identifiers\n",
    ").update(schedule_name='tb_six1_months_schedule1')\n"
   ]
  },
  {
   "cell_type": "code",
   "execution_count": 94,
   "id": "3ff747db",
   "metadata": {},
   "outputs": [
    {
     "ename": "SyntaxError",
     "evalue": "keyword argument repeated: schedule_name__icontains (4084180869.py, line 9)",
     "output_type": "error",
     "traceback": [
      "\u001b[0;36m  Input \u001b[0;32mIn [94]\u001b[0;36m\u001b[0m\n\u001b[0;31m    schedule_name__icontains = '2',\u001b[0m\n\u001b[0m    ^\u001b[0m\n\u001b[0;31mSyntaxError\u001b[0m\u001b[0;31m:\u001b[0m keyword argument repeated: schedule_name__icontains\n"
     ]
    }
   ],
   "source": [
    "# B142-040991009-7\n",
    "from djan\n",
    "OnScheduleCohortATb2Months.objects.filter(\n",
    "    subject_identifier='B142-040991009-7').update(schedule_name='tb_two2_months_schedule1')\n",
    "\n",
    "SubjectScheduleHistory.objects.filter(\n",
    "    subject_identifier = 'B142-040991009-7',\n",
    "    schedule_name__icontains = 'tb',\n",
    "    schedule_name__icontains = '2',\n",
    ").update(visit_schedule_name = 'a2_visit_schedule1', \n",
    "         schedule_name = 'tb_two2_months_schedule1')\n",
    "\n",
    "\n",
    "Appointment.objects.filter(\n",
    "    schedule_name__icontains = 'tb',\n",
    "    schedule_name__icontains = '2',\n",
    "    subject_identifier = 'B142-040991009-7',\n",
    ").update(schedule_name = 'tb_two2_months_schedule1', \n",
    "         visit_schedule_name = 'a2_visit_schedule1')\n",
    "\n",
    "\n",
    "#  B142-040990570-9\n",
    "\n",
    "OnScheduleCohortATb2Months.objects.filter(\n",
    "    subject_identifier='B142-040990570-9').update(schedule_name='tb_two3_months_schedule1')\n",
    "\n",
    "SubjectScheduleHistory.objects.filter(\n",
    "    Q(schedule_name__icontains = 'tb') &\n",
    "    Q(schedule_name__icontains = '2'),\n",
    "        subject_identifier = 'B142-040990570-9',\n",
    ").update(visit_schedule_name = 'a3_visit_schedule1', \n",
    "         schedule_name = 'tb_two3_months_schedule1')\n",
    "\n",
    "\n",
    "Appointment.objects.filter(\n",
    "    Q(schedule_name__icontains = 'tb') &\n",
    "    Q(schedule_name__icontains = '2'),\n",
    "    subject_identifier = 'B142-040990570-9',\n",
    ").update(schedule_name = 'tb_two3_months_schedule1', \n",
    "         visit_schedule_name = 'a3_visit_schedule1')\n",
    "\n",
    "\n"
   ]
  },
  {
   "cell_type": "code",
   "execution_count": 70,
   "id": "393c464b",
   "metadata": {},
   "outputs": [
    {
     "data": {
      "text/plain": [
       "{'_state': <django.db.models.base.ModelState at 0x7fd2d4a80340>,\n",
       " 'created': datetime.datetime(2022, 7, 11, 13, 59, 57, 486203, tzinfo=<UTC>),\n",
       " 'modified': datetime.datetime(2022, 12, 5, 14, 33, 54, 788571, tzinfo=<UTC>),\n",
       " 'user_created': 'flourish',\n",
       " 'user_modified': 'flourish',\n",
       " 'hostname_created': 'flourish',\n",
       " 'hostname_modified': 'flourish',\n",
       " 'revision': '',\n",
       " 'device_created': '99',\n",
       " 'device_modified': '99',\n",
       " 'id': UUID('0240157d-8b0e-4996-8a80-326d604ff52b'),\n",
       " 'site_id': 40,\n",
       " 'report_datetime': datetime.datetime(2022, 3, 25, 20, 0, tzinfo=<UTC>),\n",
       " 'onschedule_datetime': datetime.datetime(2022, 3, 25, 20, 0, tzinfo=<UTC>),\n",
       " 'subject_identifier': 'B142-040990479-3',\n",
       " 'child_subject_identifier': 'B142-040990479-3-10',\n",
       " 'schedule_name': 'tb_two1_months_schedule1'}"
      ]
     },
     "execution_count": 70,
     "metadata": {},
     "output_type": "execute_result"
    }
   ],
   "source": [
    "OnScheduleCohortATb2Months.objects.first().__dict__"
   ]
  },
  {
   "cell_type": "code",
   "execution_count": null,
   "id": "bee4675e",
   "metadata": {},
   "outputs": [],
   "source": []
  }
 ],
 "metadata": {
  "kernelspec": {
   "display_name": "Django Shell-Plus",
   "language": "python",
   "name": "django_extensions"
  },
  "language_info": {
   "codemirror_mode": {
    "name": "ipython",
    "version": 3
   },
   "file_extension": ".py",
   "mimetype": "text/x-python",
   "name": "python",
   "nbconvert_exporter": "python",
   "pygments_lexer": "ipython3",
   "version": "3.10.4"
  }
 },
 "nbformat": 4,
 "nbformat_minor": 5
}
