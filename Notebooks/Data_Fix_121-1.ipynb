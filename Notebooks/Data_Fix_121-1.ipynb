{
 "cells": [
  {
   "cell_type": "code",
   "execution_count": 1,
   "outputs": [
    {
     "name": "stdout",
     "output_type": "stream",
     "text": [
      "  * Reading config from flourish.ini\n",
      "Loading Data Encryption (init)...\n",
      " * loading keys from /Users/salahdin/PycharmProjects/flourish/flourish/crypto_fields\n",
      " * loading rsa.restricted.public ... Done.\n",
      " * loading rsa.restricted.private ... Done.\n",
      " * loading rsa.local.public ... Done.\n",
      " * loading rsa.local.private ... Done.\n",
      " * loading aes.local ... Done.\n",
      " * loading aes.restricted ... Done.\n",
      " * loading salt.local ... Done.\n",
      " * loading salt.restricted ... Done.\n",
      " Done loading Data Encryption (init)...\n"
     ]
    },
    {
     "name": "stderr",
     "output_type": "stream",
     "text": [
      "/Users/salahdin/PycharmProjects/flourish/flourish/venv/lib/python3.10/site-packages/django_q/conf.py:139: UserWarning: Retry and timeout are misconfigured. Set retry larger than timeout, \n",
      "        failure to do so will cause the tasks to be retriggered before completion. \n",
      "        See https://django-q.readthedocs.io/en/latest/configure.html#retry for details.\n",
      "  warn(\n",
      "/Users/salahdin/PycharmProjects/flourish/flourish/venv/lib/python3.10/site-packages/simple_history/models.py:148: UserWarning: HistoricalRecords added to abstract model (HistoryManagerMixin) without inherit=True\n",
      "  warnings.warn(msg, UserWarning)\n",
      "/Users/salahdin/PycharmProjects/flourish/flourish/venv/lib/python3.10/site-packages/simple_history/models.py:148: UserWarning: HistoricalRecords added to abstract model (ScheduleModelMixin) without inherit=True\n",
      "  warnings.warn(msg, UserWarning)\n",
      "/Users/salahdin/PycharmProjects/flourish/flourish/venv/lib/python3.10/site-packages/simple_history/models.py:148: UserWarning: HistoricalRecords added to abstract model (VisitModelMixin) without inherit=True\n",
      "  warnings.warn(msg, UserWarning)\n",
      "/Users/salahdin/PycharmProjects/flourish/flourish/venv/lib/python3.10/site-packages/simple_history/models.py:148: UserWarning: HistoricalRecords added to abstract model (OnScheduleModelMixin) without inherit=True\n",
      "  warnings.warn(msg, UserWarning)\n",
      "/Users/salahdin/PycharmProjects/flourish/flourish/venv/lib/python3.10/site-packages/simple_history/models.py:148: UserWarning: HistoricalRecords added to abstract model (OnScheduleModelMixin) without inherit=True\n",
      "  warnings.warn(msg, UserWarning)\n",
      "/Users/salahdin/PycharmProjects/flourish/flourish/venv/lib/python3.10/site-packages/simple_history/models.py:148: UserWarning: HistoricalRecords added to abstract model (OffStudyMixin) without inherit=True\n",
      "  warnings.warn(msg, UserWarning)\n"
     ]
    },
    {
     "ename": "ImproperlyConfigured",
     "evalue": "Invalid visit model attribute 'maternal_visit' specified for model pre_flourish.cyhuupreenrollment. See AppConfig for 'edc_visit_tracking'. Got type object 'CyhuuPreEnrollment' has no attribute 'maternal_visit'",
     "output_type": "error",
     "traceback": [
      "\u001B[0;31m---------------------------------------------------------------------------\u001B[0m",
      "\u001B[0;31mAttributeError\u001B[0m                            Traceback (most recent call last)",
      "File \u001B[0;32m~/PycharmProjects/flourish/flourish/venv/lib/python3.10/site-packages/edc_visit_tracking/apps.py:84\u001B[0m, in \u001B[0;36mAppConfig.visit_model_attr\u001B[0;34m(self, label_lower)\u001B[0m\n\u001B[1;32m     83\u001B[0m \u001B[38;5;28;01mtry\u001B[39;00m:\n\u001B[0;32m---> 84\u001B[0m     \u001B[38;5;28;43mgetattr\u001B[39;49m\u001B[43m(\u001B[49m\u001B[43mmodel\u001B[49m\u001B[43m,\u001B[49m\u001B[43m \u001B[49m\u001B[43mvisit_model_attr\u001B[49m\u001B[43m)\u001B[49m\n\u001B[1;32m     85\u001B[0m \u001B[38;5;28;01mexcept\u001B[39;00m \u001B[38;5;167;01mAttributeError\u001B[39;00m \u001B[38;5;28;01mas\u001B[39;00m e:\n",
      "\u001B[0;31mAttributeError\u001B[0m: type object 'CyhuuPreEnrollment' has no attribute 'maternal_visit'",
      "\nDuring handling of the above exception, another exception occurred:\n",
      "\u001B[0;31mImproperlyConfigured\u001B[0m                      Traceback (most recent call last)",
      "Cell \u001B[0;32mIn[1], line 10\u001B[0m\n\u001B[1;32m      7\u001B[0m os\u001B[38;5;241m.\u001B[39menviron[\u001B[38;5;124m\"\u001B[39m\u001B[38;5;124mDJANGO_ALLOW_ASYNC_UNSAFE\u001B[39m\u001B[38;5;124m\"\u001B[39m] \u001B[38;5;241m=\u001B[39m \u001B[38;5;124m\"\u001B[39m\u001B[38;5;124mtrue\u001B[39m\u001B[38;5;124m\"\u001B[39m\n\u001B[1;32m      8\u001B[0m \u001B[38;5;28;01mfrom\u001B[39;00m \u001B[38;5;21;01mdjango\u001B[39;00m\u001B[38;5;21;01m.\u001B[39;00m\u001B[38;5;21;01mapps\u001B[39;00m \u001B[38;5;28;01mimport\u001B[39;00m apps \u001B[38;5;28;01mas\u001B[39;00m django_apps\n\u001B[0;32m---> 10\u001B[0m \u001B[43mdjango\u001B[49m\u001B[38;5;241;43m.\u001B[39;49m\u001B[43msetup\u001B[49m\u001B[43m(\u001B[49m\u001B[43m)\u001B[49m\n",
      "File \u001B[0;32m~/PycharmProjects/flourish/flourish/venv/lib/python3.10/site-packages/django/__init__.py:24\u001B[0m, in \u001B[0;36msetup\u001B[0;34m(set_prefix)\u001B[0m\n\u001B[1;32m     20\u001B[0m \u001B[38;5;28;01mif\u001B[39;00m set_prefix:\n\u001B[1;32m     21\u001B[0m     set_script_prefix(\n\u001B[1;32m     22\u001B[0m         \u001B[38;5;124m'\u001B[39m\u001B[38;5;124m/\u001B[39m\u001B[38;5;124m'\u001B[39m \u001B[38;5;28;01mif\u001B[39;00m settings\u001B[38;5;241m.\u001B[39mFORCE_SCRIPT_NAME \u001B[38;5;129;01mis\u001B[39;00m \u001B[38;5;28;01mNone\u001B[39;00m \u001B[38;5;28;01melse\u001B[39;00m settings\u001B[38;5;241m.\u001B[39mFORCE_SCRIPT_NAME\n\u001B[1;32m     23\u001B[0m     )\n\u001B[0;32m---> 24\u001B[0m \u001B[43mapps\u001B[49m\u001B[38;5;241;43m.\u001B[39;49m\u001B[43mpopulate\u001B[49m\u001B[43m(\u001B[49m\u001B[43msettings\u001B[49m\u001B[38;5;241;43m.\u001B[39;49m\u001B[43mINSTALLED_APPS\u001B[49m\u001B[43m)\u001B[49m\n",
      "File \u001B[0;32m~/PycharmProjects/flourish/flourish/venv/lib/python3.10/site-packages/django/apps/registry.py:122\u001B[0m, in \u001B[0;36mApps.populate\u001B[0;34m(self, installed_apps)\u001B[0m\n\u001B[1;32m    120\u001B[0m \u001B[38;5;66;03m# Phase 3: run ready() methods of app configs.\u001B[39;00m\n\u001B[1;32m    121\u001B[0m \u001B[38;5;28;01mfor\u001B[39;00m app_config \u001B[38;5;129;01min\u001B[39;00m \u001B[38;5;28mself\u001B[39m\u001B[38;5;241m.\u001B[39mget_app_configs():\n\u001B[0;32m--> 122\u001B[0m     \u001B[43mapp_config\u001B[49m\u001B[38;5;241;43m.\u001B[39;49m\u001B[43mready\u001B[49m\u001B[43m(\u001B[49m\u001B[43m)\u001B[49m\n\u001B[1;32m    124\u001B[0m \u001B[38;5;28mself\u001B[39m\u001B[38;5;241m.\u001B[39mready \u001B[38;5;241m=\u001B[39m \u001B[38;5;28;01mTrue\u001B[39;00m\n\u001B[1;32m    125\u001B[0m \u001B[38;5;28mself\u001B[39m\u001B[38;5;241m.\u001B[39mready_event\u001B[38;5;241m.\u001B[39mset()\n",
      "File \u001B[0;32m~/PycharmProjects/flourish/flourish/venv/lib/python3.10/site-packages/django/contrib/admin/apps.py:24\u001B[0m, in \u001B[0;36mAdminConfig.ready\u001B[0;34m(self)\u001B[0m\n\u001B[1;32m     22\u001B[0m \u001B[38;5;28;01mdef\u001B[39;00m \u001B[38;5;21mready\u001B[39m(\u001B[38;5;28mself\u001B[39m):\n\u001B[1;32m     23\u001B[0m     \u001B[38;5;28msuper\u001B[39m()\u001B[38;5;241m.\u001B[39mready()\n\u001B[0;32m---> 24\u001B[0m     \u001B[38;5;28;43mself\u001B[39;49m\u001B[38;5;241;43m.\u001B[39;49m\u001B[43mmodule\u001B[49m\u001B[38;5;241;43m.\u001B[39;49m\u001B[43mautodiscover\u001B[49m\u001B[43m(\u001B[49m\u001B[43m)\u001B[49m\n",
      "File \u001B[0;32m~/PycharmProjects/flourish/flourish/venv/lib/python3.10/site-packages/django/contrib/admin/__init__.py:24\u001B[0m, in \u001B[0;36mautodiscover\u001B[0;34m()\u001B[0m\n\u001B[1;32m     23\u001B[0m \u001B[38;5;28;01mdef\u001B[39;00m \u001B[38;5;21mautodiscover\u001B[39m():\n\u001B[0;32m---> 24\u001B[0m     \u001B[43mautodiscover_modules\u001B[49m\u001B[43m(\u001B[49m\u001B[38;5;124;43m'\u001B[39;49m\u001B[38;5;124;43madmin\u001B[39;49m\u001B[38;5;124;43m'\u001B[39;49m\u001B[43m,\u001B[49m\u001B[43m \u001B[49m\u001B[43mregister_to\u001B[49m\u001B[38;5;241;43m=\u001B[39;49m\u001B[43msite\u001B[49m\u001B[43m)\u001B[49m\n",
      "File \u001B[0;32m~/PycharmProjects/flourish/flourish/venv/lib/python3.10/site-packages/django/utils/module_loading.py:47\u001B[0m, in \u001B[0;36mautodiscover_modules\u001B[0;34m(*args, **kwargs)\u001B[0m\n\u001B[1;32m     44\u001B[0m     \u001B[38;5;28;01mif\u001B[39;00m register_to:\n\u001B[1;32m     45\u001B[0m         before_import_registry \u001B[38;5;241m=\u001B[39m copy\u001B[38;5;241m.\u001B[39mcopy(register_to\u001B[38;5;241m.\u001B[39m_registry)\n\u001B[0;32m---> 47\u001B[0m     \u001B[43mimport_module\u001B[49m\u001B[43m(\u001B[49m\u001B[38;5;124;43m'\u001B[39;49m\u001B[38;5;132;43;01m%s\u001B[39;49;00m\u001B[38;5;124;43m.\u001B[39;49m\u001B[38;5;132;43;01m%s\u001B[39;49;00m\u001B[38;5;124;43m'\u001B[39;49m\u001B[43m \u001B[49m\u001B[38;5;241;43m%\u001B[39;49m\u001B[43m \u001B[49m\u001B[43m(\u001B[49m\u001B[43mapp_config\u001B[49m\u001B[38;5;241;43m.\u001B[39;49m\u001B[43mname\u001B[49m\u001B[43m,\u001B[49m\u001B[43m \u001B[49m\u001B[43mmodule_to_search\u001B[49m\u001B[43m)\u001B[49m\u001B[43m)\u001B[49m\n\u001B[1;32m     48\u001B[0m \u001B[38;5;28;01mexcept\u001B[39;00m \u001B[38;5;167;01mException\u001B[39;00m:\n\u001B[1;32m     49\u001B[0m     \u001B[38;5;66;03m# Reset the registry to the state before the last import\u001B[39;00m\n\u001B[1;32m     50\u001B[0m     \u001B[38;5;66;03m# as this import will have to reoccur on the next request and\u001B[39;00m\n\u001B[1;32m     51\u001B[0m     \u001B[38;5;66;03m# this could raise NotRegistered and AlreadyRegistered\u001B[39;00m\n\u001B[1;32m     52\u001B[0m     \u001B[38;5;66;03m# exceptions (see #8245).\u001B[39;00m\n\u001B[1;32m     53\u001B[0m     \u001B[38;5;28;01mif\u001B[39;00m register_to:\n",
      "File \u001B[0;32m/Library/Frameworks/Python.framework/Versions/3.10/lib/python3.10/importlib/__init__.py:126\u001B[0m, in \u001B[0;36mimport_module\u001B[0;34m(name, package)\u001B[0m\n\u001B[1;32m    124\u001B[0m             \u001B[38;5;28;01mbreak\u001B[39;00m\n\u001B[1;32m    125\u001B[0m         level \u001B[38;5;241m+\u001B[39m\u001B[38;5;241m=\u001B[39m \u001B[38;5;241m1\u001B[39m\n\u001B[0;32m--> 126\u001B[0m \u001B[38;5;28;01mreturn\u001B[39;00m \u001B[43m_bootstrap\u001B[49m\u001B[38;5;241;43m.\u001B[39;49m\u001B[43m_gcd_import\u001B[49m\u001B[43m(\u001B[49m\u001B[43mname\u001B[49m\u001B[43m[\u001B[49m\u001B[43mlevel\u001B[49m\u001B[43m:\u001B[49m\u001B[43m]\u001B[49m\u001B[43m,\u001B[49m\u001B[43m \u001B[49m\u001B[43mpackage\u001B[49m\u001B[43m,\u001B[49m\u001B[43m \u001B[49m\u001B[43mlevel\u001B[49m\u001B[43m)\u001B[49m\n",
      "File \u001B[0;32m<frozen importlib._bootstrap>:1050\u001B[0m, in \u001B[0;36m_gcd_import\u001B[0;34m(name, package, level)\u001B[0m\n",
      "File \u001B[0;32m<frozen importlib._bootstrap>:1027\u001B[0m, in \u001B[0;36m_find_and_load\u001B[0;34m(name, import_)\u001B[0m\n",
      "File \u001B[0;32m<frozen importlib._bootstrap>:1006\u001B[0m, in \u001B[0;36m_find_and_load_unlocked\u001B[0;34m(name, import_)\u001B[0m\n",
      "File \u001B[0;32m<frozen importlib._bootstrap>:688\u001B[0m, in \u001B[0;36m_load_unlocked\u001B[0;34m(spec)\u001B[0m\n",
      "File \u001B[0;32m<frozen importlib._bootstrap_external>:883\u001B[0m, in \u001B[0;36mexec_module\u001B[0;34m(self, module)\u001B[0m\n",
      "File \u001B[0;32m<frozen importlib._bootstrap>:241\u001B[0m, in \u001B[0;36m_call_with_frames_removed\u001B[0;34m(f, *args, **kwds)\u001B[0m\n",
      "File \u001B[0;32m~/PycharmProjects/flourish/pre-flourish/pre_flourish/admin/__init__.py:1\u001B[0m\n\u001B[0;32m----> 1\u001B[0m \u001B[38;5;28;01mfrom\u001B[39;00m \u001B[38;5;21;01m.\u001B[39;00m\u001B[38;5;21;01mcaregiver\u001B[39;00m \u001B[38;5;28;01mimport\u001B[39;00m CaregiverOffScheduleAdmin\n\u001B[1;32m      2\u001B[0m \u001B[38;5;28;01mfrom\u001B[39;00m \u001B[38;5;21;01m.\u001B[39;00m\u001B[38;5;21;01mcaregiver\u001B[39;00m \u001B[38;5;28;01mimport\u001B[39;00m CyhuuPreEnrollmentAdmin\n\u001B[1;32m      3\u001B[0m \u001B[38;5;28;01mfrom\u001B[39;00m \u001B[38;5;21;01m.\u001B[39;00m\u001B[38;5;21;01mcaregiver\u001B[39;00m \u001B[38;5;28;01mimport\u001B[39;00m PreFlourishCaregiverLocatorAdmin\n",
      "File \u001B[0;32m~/PycharmProjects/flourish/pre-flourish/pre_flourish/admin/caregiver/__init__.py:1\u001B[0m\n\u001B[0;32m----> 1\u001B[0m \u001B[38;5;28;01mfrom\u001B[39;00m \u001B[38;5;21;01m.\u001B[39;00m\u001B[38;5;21;01mcyhuu_pre_enrollment_admin\u001B[39;00m \u001B[38;5;28;01mimport\u001B[39;00m CyhuuPreEnrollmentAdmin\n\u001B[1;32m      2\u001B[0m \u001B[38;5;28;01mfrom\u001B[39;00m \u001B[38;5;21;01m.\u001B[39;00m\u001B[38;5;21;01moffschedule_admin\u001B[39;00m \u001B[38;5;28;01mimport\u001B[39;00m CaregiverOffScheduleAdmin\n\u001B[1;32m      3\u001B[0m \u001B[38;5;28;01mfrom\u001B[39;00m \u001B[38;5;21;01m.\u001B[39;00m\u001B[38;5;21;01mpre_flourish_caregiver_locator_admin\u001B[39;00m \u001B[38;5;28;01mimport\u001B[39;00m PreFlourishCaregiverLocatorAdmin\n",
      "File \u001B[0;32m~/PycharmProjects/flourish/pre-flourish/pre_flourish/admin/caregiver/cyhuu_pre_enrollment_admin.py:12\u001B[0m\n\u001B[1;32m      7\u001B[0m \u001B[38;5;28;01mfrom\u001B[39;00m \u001B[38;5;21;01m.\u001B[39;00m\u001B[38;5;21;01m.\u001B[39;00m\u001B[38;5;21;01m.\u001B[39;00m\u001B[38;5;21;01mforms\u001B[39;00m \u001B[38;5;28;01mimport\u001B[39;00m CyhuuPreEnrollmentForm\n\u001B[1;32m      8\u001B[0m \u001B[38;5;28;01mfrom\u001B[39;00m \u001B[38;5;21;01m.\u001B[39;00m\u001B[38;5;21;01m.\u001B[39;00m\u001B[38;5;21;01m.\u001B[39;00m\u001B[38;5;21;01mmodels\u001B[39;00m \u001B[38;5;28;01mimport\u001B[39;00m CyhuuPreEnrollment\n\u001B[1;32m     11\u001B[0m \u001B[38;5;129;43m@admin\u001B[39;49m\u001B[38;5;241;43m.\u001B[39;49m\u001B[43mregister\u001B[49m\u001B[43m(\u001B[49m\u001B[43mCyhuuPreEnrollment\u001B[49m\u001B[43m,\u001B[49m\u001B[43m \u001B[49m\u001B[43msite\u001B[49m\u001B[38;5;241;43m=\u001B[39;49m\u001B[43mpre_flourish_admin\u001B[49m\u001B[43m)\u001B[49m\n\u001B[0;32m---> 12\u001B[0m \u001B[38;5;28;43;01mclass\u001B[39;49;00m\u001B[43m \u001B[49m\u001B[38;5;21;43;01mCyhuuPreEnrollmentAdmin\u001B[39;49;00m\u001B[43m(\u001B[49m\u001B[43mCrfModelAdminMixin\u001B[49m\u001B[43m,\u001B[49m\u001B[43m \u001B[49m\u001B[43madmin\u001B[49m\u001B[38;5;241;43m.\u001B[39;49m\u001B[43mModelAdmin\u001B[49m\u001B[43m)\u001B[49m\u001B[43m:\u001B[49m\n\u001B[1;32m     14\u001B[0m \u001B[43m    \u001B[49m\u001B[43mform\u001B[49m\u001B[43m \u001B[49m\u001B[38;5;241;43m=\u001B[39;49m\u001B[43m \u001B[49m\u001B[43mCyhuuPreEnrollmentForm\u001B[49m\n\u001B[1;32m     16\u001B[0m \u001B[43m    \u001B[49m\u001B[43mfieldsets\u001B[49m\u001B[43m \u001B[49m\u001B[38;5;241;43m=\u001B[39;49m\u001B[43m \u001B[49m\u001B[43m(\u001B[49m\n\u001B[1;32m     17\u001B[0m \u001B[43m        \u001B[49m\u001B[43m(\u001B[49m\u001B[38;5;28;43;01mNone\u001B[39;49;00m\u001B[43m,\u001B[49m\u001B[43m \u001B[49m\u001B[43m{\u001B[49m\n\u001B[1;32m     18\u001B[0m \u001B[43m            \u001B[49m\u001B[38;5;124;43m'\u001B[39;49m\u001B[38;5;124;43mfields\u001B[39;49m\u001B[38;5;124;43m'\u001B[39;49m\u001B[43m:\u001B[49m\u001B[43m \u001B[49m\u001B[43m[\u001B[49m\n\u001B[0;32m   (...)\u001B[0m\n\u001B[1;32m     25\u001B[0m \u001B[43m            \u001B[49m\u001B[43m]\u001B[49m\u001B[43m}\u001B[49m\n\u001B[1;32m     26\u001B[0m \u001B[43m         \u001B[49m\u001B[43m)\u001B[49m\u001B[43m,\u001B[49m\u001B[43m \u001B[49m\u001B[43maudit_fieldset_tuple\u001B[49m\u001B[43m)\u001B[49m\n",
      "File \u001B[0;32m~/PycharmProjects/flourish/flourish/venv/lib/python3.10/site-packages/django/contrib/admin/decorators.py:27\u001B[0m, in \u001B[0;36mregister.<locals>._model_admin_wrapper\u001B[0;34m(admin_class)\u001B[0m\n\u001B[1;32m     24\u001B[0m \u001B[38;5;28;01mif\u001B[39;00m \u001B[38;5;129;01mnot\u001B[39;00m \u001B[38;5;28missubclass\u001B[39m(admin_class, ModelAdmin):\n\u001B[1;32m     25\u001B[0m     \u001B[38;5;28;01mraise\u001B[39;00m \u001B[38;5;167;01mValueError\u001B[39;00m(\u001B[38;5;124m'\u001B[39m\u001B[38;5;124mWrapped class must subclass ModelAdmin.\u001B[39m\u001B[38;5;124m'\u001B[39m)\n\u001B[0;32m---> 27\u001B[0m \u001B[43madmin_site\u001B[49m\u001B[38;5;241;43m.\u001B[39;49m\u001B[43mregister\u001B[49m\u001B[43m(\u001B[49m\u001B[43mmodels\u001B[49m\u001B[43m,\u001B[49m\u001B[43m \u001B[49m\u001B[43madmin_class\u001B[49m\u001B[38;5;241;43m=\u001B[39;49m\u001B[43madmin_class\u001B[49m\u001B[43m)\u001B[49m\n\u001B[1;32m     29\u001B[0m \u001B[38;5;28;01mreturn\u001B[39;00m admin_class\n",
      "File \u001B[0;32m~/PycharmProjects/flourish/flourish/venv/lib/python3.10/site-packages/django/contrib/admin/sites.py:134\u001B[0m, in \u001B[0;36mAdminSite.register\u001B[0;34m(self, model_or_iterable, admin_class, **options)\u001B[0m\n\u001B[1;32m    131\u001B[0m     admin_class \u001B[38;5;241m=\u001B[39m \u001B[38;5;28mtype\u001B[39m(\u001B[38;5;124m\"\u001B[39m\u001B[38;5;132;01m%s\u001B[39;00m\u001B[38;5;124mAdmin\u001B[39m\u001B[38;5;124m\"\u001B[39m \u001B[38;5;241m%\u001B[39m model\u001B[38;5;241m.\u001B[39m\u001B[38;5;18m__name__\u001B[39m, (admin_class,), options)\n\u001B[1;32m    133\u001B[0m \u001B[38;5;66;03m# Instantiate the admin class to save in the registry\u001B[39;00m\n\u001B[0;32m--> 134\u001B[0m \u001B[38;5;28mself\u001B[39m\u001B[38;5;241m.\u001B[39m_registry[model] \u001B[38;5;241m=\u001B[39m \u001B[43madmin_class\u001B[49m\u001B[43m(\u001B[49m\u001B[43mmodel\u001B[49m\u001B[43m,\u001B[49m\u001B[43m \u001B[49m\u001B[38;5;28;43mself\u001B[39;49m\u001B[43m)\u001B[49m\n",
      "File \u001B[0;32m~/PycharmProjects/flourish/flourish/venv/lib/python3.10/site-packages/edc_visit_tracking/modeladmin_mixins.py:22\u001B[0m, in \u001B[0;36mCrfModelAdminMixin.__init__\u001B[0;34m(self, *args, **kwargs)\u001B[0m\n\u001B[1;32m     20\u001B[0m \u001B[38;5;28msuper\u001B[39m()\u001B[38;5;241m.\u001B[39m\u001B[38;5;21m__init__\u001B[39m(\u001B[38;5;241m*\u001B[39margs, \u001B[38;5;241m*\u001B[39m\u001B[38;5;241m*\u001B[39mkwargs)\n\u001B[1;32m     21\u001B[0m \u001B[38;5;28mself\u001B[39m\u001B[38;5;241m.\u001B[39mlist_display \u001B[38;5;241m=\u001B[39m \u001B[38;5;28mlist\u001B[39m(\u001B[38;5;28mself\u001B[39m\u001B[38;5;241m.\u001B[39mlist_display)\n\u001B[0;32m---> 22\u001B[0m \u001B[38;5;28mself\u001B[39m\u001B[38;5;241m.\u001B[39mlist_display\u001B[38;5;241m.\u001B[39mappend(\u001B[38;5;28;43mself\u001B[39;49m\u001B[38;5;241;43m.\u001B[39;49m\u001B[43mvisit_model_attr\u001B[49m)\n\u001B[1;32m     23\u001B[0m \u001B[38;5;28mself\u001B[39m\u001B[38;5;241m.\u001B[39mlist_display \u001B[38;5;241m=\u001B[39m \u001B[38;5;28mtuple\u001B[39m(\u001B[38;5;28mself\u001B[39m\u001B[38;5;241m.\u001B[39mlist_display)\n\u001B[1;32m     24\u001B[0m \u001B[38;5;28mself\u001B[39m\u001B[38;5;241m.\u001B[39mextend_search_fields()\n",
      "File \u001B[0;32m~/PycharmProjects/flourish/flourish/venv/lib/python3.10/site-packages/edc_visit_tracking/modeladmin_mixins.py:33\u001B[0m, in \u001B[0;36mCrfModelAdminMixin.visit_model_attr\u001B[0;34m(self)\u001B[0m\n\u001B[1;32m     31\u001B[0m \u001B[38;5;129m@property\u001B[39m\n\u001B[1;32m     32\u001B[0m \u001B[38;5;28;01mdef\u001B[39;00m \u001B[38;5;21mvisit_model_attr\u001B[39m(\u001B[38;5;28mself\u001B[39m):\n\u001B[0;32m---> 33\u001B[0m     \u001B[38;5;28;01mreturn\u001B[39;00m \u001B[38;5;28;43mself\u001B[39;49m\u001B[38;5;241;43m.\u001B[39;49m\u001B[43mmodel\u001B[49m\u001B[38;5;241;43m.\u001B[39;49m\u001B[43mvisit_model_attr\u001B[49m\u001B[43m(\u001B[49m\u001B[43m)\u001B[49m\n",
      "File \u001B[0;32m~/PycharmProjects/flourish/flourish/venv/lib/python3.10/site-packages/edc_visit_tracking/model_mixins/crf_model_mixin.py:54\u001B[0m, in \u001B[0;36mCrfModelMixin.visit_model_attr\u001B[0;34m(cls)\u001B[0m\n\u001B[1;32m     51\u001B[0m \u001B[38;5;129m@classmethod\u001B[39m\n\u001B[1;32m     52\u001B[0m \u001B[38;5;28;01mdef\u001B[39;00m \u001B[38;5;21mvisit_model_attr\u001B[39m(\u001B[38;5;28mcls\u001B[39m):\n\u001B[1;32m     53\u001B[0m     app_config \u001B[38;5;241m=\u001B[39m django_apps\u001B[38;5;241m.\u001B[39mget_app_config(\u001B[38;5;124m'\u001B[39m\u001B[38;5;124medc_visit_tracking\u001B[39m\u001B[38;5;124m'\u001B[39m)\n\u001B[0;32m---> 54\u001B[0m     \u001B[38;5;28;01mreturn\u001B[39;00m \u001B[43mapp_config\u001B[49m\u001B[38;5;241;43m.\u001B[39;49m\u001B[43mvisit_model_attr\u001B[49m\u001B[43m(\u001B[49m\u001B[38;5;28;43mcls\u001B[39;49m\u001B[38;5;241;43m.\u001B[39;49m\u001B[43m_meta\u001B[49m\u001B[38;5;241;43m.\u001B[39;49m\u001B[43mlabel_lower\u001B[49m\u001B[43m)\u001B[49m\n",
      "File \u001B[0;32m~/PycharmProjects/flourish/flourish/venv/lib/python3.10/site-packages/edc_visit_tracking/apps.py:86\u001B[0m, in \u001B[0;36mAppConfig.visit_model_attr\u001B[0;34m(self, label_lower)\u001B[0m\n\u001B[1;32m     84\u001B[0m     \u001B[38;5;28mgetattr\u001B[39m(model, visit_model_attr)\n\u001B[1;32m     85\u001B[0m \u001B[38;5;28;01mexcept\u001B[39;00m \u001B[38;5;167;01mAttributeError\u001B[39;00m \u001B[38;5;28;01mas\u001B[39;00m e:\n\u001B[0;32m---> 86\u001B[0m     \u001B[38;5;28;01mraise\u001B[39;00m ImproperlyConfigured(\n\u001B[1;32m     87\u001B[0m         \u001B[38;5;124mf\u001B[39m\u001B[38;5;124m'\u001B[39m\u001B[38;5;124mInvalid visit model attribute \u001B[39m\u001B[38;5;130;01m\\'\u001B[39;00m\u001B[38;5;132;01m{\u001B[39;00mvisit_model_attr\u001B[38;5;132;01m}\u001B[39;00m\u001B[38;5;130;01m\\'\u001B[39;00m\u001B[38;5;124m \u001B[39m\u001B[38;5;124m'\u001B[39m\n\u001B[1;32m     88\u001B[0m         \u001B[38;5;124mf\u001B[39m\u001B[38;5;124m'\u001B[39m\u001B[38;5;124mspecified for model \u001B[39m\u001B[38;5;132;01m{\u001B[39;00mlabel_lower\u001B[38;5;132;01m}\u001B[39;00m\u001B[38;5;124m. See AppConfig for \u001B[39m\u001B[38;5;124m'\u001B[39m\n\u001B[1;32m     89\u001B[0m         \u001B[38;5;124mf\u001B[39m\u001B[38;5;124m'\u001B[39m\u001B[38;5;130;01m\\'\u001B[39;00m\u001B[38;5;124medc_visit_tracking\u001B[39m\u001B[38;5;130;01m\\'\u001B[39;00m\u001B[38;5;124m. Got \u001B[39m\u001B[38;5;132;01m{\u001B[39;00me\u001B[38;5;132;01m}\u001B[39;00m\u001B[38;5;124m'\u001B[39m)\n\u001B[1;32m     90\u001B[0m \u001B[38;5;28;01mreturn\u001B[39;00m visit_model_attr\n",
      "\u001B[0;31mImproperlyConfigured\u001B[0m: Invalid visit model attribute 'maternal_visit' specified for model pre_flourish.cyhuupreenrollment. See AppConfig for 'edc_visit_tracking'. Got type object 'CyhuuPreEnrollment' has no attribute 'maternal_visit'"
     ]
    }
   ],
   "source": [
    "import os, sys\n",
    "import django\n",
    "from datetime import datetime\n",
    "sys.path.append('../..') # add path to project root dir\n",
    "os.environ[\"DJANGO_SETTINGS_MODULE\"] = \"flourish.settings\"\n",
    "from django.apps import apps as django_apps\n",
    "os.environ[\"DJANGO_ALLOW_ASYNC_UNSAFE\"] = \"true\"\n",
    "from django.apps import apps as django_apps\n",
    "\n",
    "django.setup()"
   ],
   "metadata": {
    "collapsed": false
   }
  },
  {
   "cell_type": "markdown",
   "source": [
    "redmine ticket 6945\n",
    "Change subject last name and initials"
   ],
   "metadata": {
    "collapsed": false
   }
  },
  {
   "cell_type": "code",
   "execution_count": null,
   "outputs": [],
   "source": [
    "from flourish_caregiver.models import SubjectConsent\n",
    "\n",
    "subject_id = 'B142-040990121-1'\n",
    "\n",
    "\n",
    "subject_consent = SubjectConsent.objects.get(subject_id=subject_id)\n",
    "\n",
    "subject_consent.last_name = 'OABILE'\n",
    "subject_consent.initials = 'GPO'\n",
    "subject_consent.save()"
   ],
   "metadata": {
    "collapsed": false
   }
  }
 ],
 "metadata": {
  "kernelspec": {
   "display_name": "Python 3",
   "language": "python",
   "name": "python3"
  },
  "language_info": {
   "codemirror_mode": {
    "name": "ipython",
    "version": 2
   },
   "file_extension": ".py",
   "mimetype": "text/x-python",
   "name": "python",
   "nbconvert_exporter": "python",
   "pygments_lexer": "ipython2",
   "version": "2.7.6"
  }
 },
 "nbformat": 4,
 "nbformat_minor": 0
}
