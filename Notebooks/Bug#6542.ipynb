{
 "cells": [
  {
   "cell_type": "code",
   "execution_count": 1,
   "id": "698d62fb",
   "metadata": {},
   "outputs": [],
   "source": [
    "# Imports\n",
    "import os \n",
    "import pandas as pd\n",
    "from django.apps import apps as django_apps\n",
    "from django.core.exceptions import ValidationError\n",
    "os.environ[\"DJANGO_ALLOW_ASYNC_UNSAFE\"] = \"true\"\n",
    "from datetime import date\n",
    "from edc_base.utils import formatted_age, get_utcnow\n",
    "from dateutil.relativedelta import relativedelta\n",
    "from edc_appointment.models import Appointment"
   ]
  },
  {
   "cell_type": "code",
   "execution_count": 19,
   "id": "aa96ad63",
   "metadata": {},
   "outputs": [],
   "source": [
    "def get_onschedule_model_obj(schedule, subject_identifier,schedule_name):\n",
    "    \n",
    "    try:\n",
    "        return schedule.onschedule_model_cls.objects.get(\n",
    "            subject_identifier=subject_identifier,\n",
    "            schedule_name=schedule_name)\n",
    "    except schedule.onschedule_model_cls.DoesNotExist:\n",
    "        return None"
   ]
  },
  {
   "cell_type": "code",
   "execution_count": 25,
   "id": "4bc5ed72",
   "metadata": {},
   "outputs": [
    {
     "name": "stdout",
     "output_type": "stream",
     "text": [
      "4412\n"
     ]
    }
   ],
   "source": [
    "from edc_visit_schedule.site_visit_schedules import site_visit_schedules\n",
    "print(SubjectScheduleHistory.objects.all().count())\n",
    "count = 0\n",
    "for a in SubjectScheduleHistory.objects.all():\n",
    "\n",
    "    _, schedule = site_visit_schedules.get_by_onschedule_model_schedule_name(\n",
    "                        onschedule_model=a.onschedule_model,\n",
    "                        name=a.schedule_name)\n",
    "    \n",
    "    onschedule_model_obj = get_onschedule_model_obj(\n",
    "                schedule, a.subject_identifier, a.schedule_name)\n",
    "    \n",
    "    if not onschedule_model_obj:\n",
    "#         print(a)\n",
    "        count += 1\n",
    "#         a.delete()"
   ]
  },
  {
   "cell_type": "code",
   "execution_count": 26,
   "id": "0d7e1d4d",
   "metadata": {},
   "outputs": [
    {
     "data": {
      "text/plain": [
       "0"
      ]
     },
     "execution_count": 26,
     "metadata": {},
     "output_type": "execute_result"
    }
   ],
   "source": [
    "count"
   ]
  }
 ],
 "metadata": {
  "kernelspec": {
   "display_name": "Django Shell-Plus",
   "language": "python",
   "name": "django_extensions"
  },
  "language_info": {
   "codemirror_mode": {
    "name": "ipython",
    "version": 3
   },
   "file_extension": ".py",
   "mimetype": "text/x-python",
   "name": "python",
   "nbconvert_exporter": "python",
   "pygments_lexer": "ipython3",
   "version": "3.9.0"
  }
 },
 "nbformat": 4,
 "nbformat_minor": 5
}
