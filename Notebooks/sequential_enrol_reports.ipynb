{
 "cells": [
  {
   "cell_type": "code",
   "execution_count": 1,
   "id": "a6caa311",
   "metadata": {},
   "outputs": [],
   "source": [
    "import os\n",
    "import pandas as pd\n",
    "import pytz\n",
    "os.environ[\"DJANGO_ALLOW_ASYNC_UNSAFE\"] = \"true\"\n",
    "from collections import defaultdict\n",
    "from django.apps import apps as django_apps\n",
    "from django.db.models import F, Max, Case, When, Sum\n",
    "from edc_constants.constants import POS, NEG\n",
    "from flourish_reports.views.enrolment.enrollment_report_mixin import EnrolmentReportMixin\n",
    "from tqdm import tqdm"
   ]
  },
  {
   "cell_type": "code",
   "execution_count": 2,
   "id": "322186db",
   "metadata": {},
   "outputs": [],
   "source": [
    "report_mixin = EnrolmentReportMixin()"
   ]
  },
  {
   "cell_type": "code",
   "execution_count": 3,
   "id": "a248c328",
   "metadata": {},
   "outputs": [],
   "source": [
    "def convert_to_title_case(snake_case_string):\n",
    "    title_case_string = snake_case_string.replace(\"_\", \" \").title()\n",
    "    return title_case_string"
   ]
  },
  {
   "cell_type": "code",
   "execution_count": 4,
   "id": "8a545d72",
   "metadata": {},
   "outputs": [
    {
     "data": {
      "text/html": [
       "<div>\n",
       "<style scoped>\n",
       "    .dataframe tbody tr th:only-of-type {\n",
       "        vertical-align: middle;\n",
       "    }\n",
       "\n",
       "    .dataframe tbody tr th {\n",
       "        vertical-align: top;\n",
       "    }\n",
       "\n",
       "    .dataframe thead th {\n",
       "        text-align: right;\n",
       "    }\n",
       "</style>\n",
       "<table border=\"1\" class=\"dataframe\">\n",
       "  <thead>\n",
       "    <tr style=\"text-align: right;\">\n",
       "      <th></th>\n",
       "      <th>cohort_name</th>\n",
       "      <th>unexposed</th>\n",
       "      <th>exposed</th>\n",
       "    </tr>\n",
       "  </thead>\n",
       "  <tbody>\n",
       "    <tr>\n",
       "      <th>0</th>\n",
       "      <td>Cohort A</td>\n",
       "      <td>180</td>\n",
       "      <td>264</td>\n",
       "    </tr>\n",
       "    <tr>\n",
       "      <th>1</th>\n",
       "      <td>Cohort B</td>\n",
       "      <td>77</td>\n",
       "      <td>118</td>\n",
       "    </tr>\n",
       "    <tr>\n",
       "      <th>2</th>\n",
       "      <td>Cohort C</td>\n",
       "      <td>34</td>\n",
       "      <td>46</td>\n",
       "    </tr>\n",
       "    <tr>\n",
       "      <th>3</th>\n",
       "      <td>Cohort A Sec</td>\n",
       "      <td>0</td>\n",
       "      <td>0</td>\n",
       "    </tr>\n",
       "    <tr>\n",
       "      <th>4</th>\n",
       "      <td>Cohort B Sec</td>\n",
       "      <td>1</td>\n",
       "      <td>348</td>\n",
       "    </tr>\n",
       "    <tr>\n",
       "      <th>5</th>\n",
       "      <td>Cohort C Sec</td>\n",
       "      <td>12</td>\n",
       "      <td>116</td>\n",
       "    </tr>\n",
       "  </tbody>\n",
       "</table>\n",
       "</div>"
      ],
      "text/plain": [
       "    cohort_name  unexposed  exposed\n",
       "0      Cohort A        180      264\n",
       "1      Cohort B         77      118\n",
       "2      Cohort C         34       46\n",
       "3  Cohort A Sec          0        0\n",
       "4  Cohort B Sec          1      348\n",
       "5  Cohort C Sec         12      116"
      ]
     },
     "execution_count": 4,
     "metadata": {},
     "output_type": "execute_result"
    }
   ],
   "source": [
    "# Enrolment cohort categorization\n",
    "enrol_total = report_mixin.enrollment_report\n",
    "\n",
    "enrol_summary_df = pd.DataFrame(enrol_total)\n",
    "\n",
    "enrol_summary_df"
   ]
  },
  {
   "cell_type": "code",
   "execution_count": 5,
   "id": "4083e8cf",
   "metadata": {},
   "outputs": [],
   "source": [
    "# enrol_summary_df.to_excel(\"enrollment_summary_report.xlsx\", index=False)"
   ]
  },
  {
   "cell_type": "code",
   "execution_count": 6,
   "id": "2e8b29bc",
   "metadata": {},
   "outputs": [
    {
     "data": {
      "text/html": [
       "<div>\n",
       "<style scoped>\n",
       "    .dataframe tbody tr th:only-of-type {\n",
       "        vertical-align: middle;\n",
       "    }\n",
       "\n",
       "    .dataframe tbody tr th {\n",
       "        vertical-align: top;\n",
       "    }\n",
       "\n",
       "    .dataframe thead th {\n",
       "        text-align: right;\n",
       "    }\n",
       "</style>\n",
       "<table border=\"1\" class=\"dataframe\">\n",
       "  <thead>\n",
       "    <tr style=\"text-align: right;\">\n",
       "      <th></th>\n",
       "      <th>cohort_name</th>\n",
       "      <th>unexposed</th>\n",
       "      <th>exposed</th>\n",
       "    </tr>\n",
       "  </thead>\n",
       "  <tbody>\n",
       "    <tr>\n",
       "      <th>0</th>\n",
       "      <td>Cohort A</td>\n",
       "      <td>148</td>\n",
       "      <td>180</td>\n",
       "    </tr>\n",
       "    <tr>\n",
       "      <th>1</th>\n",
       "      <td>Cohort B</td>\n",
       "      <td>55</td>\n",
       "      <td>200</td>\n",
       "    </tr>\n",
       "    <tr>\n",
       "      <th>2</th>\n",
       "      <td>Cohort C</td>\n",
       "      <td>100</td>\n",
       "      <td>103</td>\n",
       "    </tr>\n",
       "    <tr>\n",
       "      <th>3</th>\n",
       "      <td>Cohort A Sec</td>\n",
       "      <td>0</td>\n",
       "      <td>0</td>\n",
       "    </tr>\n",
       "    <tr>\n",
       "      <th>4</th>\n",
       "      <td>Cohort B Sec</td>\n",
       "      <td>0</td>\n",
       "      <td>139</td>\n",
       "    </tr>\n",
       "    <tr>\n",
       "      <th>5</th>\n",
       "      <td>Cohort C Sec</td>\n",
       "      <td>0</td>\n",
       "      <td>270</td>\n",
       "    </tr>\n",
       "  </tbody>\n",
       "</table>\n",
       "</div>"
      ],
      "text/plain": [
       "    cohort_name  unexposed  exposed\n",
       "0      Cohort A        148      180\n",
       "1      Cohort B         55      200\n",
       "2      Cohort C        100      103\n",
       "3  Cohort A Sec          0        0\n",
       "4  Cohort B Sec          0      139\n",
       "5  Cohort C Sec          0      270"
      ]
     },
     "execution_count": 6,
     "metadata": {},
     "output_type": "execute_result"
    }
   ],
   "source": [
    "# Current cohort categorization\n",
    "current_total = report_mixin.current_report\n",
    "\n",
    "current_summary_df = pd.DataFrame(current_total)\n",
    "\n",
    "current_summary_df"
   ]
  },
  {
   "cell_type": "code",
   "execution_count": 7,
   "id": "fc8d9c28",
   "metadata": {},
   "outputs": [],
   "source": [
    "# current_summary_df.to_excel(\"current_summary_report.xlsx\", index=False)"
   ]
  },
  {
   "cell_type": "code",
   "execution_count": 8,
   "id": "1987106b",
   "metadata": {},
   "outputs": [],
   "source": [
    "def convert_to_regular_dict(d):\n",
    "    if isinstance(d, defaultdict):\n",
    "        d = {k: convert_to_regular_dict(v) for k, v in d.items()}\n",
    "    return d"
   ]
  },
  {
   "cell_type": "code",
   "execution_count": 9,
   "id": "efbc2383",
   "metadata": {},
   "outputs": [
    {
     "data": {
      "text/html": [
       "<div>\n",
       "<style scoped>\n",
       "    .dataframe tbody tr th:only-of-type {\n",
       "        vertical-align: middle;\n",
       "    }\n",
       "\n",
       "    .dataframe tbody tr th {\n",
       "        vertical-align: top;\n",
       "    }\n",
       "\n",
       "    .dataframe thead th {\n",
       "        text-align: right;\n",
       "    }\n",
       "</style>\n",
       "<table border=\"1\" class=\"dataframe\">\n",
       "  <thead>\n",
       "    <tr style=\"text-align: right;\">\n",
       "      <th></th>\n",
       "      <th>enrollment_cohort</th>\n",
       "      <th>current_cohort</th>\n",
       "      <th>count</th>\n",
       "    </tr>\n",
       "  </thead>\n",
       "  <tbody>\n",
       "    <tr>\n",
       "      <th>0</th>\n",
       "      <td>cohort_b</td>\n",
       "      <td>cohort_c</td>\n",
       "      <td>78</td>\n",
       "    </tr>\n",
       "    <tr>\n",
       "      <th>1</th>\n",
       "      <td>cohort_b</td>\n",
       "      <td>cohort_c_sec</td>\n",
       "      <td>15</td>\n",
       "    </tr>\n",
       "    <tr>\n",
       "      <th>2</th>\n",
       "      <td>cohort_b_sec</td>\n",
       "      <td>cohort_b</td>\n",
       "      <td>60</td>\n",
       "    </tr>\n",
       "    <tr>\n",
       "      <th>3</th>\n",
       "      <td>cohort_b_sec</td>\n",
       "      <td>cohort_c</td>\n",
       "      <td>34</td>\n",
       "    </tr>\n",
       "    <tr>\n",
       "      <th>4</th>\n",
       "      <td>cohort_b_sec</td>\n",
       "      <td>cohort_c_sec</td>\n",
       "      <td>139</td>\n",
       "    </tr>\n",
       "    <tr>\n",
       "      <th>5</th>\n",
       "      <td>cohort_c_sec</td>\n",
       "      <td>cohort_c</td>\n",
       "      <td>11</td>\n",
       "    </tr>\n",
       "    <tr>\n",
       "      <th>6</th>\n",
       "      <td>cohort_a</td>\n",
       "      <td>cohort_b</td>\n",
       "      <td>93</td>\n",
       "    </tr>\n",
       "    <tr>\n",
       "      <th>7</th>\n",
       "      <td>cohort_a</td>\n",
       "      <td>cohort_b_sec</td>\n",
       "      <td>23</td>\n",
       "    </tr>\n",
       "  </tbody>\n",
       "</table>\n",
       "</div>"
      ],
      "text/plain": [
       "  enrollment_cohort current_cohort  count\n",
       "0          cohort_b       cohort_c     78\n",
       "1          cohort_b   cohort_c_sec     15\n",
       "2      cohort_b_sec       cohort_b     60\n",
       "3      cohort_b_sec       cohort_c     34\n",
       "4      cohort_b_sec   cohort_c_sec    139\n",
       "5      cohort_c_sec       cohort_c     11\n",
       "6          cohort_a       cohort_b     93\n",
       "7          cohort_a   cohort_b_sec     23"
      ]
     },
     "execution_count": 9,
     "metadata": {},
     "output_type": "execute_result"
    }
   ],
   "source": [
    "# Re-classification counts\n",
    "final_classification = []\n",
    "sequence_dict = convert_to_regular_dict(report_mixin.get_sequence)\n",
    "for enrol_cohort, movements in sequence_dict.items():\n",
    "    for curr_cohort, total in movements.items():\n",
    "        final_classification.append(\n",
    "            {'enrollment_cohort': enrol_cohort, 'current_cohort': curr_cohort, 'count': total})\n",
    "\n",
    "recategorization_df = pd.DataFrame(final_classification)\n",
    "recategorization_df"
   ]
  },
  {
   "cell_type": "code",
   "execution_count": 10,
   "id": "f4029ff3",
   "metadata": {},
   "outputs": [],
   "source": [
    "# recategorization_df.to_excel(\"recategorization_report.xlsx\", index=False)\n",
    "# recategorization_df"
   ]
  },
  {
   "cell_type": "code",
   "execution_count": 13,
   "id": "c30613fc",
   "metadata": {},
   "outputs": [
    {
     "name": "stderr",
     "output_type": "stream",
     "text": [
      "100%|██████████| 1196/1196 [01:38<00:00, 12.19it/s]\n"
     ]
    }
   ],
   "source": [
    "# Cohort A Breakdown and exports\n",
    "enrol_cohorts = Cohort.objects.filter(enrollment_cohort=True)\n",
    "records = []\n",
    "for cohort in tqdm(enrol_cohorts):\n",
    "    curr_cohort = Cohort.objects.filter(\n",
    "        subject_identifier=cohort.subject_identifier, current_cohort=True).order_by('-assign_datetime').first()\n",
    "    study_identifier = cohort.caregiver_child_consent.study_child_identifier\n",
    "    protocol = cohort.caregiver_child_consent.get_protocol\n",
    "    records.append({'subject_identifier': cohort.subject_identifier,\n",
    "                    'prev_study_identifier': study_identifier,\n",
    "                    'prev_study_name': protocol or 'ANC',\n",
    "                    'enrol_cohort': cohort.name,\n",
    "                    'current_cohort': getattr(curr_cohort, 'name', None),\n",
    "                    'exposure_status': cohort.exposure_status, })\n",
    "\n",
    "cohort_a_df = pd.DataFrame(records)"
   ]
  },
  {
   "cell_type": "code",
   "execution_count": 14,
   "id": "466dca13",
   "metadata": {},
   "outputs": [
    {
     "data": {
      "text/html": [
       "<div>\n",
       "<style scoped>\n",
       "    .dataframe tbody tr th:only-of-type {\n",
       "        vertical-align: middle;\n",
       "    }\n",
       "\n",
       "    .dataframe tbody tr th {\n",
       "        vertical-align: top;\n",
       "    }\n",
       "\n",
       "    .dataframe thead th {\n",
       "        text-align: right;\n",
       "    }\n",
       "</style>\n",
       "<table border=\"1\" class=\"dataframe\">\n",
       "  <thead>\n",
       "    <tr style=\"text-align: right;\">\n",
       "      <th></th>\n",
       "      <th>subject_identifier</th>\n",
       "      <th>prev_study_identifier</th>\n",
       "      <th>prev_study_name</th>\n",
       "      <th>enrol_cohort</th>\n",
       "      <th>current_cohort</th>\n",
       "      <th>exposure_status</th>\n",
       "    </tr>\n",
       "  </thead>\n",
       "  <tbody>\n",
       "    <tr>\n",
       "      <th>0</th>\n",
       "      <td>B142-040990291-2-10</td>\n",
       "      <td>056-1984090-3-10</td>\n",
       "      <td>Mpepu</td>\n",
       "      <td>cohort_b</td>\n",
       "      <td>cohort_c_sec</td>\n",
       "      <td>EXPOSED</td>\n",
       "    </tr>\n",
       "    <tr>\n",
       "      <th>1</th>\n",
       "      <td>B142-040990747-3-10</td>\n",
       "      <td>B014260-2</td>\n",
       "      <td>Tshipidi</td>\n",
       "      <td>cohort_c</td>\n",
       "      <td>cohort_c</td>\n",
       "      <td>UNEXPOSED</td>\n",
       "    </tr>\n",
       "    <tr>\n",
       "      <th>2</th>\n",
       "      <td>B142-040990925-5-10</td>\n",
       "      <td>None</td>\n",
       "      <td>ANC</td>\n",
       "      <td>cohort_a</td>\n",
       "      <td>cohort_a</td>\n",
       "      <td>UNEXPOSED</td>\n",
       "    </tr>\n",
       "    <tr>\n",
       "      <th>3</th>\n",
       "      <td>B142-040990367-0-10</td>\n",
       "      <td>085-40990296-6-10</td>\n",
       "      <td>Tshilo Dikotla</td>\n",
       "      <td>cohort_a</td>\n",
       "      <td>cohort_b</td>\n",
       "      <td>UNEXPOSED</td>\n",
       "    </tr>\n",
       "    <tr>\n",
       "      <th>4</th>\n",
       "      <td>B142-040990540-2-10</td>\n",
       "      <td>B005496-2</td>\n",
       "      <td>Mma Bana</td>\n",
       "      <td>cohort_c</td>\n",
       "      <td>cohort_c</td>\n",
       "      <td>EXPOSED</td>\n",
       "    </tr>\n",
       "    <tr>\n",
       "      <th>...</th>\n",
       "      <td>...</td>\n",
       "      <td>...</td>\n",
       "      <td>...</td>\n",
       "      <td>...</td>\n",
       "      <td>...</td>\n",
       "      <td>...</td>\n",
       "    </tr>\n",
       "    <tr>\n",
       "      <th>1191</th>\n",
       "      <td>B142-040990709-3-10</td>\n",
       "      <td>B006980-4</td>\n",
       "      <td>Mma Bana</td>\n",
       "      <td>cohort_c_sec</td>\n",
       "      <td>cohort_c_sec</td>\n",
       "      <td>EXPOSED</td>\n",
       "    </tr>\n",
       "    <tr>\n",
       "      <th>1192</th>\n",
       "      <td>B142-040990103-9-10</td>\n",
       "      <td>056-4995281-4-10</td>\n",
       "      <td>Mpepu</td>\n",
       "      <td>cohort_b</td>\n",
       "      <td>cohort_b</td>\n",
       "      <td>EXPOSED</td>\n",
       "    </tr>\n",
       "    <tr>\n",
       "      <th>1193</th>\n",
       "      <td>B142-040990445-4-10</td>\n",
       "      <td>None</td>\n",
       "      <td>ANC</td>\n",
       "      <td>cohort_a</td>\n",
       "      <td>cohort_a</td>\n",
       "      <td>UNEXPOSED</td>\n",
       "    </tr>\n",
       "    <tr>\n",
       "      <th>1194</th>\n",
       "      <td>B142-040990921-4-10</td>\n",
       "      <td>None</td>\n",
       "      <td>ANC</td>\n",
       "      <td>cohort_a</td>\n",
       "      <td>cohort_a</td>\n",
       "      <td>UNEXPOSED</td>\n",
       "    </tr>\n",
       "    <tr>\n",
       "      <th>1195</th>\n",
       "      <td>B142-040990600-4-10</td>\n",
       "      <td>056-4980063-0-10</td>\n",
       "      <td>Mpepu</td>\n",
       "      <td>cohort_c</td>\n",
       "      <td>cohort_c</td>\n",
       "      <td>EXPOSED</td>\n",
       "    </tr>\n",
       "  </tbody>\n",
       "</table>\n",
       "<p>1196 rows × 6 columns</p>\n",
       "</div>"
      ],
      "text/plain": [
       "       subject_identifier prev_study_identifier prev_study_name  enrol_cohort  \\\n",
       "0     B142-040990291-2-10      056-1984090-3-10           Mpepu      cohort_b   \n",
       "1     B142-040990747-3-10             B014260-2        Tshipidi      cohort_c   \n",
       "2     B142-040990925-5-10                  None             ANC      cohort_a   \n",
       "3     B142-040990367-0-10     085-40990296-6-10  Tshilo Dikotla      cohort_a   \n",
       "4     B142-040990540-2-10             B005496-2        Mma Bana      cohort_c   \n",
       "...                   ...                   ...             ...           ...   \n",
       "1191  B142-040990709-3-10             B006980-4        Mma Bana  cohort_c_sec   \n",
       "1192  B142-040990103-9-10      056-4995281-4-10           Mpepu      cohort_b   \n",
       "1193  B142-040990445-4-10                  None             ANC      cohort_a   \n",
       "1194  B142-040990921-4-10                  None             ANC      cohort_a   \n",
       "1195  B142-040990600-4-10      056-4980063-0-10           Mpepu      cohort_c   \n",
       "\n",
       "     current_cohort exposure_status  \n",
       "0      cohort_c_sec         EXPOSED  \n",
       "1          cohort_c       UNEXPOSED  \n",
       "2          cohort_a       UNEXPOSED  \n",
       "3          cohort_b       UNEXPOSED  \n",
       "4          cohort_c         EXPOSED  \n",
       "...             ...             ...  \n",
       "1191   cohort_c_sec         EXPOSED  \n",
       "1192       cohort_b         EXPOSED  \n",
       "1193       cohort_a       UNEXPOSED  \n",
       "1194       cohort_a       UNEXPOSED  \n",
       "1195       cohort_c         EXPOSED  \n",
       "\n",
       "[1196 rows x 6 columns]"
      ]
     },
     "execution_count": 14,
     "metadata": {},
     "output_type": "execute_result"
    }
   ],
   "source": [
    "cohort_a_df.to_excel(\"cohort_summary_table.xlsx\", index=False)\n",
    "cohort_a_df"
   ]
  },
  {
   "cell_type": "code",
   "execution_count": 75,
   "id": "ef51a968",
   "metadata": {},
   "outputs": [
    {
     "name": "stdout",
     "output_type": "stream",
     "text": [
      "TD HEU, 116\n",
      "ANC HEU, 148\n",
      "Total HEU, 264\n"
     ]
    }
   ],
   "source": [
    "# Enrollment `cohort_a` count by exposure and study\n",
    "grouped_a = cohort_a_df.groupby(['prev_study_name', 'exposure_status'])\n",
    "td_exposed = grouped_a.get_group(('Tshilo Dikotla', 'EXPOSED'))['subject_identifier'].count()\n",
    "anc_exposed = grouped_a.get_group(('ANC', 'EXPOSED'))['subject_identifier'].count()\n",
    "print(f'TD HEU, {td_exposed}')\n",
    "print(f'ANC HEU, {anc_exposed}')\n",
    "print(f'Total HEU, {td_exposed + anc_exposed}')"
   ]
  },
  {
   "cell_type": "code",
   "execution_count": 73,
   "id": "f93e46a0",
   "metadata": {},
   "outputs": [
    {
     "name": "stdout",
     "output_type": "stream",
     "text": [
      "TD HUU, 34\n",
      "ANC HUU, 146\n",
      "Total HUU, 180\n"
     ]
    }
   ],
   "source": [
    "td_unexposed = grouped_a.get_group(('Tshilo Dikotla', 'UNEXPOSED'))['subject_identifier'].count()\n",
    "anc_unexposed = grouped_a.get_group(('ANC', 'UNEXPOSED'))['subject_identifier'].count()\n",
    "print(f'TD HUU, {td_unexposed}')\n",
    "print(f'ANC HUU, {anc_unexposed}')\n",
    "print(f'Total HUU, {td_unexposed + anc_unexposed}')"
   ]
  },
  {
   "cell_type": "code",
   "execution_count": 74,
   "id": "e683bae6",
   "metadata": {},
   "outputs": [
    {
     "name": "stdout",
     "output_type": "stream",
     "text": [
      "TD HEU, 32\n",
      "ANC HEU, 148\n",
      "Total HEU, 180\n"
     ]
    }
   ],
   "source": [
    "# Current `cohort_a` count by exposure and study\n",
    "grouped_a = cohort_a_df.groupby(['prev_study_name', 'current_cohort', 'exposure_status'])\n",
    "td_exposed = grouped_a.get_group(('Tshilo Dikotla', 'cohort_a', 'EXPOSED'))['subject_identifier'].count()\n",
    "anc_exposed = grouped_a.get_group(('ANC', 'cohort_a', 'EXPOSED'))['subject_identifier'].count()\n",
    "print(f'TD HEU, {td_exposed}')\n",
    "print(f'ANC HEU, {anc_exposed}')\n",
    "print(f'Total HEU, {td_exposed + anc_exposed}')"
   ]
  },
  {
   "cell_type": "code",
   "execution_count": 70,
   "id": "f9f81a55",
   "metadata": {},
   "outputs": [
    {
     "name": "stdout",
     "output_type": "stream",
     "text": [
      "TD HUU, 2\n",
      "ANC HUU, 146\n",
      "Total HUU, 148\n"
     ]
    }
   ],
   "source": [
    "td_unexposed = grouped_a.get_group(('Tshilo Dikotla', 'cohort_a', 'UNEXPOSED'))['subject_identifier'].count()\n",
    "anc_unexposed = grouped_a.get_group(('ANC', 'cohort_a', 'UNEXPOSED'))['subject_identifier'].count()\n",
    "print(f'TD HUU, {td_unexposed}')\n",
    "print(f'ANC HUU, {anc_unexposed}')\n",
    "print(f'Total HUU, {td_unexposed + anc_unexposed}')"
   ]
  },
  {
   "cell_type": "code",
   "execution_count": 71,
   "id": "e76d3357",
   "metadata": {},
   "outputs": [
    {
     "name": "stdout",
     "output_type": "stream",
     "text": [
      "HEU Tshilo Dikotla: cohort_a → cohort_b_sec: 23\n",
      "HUU Tshilo Dikotla: cohort_a → cohort_b_sec: 0\n",
      "\n",
      "\n",
      "HEU Tshilo Dikotla: cohort_a → cohort_b: 61\n",
      "HUU Tshilo Dikotla: cohort_a → cohort_b: 32\n",
      "\n",
      "\n"
     ]
    }
   ],
   "source": [
    "# Recategorization summary\n",
    "cohort_names = [record.get('current_cohort') for record in records]\n",
    "cohort_names = list(set(cohort_names))\n",
    "cohort_names.remove('cohort_a')\n",
    "\n",
    "study_names = ['Tshilo Dikotla', 'ANC']\n",
    "grouped_a = cohort_a_df.groupby(['prev_study_name', 'current_cohort', 'exposure_status'])\n",
    "for study_name in study_names:\n",
    "    for cohort in cohort_names:\n",
    "        heu_count = 0\n",
    "        huu_count = 0\n",
    "        try:\n",
    "            heu_count = grouped_a.get_group((study_name, cohort, 'EXPOSED'))['subject_identifier'].count()\n",
    "            huu_count = grouped_a.get_group((study_name, cohort, 'UNEXPOSED'))['subject_identifier'].count()\n",
    "        except KeyError:\n",
    "            pass\n",
    "        if heu_count or huu_count: \n",
    "            print(f'HEU {study_name}: cohort_a → {cohort}: {heu_count}')\n",
    "            print(f'HUU {study_name}: cohort_a → {cohort}: {huu_count}')\n",
    "            print('\\n')"
   ]
  },
  {
   "cell_type": "code",
   "execution_count": null,
   "id": "040d6657",
   "metadata": {},
   "outputs": [],
   "source": []
  }
 ],
 "metadata": {
  "kernelspec": {
   "display_name": "Django Shell-Plus",
   "language": "python",
   "name": "django_extensions"
  },
  "language_info": {
   "codemirror_mode": {
    "name": "ipython",
    "version": 3
   },
   "file_extension": ".py",
   "mimetype": "text/x-python",
   "name": "python",
   "nbconvert_exporter": "python",
   "pygments_lexer": "ipython3",
   "version": "3.6.15"
  }
 },
 "nbformat": 4,
 "nbformat_minor": 5
}
