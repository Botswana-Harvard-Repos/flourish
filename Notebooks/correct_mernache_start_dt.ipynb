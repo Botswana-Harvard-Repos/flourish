{
 "cells": [
  {
   "cell_type": "code",
   "execution_count": 34,
   "id": "0513612a",
   "metadata": {},
   "outputs": [],
   "source": [
    "import os, csv\n",
    "\n",
    "from datetime import datetime\n",
    "from django.apps import apps as django_apps\n",
    "\n",
    "os.environ[\"DJANGO_ALLOW_ASYNC_UNSAFE\"] = \"true\""
   ]
  },
  {
   "cell_type": "code",
   "execution_count": 35,
   "id": "21a7f825",
   "metadata": {},
   "outputs": [],
   "source": [
    "file = csv.DictReader(open('/home/flourish/source/flourish/menarche_start_dates.csv'))"
   ]
  },
  {
   "cell_type": "code",
   "execution_count": 36,
   "id": "294d722d",
   "metadata": {},
   "outputs": [],
   "source": [
    "for row in file:\n",
    "    subject_identifier = row.get('subject_identifier')\n",
    "    confirmed_dt = row.get('confirmed_dt')\n",
    "    if confirmed_dt:\n",
    "        confirmed_dt_obj = datetime.strptime(confirmed_dt, '%d-%b-%y').date()\n",
    "        preg_tests = ChildPregTesting.objects.filter(child_visit__subject_identifier=subject_identifier)\n",
    "        for preg_test in preg_tests:\n",
    "            if preg_test.menarche:\n",
    "                preg_test.menarche_start_dt = confirmed_dt_obj\n",
    "                preg_test.save()"
   ]
  },
  {
   "cell_type": "code",
   "execution_count": null,
   "id": "5cd3d28b",
   "metadata": {},
   "outputs": [],
   "source": []
  }
 ],
 "metadata": {
  "kernelspec": {
   "display_name": "Django Shell-Plus",
   "language": "python",
   "name": "django_extensions"
  },
  "language_info": {
   "codemirror_mode": {
    "name": "ipython",
    "version": 3
   },
   "file_extension": ".py",
   "mimetype": "text/x-python",
   "name": "python",
   "nbconvert_exporter": "python",
   "pygments_lexer": "ipython3",
   "version": "3.8.13"
  }
 },
 "nbformat": 4,
 "nbformat_minor": 5
}
