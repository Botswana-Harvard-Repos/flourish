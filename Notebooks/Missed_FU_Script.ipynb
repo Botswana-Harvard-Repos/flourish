{
 "cells": [
  {
   "cell_type": "code",
   "execution_count": 1,
   "id": "68f0d0f0",
   "metadata": {},
   "outputs": [],
   "source": [
    "# Imports\n",
    "import os \n",
    "import pandas as pd\n",
    "from django.core.exceptions import ValidationError\n",
    "os.environ[\"DJANGO_ALLOW_ASYNC_UNSAFE\"] = \"true\"\n",
    "from datetime import date\n",
    "from edc_base.utils import formatted_age, get_utcnow\n",
    "from dateutil.relativedelta import relativedelta"
   ]
  },
  {
   "cell_type": "code",
   "execution_count": 2,
   "id": "d91fe784",
   "metadata": {},
   "outputs": [],
   "source": [
    "#Helper Methods\n",
    "from edc_base.utils import formatted_age, get_utcnow, age\n",
    "\n",
    "today = get_utcnow()- relativedelta(days=3)\n",
    "\n",
    "def age_at_consent(child_consent):\n",
    "    child_age = age(child_consent.child_dob, child_consent.consent_datetime)\n",
    "    child_age = str(child_age.years) + '.' + str(child_age.months)\n",
    "    return child_age\n",
    "\n",
    "def get_current_age(child_consent):\n",
    "    child_age = age(child_consent.child_dob, today)\n",
    "    child_age = str(child_age.years) + '.' + str(child_age.months)\n",
    "    return child_age\n",
    "\n",
    "\n",
    "def get_child_dataset(child_consent):\n",
    "    try:\n",
    "        child_dataset = ChildDataset.objects.get(study_child_identifier=child_consent.study_child_identifier)\n",
    "    except ChildDataset.DoesNotExist:\n",
    "        print('welp!')\n",
    "    else:\n",
    "        return child_dataset\n",
    "    \n",
    "def get_prev_study(child_consent):\n",
    "    \n",
    "    child_dataset = get_child_dataset(child_consent)\n",
    "    if child_dataset:\n",
    "        try:\n",
    "            md = MaternalDataset.objects.get(study_maternal_identifier=child_dataset.study_maternal_identifier)\n",
    "        except MaternalDataset.DoesNotExist:\n",
    "            print('yeeiii!!')\n",
    "        else:\n",
    "            return md.protocol\n",
    "    \n",
    "\n",
    "def get_exposure_status(child_consent):\n",
    "    child_dataset = get_child_dataset(child_consent)\n",
    "    if child_dataset:\n",
    "        if child_dataset.infant_hiv_exposed.lower() == 'exposed':\n",
    "            return 'HEU'\n",
    "        elif child_dataset.infant_hiv_exposed.lower() == 'unexposed':\n",
    "            return 'HUU' \n",
    "\n",
    "def get_arvs_exposed(child_consent):\n",
    "    \n",
    "    try:\n",
    "        madp = MaternalArvDuringPreg.objects.get(\n",
    "            maternal_visit__subject_identifier=child_consent.subject_identifier[:-3])\n",
    "    except MaternalArvDuringPreg.DoesNotExist:\n",
    "        pass\n",
    "    else:\n",
    "        return list(set(madp.maternalarvtableduringpreg_set.all().values_list('arv_code')))\n",
    "    \n",
    "def get_preg_arv_exposed(child_consent):\n",
    "    child_dataset = get_child_dataset(child_consent)\n",
    "    if child_dataset:\n",
    "        try:\n",
    "            md = MaternalDataset.objects.get(study_maternal_identifier=child_dataset.study_maternal_identifier)\n",
    "        except MaternalDataset.DoesNotExist:\n",
    "            print('yeeiii!!')\n",
    "        else:\n",
    "            arv_list = []\n",
    "            if md.preg_dtg:\n",
    "                arv_list.append('preg_dtg')\n",
    "            if md.preg_pi:\n",
    "                arv_list.append('preg_pi')\n",
    "            if md.preg_efv:\n",
    "                arv_list.append('preg_efv')\n",
    "            return arv_list\n",
    "        \n",
    "def get_part_info(cohort_child_pids):\n",
    "    \n",
    "    data=[['child_pid', 'caregiver_pid', 'DOB', 'consent_date', 'age_at_consent', 'age_today', 'cohort',\n",
    "      'exposure_status', 'prev_study', 'arvs_exposed']]\n",
    "\n",
    "    for a in cohort_child_pids:\n",
    "        try:\n",
    "            child_consent = CaregiverChildConsent.objects.filter(subject_identifier=a).latest('consent_datetime')\n",
    "        except CaregiverChildConsent.DoesNotExist:\n",
    "            print('hmmmmm?')\n",
    "        else:\n",
    "            preg_arvs = get_arvs_exposed(child_consent) or []\n",
    "\n",
    "            preg_arvs = preg_arvs + get_preg_arv_exposed(child_consent)\n",
    "\n",
    "            x = [child_consent.subject_identifier, child_consent.subject_identifier[:-3],\n",
    "                child_consent.child_dob, child_consent.consent_datetime.date(), age_at_consent(child_consent),\n",
    "                get_current_age(child_consent), child_consent.cohort,\n",
    "                get_exposure_status(child_consent),  get_prev_study(child_consent), preg_arvs]\n",
    "            data.append(x)\n",
    "    return data\n",
    "\n"
   ]
  },
  {
   "cell_type": "code",
   "execution_count": 3,
   "id": "03a79b54",
   "metadata": {},
   "outputs": [
    {
     "data": {
      "text/plain": [
       "32"
      ]
     },
     "execution_count": 3,
     "metadata": {},
     "output_type": "execute_result"
    }
   ],
   "source": [
    "#cohort_a\n",
    "childa_dob_limit = today - relativedelta(years=5)\n",
    "\n",
    "cca = CaregiverChildConsent.objects.filter(cohort__startswith='cohort_a',\n",
    "                                           child_dob__lte=childa_dob_limit.date()\n",
    "                                          ).values_list('subject_identifier', flat=True).distinct()\n",
    "\n",
    "cca.count()\n"
   ]
  },
  {
   "cell_type": "code",
   "execution_count": 5,
   "id": "15b4c8fd",
   "metadata": {},
   "outputs": [],
   "source": [
    "#get cohort A data\n",
    "adata = get_part_info(cca)\n",
    "\n",
    "import csv\n",
    "path = '/home/flourish/cohort_a_age_out.csv'\n",
    "# path = '/Users/imosweu/cohort_a_age_out.csv'\n",
    "\n",
    "with open(path, 'w') as result_file:\n",
    "    wr = csv.writer(result_file, dialect='excel')\n",
    "\n",
    "    for q in adata:\n",
    "         wr.writerow(q)"
   ]
  },
  {
   "cell_type": "code",
   "execution_count": 8,
   "id": "30942d85",
   "metadata": {},
   "outputs": [
    {
     "data": {
      "text/plain": [
       "102"
      ]
     },
     "execution_count": 8,
     "metadata": {},
     "output_type": "execute_result"
    }
   ],
   "source": [
    "#cohort_b\n",
    "childb_dob_limit = today - relativedelta(years=10, months=5)\n",
    "\n",
    "ccb = CaregiverChildConsent.objects.filter(cohort__startswith='cohort_b',\n",
    "                                           child_dob__lte=childb_dob_limit.date()\n",
    "                                          ).values_list('subject_identifier', flat=True).distinct()\n",
    "\n",
    "ccb.count()\n"
   ]
  },
  {
   "cell_type": "code",
   "execution_count": 9,
   "id": "44d24d8c",
   "metadata": {},
   "outputs": [],
   "source": [
    "#get cohort B data\n",
    "bdata = get_part_info(ccb)\n",
    "\n",
    "import csv\n",
    "path = '/home/flourish/cohort_b_age_out.csv'\n",
    "# path = '/Users/imosweu/cohort_b_age_out.csv'\n",
    "\n",
    "with open(path, 'w') as result_file:\n",
    "    wr = csv.writer(result_file, dialect='excel')\n",
    "\n",
    "    for q in bdata:\n",
    "         wr.writerow(q)"
   ]
  },
  {
   "cell_type": "code",
   "execution_count": null,
   "id": "991d6589",
   "metadata": {},
   "outputs": [],
   "source": []
  }
 ],
 "metadata": {
  "kernelspec": {
   "display_name": "Django Shell-Plus",
   "language": "python",
   "name": "django_extensions"
  },
  "language_info": {
   "codemirror_mode": {
    "name": "ipython",
    "version": 3
   },
   "file_extension": ".py",
   "mimetype": "text/x-python",
   "name": "python",
   "nbconvert_exporter": "python",
   "pygments_lexer": "ipython3",
   "version": "3.9.0"
  }
 },
 "nbformat": 4,
 "nbformat_minor": 5
}
