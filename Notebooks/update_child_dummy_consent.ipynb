{
 "cells": [
  {
   "cell_type": "code",
   "execution_count": 1,
   "id": "c842c78b",
   "metadata": {},
   "outputs": [],
   "source": [
    "import os\n",
    "import pandas as pd\n",
    "from django.apps import apps as django_apps\n",
    "from django.core.exceptions import ValidationError\n",
    "os.environ[\"DJANGO_ALLOW_ASYNC_UNSAFE\"] = \"true\""
   ]
  },
  {
   "cell_type": "code",
   "execution_count": 4,
   "id": "594b3b0a",
   "metadata": {},
   "outputs": [
    {
     "data": {
      "text/plain": [
       "<CaregiverChildConsent: CaregiverChildConsent object (b82c9ea1-a16d-45ef-a174-9c14bf3bb7a1)>"
      ]
     },
     "execution_count": 4,
     "metadata": {},
     "output_type": "execute_result"
    }
   ],
   "source": [
    "dummy_consent=ChildDummySubjectConsent.objects.get(subject_identifier='B142-040991049-3-10')\n",
    "child_consent=CaregiverChildConsent.objects.get(subject_identifier='B142-040991049-3-10')\n",
    "dummy_consent.version=child_consent.version\n",
    "dummy_consent.save()\n"
   ]
  },
  {
   "cell_type": "code",
   "execution_count": null,
   "id": "8c98d996",
   "metadata": {},
   "outputs": [],
   "source": []
  }
 ],
 "metadata": {
  "kernelspec": {
   "display_name": "Django Shell-Plus",
   "language": "python",
   "name": "django_extensions"
  },
  "language_info": {
   "codemirror_mode": {
    "name": "ipython",
    "version": 3
   },
   "file_extension": ".py",
   "mimetype": "text/x-python",
   "name": "python",
   "nbconvert_exporter": "python",
   "pygments_lexer": "ipython3",
   "version": "3.9.6"
  }
 },
 "nbformat": 4,
 "nbformat_minor": 5
}
