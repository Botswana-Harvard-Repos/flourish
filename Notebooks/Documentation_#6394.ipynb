{
 "cells": [
  {
   "cell_type": "code",
   "execution_count": 1,
   "id": "2a0fb208",
   "metadata": {},
   "outputs": [],
   "source": [
    "# Imports\n",
    "import os \n",
    "import pandas as pd\n",
    "from django.apps import apps as django_apps\n",
    "from django.core.exceptions import ValidationError\n",
    "os.environ[\"DJANGO_ALLOW_ASYNC_UNSAFE\"] = \"true\"\n",
    "from datetime import date\n",
    "from edc_appointment.models import Appointment\n",
    "\n",
    "\n",
    "# cae = OnScheduleCohortAEnrollment.objects.get(child_subject_identifier='B142-040990558-4-60')\n",
    "\n",
    "\n",
    "# cae.delete()\n",
    "\n",
    "\n",
    "onsb= OnScheduleCohortABirth.objects.get(subject_identifier='B142-040990558-4')\n",
    "\n",
    "onsb.schedule_name = 'a_birth2_schedule1'\n",
    "onsb.save()\n",
    "\n",
    "\n",
    "appts = Appointment.objects.filter(subject_identifier='B142-040990558-4',\n",
    "                                   schedule_name__icontains='birth')\n",
    "for a in appts:\n",
    "    a.schedule_name = onsb.schedule_name\n",
    "    a.visit_schedule_name = 'a2_visit_schedule1'\n",
    "    a.save()\n",
    "    \n",
    "mv = MaternalVisit.objects.get(subject_identifier='B142-040990558-4', visit_code='2000D')\n",
    "mv.save()\n",
    "appt = mv.appointment\n",
    "appt.appt_status = 'done'\n",
    "appt.save()"
   ]
  },
  {
   "cell_type": "code",
   "execution_count": 2,
   "id": "498c27e8",
   "metadata": {},
   "outputs": [],
   "source": [
    "# cae = OnScheduleCohortAEnrollment.objects.get(child_subject_identifier='B142-040990669-9-60')\n",
    "# cae.delete()\n",
    "\n",
    "\n",
    "onsb= OnScheduleCohortABirth.objects.get(subject_identifier='B142-040990669-9')\n",
    "\n",
    "onsb.schedule_name = 'a_birth2_schedule1'\n",
    "onsb.save()\n",
    "\n",
    "\n",
    "appts = Appointment.objects.filter(subject_identifier='B142-040990669-9',\n",
    "                                   schedule_name__icontains='birth')\n",
    "for a in appts:\n",
    "    a.schedule_name = onsb.schedule_name\n",
    "    a.visit_schedule_name = 'a2_visit_schedule1'\n",
    "    a.save()\n",
    "    \n",
    "mv = MaternalVisit.objects.get(subject_identifier='B142-040990669-9', visit_code='2000D')\n",
    "mv.save()"
   ]
  }
 ],
 "metadata": {
  "kernelspec": {
   "display_name": "Django Shell-Plus",
   "language": "python",
   "name": "django_extensions"
  },
  "language_info": {
   "codemirror_mode": {
    "name": "ipython",
    "version": 3
   },
   "file_extension": ".py",
   "mimetype": "text/x-python",
   "name": "python",
   "nbconvert_exporter": "python",
   "pygments_lexer": "ipython3",
   "version": "3.9.0"
  }
 },
 "nbformat": 4,
 "nbformat_minor": 5
}
