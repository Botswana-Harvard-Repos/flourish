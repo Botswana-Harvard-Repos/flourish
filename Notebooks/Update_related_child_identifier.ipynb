{
 "cells": [
  {
   "cell_type": "code",
   "execution_count": 1,
   "id": "8aa81d23",
   "metadata": {},
   "outputs": [],
   "source": [
    "#Script to update related child subject identifier on Mother's schedule"
   ]
  },
  {
   "cell_type": "code",
   "execution_count": null,
   "id": "d1dd8ecd",
   "metadata": {},
   "outputs": [],
   "source": [
    "# Imports\n",
    "import os \n",
    "import pandas as pd\n",
    "from django.apps import apps as django_apps\n",
    "from django.core.exceptions import ValidationError\n",
    "os.environ[\"DJANGO_ALLOW_ASYNC_UNSAFE\"] = \"true\"\n",
    "from datetime import date\n",
    "from edc_base.utils import formatted_age, get_utcnow\n",
    "from dateutil.relativedelta import relativedelta\n",
    "from edc_appointment.models import Appointment"
   ]
  },
  {
   "cell_type": "code",
   "execution_count": 2,
   "id": "17fdac8e",
   "metadata": {},
   "outputs": [],
   "source": [
    "for a in OnScheduleCohortAAntenatal.objects.all():\n",
    "    try:\n",
    "        cb = ChildBirth.objects.get(subject_identifier__startswith=a.subject_identifier)\n",
    "    except ChildBirth.DoesNotExist:\n",
    "        pass\n",
    "    else:\n",
    "        a.child_subject_identifier = cb.subject_identifier\n",
    "        a.save()"
   ]
  },
  {
   "cell_type": "code",
   "execution_count": 3,
   "id": "ebcfedbc",
   "metadata": {},
   "outputs": [],
   "source": [
    "\n",
    "def update_child_pids(sid):\n",
    "    \n",
    "\n",
    "    schedules = []\n",
    "    schedule_names = []\n",
    "    for a in Appointment.objects.filter(subject_identifier=sid):\n",
    "        if [a.schedule.onschedule_model, a.schedule_name, a.subject_identifier] not in schedules:\n",
    "            schedules.append([a.schedule.onschedule_model, a.schedule_name, a.subject_identifier])\n",
    "    \n",
    "    child_subject_identifier = None\n",
    "    \n",
    "            \n",
    "    for sch, sch_n, subject_identifier in schedules:\n",
    "    \n",
    "        if 'enrol' in sch_n or 'antenatal' in sch_n or ('sec' in sch_n and 'quart' not in sch_n):\n",
    "            onschedule_model = django_apps.get_model(sch)\n",
    "            try:\n",
    "                onschedule_obj = onschedule_model.objects.get(\n",
    "                    subject_identifier=subject_identifier,\n",
    "                    schedule_name=sch_n)\n",
    "            except onschedule_model.DoesNotExist:\n",
    "                print(\"\\n\\n??????\", sch_n, subject_identifier, sch)\n",
    "            else:\n",
    "                child_subject_identifier = onschedule_obj.child_subject_identifier\n",
    "    \n",
    "    if child_subject_identifier and len(child_subject_identifier.split('-')) ==4:\n",
    "        for sch, sch_n, subject_identifier in schedules:\n",
    "    \n",
    "            if 'enrol' not in sch_n or 'antenatal' not in sch_n or 'birth' not in sch_n :\n",
    "                onschedule_model = django_apps.get_model(sch)\n",
    "                try:\n",
    "                    onschedule_obj = onschedule_model.objects.get(\n",
    "                        subject_identifier=subject_identifier,\n",
    "                        schedule_name=sch_n)\n",
    "                except onschedule_model.DoesNotExist:\n",
    "                    print(\"\\n\\n??????\", sch_n, subject_identifier, sch)\n",
    "                else:\n",
    "                    onschedule_obj.child_subject_identifier = child_subject_identifier\n",
    "                    onschedule_obj.save()\n",
    "       \n",
    "\n",
    "            \n"
   ]
  },
  {
   "cell_type": "code",
   "execution_count": 4,
   "id": "22e954e1",
   "metadata": {
    "scrolled": true
   },
   "outputs": [
    {
     "name": "stdout",
     "output_type": "stream",
     "text": [
      "\n",
      "\n",
      "?????? b_sec_quart1_schedule1 B142-040990006-4 flourish_caregiver.onschedulecohortbsecquart\n",
      "\n",
      "\n",
      "?????? b_sec_quart1_schedule1 B142-040990030-4 flourish_caregiver.onschedulecohortbsecquart\n",
      "\n",
      "\n",
      "?????? b_sec_quart1_schedule1 B142-040990010-6 flourish_caregiver.onschedulecohortbsecquart\n",
      "\n",
      "\n",
      "?????? b_sec_quart1_schedule1 B142-040990009-8 flourish_caregiver.onschedulecohortbsecquart\n",
      "\n",
      "\n",
      "?????? b_sec_quart1_schedule1 B142-040990053-6 flourish_caregiver.onschedulecohortbsecquart\n",
      "\n",
      "\n",
      "?????? a_enrol2_schedule1 B142-040990558-4 flourish_caregiver.onschedulecohortaenrollment\n",
      "\n",
      "\n",
      "?????? a_enrol2_schedule1 B142-040990558-4 flourish_caregiver.onschedulecohortaenrollment\n",
      "\n",
      "\n",
      "?????? c_sec_quart1_schedule1 B142-040990004-9 flourish_caregiver.onschedulecohortcsecquart\n",
      "\n",
      "\n",
      "?????? c_sec2_schedule1 B142-040990099-9 flourish_caregiver.onschedulecohortcsec\n",
      "\n",
      "\n",
      "?????? c_sec2_schedule1 B142-040990099-9 flourish_caregiver.onschedulecohortcsec\n"
     ]
    }
   ],
   "source": [
    "sids = list(set(SubjectConsent.objects.all().values_list('subject_identifier', flat=True)))\n",
    "for sid in sids:\n",
    "    update_child_pids(sid)"
   ]
  },
  {
   "cell_type": "code",
   "execution_count": 7,
   "id": "432dddb6",
   "metadata": {},
   "outputs": [
    {
     "name": "stdout",
     "output_type": "stream",
     "text": [
      ">>>>>>> b_enrol1_schedule1\n",
      ">>>>>>> b_quarterly1_schedule1\n",
      ">>>>>>> b_fu_quarterly1_schedule1\n",
      ">>>>>>> b_fu1_schedule1\n"
     ]
    }
   ],
   "source": [
    "update_child_pids('B142-040990014-8')\n"
   ]
  },
  {
   "cell_type": "code",
   "execution_count": null,
   "id": "a0505957",
   "metadata": {},
   "outputs": [],
   "source": []
  }
 ],
 "metadata": {
  "kernelspec": {
   "display_name": "Django Shell-Plus",
   "language": "python",
   "name": "django_extensions"
  },
  "language_info": {
   "codemirror_mode": {
    "name": "ipython",
    "version": 3
   },
   "file_extension": ".py",
   "mimetype": "text/x-python",
   "name": "python",
   "nbconvert_exporter": "python",
   "pygments_lexer": "ipython3",
   "version": "3.9.0"
  }
 },
 "nbformat": 4,
 "nbformat_minor": 5
}
