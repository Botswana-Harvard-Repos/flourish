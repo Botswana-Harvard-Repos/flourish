{
 "cells": [
  {
   "cell_type": "code",
   "execution_count": 13,
   "id": "f1461b53",
   "metadata": {},
   "outputs": [],
   "source": [
    "import os, sys\n",
    "import django\n",
    "sys.path.append('../') # add path to project root dir\n",
    "os.environ[\"DJANGO_SETTINGS_MODULE\"] = \"flourish.settings\"\n",
    "from django.apps import apps as django_apps\n",
    "from django.forms import forms\n",
    "os.environ[\"DJANGO_ALLOW_ASYNC_UNSAFE\"] = \"true\""
   ]
  },
  {
   "cell_type": "code",
   "execution_count": 14,
   "id": "d6bcb425",
   "metadata": {},
   "outputs": [],
   "source": [
    "from edc_appointment.models import Appointment\n",
    "\n",
    "# Remove 2000M schedules for ANC participants\n",
    "subject_identifiers = AntenatalEnrollment.objects.values_list('subject_identifier', flat=True)\n",
    "for sidx in subject_identifiers:\n",
    "    anc_schedules = CohortSchedules.objects.filter(\n",
    "        schedule_type='antenatal',\n",
    "        cohort_name='cohort_a',\n",
    "        onschedule_model__startswith='flourish_caregiver')\n",
    "    for schedule in anc_schedules:\n",
    "        model_cls = django_apps.get_model(schedule.onschedule_model)\n",
    "        try:\n",
    "            anc_onsch = model_cls.objects.get(subject_identifier=sidx, schedule_name=schedule.schedule_name)\n",
    "        except model_cls.DoesNotExist:\n",
    "            continue\n",
    "        else:\n",
    "            enrol_schedules = CohortSchedules.objects.filter(\n",
    "                schedule_type='enrollment',\n",
    "                cohort_name='cohort_a',\n",
    "                child_count=schedule.child_count)\n",
    "            for enrol_schedule in enrol_schedules:\n",
    "                enrol_model_cls = django_apps.get_model(enrol_schedule.onschedule_model)\n",
    "                enrol_onsch = enrol_model_cls.objects.filter(\n",
    "                    subject_identifier=sidx,\n",
    "                    schedule_name=enrol_schedule.schedule_name)\n",
    "                if enrol_onsch.exists():\n",
    "                    appts = Appointment.objects.filter(subject_identifier=sidx,\n",
    "                                                       schedule_name=enrol_onsch[0].schedule_name)\n",
    "                    try:\n",
    "                        appts.delete()\n",
    "                    except Exception:\n",
    "                        continue\n",
    "                    else:\n",
    "                        SubjectScheduleHistory.objects.filter(\n",
    "                            subject_identifier=sidx,\n",
    "                            schedule_name=enrol_onsch[0].schedule_name).delete()\n",
    "                        enrol_onsch.delete()"
   ]
  },
  {
   "cell_type": "code",
   "execution_count": null,
   "id": "f9d9a403",
   "metadata": {},
   "outputs": [],
   "source": [
    "def create_subject_schedule_history(subject_identifier, onschedule_model, offschedule_model,\n",
    "                                    schedule_name, visit_schedule_name, onschedule_datetime):\n",
    "    SubjectScheduleHistory.objects.create(\n",
    "        subject_identifier=subject_identifier,\n",
    "        onschedule_model=onschedule_model,\n",
    "        offschedule_model=offschedule_model,\n",
    "        schedule_name=schedule_name,\n",
    "        visit_schedule_name=visit_schedule_name,\n",
    "        onschedule_datetime=onschedule_datetime,\n",
    "        schedule_status='onschedule')"
   ]
  },
  {
   "cell_type": "code",
   "execution_count": null,
   "id": "77284160",
   "metadata": {},
   "outputs": [],
   "source": [
    "onsch = OnScheduleCohortAAntenatal.objects.get(subject_identifier='B142-040990172-4')\n",
    "create_subject_schedule_history(onsch.subject_identifier,\n",
    "                                'flourish_caregiver.onschedulecohortaantenatal',\n",
    "                                'flourish_caregiver.caregiveroffschedule',\n",
    "                                onsch.schedule_name,\n",
    "                                'a1_visit_schedule1',\n",
    "                                onsch.onschedule_datetime)\n"
   ]
  },
  {
   "cell_type": "code",
   "execution_count": null,
   "id": "8eb56c3e",
   "metadata": {},
   "outputs": [],
   "source": [
    "onsch = OnScheduleCohortAAntenatal.objects.get(subject_identifier='B142-040990639-2')\n",
    "create_subject_schedule_history(onsch.subject_identifier,\n",
    "                                'flourish_caregiver.onschedulecohortaantenatal',\n",
    "                                'flourish_caregiver.caregiveroffschedule',\n",
    "                                onsch.schedule_name,\n",
    "                                'a1_visit_schedule1',\n",
    "                                onsch.onschedule_datetime)\n"
   ]
  },
  {
   "cell_type": "code",
   "execution_count": null,
   "id": "043af47b",
   "metadata": {},
   "outputs": [],
   "source": [
    "from tqdm import tqdm\n",
    "\n",
    "ultrasounds = UltraSound.objects.all()\n",
    "for ultrasound in tqdm(ultrasounds):\n",
    "    ultrasound.save()"
   ]
  }
 ],
 "metadata": {
  "kernelspec": {
   "display_name": "Django Shell-Plus",
   "language": "python",
   "name": "django_extensions"
  },
  "language_info": {
   "codemirror_mode": {
    "name": "ipython",
    "version": 3
   },
   "file_extension": ".py",
   "mimetype": "text/x-python",
   "name": "python",
   "nbconvert_exporter": "python",
   "pygments_lexer": "ipython3",
   "version": "3.8.13"
  }
 },
 "nbformat": 4,
 "nbformat_minor": 5
}
