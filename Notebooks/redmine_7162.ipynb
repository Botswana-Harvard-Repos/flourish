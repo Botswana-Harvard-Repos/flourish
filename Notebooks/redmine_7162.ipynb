{
 "cells": [
  {
   "cell_type": "code",
   "execution_count": 11,
   "id": "b13b80b3",
   "metadata": {},
   "outputs": [],
   "source": [
    "import os, pytz, datetime\n",
    "import pandas as pd\n",
    "from django.apps import apps as django_apps\n",
    "from django.core.exceptions import ValidationError\n",
    "from edc_visit_schedule.site_visit_schedules import site_visit_schedules\n",
    "\n",
    "os.environ[\"DJANGO_ALLOW_ASYNC_UNSAFE\"] = \"true\""
   ]
  },
  {
   "cell_type": "code",
   "execution_count": 6,
   "id": "fd1b7cbe",
   "metadata": {},
   "outputs": [],
   "source": [
    "tz = pytz.timezone('Africa/Gaborone')\n",
    "def update_report_datetime(onschedule_cls, report_datetime, pid, visit_code):\n",
    "    schedule_name = onschedule_cls.objects.get(subject_identifier=pid).schedule_name\n",
    "    visit = ChildVisit.objects.get(subject_identifier=pid, schedule_name=schedule_name, visit_code=visit_code)\n",
    "\n",
    "#     report_datetime = tz.localize(report_datetime)\n",
    "    visit.report_datetime = report_datetime\n",
    "    visit.save()"
   ]
  },
  {
   "cell_type": "code",
   "execution_count": 7,
   "id": "4f67920a",
   "metadata": {},
   "outputs": [],
   "source": [
    "from flourish_child.models import Appointment\n",
    "# Update visit report datetime to correct window periods\n",
    "# `B142-040991051-9-10`\n",
    "pid = 'B142-040991051-9-10'\n",
    "visit_code = '2000D'\n",
    "appt_dt = Appointment.objects.get(subject_identifier=pid, visit_code=visit_code).appt_datetime\n",
    "update_report_datetime(OnScheduleChildCohortABirth, appt_dt, pid, visit_code)"
   ]
  },
  {
   "cell_type": "code",
   "execution_count": 10,
   "id": "ed84877a",
   "metadata": {},
   "outputs": [],
   "source": [
    "onsch = OnScheduleChildCohortAQuarterly.objects.get(subject_identifier=pid)\n",
    "ssh = SubjectScheduleHistory.objects.get(\n",
    "    subject_identifier=onsch.subject_identifier, schedule_name=onsch.schedule_name)\n",
    "_, schedule = site_visit_schedules.get_by_onschedule_model_schedule_name(\n",
    "    onschedule_model=ssh.onschedule_model, name=onsch.schedule_name)\n",
    "onsch.delete()\n",
    "ssh.delete()\n",
    "\n",
    "schedule.put_on_schedule(\n",
    "    subject_identifier=onsch.subject_identifier,\n",
    "    onschedule_datetime=appt_dt.replace(microsecond=0),\n",
    "    schedule_name=onsch.schedule_name,\n",
    "    base_appt_datetime=appt_dt.replace(microsecond=0))"
   ]
  },
  {
   "cell_type": "code",
   "execution_count": 12,
   "id": "1418e4db",
   "metadata": {},
   "outputs": [],
   "source": [
    "pid = 'B142-040990849-7-10'\n",
    "visit_code = '3000'\n",
    "report_dt = ChildVisit.objects.get(\n",
    "    subject_identifier=pid, visit_code=visit_code, visit_code_sequence=0).report_datetime\n",
    "\n",
    "onsch = OnScheduleChildCohortCFUQuart.objects.get(subject_identifier=pid)\n",
    "ssh = SubjectScheduleHistory.objects.get(\n",
    "    subject_identifier=onsch.subject_identifier, schedule_name=onsch.schedule_name)\n",
    "_, schedule = site_visit_schedules.get_by_onschedule_model_schedule_name(\n",
    "    onschedule_model=ssh.onschedule_model, name=onsch.schedule_name)\n",
    "onsch.delete()\n",
    "ssh.delete()\n",
    "\n",
    "schedule.put_on_schedule(\n",
    "    subject_identifier=onsch.subject_identifier,\n",
    "    onschedule_datetime=report_dt.replace(microsecond=0),\n",
    "    schedule_name=onsch.schedule_name,\n",
    "    base_appt_datetime=report_dt.replace(microsecond=0))"
   ]
  },
  {
   "cell_type": "code",
   "execution_count": 13,
   "id": "938a0776",
   "metadata": {},
   "outputs": [],
   "source": [
    "pid = 'B142-040990540-2-10'\n",
    "visit_code = '3000'\n",
    "report_dt = ChildVisit.objects.get(\n",
    "    subject_identifier=pid, visit_code=visit_code, visit_code_sequence=0).report_datetime\n",
    "\n",
    "onsch = OnScheduleChildCohortCFUQuart.objects.get(subject_identifier=pid)\n",
    "ssh = SubjectScheduleHistory.objects.get(\n",
    "    subject_identifier=onsch.subject_identifier, schedule_name=onsch.schedule_name)\n",
    "_, schedule = site_visit_schedules.get_by_onschedule_model_schedule_name(\n",
    "    onschedule_model=ssh.onschedule_model, name=onsch.schedule_name)\n",
    "onsch.delete()\n",
    "ssh.delete()\n",
    "\n",
    "schedule.put_on_schedule(\n",
    "    subject_identifier=onsch.subject_identifier,\n",
    "    onschedule_datetime=report_dt.replace(microsecond=0),\n",
    "    schedule_name=onsch.schedule_name,\n",
    "    base_appt_datetime=report_dt.replace(microsecond=0))"
   ]
  },
  {
   "cell_type": "code",
   "execution_count": null,
   "id": "832891ea",
   "metadata": {},
   "outputs": [],
   "source": []
  }
 ],
 "metadata": {
  "kernelspec": {
   "display_name": "Django Shell-Plus",
   "language": "python",
   "name": "django_extensions"
  },
  "language_info": {
   "codemirror_mode": {
    "name": "ipython",
    "version": 3
   },
   "file_extension": ".py",
   "mimetype": "text/x-python",
   "name": "python",
   "nbconvert_exporter": "python",
   "pygments_lexer": "ipython3",
   "version": "3.6.15"
  }
 },
 "nbformat": 4,
 "nbformat_minor": 5
}
