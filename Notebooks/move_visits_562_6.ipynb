{
 "cells": [
  {
   "cell_type": "code",
   "execution_count": 3,
   "id": "4da24cfd",
   "metadata": {},
   "outputs": [],
   "source": [
    "# Imports\n",
    "import os\n",
    "from django.apps import apps as django_apps\n",
    "\n",
    "os.environ[\"DJANGO_ALLOW_ASYNC_UNSAFE\"] = \"true\""
   ]
  },
  {
   "cell_type": "code",
   "execution_count": 8,
   "id": "c4ce0fc1",
   "metadata": {},
   "outputs": [],
   "source": [
    "from edc_appointment.models import Appointment\n",
    "from edc_visit_schedule.site_visit_schedules import site_visit_schedules\n",
    "\n",
    "idx = 'B142-040990562-6'\n",
    "child_idx = 'B142-040990562-6-10'\n",
    "enrol_onsch = OnScheduleCohortAEnrollment.objects.get(subject_identifier=idx,\n",
    "                                                      child_subject_identifier=child_idx)\n",
    "visit = MaternalVisit.objects.get(subject_identifier=enrol_onsch.subject_identifier,\n",
    "                                  schedule_name=enrol_onsch.schedule_name)\n",
    "sec_onsch = OnScheduleCohortBSecQuart.objects.get(subject_identifier=idx)\n",
    "sec_ssh = SubjectScheduleHistory.objects.get(\n",
    "    subject_identifier=sec_onsch.subject_identifier,\n",
    "    schedule_name=sec_onsch.schedule_name)\n",
    "sec_onsch.delete()\n",
    "sec_ssh.delete()\n",
    "\n",
    "_, schedule = site_visit_schedules.get_by_onschedule_model_schedule_name(\n",
    "    onschedule_model=sec_ssh.onschedule_model, name=sec_ssh.schedule_name)\n",
    "schedule.put_on_schedule(\n",
    "    subject_identifier=sec_onsch.subject_identifier,\n",
    "    onschedule_datetime=visit.report_datetime,\n",
    "    schedule_name=sec_onsch.schedule_name,\n",
    "    base_appt_datetime=visit.report_datetime)\n",
    "sec_onsch = OnScheduleCohortBSecQuart.objects.get(subject_identifier=idx)\n",
    "sec_onsch.child_subject_identifier = child_idx\n",
    "sec_onsch.save()\n"
   ]
  },
  {
   "cell_type": "code",
   "execution_count": 9,
   "id": "45c264cd",
   "metadata": {},
   "outputs": [
    {
     "data": {
      "text/plain": [
       "(6, {'edc_appointment.Appointment': 6})"
      ]
     },
     "execution_count": 9,
     "metadata": {},
     "output_type": "execute_result"
    }
   ],
   "source": [
    "visit_code = 2007\n",
    "visit_codes = []\n",
    "while visit_code >= 2001:\n",
    "    visit_code -= 1\n",
    "    visit_codes.append(f'{visit_code}M')\n",
    "\n",
    "Appointment.objects.filter(subject_identifier=idx,\n",
    "                           visit_code__in=visit_codes,\n",
    "                           schedule_name=sec_onsch.schedule_name).delete()\n"
   ]
  },
  {
   "cell_type": "code",
   "execution_count": 11,
   "id": "21186f0f",
   "metadata": {},
   "outputs": [],
   "source": [
    "visit_code = 2007\n",
    "while True:\n",
    "    try:\n",
    "        visit = MaternalVisit.objects.get(subject_identifier=idx, visit_code=f'{visit_code}M')\n",
    "    except MaternalVisit.DoesNotExist:\n",
    "        break\n",
    "    else:\n",
    "        appt = visit.appointment\n",
    "        new_appt = Appointment.objects.filter(subject_identifier=idx,\n",
    "                                              visit_code=f'{visit_code}M',\n",
    "                                              schedule_name=sec_onsch.schedule_name)\n",
    "        new_appt.update(appt_datetime=appt.appt_datetime,\n",
    "                        appt_type=appt.appt_type,\n",
    "                        appt_status=appt.appt_status,\n",
    "                        appt_reason=appt.appt_reason,\n",
    "                        comment=appt.comment)\n",
    "        visit.appointment = new_appt[0]\n",
    "        visit.schedule_name = new_appt[0].schedule_name\n",
    "        visit.visit_schedule_name = new_appt[0].visit_schedule_name\n",
    "        visit.save()\n",
    "        appt.appt_status = 'new'\n",
    "        appt.save()\n",
    "        visit_code += 1"
   ]
  },
  {
   "cell_type": "code",
   "execution_count": null,
   "id": "efa42806",
   "metadata": {},
   "outputs": [],
   "source": [
    "a_quart_onsch = OnScheduleCohortAQuarterly.objects.get(subject_identifier=idx,\n",
    "                                                      child_subject_identifier=child_idx)\n",
    "quart_ssh = SubjectScheduleHistory.objects.get(subject_identifier=a_quart_onsch.subject_identifier,\n",
    "                                               schedule_name=a_quart_onsch.schedule_name)\n",
    "_, schedule = site_visit_schedules.get_by_onschedule_model_schedule_name(\n",
    "    onschedule_model=quart_ssh.onschedule_model, name=quart_ssh.schedule_name)\n",
    "schedule.take_off_schedule(subject_identifier=idx, schedule_name=a_quart_onsch.schedule_name)"
   ]
  }
 ],
 "metadata": {
  "kernelspec": {
   "display_name": "Django Shell-Plus",
   "language": "python",
   "name": "django_extensions"
  },
  "language_info": {
   "codemirror_mode": {
    "name": "ipython",
    "version": 3
   },
   "file_extension": ".py",
   "mimetype": "text/x-python",
   "name": "python",
   "nbconvert_exporter": "python",
   "pygments_lexer": "ipython3",
   "version": "3.8.13"
  }
 },
 "nbformat": 4,
 "nbformat_minor": 5
}
