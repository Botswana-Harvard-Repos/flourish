{
 "cells": [
  {
   "cell_type": "code",
   "execution_count": 1,
   "id": "9053fb60",
   "metadata": {},
   "outputs": [],
   "source": [
    "import os, json, csv\n",
    "import pandas as pd\n",
    "from django.apps import apps as django_apps\n",
    "from django.core.exceptions import ValidationError\n",
    "from edc_base.utils import get_utcnow, age\n",
    "from dateutil.relativedelta import relativedelta\n",
    "from django.db.models import OuterRef, Subquery\n",
    "from edc_constants.constants import MALE, FEMALE, YES, POS, NEG\n",
    "from collections import defaultdict\n",
    "from tqdm import tqdm\n",
    "from pre_flourish.helper_classes import MatchHelper\n",
    "from flourish_prn.models import ChildOffStudy\n",
    "from flourish_child.models import Appointment as ChildAppointment\n",
    "from flourish_follow.models import Contact\n",
    "os.environ[\"DJANGO_ALLOW_ASYNC_UNSAFE\"] = \"true\""
   ]
  },
  {
   "cell_type": "code",
   "execution_count": 2,
   "id": "8760ffc6",
   "metadata": {},
   "outputs": [],
   "source": [
    "def get_child_consent(subject_identifier):\n",
    "    try:\n",
    "        child_consent = CaregiverChildConsent.objects.filter(\n",
    "            subject_identifier=subject_identifier,\n",
    "        ).latest('consent_datetime')\n",
    "    except CaregiverChildConsent.DoesNotExist:\n",
    "        pass\n",
    "    else:\n",
    "        return child_consent"
   ]
  },
  {
   "cell_type": "code",
   "execution_count": 3,
   "id": "b528edf0",
   "metadata": {},
   "outputs": [],
   "source": [
    "def check_offstudy(subject_identifier):\n",
    "    offstudy = ChildOffStudy.objects.filter(\n",
    "        subject_identifier=subject_identifier)\n",
    "    return offstudy.exists()"
   ]
  },
  {
   "cell_type": "code",
   "execution_count": 4,
   "id": "6388a0a4",
   "metadata": {},
   "outputs": [],
   "source": [
    "def get_fu_schedule_name(cohort_name):\n",
    "    schedule_names = CohortSchedules.objects.filter(\n",
    "        cohort_name=cohort_name,\n",
    "        onschedule_model__startswith='flourish_child',\n",
    "        schedule_type__in=['followup', 'sq_followup']).values_list('schedule_name', flat=True)\n",
    "    return schedule_names"
   ]
  },
  {
   "cell_type": "code",
   "execution_count": 5,
   "id": "72ddcd26",
   "metadata": {},
   "outputs": [],
   "source": [
    "def has_done_fu(subject_identifier, cohort_name):\n",
    "    fu_appts = ChildVisit.objects.filter(\n",
    "        subject_identifier=subject_identifier,\n",
    "        schedule_name__in=get_fu_schedule_name(cohort_name))\n",
    "    return fu_appts.exists()"
   ]
  },
  {
   "cell_type": "code",
   "execution_count": 6,
   "id": "ae3a57e5",
   "metadata": {},
   "outputs": [],
   "source": [
    "def get_init_contact_datetime(subject_identifier):\n",
    "    try:\n",
    "        contact = Contact.objects.filter(\n",
    "            subject_identifier=subject_identifier).earliest('contact_datetime')\n",
    "    except Contact.DoesNotExist:\n",
    "        return get_utcnow().date()\n",
    "    else:\n",
    "        return getattr(contact, 'contact_datetime', get_utcnow()).date()"
   ]
  },
  {
   "cell_type": "code",
   "execution_count": 7,
   "id": "d9bcfe2c",
   "metadata": {},
   "outputs": [],
   "source": [
    "age_range_to_group = [(7, 9.5), (9.5, 14), (14, 17), (17, 21)]\n",
    "\n",
    "def bcpp_age_range(age):\n",
    "    if age is None:\n",
    "        return None\n",
    "    for age_range in age_range_to_group:\n",
    "        if age_range[0] <= age < age_range[1]:\n",
    "            return age_range\n",
    "    return None"
   ]
  },
  {
   "cell_type": "code",
   "execution_count": 8,
   "id": "056d9fca",
   "metadata": {},
   "outputs": [],
   "source": [
    "# Get matrix groupings for a list of participants\n",
    "match_helper_cls = MatchHelper()\n",
    "gender_map = {MALE: 'male', FEMALE: 'female'}\n",
    "\n",
    "def get_matrix_grouping(participants, cohort='cohort_c', use_reference=False, is_bcpp=False):\n",
    "    bmi_age_data = defaultdict(lambda: defaultdict(lambda: defaultdict(int)))\n",
    "    subject_data = defaultdict(lambda: defaultdict(lambda: defaultdict(list)))\n",
    "    reference_dt = get_utcnow().date()\n",
    "\n",
    "    for participant in tqdm(participants):\n",
    "        if use_reference:\n",
    "            reference_dt = get_init_contact_datetime(\n",
    "                subject_identifier=participant.child_visit.subject_identifier, )\n",
    "        child_identifier = participant.child_visit.subject_identifier\n",
    "        child_consent = get_child_consent(child_identifier, )\n",
    "        child_offstudy = check_offstudy(child_identifier, )\n",
    "        if not child_consent or child_offstudy:\n",
    "            continue\n",
    "        child_dob = getattr(child_consent, 'child_dob', None)\n",
    "        gender = getattr(child_consent, 'gender', None)\n",
    "        child_height = getattr(participant, 'child_height', 0) # measured in centimeters\n",
    "        child_weight_kg = getattr(participant, 'child_weight_kg', 0)\n",
    "        if all([child_height, child_weight_kg, child_dob, gender, ]):\n",
    "            _age = age(child_dob, reference_dt)\n",
    "            _age = _age.years + (_age.months / 12)\n",
    "            _bmi = child_weight_kg / pow((child_height / 100), 2) # formulae used kg/m^2\n",
    "            gender = gender_map.get(gender)\n",
    "            bmi_group = match_helper_cls.bmi_group(_bmi)\n",
    "            age_range = match_helper_cls.age_range(_age)\n",
    "            if is_bcpp:\n",
    "                age_range = bcpp_age_range(_age)\n",
    "            if not (bool(bmi_group) and bool(age_range)):\n",
    "                continue\n",
    "            bmi_age_data[bmi_group][age_range][gender] += 1\n",
    "\n",
    "            subject_data[bmi_group][age_range][gender].append(child_identifier)\n",
    "    return bmi_age_data, subject_data"
   ]
  },
  {
   "cell_type": "code",
   "execution_count": 9,
   "id": "93b2be28",
   "metadata": {},
   "outputs": [],
   "source": [
    "def get_current_cohort_name(subject_identifier):\n",
    "    try:\n",
    "        current_cohort = Cohort.objects.get(\n",
    "            subject_identifier=subject_identifier, current_cohort=True)\n",
    "    except Cohort.DoesNotExist:\n",
    "        return None\n",
    "    else:\n",
    "        return current_cohort.name"
   ]
  },
  {
   "cell_type": "code",
   "execution_count": 32,
   "id": "27ef86b8",
   "metadata": {},
   "outputs": [],
   "source": [
    "def generate_matrix_dict(bmi_age_data, subject_data):\n",
    "    export_data = []\n",
    "    sidxs_heu = []\n",
    "    no_fu_sidxs = []\n",
    "    for bmi_group, age_data in bmi_age_data.items():\n",
    "        for age_group, gender_data in age_data.items():\n",
    "            for gender_group, count in gender_data.items():\n",
    "                f_count = 0\n",
    "                fu_sidx = []\n",
    "                subject_identifiers = subject_data[bmi_group][age_group][gender_group]\n",
    "                for sidx in subject_identifiers:\n",
    "                    cohort_name = get_current_cohort_name(sidx)\n",
    "                    if has_done_fu(sidx, cohort_name):\n",
    "                        f_count += 1\n",
    "                        fu_sidx.append(sidx)\n",
    "                    else:\n",
    "                        no_fu_sidxs.append(sidx)\n",
    "                sidxs_heu.extend(subject_identifiers)\n",
    "                export_data.append(\n",
    "                    {'bmi_group': bmi_group,\n",
    "                     'age_group': age_group,\n",
    "                     'gender_group': gender_group,\n",
    "                     'count': len(subject_identifiers),\n",
    "                     'subject_identifiers': subject_identifiers,\n",
    "                     'has_fu': f_count,\n",
    "                     'fu_sidx': fu_sidx })\n",
    "    return export_data, sidxs_heu, no_fu_sidxs"
   ]
  },
  {
   "cell_type": "code",
   "execution_count": 33,
   "id": "a10e5dc5",
   "metadata": {},
   "outputs": [],
   "source": [
    "\"\"\" Returns a list of participants taken off study during the\n",
    "    ANC enrolment i.e. before the child has been delivered\n",
    "    or enrolled on study.\n",
    "\"\"\"\n",
    "caregiver_offstudy_sidx = CaregiverOffStudy.objects.values_list('subject_identifier', flat=True)\n",
    "deliveries = MaternalDelivery.objects.values_list('child_subject_identifier', flat=True)\n",
    "anc_enrols = AntenatalEnrollment.objects.exclude(\n",
    "    child_subject_identifier__in=deliveries).filter(subject_identifier__in=caregiver_offstudy_sidx)\n",
    "anc_offstudy_before_del = anc_enrols.values_list('child_subject_identifier', flat=True)"
   ]
  },
  {
   "cell_type": "code",
   "execution_count": 34,
   "id": "0b68060d",
   "metadata": {},
   "outputs": [],
   "source": [
    "offstudies = ChildOffStudy.objects.values_list('subject_identifier', flat=True)\n",
    "\n",
    "def anc_exposure_list(exposure_status=POS):\n",
    "    anc_sidxs = []\n",
    "    ancs = AntenatalEnrollment.objects.exclude(child_subject_identifier__in=offstudies)\n",
    "    for anc_enrol in ancs:\n",
    "        if anc_enrol.child_subject_identifier in anc_offstudy_before_del:\n",
    "            continue\n",
    "        try:\n",
    "            onsch = OnScheduleCohortAAntenatal.objects.get(\n",
    "                subject_identifier=anc_enrol.subject_identifier,\n",
    "                child_subject_identifier=anc_enrol.child_subject_identifier)\n",
    "        except OnScheduleCohortAAntenatal.DoesNotExist:\n",
    "            print(anc_enrol.subject_identifier)\n",
    "        try:\n",
    "            hivtest = HIVRapidTestCounseling.objects.get(\n",
    "                maternal_visit__subject_identifier=anc_enrol.subject_identifier,\n",
    "                maternal_visit__schedule_name=onsch.schedule_name,\n",
    "                rapid_test_done=YES)\n",
    "        except HIVRapidTestCounseling.DoesNotExist:\n",
    "            hiv_status = anc_enrol.enrollment_hiv_status\n",
    "        else:\n",
    "            hiv_status = hivtest.result\n",
    "        if hiv_status == exposure_status:\n",
    "            anc_sidxs.append(anc_enrol.child_subject_identifier)\n",
    "    return anc_sidxs"
   ]
  },
  {
   "cell_type": "code",
   "execution_count": 35,
   "id": "870b7798",
   "metadata": {},
   "outputs": [
    {
     "name": "stdout",
     "output_type": "stream",
     "text": [
      "\"Total HEU\": 740\n",
      "\"Total HEU Primary\": 267\n"
     ]
    },
    {
     "name": "stderr",
     "output_type": "stream",
     "text": [
      "100%|██████████| 267/267 [00:02<00:00, 90.47it/s]\n"
     ]
    }
   ],
   "source": [
    "# HEU matrix breakdown\n",
    "\n",
    "exposed_participants = ChildDataset.objects.filter(\n",
    "    infant_hiv_exposed__in=['Exposed', 'exposed']).values_list('study_child_identifier', flat=True)\n",
    "\n",
    "heu_sidx = CaregiverChildConsent.objects.filter(\n",
    "    study_child_identifier__in=exposed_participants).exclude(\n",
    "    subject_identifier__in=offstudies).exclude(\n",
    "    subject_identifier__in=anc_offstudy_before_del).values_list('subject_identifier', flat=True)\n",
    "heu_sidx = list(set(heu_sidx))\n",
    "\n",
    "primary_heu_sidx = Cohort.objects.filter(\n",
    "    subject_identifier__in=heu_sidx, current_cohort=True).exclude(name__icontains='sec').values_list(\n",
    "    'subject_identifier', flat=True)\n",
    "primary_heu_sidx = list(set(primary_heu_sidx))\n",
    "\n",
    "print('\"Total HEU\":', len(heu_sidx))\n",
    "print('\"Total HEU Primary\":', len(primary_heu_sidx))\n",
    "\n",
    "latest_measurements = ChildClinicalMeasurements.objects.filter(\n",
    "    child_visit__subject_identifier__in=primary_heu_sidx).filter(\n",
    "    child_visit__subject_identifier=OuterRef(\n",
    "        'child_visit__subject_identifier')).order_by('-report_datetime').values('id')[:1]\n",
    "participants = ChildClinicalMeasurements.objects.filter(\n",
    "    id=Subquery(latest_measurements), ).select_related('child_visit')\n",
    "\n",
    "bmi_age_data, subject_data = get_matrix_grouping(participants, is_bcpp=True)\n",
    "export_data, sidxs_heu, no_fu_sidxs = generate_matrix_dict(bmi_age_data, subject_data)"
   ]
  },
  {
   "cell_type": "code",
   "execution_count": 36,
   "id": "9a6577b4",
   "metadata": {},
   "outputs": [],
   "source": [
    "cidxs = Cohort.objects.exclude(\n",
    "    subject_identifier__in=offstudies).exclude(subject_identifier__in=anc_offstudy_before_del).exclude(\n",
    "    name='cohort_a').filter(current_cohort=True, exposure_status='EXPOSED').values_list(\n",
    "    'subject_identifier', flat=True)"
   ]
  },
  {
   "cell_type": "code",
   "execution_count": 37,
   "id": "925f66dd",
   "metadata": {},
   "outputs": [
    {
     "data": {
      "text/plain": [
       "5"
      ]
     },
     "execution_count": 37,
     "metadata": {},
     "output_type": "execute_result"
    }
   ],
   "source": [
    "difference = set(primary_heu_sidx) - set(cidxs)\n",
    "len(difference)"
   ]
  },
  {
   "cell_type": "code",
   "execution_count": 38,
   "id": "99be46d1",
   "metadata": {},
   "outputs": [
    {
     "name": "stdout",
     "output_type": "stream",
     "text": [
      "B142-040990809-1-10: 5.083333333333333, 15.61792666364870982344952467, M, onstudy, False\n",
      "B142-040990669-9-10: 5.083333333333333, 16.03579268608491599635061215, F, onstudy, False\n",
      "B142-040990783-8-10: 5.083333333333333, 14.51597700065981713639362805, F, onstudy, False\n",
      "B142-040990789-5-10: 5.166666666666667, 14.8, F, onstudy, False\n",
      "B142-040990875-2-10: 5.166666666666667, 15.01565503131006262012524025, M, onstudy, False\n"
     ]
    }
   ],
   "source": [
    "# Check participants not on the matrix pool and reasons:\n",
    "# B142-040990012-2-10 - offstudy, does not have clinical measurements\n",
    "missing = {}\n",
    "matrix_data = {}\n",
    "for pidx in difference:\n",
    "    offstudy = ChildOffStudy.objects.filter(subject_identifier=pidx).exists()\n",
    "    study_status = 'offstudy' if offstudy else 'onstudy'\n",
    "    try:\n",
    "        latest_measurement = ChildClinicalMeasurements.objects.filter(\n",
    "            child_visit__subject_identifier=pidx).latest('report_datetime')\n",
    "    except ChildClinicalMeasurements.DoesNotExist:\n",
    "        print(f'missing measurements for {pidx}, {study_status}')\n",
    "        missing.update({'pid': pidx, 'study_status': study_status})\n",
    "    else:\n",
    "        child_height = getattr(latest_measurement, 'child_height', 0)\n",
    "        child_weight_kg = getattr(latest_measurement, 'child_weight_kg', 0)\n",
    "        child_consent = get_child_consent(pidx)\n",
    "        child_dob = getattr(child_consent, 'child_dob', None)\n",
    "        gender = getattr(child_consent, 'gender', None)\n",
    "        if all([child_height, child_weight_kg, child_dob, gender, ]):\n",
    "            _age = age(child_dob, get_utcnow())\n",
    "            _age = _age.years + (_age.months / 12)\n",
    "            _bmi = child_weight_kg / pow((child_height / 100), 2)\n",
    "            print(f'{pidx}: {_age}, {_bmi}, {gender}, {study_status}, {has_done_fu(pidx, \"cohort_c\")}')\n",
    "        else:\n",
    "            print(f'incomplete, {pidx}: {child_height}, {child_weight_kg}, {child_dob}, {gender}')"
   ]
  },
  {
   "cell_type": "code",
   "execution_count": 40,
   "id": "c5764bef",
   "metadata": {},
   "outputs": [],
   "source": [
    "# Followup(s) reports\n",
    "# age_group: [7, 9.5) provide list of PIDs who will be 10years or older between Apr 1st - Mar 31st.\n",
    "# age_group: [9.5, 14) provide how many had their FUs at/after 10years of age.\n",
    "# bmi: > 18 and age_group: [14, 17] share list of PIDs in the group.\n",
    "import pytz\n",
    "import datetime\n",
    "\n",
    "def generate_fu_reports(dataset):\n",
    "    gt_10 = []\n",
    "    fu_at_10 = []\n",
    "    pid_list = []\n",
    "\n",
    "    for data in dataset:\n",
    "        age_group = data.get('age_group')\n",
    "        bmi_group = data.get('bmi_group')\n",
    "\n",
    "        if age_group == (7, 9.5):\n",
    "            sidxs = data.get('subject_identifiers', [])\n",
    "            reference_dt = datetime.date(2025, 3, 31)\n",
    "            for sidx in sidxs:\n",
    "                child_consent = get_child_consent(sidx)\n",
    "                child_dob = getattr(child_consent, 'child_dob', None)\n",
    "                child_age = age(child_dob, reference_dt)\n",
    "                child_age = child_age.years + (child_age.months / 12)\n",
    "                _age = age(child_dob, get_utcnow().date())\n",
    "                _age = _age.years + (_age.months / 12)\n",
    "                if child_age >= 10:\n",
    "                    gt_10.append({'subject_identifier': sidx,\n",
    "                                  'bmi_group': bmi_group,\n",
    "                                  'child_age': round(_age, 2),\n",
    "                                  'age_at_mar': round(child_age, 2), })\n",
    "\n",
    "        if age_group == (9.5, 14):\n",
    "            fu_sidxs = data.get('fu_sidx', [])\n",
    "            for sidx in fu_sidxs:\n",
    "                cohort_name = get_current_cohort_name(sidx)\n",
    "                schedule_names = get_fu_schedule_name(cohort_name)\n",
    "                fu_visit = ChildVisit.objects.get(subject_identifier=sidx, schedule_name__in=schedule_names)\n",
    "                fu_report_datetime = fu_visit.report_datetime.astimezone(pytz.timezone('Africa/Gaborone'))\n",
    "                child_consent = get_child_consent(sidx)\n",
    "                child_dob = getattr(child_consent, 'child_dob', None)\n",
    "                child_age_at_fu = age(child_dob, fu_report_datetime.date())\n",
    "                child_age_at_fu = child_age_at_fu.years + (child_age_at_fu.months / 12)\n",
    "                _age = age(child_dob, get_utcnow().date())\n",
    "                _age = _age.years + (_age.months / 12)\n",
    "                if child_age_at_fu >= 10:\n",
    "                    fu_at_10.append({'subject_identifier': sidx,\n",
    "                                     'bmi_group': bmi_group,\n",
    "                                     'child_age': round(_age, 2),\n",
    "                                     'age_at_fu': round(child_age_at_fu, 2), })\n",
    "\n",
    "        if bmi_group == '>18' and age_group == (14, 17):\n",
    "            pid_list.extend(data.get('subject_identifiers'))\n",
    "\n",
    "    return gt_10, fu_at_10, pid_list\n",
    "\n",
    "heu_gt_10, heu_fu_at10, heu_pid_list = generate_fu_reports(export_data)"
   ]
  },
  {
   "cell_type": "code",
   "execution_count": 122,
   "id": "0a1fa07c",
   "metadata": {},
   "outputs": [],
   "source": [
    "# C HEU No Followup details\n",
    "import pytz\n",
    "tz = pytz.timezone('Africa/Gaborone')\n",
    "\n",
    "no_fu_data = []\n",
    "for sidx in no_fu_sidxs:\n",
    "    consent = CaregiverChildConsent.objects.filter(subject_identifier=sidx).earliest('consent_datetime')\n",
    "    measurements = ChildClinicalMeasurements.objects.filter(\n",
    "        child_visit__subject_identifier=sidx)\n",
    "    child_age = age(consent.child_dob, get_utcnow().date())\n",
    "    child_age = child_age.years + (child_age.months / 12)\n",
    "    child_bmi = None\n",
    "    if measurements:\n",
    "        measurement = measurements.latest('report_datetime')\n",
    "        child_bmi = measurement.child_weight_kg / pow((measurement.child_height/100), 2)\n",
    "    no_fu_data.append({'subject_identifier': sidx,\n",
    "                       'consent_datetime': consent.consent_datetime.astimezone(tz).strftime('%d-%m-%Y %H:%M'),\n",
    "                       'child_age': str(round(child_age, 2)),\n",
    "                       'child_bmi': str(round(child_bmi, 2)),\n",
    "                       'gender': consent.gender})\n",
    "\n",
    "import csv\n",
    "keys = no_fu_data[0].keys()\n",
    "with open('primary_heu_no_fus.csv', 'w', newline='') as output_file:\n",
    "    dict_writer = csv.DictWriter(output_file, keys)\n",
    "    dict_writer.writeheader()\n",
    "    dict_writer.writerows(no_fu_data)"
   ]
  },
  {
   "cell_type": "code",
   "execution_count": 39,
   "id": "d323ef15",
   "metadata": {},
   "outputs": [],
   "source": [
    "import csv\n",
    "keys = export_data[0].keys()\n",
    "with open('primary_heu_matrix.csv', 'w', newline='') as output_file:\n",
    "    dict_writer = csv.DictWriter(output_file, keys)\n",
    "    dict_writer.writeheader()\n",
    "    dict_writer.writerows(export_data)"
   ]
  },
  {
   "cell_type": "code",
   "execution_count": 136,
   "id": "1e3aeba9",
   "metadata": {},
   "outputs": [
    {
     "name": "stdout",
     "output_type": "stream",
     "text": [
      "\"> 10 years, HEU\": 529\n",
      "\"> 10 years, [Primary cohort] HEU\": 120\n",
      "\"> 10 years, [Primary C] HEU\": 108\n",
      "\"> 10 years, [Primary B] HEU\": 12\n",
      "\"> 10 years, [Secondary aims] HEU\": 409\n"
     ]
    }
   ],
   "source": [
    "# HEU breakdown for participant older than 10years.\n",
    "\n",
    "exposed = ChildDataset.objects.filter(\n",
    "    infant_hiv_exposed__in=['Exposed', 'exposed']).values_list('study_child_identifier', flat=True)\n",
    "\n",
    "cohort_c = get_utcnow() - relativedelta(years=10, months=1)\n",
    "sidxs = CaregiverChildConsent.objects.filter(\n",
    "    study_child_identifier__in=exposed, child_dob__lte=cohort_c).values_list('subject_identifier', flat=True)\n",
    "sidxs = list(set(sidxs))\n",
    "print('\"> 10 years, HEU\":', len(sidxs))\n",
    "\n",
    "primary_sidxs = Cohort.objects.filter(\n",
    "    subject_identifier__in=sidxs, current_cohort=True).exclude(name__icontains='_sec').values_list('subject_identifier', flat=True)\n",
    "primary_sidxs = list(set(primary_sidxs))\n",
    "print('\"> 10 years, [Primary cohort] HEU\":', len(primary_sidxs))\n",
    "\n",
    "primary_c = Cohort.objects.filter(\n",
    "    subject_identifier__in=sidxs, name='cohort_c', current_cohort=True).values_list('subject_identifier', flat=True)\n",
    "primary_c = list(set(primary_c))\n",
    "print('\"> 10 years, [Primary C] HEU\":', len(primary_c))\n",
    "\n",
    "primary_b = Cohort.objects.filter(\n",
    "    subject_identifier__in=sidxs, name='cohort_b', current_cohort=True).values_list('subject_identifier', flat=True)\n",
    "primary_b = list(set(primary_b))\n",
    "print('\"> 10 years, [Primary B] HEU\":', len(primary_b))\n",
    "\n",
    "sec_aims = Cohort.objects.filter(\n",
    "    subject_identifier__in=sidxs, current_cohort=True, name__icontains='_sec').values_list('subject_identifier', flat=True)\n",
    "sec_aims = list(set(sec_aims))\n",
    "print('\"> 10 years, [Secondary aims] HEU\":', len(sec_aims))"
   ]
  },
  {
   "cell_type": "code",
   "execution_count": 9,
   "id": "25b33691",
   "metadata": {},
   "outputs": [
    {
     "data": {
      "text/plain": [
       "73"
      ]
     },
     "execution_count": 9,
     "metadata": {},
     "output_type": "execute_result"
    }
   ],
   "source": [
    "# HEU breakdown for participants 9.5 years old - 10years.\n",
    "upper_limit = get_utcnow() - relativedelta(years=9, months=6)\n",
    "lower_limit = get_utcnow() - relativedelta(years=10, )\n",
    "sidxs = CaregiverChildConsent.objects.filter(\n",
    "    study_child_identifier__in=exposed,\n",
    "    child_dob__range=[lower_limit, upper_limit]).values_list('subject_identifier', flat=True)\n",
    "sidxs = list(set(sidxs))\n",
    "len(sidxs)"
   ]
  },
  {
   "cell_type": "code",
   "execution_count": 141,
   "id": "99f37565",
   "metadata": {},
   "outputs": [
    {
     "name": "stdout",
     "output_type": "stream",
     "text": [
      "\"Total Prior Participants HUU\": 157\n",
      "\"Total BCPP HUU\": 45\n",
      "\"Total Primary HUU\": 202\n",
      "\"> 10 years, [Primary cohort C] HUU\": 138\n",
      "\"[Primary cohort B] HUU\": 63\n",
      "\"[Primary cohort A] HUU\": 1\n"
     ]
    }
   ],
   "source": [
    "# HUU matrix breakdown\n",
    "\n",
    "unexposed_participants = ChildDataset.objects.filter(\n",
    "    infant_hiv_exposed__in=['Unexposed', 'unexposed'])\n",
    "\n",
    "bcpp_unexposed = unexposed_participants.filter(\n",
    "    study_child_identifier__icontains='P').values_list('study_child_identifier', flat=True)\n",
    "\n",
    "unexposed_participants = unexposed_participants.exclude(\n",
    "    study_child_identifier__in=bcpp_unexposed).values_list('study_child_identifier', flat=True)\n",
    "\n",
    "huu_sidxs = CaregiverChildConsent.objects.exclude(\n",
    "    subject_identifier__in=offstudies).filter(\n",
    "    study_child_identifier__in=unexposed_participants).values_list('subject_identifier', flat=True)\n",
    "\n",
    "bcpp_sidxs = CaregiverChildConsent.objects.exclude(\n",
    "    subject_identifier__in=offstudies).filter(\n",
    "    study_child_identifier__in=bcpp_unexposed).values_list('subject_identifier', flat=True)\n",
    "\n",
    "huu_sidxs = list(set(huu_sidxs))\n",
    "bcpp_sidxs = list(set(bcpp_sidxs))\n",
    "print('\"Total Prior Participants HUU\":', len(huu_sidxs))\n",
    "print('\"Total BCPP HUU\":', len(bcpp_sidxs))\n",
    "\n",
    "final_huu = huu_sidxs + bcpp_sidxs\n",
    "\n",
    "primary_huu = Cohort.objects.filter(\n",
    "    subject_identifier__in=final_huu, current_cohort=True).exclude(name__icontains='sec').values_list(\n",
    "    'subject_identifier', flat=True)\n",
    "primary_huu = list(set(primary_huu))\n",
    "print('\"Total Primary HUU\":', len(primary_huu))\n",
    "\n",
    "c_primary_huu = Cohort.objects.filter(\n",
    "    subject_identifier__in=final_huu,\n",
    "    name='cohort_c',\n",
    "    current_cohort=True).values_list('subject_identifier', flat=True)\n",
    "\n",
    "b_primary_huu = Cohort.objects.filter(\n",
    "    subject_identifier__in=final_huu,\n",
    "    name='cohort_b',\n",
    "    current_cohort=True).values_list('subject_identifier', flat=True)\n",
    "\n",
    "a_primary_huu = Cohort.objects.filter(\n",
    "    subject_identifier__in=final_huu,\n",
    "    name='cohort_a',\n",
    "    current_cohort=True).values_list('subject_identifier', flat=True)\n",
    "\n",
    "c_primary_huu = set(c_primary_huu)\n",
    "b_primary_huu = list(set(b_primary_huu))\n",
    "a_primary_huu = list(set(a_primary_huu))\n",
    "\n",
    "print('\"> 10 years, [Primary cohort C] HUU\":', len(c_primary_huu))\n",
    "print('\"[Primary cohort B] HUU\":', len(b_primary_huu))\n",
    "print('\"[Primary cohort A] HUU\":', len(a_primary_huu))\n"
   ]
  },
  {
   "cell_type": "code",
   "execution_count": 142,
   "id": "fcd2bde3",
   "metadata": {},
   "outputs": [
    {
     "name": "stderr",
     "output_type": "stream",
     "text": [
      "100%|██████████| 202/202 [00:02<00:00, 87.63it/s]\n"
     ]
    }
   ],
   "source": [
    "# HUU Prior participants matrix breakdown\n",
    "latest_measurements = ChildClinicalMeasurements.objects.filter(\n",
    "    child_visit__subject_identifier__in=primary_huu).filter(\n",
    "    child_visit__subject_identifier=OuterRef(\n",
    "        'child_visit__subject_identifier')).order_by('-report_datetime').values('id')[:1]\n",
    "participants = ChildClinicalMeasurements.objects.filter(\n",
    "    id=Subquery(latest_measurements), ).select_related('child_visit')\n",
    "\n",
    "bmi_age_data, subject_data = get_matrix_grouping(participants, is_bcpp=True)\n",
    "export_data, sidxs_huu, no_fu_sidxs = generate_matrix_dict(bmi_age_data, subject_data)"
   ]
  },
  {
   "cell_type": "code",
   "execution_count": 148,
   "id": "792ced57",
   "metadata": {},
   "outputs": [
    {
     "data": {
      "text/plain": [
       "40"
      ]
     },
     "execution_count": 148,
     "metadata": {},
     "output_type": "execute_result"
    }
   ],
   "source": [
    "difference = set(primary_huu) - set(sidxs_huu)\n",
    "len(difference)"
   ]
  },
  {
   "cell_type": "code",
   "execution_count": 146,
   "id": "b9233cf7",
   "metadata": {},
   "outputs": [],
   "source": [
    "import csv\n",
    "keys = export_data[0].keys()\n",
    "with open('primary_huu_matrix.csv', 'w', newline='') as output_file:\n",
    "    dict_writer = csv.DictWriter(output_file, keys)\n",
    "    dict_writer.writeheader()\n",
    "    dict_writer.writerows(export_data)"
   ]
  },
  {
   "cell_type": "code",
   "execution_count": 150,
   "id": "f6179225",
   "metadata": {},
   "outputs": [],
   "source": [
    "# HUU No Followup details\n",
    "import pytz\n",
    "tz = pytz.timezone('Africa/Gaborone')\n",
    "\n",
    "no_fu_data = []\n",
    "for sidx in no_fu_sidxs:\n",
    "    consent = CaregiverChildConsent.objects.filter(subject_identifier=sidx).earliest('consent_datetime')\n",
    "    measurements = ChildClinicalMeasurements.objects.filter(\n",
    "        child_visit__subject_identifier=sidx)\n",
    "    child_age = age(consent.child_dob, get_utcnow().date())\n",
    "    child_age = child_age.years + (child_age.months / 12)\n",
    "    child_bmi = None\n",
    "    if measurements:\n",
    "        measurement = measurements.latest('report_datetime')\n",
    "        child_bmi = measurement.child_weight_kg / pow((measurement.child_height/100), 2)\n",
    "    no_fu_data.append({'subject_identifier': sidx,\n",
    "                       'consent_datetime': consent.consent_datetime.astimezone(tz).strftime('%d-%m-%Y %H:%M'),\n",
    "                       'child_age': str(round(child_age, 2)),\n",
    "                       'child_bmi': str(round(child_bmi, 2)),\n",
    "                       'gender': consent.gender})\n",
    "\n",
    "import csv\n",
    "keys = no_fu_data[0].keys()\n",
    "with open('primary_huu_no_fus.csv', 'w', newline='') as output_file:\n",
    "    dict_writer = csv.DictWriter(output_file, keys)\n",
    "    dict_writer.writeheader()\n",
    "    dict_writer.writerows(no_fu_data)"
   ]
  },
  {
   "cell_type": "code",
   "execution_count": 165,
   "id": "b9f555e8",
   "metadata": {},
   "outputs": [
    {
     "name": "stderr",
     "output_type": "stream",
     "text": [
      "100%|██████████| 45/45 [00:00<00:00, 79.52it/s]\n"
     ]
    }
   ],
   "source": [
    "# HUU BCPP participants matrix breakdown\n",
    "latest_measurements = ChildClinicalMeasurements.objects.filter(\n",
    "    child_visit__subject_identifier__in=bcpp_sidxs).filter(\n",
    "    child_visit__subject_identifier=OuterRef(\n",
    "        'child_visit__subject_identifier')).order_by('-report_datetime').values('id')[:1]\n",
    "participants = ChildClinicalMeasurements.objects.filter(\n",
    "    id=Subquery(latest_measurements), ).select_related('child_visit')\n",
    "\n",
    "bmi_age_data, subject_data  = get_matrix_grouping(participants, is_bcpp=True)\n",
    "export_data, sidxs_huu, no_fu_sidxs = generate_matrix_dict(bmi_age_data, subject_data)\n",
    "\n",
    "import csv\n",
    "keys = export_data[0].keys()\n",
    "with open('bcpp_huu_matrix.csv', 'w', newline='') as output_file:\n",
    "    dict_writer = csv.DictWriter(output_file, keys)\n",
    "    dict_writer.writeheader()\n",
    "    dict_writer.writerows(export_data)"
   ]
  },
  {
   "cell_type": "code",
   "execution_count": 166,
   "id": "a6ddfef5",
   "metadata": {},
   "outputs": [],
   "source": [
    "difference = list(set(bcpp_sidxs) - set(sidxs_huu))"
   ]
  },
  {
   "cell_type": "code",
   "execution_count": 149,
   "id": "4e83353f",
   "metadata": {},
   "outputs": [
    {
     "name": "stdout",
     "output_type": "stream",
     "text": [
      "B142-040990828-1-10: 6.916666666666667, 15.33574851299443737875926568, M, onstudy, False\n",
      "B142-040990505-5-10: 6.416666666666667, 11.06770833333333333333333333, M, onstudy, False\n",
      "B142-040990425-6-10: 6.75, 14.12918108419838523644752018, M, onstudy, False\n",
      "B142-040990484-3-10: 6.666666666666667, 22.49134948096885813148788927, F, onstudy, False\n",
      "B142-040990457-9-10: 6.416666666666667, 13.74471357170319108035371011, F, onstudy, False\n",
      "B142-040990475-1-10: 6.75, 15.82673885880882965431070387, F, onstudy, False\n",
      "B142-040990352-2-10: 6.333333333333333, 14.91431010085128366388895128, M, onstudy, False\n",
      "B142-040990468-6-10: 6.333333333333333, 13.47293239185131077022968915, F, onstudy, False\n",
      "B142-040991276-2-10: 10.833333333333334, 14.96445940890385334829779274, F, onstudy, False\n",
      "B142-040990096-5-70: 6.416666666666667, 13.89418647768213110271166731, M, onstudy, False\n",
      "B142-040990364-7-10: 6.75, 15.04805586333067072070911387, F, onstudy, False\n",
      "B142-040990513-9-10: 6.166666666666667, 14.11431418295343704553798641, M, onstudy, False\n",
      "B142-040990469-4-10: 6.583333333333333, 17.23607263773468759618344106, M, onstudy, False\n",
      "B142-040990447-0-10: 6.333333333333333, 16.39886265952522647622826159, F, onstudy, False\n",
      "B142-040990467-8-10: 7.166666666666667, 14.95867768595041322314049587, F, onstudy, False\n",
      "B142-040990847-1-10: 6.333333333333333, 15.34453043704474505723204995, F, onstudy, False\n",
      "B142-040990393-6-10: 6.916666666666667, 14.51523545706371191135734072, F, onstudy, False\n",
      "B142-040990523-8-10: 6.666666666666667, 15.16272189349112426035502959, M, onstudy, False\n",
      "B142-040990441-3-10: 5.75, 17.16044114013611554098066081, F, onstudy, False\n",
      "B142-040991151-7-10: 6.333333333333333, 15.69467591549930183325075447, M, onstudy, False\n",
      "B142-040991073-3-10: 6.916666666666667, 14.74180146310508734330288191, F, onstudy, False\n",
      "B142-040990491-8-10: 6.833333333333333, 14.85112475430124487369263996, M, onstudy, False\n",
      "B142-040990477-7-10: 6.333333333333333, 11.67410856589785900160705282, F, onstudy, False\n",
      "B142-040990367-0-10: 6.666666666666667, 12.45187791265265523402530899, F, onstudy, False\n",
      "B142-040990394-4-10: 6.5, 15.70247933884297520661157025, F, onstudy, False\n",
      "B142-040990466-0-10: 6.916666666666667, 16.09467455621301775147928994, M, onstudy, False\n",
      "B142-040990521-2-10: 6.5, 13.50633906007772515874195672, F, onstudy, False\n",
      "B142-040990493-4-10: 6.833333333333333, 14.78458049886621315192743764, F, onstudy, False\n",
      "B142-040990547-7-10: 6.5, 15.29235964214325913563236236, F, onstudy, False\n",
      "B142-040990407-4-10: 6.333333333333333, 14.45105462412114656571119524, M, onstudy, False\n",
      "B142-040990453-8-10: 6.583333333333333, 16.27291442015488677580629350, M, onstudy, False\n",
      "B142-040990452-0-10: 6.416666666666667, 13.37702510584449061850677249, F, onstudy, False\n",
      "B142-040990433-0-10: 6.916666666666667, 16.08566329565734681737061273, M, onstudy, False\n",
      "B142-040990347-2-10: 13.083333333333334, 17.93902746283698664651045603, M, onstudy, True\n",
      "B142-040990510-5-10: 6.5, 15.71081765121123947590434049, M, onstudy, False\n",
      "B142-040991066-7-10: 6.666666666666667, 15.15002985447059557440892604, F, onstudy, False\n",
      "C142-040990629-3-10: 6.833333333333333, 13.43894624421502313990744037, M, onstudy, False\n",
      "B142-040990708-5-10: 6.666666666666667, 14.9, M, onstudy, False\n",
      "B142-040990520-4-10: 6.666666666666667, 14.33691756272401433691756272, M, onstudy, False\n",
      "B142-040990370-4-10: 6.5, 14.56875345626513605766480426, F, onstudy, False\n"
     ]
    }
   ],
   "source": [
    "missing = {}\n",
    "matrix_data = {}\n",
    "for pidx in difference:\n",
    "    offstudy = ChildOffStudy.objects.filter(subject_identifier=pidx).exists()\n",
    "    study_status = 'offstudy' if offstudy else 'onstudy'\n",
    "    try:\n",
    "        latest_measurement = ChildClinicalMeasurements.objects.filter(\n",
    "            child_visit__subject_identifier=pidx).latest('report_datetime')\n",
    "    except ChildClinicalMeasurements.DoesNotExist:\n",
    "        print(f'missing measurements for {pidx}, {study_status}')\n",
    "        missing.update({'pid': pidx, 'study_status': study_status})\n",
    "    else:\n",
    "        child_height = getattr(latest_measurement, 'child_height', 0)\n",
    "        child_weight_kg = getattr(latest_measurement, 'child_weight_kg', 0)\n",
    "        child_consent = get_child_consent(pidx,)\n",
    "        child_dob = getattr(child_consent, 'child_dob', None)\n",
    "        gender = getattr(child_consent, 'gender', None)\n",
    "        if all([child_height, child_weight_kg, child_dob, gender, ]):\n",
    "            _age = age(child_dob, get_utcnow())\n",
    "            _age = _age.years + (_age.months / 12)\n",
    "            _bmi = child_weight_kg / pow((child_height / 100), 2)\n",
    "            print(f'{pidx}: {_age}, {_bmi}, {gender}, {study_status}, {has_done_fu(pidx, \"cohort_c\")}')\n",
    "        else:\n",
    "            print(f'incomplete, {pidx}: {child_height}, {child_weight_kg}, {child_dob}, {gender}')"
   ]
  },
  {
   "cell_type": "code",
   "execution_count": 83,
   "id": "50d17644",
   "metadata": {},
   "outputs": [
    {
     "data": {
      "text/plain": [
       "4"
      ]
     },
     "execution_count": 83,
     "metadata": {},
     "output_type": "execute_result"
    }
   ],
   "source": [
    "cidxs = Cohort.objects.filter(\n",
    "    current_cohort=True, exposure_status='UNEXPOSED').values_list('subject_identifier', flat=True)\n",
    "\n",
    "difference = set(cidxs) - set(huu_sidxs)\n",
    "len(difference)"
   ]
  },
  {
   "cell_type": "code",
   "execution_count": 84,
   "id": "e48000f7",
   "metadata": {},
   "outputs": [
    {
     "name": "stdout",
     "output_type": "stream",
     "text": [
      "missing measurements for B142-040991049-3-10, offstudy\n",
      "B142-040990076-7-10: 13.0, 16.40603566529492455418381344, M, offstudy, False\n",
      "B142-040990347-2-10: 13.083333333333334, 17.93902746283698664651045603, M, onstudy, True\n",
      "B142-040990321-7-10: 12.25, 18.30808080808080808080808081, F, offstudy, False\n"
     ]
    }
   ],
   "source": [
    "# Check participants not on the cohort C HUU matrix pool and reasons:\n",
    "# B142-040991049-3-10 - offstudy, does not have clinical measurements\n",
    "missing = {}\n",
    "matrix_data = {}\n",
    "for pidx in difference:\n",
    "    offstudy = ChildOffStudy.objects.filter(subject_identifier=pidx).exists()\n",
    "    study_status = 'offstudy' if offstudy else 'onstudy'\n",
    "    try:\n",
    "        latest_measurement = ChildClinicalMeasurements.objects.filter(\n",
    "            child_visit__subject_identifier=pidx).latest('report_datetime')\n",
    "    except ChildClinicalMeasurements.DoesNotExist:\n",
    "        print(f'missing measurements for {pidx}, {study_status}')\n",
    "        missing.update({'pid': pidx, 'study_status': study_status})\n",
    "    else:\n",
    "        child_height = getattr(latest_measurement, 'child_height', 0)\n",
    "        child_weight_kg = getattr(latest_measurement, 'child_weight_kg', 0)\n",
    "        child_consent = get_child_consent(pidx)\n",
    "        child_dob = getattr(child_consent, 'child_dob', None)\n",
    "        gender = getattr(child_consent, 'gender', None)\n",
    "        if all([child_height, child_weight_kg, child_dob, gender, ]):\n",
    "            _age = age(child_dob, get_utcnow())\n",
    "            _age = _age.years + (_age.months / 12)\n",
    "            _bmi = child_weight_kg / pow((child_height / 100), 2)\n",
    "            print(f'{pidx}: {_age}, {_bmi}, {gender}, {study_status}, {has_done_fu(pidx, \"cohort_c\")}')\n",
    "        else:\n",
    "            print(f'incomplete, {pidx}: {child_height}, {child_weight_kg}, {child_dob}, {gender}')"
   ]
  },
  {
   "cell_type": "code",
   "execution_count": 18,
   "id": "df988146",
   "metadata": {},
   "outputs": [
    {
     "name": "stderr",
     "output_type": "stream",
     "text": [
      "100%|██████████| 391/391 [00:07<00:00, 53.11it/s]\n"
     ]
    }
   ],
   "source": [
    "# HEU cohort C secondary aims eligibility to cohort C primary\n",
    "from flourish_caregiver.helper_classes.cohort_assignment import CohortAssignment\n",
    "\n",
    "secondary_aims = Cohort.objects.filter(\n",
    "    exposure_status='EXPOSED', name='cohort_c_sec', current_cohort=True).values_list(\n",
    "    'subject_identifier', flat=True)\n",
    "secondary_aims = list(set(secondary_aims))\n",
    "offstudy_pidx = []\n",
    "eligible = []\n",
    "ineligible = []\n",
    "for pidx in tqdm(secondary_aims):\n",
    "    offstudy = ChildOffStudy.objects.filter(subject_identifier=pidx).exists()\n",
    "    if offstudy:\n",
    "        offstudy_pidx.append(pidx)\n",
    "        continue\n",
    "    # Check eligibility for primary cohort\n",
    "    try:\n",
    "        child_consent = CaregiverChildConsent.objects.filter(\n",
    "            subject_identifier=pidx).latest('consent_datetime')\n",
    "    except CaregiverChildConsent.DoesNotExist:\n",
    "        print(f'missing consent {pidx}')\n",
    "        continue\n",
    "    else:\n",
    "        child_dataset = getattr(child_consent, 'child_dataset', None)\n",
    "        try:\n",
    "            maternal_dataset_obj = MaternalDataset.objects.get(\n",
    "                study_maternal_identifier=getattr(\n",
    "                    child_dataset, 'study_maternal_identifier', None))\n",
    "        except MaternalDataset.DoesNotExist:\n",
    "            pass\n",
    "        else:\n",
    "            arv_regimen = getattr(\n",
    "                    maternal_dataset_obj, 'mom_pregarv_strat', None)\n",
    "            cohort = CohortAssignment(\n",
    "                child_dob=child_dob,\n",
    "                enrolment_dt=get_utcnow().date(),\n",
    "                child_hiv_exposure=getattr(\n",
    "                    child_dataset, 'infant_hiv_exposed', None),\n",
    "                arv_regimen=arv_regimen, )\n",
    "            if cohort.child_age > 10:\n",
    "                if cohort.hiv_exposed_uninfected and cohort.art_3drug_combination:\n",
    "                    eligible.append(pidx)\n",
    "                    continue\n",
    "            ineligible.append({'pid': pidx, 'age': cohort.child_age, 'arv_regimen': arv_regimen})\n"
   ]
  },
  {
   "cell_type": "code",
   "execution_count": 19,
   "id": "29c7535b",
   "metadata": {},
   "outputs": [
    {
     "name": "stdout",
     "output_type": "stream",
     "text": [
      "Total HEU cohort C secondary aims enrolled: 391\n",
      "Offstudy pids: 11\n",
      "Eligible pids: 306\n",
      "Ineligible pids: 74\n"
     ]
    }
   ],
   "source": [
    "print(f'Total HEU cohort C secondary aims enrolled: {len(secondary_aims)}')\n",
    "print(f'Offstudy pids: {len(offstudy_pidx)}')\n",
    "print(f'Eligible pids: {len(eligible)}')\n",
    "print(f'Ineligible pids: {len(ineligible)}')"
   ]
  },
  {
   "cell_type": "code",
   "execution_count": 20,
   "id": "f099c1e2",
   "metadata": {},
   "outputs": [
    {
     "name": "stderr",
     "output_type": "stream",
     "text": [
      "100%|██████████| 305/305 [00:03<00:00, 84.53it/s]\n"
     ]
    }
   ],
   "source": [
    "latest_measurements = ChildClinicalMeasurements.objects.filter(\n",
    "    Q(child_visit__subject_identifier__in=eligible) & Q(\n",
    "        child_visit__subject_identifier=OuterRef(\n",
    "            'child_visit__subject_identifier'))).order_by('-report_datetime').values('id')[:1]\n",
    "participants = ChildClinicalMeasurements.objects.filter(\n",
    "    id=Subquery(latest_measurements), ).select_related('child_visit')\n",
    "\n",
    "bmi_age_data, subject_data  = get_matrix_grouping(participants, cohort='cohort_c_sec')\n",
    "export_data, sidxs_heu = generate_matrix_dict(bmi_age_data, subject_data)"
   ]
  },
  {
   "cell_type": "code",
   "execution_count": 21,
   "id": "d3b5a01c",
   "metadata": {},
   "outputs": [],
   "source": [
    "import csv\n",
    "keys = export_data[0].keys()\n",
    "with open('sec_heu_matrix.csv', 'w', newline='') as output_file:\n",
    "    dict_writer = csv.DictWriter(output_file, keys)\n",
    "    dict_writer.writeheader()\n",
    "    dict_writer.writerows(export_data)"
   ]
  },
  {
   "cell_type": "code",
   "execution_count": 22,
   "id": "d630016f",
   "metadata": {},
   "outputs": [
    {
     "data": {
      "text/plain": [
       "10"
      ]
     },
     "execution_count": 22,
     "metadata": {},
     "output_type": "execute_result"
    }
   ],
   "source": [
    "difference = set(eligible) - set(sidxs_heu)\n",
    "len(difference)"
   ]
  },
  {
   "cell_type": "code",
   "execution_count": 23,
   "id": "8c886248",
   "metadata": {},
   "outputs": [
    {
     "name": "stdout",
     "output_type": "stream",
     "text": [
      "B142-040990744-0-10: 10.75, 14.94202988405976811953623907, M, onstudy\n",
      "B142-040990283-9-10: 12.666666666666666, 14.90879576231364005297107950, M, onstudy\n",
      "B142-040990797-8-10: 10.166666666666666, 14.96783740304370365142218793, M, onstudy\n",
      "B142-040990862-0-10: 10.916666666666666, 14.92194674012855831037649219, F, onstudy\n",
      "B142-040990212-8-10: 10.583333333333334, 14.98127340823970037453183521, M, onstudy\n",
      "B142-040990571-7-10: 16.916666666666668, 14.92961174895533287354456570, M, onstudy\n",
      "B142-040990028-8-10: 10.5, 14.90007767813007555963561895, F, onstudy\n",
      "B142-040991015-4-10: 13.666666666666666, 17.95070066910743592980684257, M, onstudy\n",
      "missing measurements for B142-040991169-9-10, onstudy\n",
      "B142-040990205-2-10: 10.833333333333334, 14.90759434768796547534507747, M, onstudy\n"
     ]
    }
   ],
   "source": [
    "# Check C SEC participants not on the matrix pool and reasons:\n",
    "missing = {}\n",
    "matrix_data = {}\n",
    "for pidx in difference:\n",
    "    offstudy = ChildOffStudy.objects.filter(subject_identifier=pidx).exists()\n",
    "    study_status = 'offstudy' if offstudy else 'onstudy'\n",
    "    try:\n",
    "        latest_measurement = ChildClinicalMeasurements.objects.filter(\n",
    "            child_visit__subject_identifier=pidx).latest('report_datetime')\n",
    "    except ChildClinicalMeasurements.DoesNotExist:\n",
    "        print(f'missing measurements for {pidx}, {study_status}')\n",
    "        missing.update({'pid': pidx, 'study_status': study_status})\n",
    "    else:\n",
    "        child_height = getattr(latest_measurement, 'child_height', 0)\n",
    "        child_weight_kg = getattr(latest_measurement, 'child_weight_kg', 0)\n",
    "        child_consent = get_child_consent(latest_measurement, cohort='cohort_c_sec')\n",
    "        child_dob = getattr(child_consent, 'child_dob', None)\n",
    "        gender = getattr(child_consent, 'gender', None)\n",
    "        if all([child_height, child_weight_kg, child_dob, gender, ]):\n",
    "            _age = age(child_dob, get_utcnow())\n",
    "            _age = _age.years + (_age.months / 12)\n",
    "            _bmi = child_weight_kg / pow((child_height / 100), 2)\n",
    "            print(f'{pidx}: {_age}, {_bmi}, {gender}, {study_status}')\n",
    "        else:\n",
    "            print(f'incomplete, {pidx}: {child_height}, {child_weight_kg}, {child_dob}, {gender}, {study_status}')"
   ]
  },
  {
   "cell_type": "code",
   "execution_count": 44,
   "id": "fd4ee750",
   "metadata": {},
   "outputs": [
    {
     "name": "stderr",
     "output_type": "stream",
     "text": [
      "100%|██████████| 18/18 [00:00<00:00, 68.67it/s]\n",
      "100%|██████████| 18/18 [00:00<00:00, 74.77it/s]\n"
     ]
    }
   ],
   "source": [
    "contacts = Contact.objects.filter(contact_success=YES,\n",
    "                                  appt_scheduled=YES,\n",
    "                                  appt_date__isnull=False, )\n",
    "contacts = list(set(contacts.values_list('subject_identifier', flat=True)))\n",
    "\n",
    "subquery = Cohort.objects.filter(\n",
    "    subject_identifier=OuterRef('subject_identifier'),\n",
    "    name='cohort_c_sec').values('subject_identifier')\n",
    "c_sec_sq = Cohort.objects.annotate(\n",
    "    has_c_sec=Exists(subquery)).filter(\n",
    "    name='cohort_c',\n",
    "    current_cohort=True,\n",
    "    has_c_sec=True,\n",
    "    exposure_status='EXPOSED', subject_identifier__in=contacts).values_list('subject_identifier', flat=True)\n",
    "\n",
    "latest_measurements = ChildClinicalMeasurements.objects.filter(\n",
    "    Q(child_visit__subject_identifier__in=c_sec_sq) & Q(\n",
    "        child_visit__subject_identifier=OuterRef(\n",
    "            'child_visit__subject_identifier'))).order_by('-report_datetime').values('id')[:1]\n",
    "participants = ChildClinicalMeasurements.objects.filter(\n",
    "    id=Subquery(latest_measurements), ).select_related('child_visit')\n",
    "\n",
    "earliest_measurements = ChildClinicalMeasurements.objects.filter(\n",
    "    Q(child_visit__subject_identifier__in=c_sec_sq) & Q(\n",
    "        child_visit__subject_identifier=OuterRef(\n",
    "            'child_visit__subject_identifier'))).order_by('report_datetime').values('id')[:1]\n",
    "earliest_participants = ChildClinicalMeasurements.objects.filter(\n",
    "    id=Subquery(earliest_measurements), ).select_related('child_visit')\n",
    "\n",
    "\n",
    "latest_bmi_age_data, latest_subject_data  = get_matrix_grouping(participants, cohort='cohort_c')\n",
    "latest_export_data, latest_sidxs_heu = generate_matrix_dict(latest_bmi_age_data, latest_subject_data)\n",
    "\n",
    "earliest_bmi_age_data, earliest_subject_data = get_matrix_grouping(earliest_participants, cohort='cohort_c', use_reference=True)\n",
    "earliest_export_data, earliest_sidxs_heu = generate_matrix_dict(earliest_bmi_age_data, earliest_subject_data)"
   ]
  },
  {
   "cell_type": "code",
   "execution_count": 47,
   "id": "94a2bd9b",
   "metadata": {},
   "outputs": [],
   "source": [
    "import csv\n",
    "keys = latest_export_data[0].keys()\n",
    "with open('latest_sec_heu_matrix.csv', 'w', newline='') as output_file:\n",
    "    dict_writer = csv.DictWriter(output_file, keys)\n",
    "    dict_writer.writeheader()\n",
    "    dict_writer.writerows(latest_export_data)"
   ]
  },
  {
   "cell_type": "code",
   "execution_count": 48,
   "id": "7cfd65c0",
   "metadata": {},
   "outputs": [],
   "source": [
    "earliest_export_data\n",
    "import csv\n",
    "keys = earliest_export_data[0].keys()\n",
    "with open('earliest_sec_heu_matrix.csv', 'w', newline='') as output_file:\n",
    "    dict_writer = csv.DictWriter(output_file, keys)\n",
    "    dict_writer.writeheader()\n",
    "    dict_writer.writerows(earliest_export_data)"
   ]
  },
  {
   "cell_type": "code",
   "execution_count": 43,
   "id": "08086e67",
   "metadata": {},
   "outputs": [
    {
     "name": "stderr",
     "output_type": "stream",
     "text": [
      "100%|██████████| 1/1 [00:00<00:00, 58.45it/s]\n",
      "100%|██████████| 1/1 [00:00<00:00, 64.41it/s]\n"
     ]
    },
    {
     "name": "stdout",
     "output_type": "stream",
     "text": [
      "[{'bmi_group': '>18', 'age_group': (14, 17), 'gender_group': 'male', 'count': 1, 'has_fu': 1}] \n",
      " [{'bmi_group': '15-17.9', 'age_group': (14, 17), 'gender_group': 'male', 'count': 1, 'has_fu': 1}] \n",
      " ['B142-040990346-4-10']\n"
     ]
    },
    {
     "name": "stderr",
     "output_type": "stream",
     "text": [
      "100%|██████████| 1/1 [00:00<00:00, 59.40it/s]\n",
      "100%|██████████| 1/1 [00:00<00:00, 53.76it/s]\n"
     ]
    },
    {
     "name": "stdout",
     "output_type": "stream",
     "text": [
      "[{'bmi_group': '15-17.9', 'age_group': (17, 21), 'gender_group': 'male', 'count': 1, 'has_fu': 1}] \n",
      " [{'bmi_group': '15-17.9', 'age_group': (14, 17), 'gender_group': 'male', 'count': 1, 'has_fu': 1}] \n",
      " ['B142-040991164-0-10']\n"
     ]
    },
    {
     "name": "stderr",
     "output_type": "stream",
     "text": [
      "100%|██████████| 1/1 [00:00<00:00, 69.66it/s]\n",
      "100%|██████████| 1/1 [00:00<00:00, 68.32it/s]\n"
     ]
    },
    {
     "name": "stdout",
     "output_type": "stream",
     "text": [
      "[{'bmi_group': '15-17.9', 'age_group': (9.5, 14), 'gender_group': 'male', 'count': 1, 'has_fu': 1}] \n",
      " [{'bmi_group': '>18', 'age_group': (9.5, 14), 'gender_group': 'male', 'count': 1, 'has_fu': 1}] \n",
      " ['C142-040990193-0-10']\n"
     ]
    },
    {
     "name": "stderr",
     "output_type": "stream",
     "text": [
      "100%|██████████| 1/1 [00:00<00:00, 74.17it/s]\n",
      "100%|██████████| 1/1 [00:00<00:00, 64.96it/s]\n"
     ]
    },
    {
     "name": "stdout",
     "output_type": "stream",
     "text": [
      "[{'bmi_group': '15-17.9', 'age_group': (9.5, 14), 'gender_group': 'male', 'count': 1, 'has_fu': 1}] \n",
      " [{'bmi_group': '<14.9', 'age_group': (9.5, 14), 'gender_group': 'male', 'count': 1, 'has_fu': 1}] \n",
      " ['B142-040990622-8-10']\n"
     ]
    },
    {
     "name": "stderr",
     "output_type": "stream",
     "text": [
      "100%|██████████| 1/1 [00:00<00:00, 70.18it/s]\n",
      "100%|██████████| 1/1 [00:00<00:00, 69.10it/s]\n"
     ]
    },
    {
     "name": "stdout",
     "output_type": "stream",
     "text": [
      "[{'bmi_group': '15-17.9', 'age_group': (14, 17), 'gender_group': 'male', 'count': 1, 'has_fu': 1}] \n",
      " [{'bmi_group': '15-17.9', 'age_group': (14, 17), 'gender_group': 'male', 'count': 1, 'has_fu': 1}] \n",
      " ['B142-040990197-1-10']\n"
     ]
    },
    {
     "name": "stderr",
     "output_type": "stream",
     "text": [
      "100%|██████████| 1/1 [00:00<00:00, 71.83it/s]\n",
      "100%|██████████| 1/1 [00:00<00:00, 69.19it/s]\n"
     ]
    },
    {
     "name": "stdout",
     "output_type": "stream",
     "text": [
      "[{'bmi_group': '>18', 'age_group': (17, 21), 'gender_group': 'male', 'count': 1, 'has_fu': 1}] \n",
      " [{'bmi_group': '>18', 'age_group': (14, 17), 'gender_group': 'male', 'count': 1, 'has_fu': 1}] \n",
      " ['B142-040990618-6-10']\n"
     ]
    },
    {
     "name": "stderr",
     "output_type": "stream",
     "text": [
      "100%|██████████| 1/1 [00:00<00:00, 74.20it/s]\n",
      "100%|██████████| 1/1 [00:00<00:00, 68.74it/s]\n"
     ]
    },
    {
     "name": "stdout",
     "output_type": "stream",
     "text": [
      "[{'bmi_group': '>18', 'age_group': (14, 17), 'gender_group': 'male', 'count': 1, 'has_fu': 1}] \n",
      " [{'bmi_group': '>18', 'age_group': (14, 17), 'gender_group': 'male', 'count': 1, 'has_fu': 1}] \n",
      " ['B142-040991079-0-10']\n"
     ]
    },
    {
     "name": "stderr",
     "output_type": "stream",
     "text": [
      "100%|██████████| 1/1 [00:00<00:00, 120.29it/s]\n",
      "100%|██████████| 1/1 [00:00<00:00, 109.35it/s]\n"
     ]
    },
    {
     "name": "stdout",
     "output_type": "stream",
     "text": [
      "[{'bmi_group': '>18', 'age_group': (9.5, 14), 'gender_group': 'female', 'count': 1, 'has_fu': 1}] \n",
      " [{'bmi_group': '>18', 'age_group': (9.5, 14), 'gender_group': 'female', 'count': 1, 'has_fu': 1}] \n",
      " ['B142-040991029-5-10']\n"
     ]
    },
    {
     "name": "stderr",
     "output_type": "stream",
     "text": [
      "100%|██████████| 1/1 [00:00<00:00, 70.14it/s]\n",
      "100%|██████████| 1/1 [00:00<00:00, 69.38it/s]\n"
     ]
    },
    {
     "name": "stdout",
     "output_type": "stream",
     "text": [
      "[{'bmi_group': '>18', 'age_group': (9.5, 14), 'gender_group': 'male', 'count': 1, 'has_fu': 1}] \n",
      " [{'bmi_group': '>18', 'age_group': (9.5, 14), 'gender_group': 'male', 'count': 1, 'has_fu': 1}] \n",
      " ['B142-040990786-1-60']\n"
     ]
    },
    {
     "name": "stderr",
     "output_type": "stream",
     "text": [
      "100%|██████████| 1/1 [00:00<00:00, 67.98it/s]\n",
      "100%|██████████| 1/1 [00:00<00:00, 69.62it/s]\n"
     ]
    },
    {
     "name": "stdout",
     "output_type": "stream",
     "text": [
      "[{'bmi_group': '<14.9', 'age_group': (9.5, 14), 'gender_group': 'male', 'count': 1, 'has_fu': 1}] \n",
      " [{'bmi_group': '<14.9', 'age_group': (9.5, 14), 'gender_group': 'male', 'count': 1, 'has_fu': 1}] \n",
      " ['B142-040991095-6-10']\n"
     ]
    },
    {
     "name": "stderr",
     "output_type": "stream",
     "text": [
      "100%|██████████| 1/1 [00:00<00:00, 72.23it/s]\n",
      "100%|██████████| 1/1 [00:00<00:00, 73.18it/s]\n"
     ]
    },
    {
     "name": "stdout",
     "output_type": "stream",
     "text": [
      "[{'bmi_group': '15-17.9', 'age_group': (14, 17), 'gender_group': 'male', 'count': 1, 'has_fu': 1}] \n",
      " [{'bmi_group': '15-17.9', 'age_group': (14, 17), 'gender_group': 'male', 'count': 1, 'has_fu': 1}] \n",
      " ['B142-040990620-2-10']\n"
     ]
    },
    {
     "name": "stderr",
     "output_type": "stream",
     "text": [
      "100%|██████████| 1/1 [00:00<00:00, 72.91it/s]\n",
      "100%|██████████| 1/1 [00:00<00:00, 69.03it/s]\n"
     ]
    },
    {
     "name": "stdout",
     "output_type": "stream",
     "text": [
      "[{'bmi_group': '>18', 'age_group': (9.5, 14), 'gender_group': 'male', 'count': 1, 'has_fu': 1}] \n",
      " [{'bmi_group': '>18', 'age_group': (9.5, 14), 'gender_group': 'male', 'count': 1, 'has_fu': 1}] \n",
      " ['B142-040990290-4-10']\n"
     ]
    },
    {
     "name": "stderr",
     "output_type": "stream",
     "text": [
      "100%|██████████| 1/1 [00:00<00:00, 71.52it/s]\n",
      "100%|██████████| 1/1 [00:00<00:00, 66.71it/s]\n"
     ]
    },
    {
     "name": "stdout",
     "output_type": "stream",
     "text": [
      "[{'bmi_group': '>18', 'age_group': (9.5, 14), 'gender_group': 'male', 'count': 1, 'has_fu': 1}] \n",
      " [{'bmi_group': '>18', 'age_group': (9.5, 14), 'gender_group': 'male', 'count': 1, 'has_fu': 1}] \n",
      " ['B142-040990763-0-10']\n"
     ]
    },
    {
     "name": "stderr",
     "output_type": "stream",
     "text": [
      "100%|██████████| 1/1 [00:00<00:00, 66.67it/s]\n",
      "100%|██████████| 1/1 [00:00<00:00, 68.22it/s]\n"
     ]
    },
    {
     "name": "stdout",
     "output_type": "stream",
     "text": [
      "[{'bmi_group': '<14.9', 'age_group': (9.5, 14), 'gender_group': 'male', 'count': 1, 'has_fu': 1}] \n",
      " [{'bmi_group': '>18', 'age_group': (9.5, 14), 'gender_group': 'male', 'count': 1, 'has_fu': 1}] \n",
      " ['B142-040990995-8-10']\n"
     ]
    },
    {
     "name": "stderr",
     "output_type": "stream",
     "text": [
      "100%|██████████| 1/1 [00:00<00:00, 73.54it/s]\n",
      "100%|██████████| 1/1 [00:00<00:00, 67.41it/s]\n"
     ]
    },
    {
     "name": "stdout",
     "output_type": "stream",
     "text": [
      "[{'bmi_group': '15-17.9', 'age_group': (17, 21), 'gender_group': 'male', 'count': 1, 'has_fu': 1}] \n",
      " [{'bmi_group': '15-17.9', 'age_group': (14, 17), 'gender_group': 'male', 'count': 1, 'has_fu': 1}] \n",
      " ['C142-040990607-9-10']\n"
     ]
    },
    {
     "name": "stderr",
     "output_type": "stream",
     "text": [
      "100%|██████████| 1/1 [00:00<00:00, 72.17it/s]\n",
      "100%|██████████| 1/1 [00:00<00:00, 70.34it/s]\n"
     ]
    },
    {
     "name": "stdout",
     "output_type": "stream",
     "text": [
      "[{'bmi_group': '>18', 'age_group': (9.5, 14), 'gender_group': 'male', 'count': 1, 'has_fu': 1}] \n",
      " [{'bmi_group': '>18', 'age_group': (9.5, 14), 'gender_group': 'male', 'count': 1, 'has_fu': 1}] \n",
      " ['B142-040990892-7-10']\n"
     ]
    },
    {
     "name": "stderr",
     "output_type": "stream",
     "text": [
      "100%|██████████| 1/1 [00:00<00:00, 68.83it/s]\n",
      "100%|██████████| 1/1 [00:00<00:00, 70.25it/s]\n"
     ]
    },
    {
     "name": "stdout",
     "output_type": "stream",
     "text": [
      "[{'bmi_group': '>18', 'age_group': (14, 17), 'gender_group': 'male', 'count': 1, 'has_fu': 1}] \n",
      " [{'bmi_group': '>18', 'age_group': (14, 17), 'gender_group': 'male', 'count': 1, 'has_fu': 1}] \n",
      " ['B142-040990273-0-10']\n"
     ]
    },
    {
     "name": "stderr",
     "output_type": "stream",
     "text": [
      "100%|██████████| 1/1 [00:00<00:00, 72.11it/s]\n",
      "100%|██████████| 1/1 [00:00<00:00, 70.62it/s]"
     ]
    },
    {
     "name": "stdout",
     "output_type": "stream",
     "text": [
      "[{'bmi_group': '>18', 'age_group': (9.5, 14), 'gender_group': 'male', 'count': 1, 'has_fu': 1}] \n",
      " [{'bmi_group': '>18', 'age_group': (9.5, 14), 'gender_group': 'male', 'count': 1, 'has_fu': 1}] \n",
      " ['B142-040990137-7-10']\n"
     ]
    },
    {
     "name": "stderr",
     "output_type": "stream",
     "text": [
      "\n"
     ]
    }
   ],
   "source": [
    "for participant in participants:\n",
    "    earliest_participant = earliest_participants.get(\n",
    "        child_visit__subject_identifier=participant.child_visit.subject_identifier)\n",
    "\n",
    "    latest_bmi_age_data, latest_subject_data  = get_matrix_grouping([participant, ], cohort='cohort_c')\n",
    "    latest_export_data, latest_sidxs_heu = generate_matrix_dict(latest_bmi_age_data, latest_subject_data)\n",
    "\n",
    "    earliest_bmi_age_data, earliest_subject_data = get_matrix_grouping(\n",
    "        [earliest_participant, ], cohort='cohort_c', use_reference=True)\n",
    "    earliest_export_data, earliest_sidxs_heu = generate_matrix_dict(\n",
    "        earliest_bmi_age_data, earliest_subject_data)\n",
    "    print(latest_export_data, '\\n', earliest_export_data, '\\n', earliest_sidxs_heu)"
   ]
  },
  {
   "cell_type": "code",
   "execution_count": null,
   "id": "b8202823",
   "metadata": {},
   "outputs": [],
   "source": []
  }
 ],
 "metadata": {
  "kernelspec": {
   "display_name": "Django Shell-Plus",
   "language": "python",
   "name": "django_extensions"
  },
  "language_info": {
   "codemirror_mode": {
    "name": "ipython",
    "version": 3
   },
   "file_extension": ".py",
   "mimetype": "text/x-python",
   "name": "python",
   "nbconvert_exporter": "python",
   "pygments_lexer": "ipython3",
   "version": "3.8.13"
  }
 },
 "nbformat": 4,
 "nbformat_minor": 5
}
