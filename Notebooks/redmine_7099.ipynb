{
 "cells": [
  {
   "cell_type": "code",
   "execution_count": 1,
   "id": "8d67c624",
   "metadata": {},
   "outputs": [],
   "source": [
    "# Ticket 7099 issues identified by clinic team\n",
    "import json\n",
    "import os\n",
    "import datetime, pytz\n",
    "import pandas as pd\n",
    "from cacheops import invalidate_model\n",
    "from copy import copy\n",
    "from django.apps import apps as django_apps\n",
    "from django.core.exceptions import ValidationError\n",
    "from django.db.models.deletion import ProtectedError\n",
    "from edc_appointment.models import Appointment as CaregiverAppointment\n",
    "from edc_visit_schedule.site_visit_schedules import site_visit_schedules\n",
    "\n",
    "os.environ[\"DJANGO_ALLOW_ASYNC_UNSAFE\"] = \"true\""
   ]
  },
  {
   "cell_type": "code",
   "execution_count": 2,
   "id": "055daf33",
   "metadata": {},
   "outputs": [],
   "source": [
    "def get_onschedule_model(subject_identifier, schedule_name):\n",
    "    try:\n",
    "        ssh = SubjectScheduleHistory.objects.get(\n",
    "            subject_identifier=subject_identifier, schedule_name=schedule_name)\n",
    "    except SubjectScheduleHistory.DoesNotExist:\n",
    "        return None\n",
    "    else:\n",
    "        return getattr(ssh, 'onschedule_model', None)"
   ]
  },
  {
   "cell_type": "code",
   "execution_count": null,
   "id": "13e8efab",
   "metadata": {},
   "outputs": [],
   "source": [
    "tz = pytz.timezone('Africa/Gaborone')\n",
    "def update_report_datetime(onschedule_cls, report_datetime, pid):\n",
    "    schedule_name = onschedule_cls.objects.get(subject_identifier=pid).schedule_name\n",
    "    visit = MaternalVisit.objects.get(subject_identifier=pid, schedule_name=schedule_name, visit_code='2000M')\n",
    "\n",
    "    report_datetime = tz.localize(report_datetime)\n",
    "    visit.report_datetime = report_datetime\n",
    "    visit.save()"
   ]
  },
  {
   "cell_type": "code",
   "execution_count": null,
   "id": "e281848a",
   "metadata": {},
   "outputs": [],
   "source": [
    "# Correct window period for PID: `B142-040990096-5-70`\n",
    "consent = CaregiverChildConsent.objects.filter(\n",
    "    subject_identifier='B142-040990096-5-70').earliest('consent_datetime')\n",
    "onsch = OnScheduleCohortAEnrollment.objects.get(subject_identifier='B142-040990096-5')\n",
    "ssh = SubjectScheduleHistory.objects.get(\n",
    "    subject_identifier=onsch.subject_identifier, schedule_name=onsch.schedule_name)\n",
    "_, schedule = site_visit_schedules.get_by_onschedule_model_schedule_name(\n",
    "    onschedule_model=ssh.onschedule_model, name=onsch.schedule_name)\n",
    "onsch.delete()\n",
    "ssh.delete()\n",
    "\n",
    "schedule.put_on_schedule(\n",
    "    subject_identifier=onsch.subject_identifier,\n",
    "    onschedule_datetime=consent.created.replace(microsecond=0),\n",
    "    schedule_name=onsch.schedule_name,\n",
    "    base_appt_datetime=consent.created.replace(microsecond=0))\n",
    "\n",
    "onsch = OnScheduleCohortAEnrollment.objects.get(subject_identifier='B142-040990096-5', )\n",
    "onsch.child_subject_identifier = consent.subject_identifier\n",
    "onsch.save()"
   ]
  },
  {
   "cell_type": "code",
   "execution_count": null,
   "id": "efa869e9",
   "metadata": {},
   "outputs": [],
   "source": [
    "# Update visit report datetime to correct window periods\n",
    "# `B142-040990096-5-25`\n",
    "pid = 'B142-040990096-5'\n",
    "b_report_datetime = datetime.datetime(2021, 6, 16, 8, 27, 35)\n",
    "update_report_datetime(OnScheduleCohortBEnrollment, b_report_datetime, pid)\n",
    "\n",
    "# `B142-040990096-5-70`\n",
    "a_report_datetime = datetime.datetime(2022, 2, 10, 9, 25, 17)\n",
    "update_report_datetime(OnScheduleCohortAEnrollment, a_report_datetime, pid)"
   ]
  },
  {
   "cell_type": "code",
   "execution_count": 3,
   "id": "56626867",
   "metadata": {},
   "outputs": [],
   "source": [
    "# Re-save 3000M visit, to correct window period\n",
    "pid = 'B142-040990360-5'\n",
    "try:\n",
    "    visit_3000M = MaternalVisit.objects.get(subject_identifier=pid, visit_code='3000M', visit_code_sequence=0)\n",
    "except MaternalVisit.DoesNotExist:\n",
    "    pass\n",
    "else:\n",
    "    appt_3001M = CaregiverAppointment.objects.get(subject_identifier=pid, visit_code='3001M')\n",
    "    schedule_name = appt_3001M.schedule_name\n",
    "    onschedule_model = get_onschedule_model(pid, schedule_name=schedule_name)\n",
    "    _, schedule = site_visit_schedules.get_by_onschedule_model_schedule_name(\n",
    "        onschedule_model=onschedule_model, name=schedule_name)\n",
    "    schedule.put_on_schedule(\n",
    "            subject_identifier=pid,\n",
    "            onschedule_datetime=visit_3000M.report_datetime.replace(microsecond=0),\n",
    "            schedule_name=schedule_name,\n",
    "            base_appt_datetime=visit_3000M.report_datetime.replace(microsecond=0))"
   ]
  },
  {
   "cell_type": "code",
   "execution_count": 4,
   "id": "db543757",
   "metadata": {},
   "outputs": [],
   "source": [
    "# Remove 2000M visit appt_status `new` PID: B142-040990375-3, B142-040990360-5, B142-040990705-1,\n",
    "# B142-040990713-5\n",
    "pids = ['B142-040990375-3', 'B142-040990360-5', 'B142-040990705-1',\n",
    "        'B142-040990713-5', 'B142-040990804-2']\n",
    "for pid in pids:\n",
    "    new_appt_2000M = CaregiverAppointment.objects.filter(\n",
    "        subject_identifier=pid, appt_status='new', visit_code='2000M')\n",
    "\n",
    "    for appt in new_appt_2000M:\n",
    "        schedule_name = appt.schedule_name\n",
    "        try:\n",
    "            appt.delete()\n",
    "        except ProtectedError:\n",
    "            continue\n",
    "        else:\n",
    "            try:\n",
    "                ssh = SubjectScheduleHistory.objects.get(\n",
    "                    subject_identifier=pid, schedule_name=schedule_name)\n",
    "            except SubjectScheduleHistory.DoesNotExist:\n",
    "                continue\n",
    "            else:\n",
    "                onschedule_model_cls = django_apps.get_model(ssh.onschedule_model)\n",
    "                try:\n",
    "                    onschedule_obj = onschedule_model_cls.objects.get(\n",
    "                        subject_identifier=pid, schedule_name=schedule_name)\n",
    "                except onschedule_model_cls.DoesNotExist:\n",
    "                    pass\n",
    "                else:\n",
    "                    onschedule_obj.delete()\n",
    "                    ssh.delete()\n"
   ]
  },
  {
   "cell_type": "code",
   "execution_count": null,
   "id": "45f987f1",
   "metadata": {},
   "outputs": [],
   "source": [
    "# Correct window period for PID: `B142-040990528-7-60`\n",
    "v2_1_consent = CaregiverChildConsent.objects.get(subject_identifier='B142-040990528-7-60', version='2.1')\n",
    "v2_consent_dt = datetime.datetime(2022, 9, 21, 11, 32)\n",
    "v2_consent_dt = tz.localize(v2_consent_dt)\n",
    "consent_v2 = copy(v2_1_consent)\n",
    "consent_v2.id = None\n",
    "consent_v2.version = '2'\n",
    "consent_v2.consent_datetime = v2_consent_dt\n",
    "consent_v2.save()\n",
    "invalidate_model(CaregiverChildConsent)\n",
    "\n",
    "consent = CaregiverChildConsent.objects.filter(\n",
    "    subject_identifier='B142-040990528-7-60').earliest('consent_datetime')\n",
    "onsch = OnScheduleChildCohortBSec.objects.get(subject_identifier='B142-040990528-7-60')\n",
    "ssh = SubjectScheduleHistory.objects.get(\n",
    "    subject_identifier=onsch.subject_identifier, schedule_name=onsch.schedule_name)\n",
    "_, schedule = site_visit_schedules.get_by_onschedule_model_schedule_name(\n",
    "    onschedule_model=ssh.onschedule_model, name=onsch.schedule_name)\n",
    "onsch.delete()\n",
    "ssh.delete()\n",
    "schedule.put_on_schedule(\n",
    "    subject_identifier=onsch.subject_identifier,\n",
    "    onschedule_datetime=consent.created.replace(microsecond=0),\n",
    "    schedule_name=onsch.schedule_name,\n",
    "    base_appt_datetime=consent.created.replace(microsecond=0))"
   ]
  },
  {
   "cell_type": "code",
   "execution_count": null,
   "id": "8380b61d",
   "metadata": {},
   "outputs": [],
   "source": [
    "# Resave enrollment visit for C142-040990749-9 siblings to correct window period\n",
    "vi"
   ]
  }
 ],
 "metadata": {
  "kernelspec": {
   "display_name": "Django Shell-Plus",
   "language": "python",
   "name": "django_extensions"
  },
  "language_info": {
   "codemirror_mode": {
    "name": "ipython",
    "version": 3
   },
   "file_extension": ".py",
   "mimetype": "text/x-python",
   "name": "python",
   "nbconvert_exporter": "python",
   "pygments_lexer": "ipython3",
   "version": "3.6.15"
  }
 },
 "nbformat": 4,
 "nbformat_minor": 5
}
