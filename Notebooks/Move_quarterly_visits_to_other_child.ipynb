{
 "cells": [
  {
   "cell_type": "markdown",
   "source": [
    "Imports"
   ],
   "metadata": {
    "collapsed": false
   }
  },
  {
   "cell_type": "code",
   "execution_count": null,
   "outputs": [],
   "source": [
    "import os, sys\n",
    "import django\n",
    "from datetime import datetime\n",
    "sys.path.append('../') # add path to project root dir\n",
    "\n",
    "os.environ[\"DJANGO_SETTINGS_MODULE\"] = \"flourish.settings\"\n",
    "from django.apps import apps as django_apps\n",
    "os.environ[\"DJANGO_ALLOW_ASYNC_UNSAFE\"] = \"true\"\n",
    "from django.apps import apps as django_appsh\n",
    "\n",
    "django.setup()"
   ],
   "metadata": {
    "collapsed": false
   }
  },
  {
   "cell_type": "markdown",
   "source": [
    "Declare PIDs"
   ],
   "metadata": {
    "collapsed": false
   }
  },
  {
   "cell_type": "code",
   "execution_count": null,
   "outputs": [],
   "source": [
    "mother_pid = \"B142-040990116-1\"\n",
    "child_c_pid = \"B142-040990116-1-10\"\n",
    "child_b_pid = \"B142-040990116-1-60\""
   ],
   "metadata": {
    "collapsed": false
   }
  },
  {
   "cell_type": "markdown",
   "source": [
    "Clone Maternal visit"
   ],
   "metadata": {
    "collapsed": false
   }
  },
  {
   "cell_type": "code",
   "execution_count": null,
   "outputs": [],
   "source": [
    "from flourish_caregiver.models import MaternalVisit\n",
    "from edc_appointment.models import Appointment\n",
    "from edc_appointment.constants import INCOMPLETE_APPT\n",
    "from edc_metadata.models import CrfMetadata\n",
    "from edc_metadata.constants import REQUIRED, KEYED\n",
    "from copy import copy\n",
    "\n",
    "visit_list = [\n",
    "            '2001M',\n",
    "            '2002M',\n",
    "            '2003M',\n",
    "            '2004M',\n",
    "            '2005M',\n",
    "            '2006M',\n",
    "              ]\n",
    "\n",
    "for visit in visit_list:\n",
    "    # clone maternal visit and associate with appointment from cohort c\n",
    "\n",
    "    # find appointment on cohort c\n",
    "    appointment_b = Appointment.objects.filter(subject_identifier=mother_pid,visit_code=visit, schedule_name='b_quarterly1_schedule1').first()\n",
    "\n",
    "    appointment_c = Appointment.objects.filter(subject_identifier=mother_pid,visit_code=visit, schedule_name='c_quarterly1_schedule1').first()\n",
    "\n",
    "    print(\"appointment\", appointment_c.__dict__)\n",
    "\n",
    "    maternal_visit_b = getattr(appointment_b, 'maternalvisit')\n",
    "    # create maternal visit on cohor c if it does not exist\n",
    "    try:\n",
    "        maternal_visit_c = MaternalVisit.objects.get(subject_identifier=mother_pid, visit_code=visit, schedule_name='c_quarterly1_schedule1')\n",
    "    except MaternalVisit.DoesNotExist:\n",
    "        maternal_visit_c = copy(maternal_visit_b)\n",
    "        maternal_visit_c.id = None\n",
    "        maternal_visit_c.schedule_name = 'c_quarterly1_schedule1'\n",
    "        maternal_visit_c.visit_schedule_name = 'c1_visit_schedule1'\n",
    "        maternal_visit_c.appointment = appointment_c\n",
    "\n",
    "        # regenerate crf metadata for this visit\n",
    "        maternal_visit_c.metadata_create()\n",
    "        maternal_visit_c.run_metadata_rules()\n",
    "\n",
    "        # print crf metadata for this visit\n",
    "        crf_metadata_list = CrfMetadata.objects.filter(subject_identifier=mother_pid, visit_code=visit, schedule_name='c_quarterly1_schedule1')\n",
    "\n",
    "        # change entry status to required incase some crfs are registered as keyed\n",
    "        for crf in crf_metadata_list:\n",
    "            if crf.entry_status == KEYED:\n",
    "                crf.entry_status = REQUIRED\n",
    "                crf.save()\n",
    "        print(crf_metadata_list)\n",
    "        maternal_visit_c.save()\n",
    "    else:\n",
    "        pass\n",
    "\n",
    "\n",
    "    # change appointment status to incomplete\n",
    "    appointment_c.appt_datetime = appointment_b.appt_datetime\n",
    "    appointment_c.appt_status = INCOMPLETE_APPT\n",
    "    appointment_c.appt_reason = appointment_b.appt_reason\n",
    "    appointment_c.save()"
   ],
   "metadata": {
    "collapsed": false
   }
  },
  {
   "cell_type": "markdown",
   "source": [
    "put other child on follow-up schedule from the maternal side"
   ],
   "metadata": {
    "collapsed": false
   }
  },
  {
   "cell_type": "code",
   "execution_count": null,
   "outputs": [],
   "source": [
    "from flourish_caregiver.helper_classes.fu_onschedule_helper import FollowUpEnrolmentHelper\n",
    "\n",
    "\n",
    "class CustomEnrolmentHelper(FollowUpEnrolmentHelper):\n",
    "\n",
    "        def get_latest_completed_appointment(self, subject_identifier, cohort, schedule_number):\n",
    "\n",
    "            appts = Appointment.objects.filter(subject_identifier = mother_pid, visit_code='2002M' ,schedule_name='c_quarterly1_schedule1')\n",
    "\n",
    "            if appts:\n",
    "                latest = appts.order_by('timepoint').last()\n",
    "                return latest\n",
    "\n",
    "\n",
    "schedule_enrol_helper = CustomEnrolmentHelper(\n",
    "            subject_identifier=mother_pid,\n",
    "            cohort='c')\n",
    "\n",
    "# put child on follow-up schedule\n",
    "\n",
    "schedule_enrol_helper.activate_fu_schedule()"
   ],
   "metadata": {
    "collapsed": false
   }
  },
  {
   "cell_type": "markdown",
   "source": [
    "Match date on onshedule model"
   ],
   "metadata": {
    "collapsed": false
   }
  },
  {
   "cell_type": "code",
   "execution_count": null,
   "outputs": [],
   "source": [
    "from flourish_caregiver.models import OnScheduleCohortCFU\n",
    "from flourish_caregiver.models import OnScheduleCohortBFU\n",
    "\n",
    "\n",
    "onsch_c = OnScheduleCohortCFU.objects.filter(\n",
    "    subject_identifier=mother_pid, schedule_name='c_fu1_schedule1'\n",
    ").first()\n",
    "\n",
    "\n",
    "onsch_b = OnScheduleCohortBFU.objects.filter(\n",
    "    subject_identifier=mother_pid, schedule_name='b_fu1_schedule1'\n",
    ").first()\n",
    "\n",
    "onsch_c.onschedule_datetime = onsch_b.onschedule_datetime\n",
    "onsch_c.save()\n",
    "\n",
    "\n",
    "from edc_visit_schedule.models import SubjectScheduleHistory\n",
    "\n",
    "subj_sch_history_c = SubjectScheduleHistory.objects.filter(subject_identifier=mother_pid,schedule_name='c_fu1_schedule1').first()\n",
    "\n",
    "subj_sch_history_b = SubjectScheduleHistory.objects.filter(subject_identifier=mother_pid,schedule_name='b_fu1_schedule1').first()\n",
    "\n",
    "subj_sch_history_c.onschedule_datetime = subj_sch_history_b.onschedule_datetime\n",
    "subj_sch_history_c.save()"
   ],
   "metadata": {
    "collapsed": false
   }
  },
  {
   "cell_type": "markdown",
   "source": [
    "Move crf on follow-up schedule from child on cohort b to cohort c\n"
   ],
   "metadata": {
    "collapsed": false
   }
  },
  {
   "cell_type": "markdown",
   "source": [
    "Match date on offschedule model for object created when enrolling on follow up schedule"
   ],
   "metadata": {
    "collapsed": false
   }
  },
  {
   "cell_type": "code",
   "execution_count": null,
   "outputs": [],
   "source": [
    "from flourish_caregiver.models import CaregiverOffSchedule\n",
    "# find Quarterly Schedule offschedule\n",
    "offsch_quart_c = CaregiverOffSchedule.objects.filter(\n",
    "    subject_identifier=mother_pid, schedule_name='c_quarterly1_schedule1'\n",
    ").first()\n",
    "\n",
    "offsch_quart_b = CaregiverOffSchedule.objects.filter(\n",
    "    subject_identifier=mother_pid, schedule_name='b_quarterly1_schedule1'\n",
    ").first()\n",
    "\n",
    "offsch_quart_c.offschedule_datetime = offsch_quart_b.offschedule_datetime\n",
    "\n",
    "print(offsch_quart_b.offschedule_datetime)\n",
    "offsch_quart_c.save()"
   ],
   "metadata": {
    "collapsed": false
   }
  },
  {
   "cell_type": "markdown",
   "source": [
    "Transfer crf on follow up cohor c"
   ],
   "metadata": {
    "collapsed": false
   }
  },
  {
   "cell_type": "code",
   "execution_count": null,
   "outputs": [],
   "source": [
    "visit_code = '3000M'\n",
    "print(\"Processing\", visit_code)\n",
    "\n",
    "maternal_visit_b = MaternalVisit.objects.filter(subject_identifier=mother_pid,visit_code=visit_code, schedule_name='b_fu1_schedule1').first()\n",
    "\n",
    "# find appointment on cohort c since it already exists\n",
    "appointment_c = Appointment.objects.filter(subject_identifier=mother_pid,visit_code=visit_code, schedule_name='c_fu1_schedule1').first()\n",
    "\n",
    "# corresponding appointment\n",
    "appointment_b = Appointment.objects.filter(subject_identifier=mother_pid,visit_code=visit_code, schedule_name='b_fu1_schedule1').first()\n",
    "\n",
    "appointment_c.appt_datetime = appointment_b.appt_datetime\n",
    "appointment_c.timepoint_datetime = appointment_b.timepoint_datetime\n",
    "appointment_c.appt_reason = appointment_b.appt_reason\n",
    "appointment_c.save()\n",
    "\n",
    "#clone\n",
    "maternal_visit_c = copy(maternal_visit_b)\n",
    "maternal_visit_c.id = None\n",
    "maternal_visit_c.schedule_name = 'c_fu1_schedule1'\n",
    "maternal_visit_c.visit_schedule_name = 'c1_visit_schedule1'\n",
    "maternal_visit_c.appointment = appointment_c\n",
    "maternal_visit_c.save()"
   ],
   "metadata": {
    "collapsed": false
   }
  },
  {
   "cell_type": "markdown",
   "source": [
    "transfer crfs on followup visit to other child"
   ],
   "metadata": {
    "collapsed": false
   }
  },
  {
   "cell_type": "code",
   "execution_count": null,
   "outputs": [],
   "source": [
    "crf_list_fu = [i.model for i in CrfMetadata.objects.filter(subject_identifier=mother_pid,\n",
    "                                                        visit_code='3000M',schedule_name='b_fu1_schedule1')]\n",
    "for model in crf_list_fu:\n",
    "    if model:\n",
    "        try:\n",
    "            crf = django_apps.get_model(model).objects.get(maternal_visit__subject_identifier=mother_pid, maternal_visit__visit_code=visit_code, maternal_visit__schedule_name='b_fu1_schedule1')\n",
    "\n",
    "        except django_apps.get_model(model).DoesNotExist:\n",
    "            print(model,\"crf not found\")\n",
    "        else:\n",
    "            print(\"transferring\",model)\n",
    "            crf.id = None\n",
    "            crf.maternal_visit = maternal_visit_c\n",
    "            crf.save()\n",
    "\n",
    "            # delete old crf\n",
    "            old_crf = django_apps.get_model(model).objects.get(maternal_visit__subject_identifier=mother_pid,maternal_visit__visit_code=visit_code, maternal_visit__schedule_name='b_fu1_schedule1')\n",
    "            old_crf.delete()"
   ],
   "metadata": {
    "collapsed": false
   }
  },
  {
   "cell_type": "code",
   "execution_count": null,
   "outputs": [],
   "source": [
    "\n",
    "if maternal_visit_b:\n",
    "    for i in maternal_visit_b.metadata['crf']:\n",
    "        if i.entry_status == 'KEYED':\n",
    "            i.entry_status=''\n",
    "            i.save()\n",
    "    maternal_visit_b.metadata_delete_for_visit()\n",
    "    appointment = maternal_visit_b.appointment\n",
    "    maternal_visit_b.delete()"
   ],
   "metadata": {
    "collapsed": false
   }
  },
  {
   "cell_type": "markdown",
   "source": [
    "delete followup onschedule , offshcedule, subjectschedulehistory for cohort b"
   ],
   "metadata": {
    "collapsed": false
   }
  },
  {
   "cell_type": "code",
   "execution_count": null,
   "outputs": [],
   "source": [
    "\n",
    "\n",
    "from flourish_caregiver.models import CaregiverOffSchedule,OnScheduleCohortBFU,OnScheduleCohortBFUQuarterly, OnScheduleCohortBQuarterly\n",
    "from edc_visit_schedule.models import SubjectScheduleHistory\n",
    "\n",
    "# get quarterly onsched\n",
    "try:\n",
    "    onschedule_object = OnScheduleCohortBQuarterly.objects.get(subject_identifier=mother_pid,child_subject_identifier=child_b_pid)\n",
    "except:\n",
    "    pass\n",
    "else:\n",
    "    print(onschedule_object)\n",
    "\n",
    "# delete fu onschedule\n",
    "try:\n",
    "    onschedule_object = OnScheduleCohortBFU.objects.get(subject_identifier=mother_pid,child_subject_identifier=child_b_pid)\n",
    "except:\n",
    "    pass\n",
    "else:\n",
    "    print(\"onschedule_object delete\")\n",
    "    onschedule_object.delete()\n",
    "\n",
    "\n",
    "try:\n",
    "    onschedule_object_fu = OnScheduleCohortBFUQuarterly.objects.get(subject_identifier=mother_pid,child_subject_identifier=child_b_pid)\n",
    "except:\n",
    "    pass\n",
    "else:\n",
    "    print(\"onschedule_object_fu delete\")\n",
    "    onschedule_object_fu.delete()\n",
    "\n",
    "# put cohort b child back on b_quarterly1_schedule1 schedule\n",
    "try:\n",
    "    subj_sch_history_b = SubjectScheduleHistory.objects.get(\n",
    "        subject_identifier=mother_pid,\n",
    "        schedule_name =  'b_quarterly1_schedule1',\n",
    "        schedule_status = 'offschedule'\n",
    "    )\n",
    "\n",
    "except:\n",
    "    pass\n",
    "else:\n",
    "    subj_sch_history_b.offschedule_datetime=None\n",
    "    subj_sch_history_b.schedule_status='onschedule'\n",
    "    subj_sch_history_b.save()\n"
   ],
   "metadata": {
    "collapsed": false
   }
  }
 ],
 "metadata": {
  "kernelspec": {
   "display_name": "Python 3",
   "language": "python",
   "name": "python3"
  },
  "language_info": {
   "codemirror_mode": {
    "name": "ipython",
    "version": 2
   },
   "file_extension": ".py",
   "mimetype": "text/x-python",
   "name": "python",
   "nbconvert_exporter": "python",
   "pygments_lexer": "ipython2",
   "version": "2.7.6"
  }
 },
 "nbformat": 4,
 "nbformat_minor": 0
}
