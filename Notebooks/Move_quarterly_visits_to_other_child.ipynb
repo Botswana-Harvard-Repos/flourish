{
 "cells": [
  {
   "cell_type": "markdown",
   "source": [
    "Imports"
   ],
   "metadata": {
    "collapsed": false
   }
  },
  {
   "cell_type": "code",
   "execution_count": 3,
   "outputs": [
    {
     "name": "stdout",
     "output_type": "stream",
     "text": [
      "  * Reading config from flourish.ini\n",
      "Loading Data Encryption (init)...\n",
      " * loading keys from /Users/salahdin/PycharmProjects/flourish/flourish/crypto_fields\n",
      " * loading rsa.restricted.public ... Done.\n",
      " * loading rsa.restricted.private ... Done.\n",
      " * loading rsa.local.public ... Done.\n",
      " * loading rsa.local.private ... Done.\n",
      " * loading aes.local ... Done.\n",
      " * loading aes.restricted ... Done.\n",
      " * loading salt.local ... Done.\n",
      " * loading salt.restricted ... Done.\n",
      " Done loading Data Encryption (init)...\n"
     ]
    },
    {
     "name": "stderr",
     "output_type": "stream",
     "text": [
      "/Users/salahdin/PycharmProjects/flourish/flourish/venv/lib/python3.10/site-packages/django_q/conf.py:139: UserWarning: Retry and timeout are misconfigured. Set retry larger than timeout, \n",
      "        failure to do so will cause the tasks to be retriggered before completion. \n",
      "        See https://django-q.readthedocs.io/en/latest/configure.html#retry for details.\n",
      "  warn(\n",
      "/Users/salahdin/PycharmProjects/flourish/flourish/venv/lib/python3.10/site-packages/simple_history/models.py:148: UserWarning: HistoricalRecords added to abstract model (HistoryManagerMixin) without inherit=True\n",
      "  warnings.warn(msg, UserWarning)\n",
      "/Users/salahdin/PycharmProjects/flourish/flourish/venv/lib/python3.10/site-packages/simple_history/models.py:148: UserWarning: HistoricalRecords added to abstract model (ScheduleModelMixin) without inherit=True\n",
      "  warnings.warn(msg, UserWarning)\n",
      "/Users/salahdin/PycharmProjects/flourish/flourish/venv/lib/python3.10/site-packages/simple_history/models.py:148: UserWarning: HistoricalRecords added to abstract model (VisitModelMixin) without inherit=True\n",
      "  warnings.warn(msg, UserWarning)\n",
      "/Users/salahdin/PycharmProjects/flourish/flourish/venv/lib/python3.10/site-packages/simple_history/models.py:148: UserWarning: HistoricalRecords added to abstract model (OnScheduleModelMixin) without inherit=True\n",
      "  warnings.warn(msg, UserWarning)\n",
      "/Users/salahdin/PycharmProjects/flourish/flourish/venv/lib/python3.10/site-packages/simple_history/models.py:148: UserWarning: HistoricalRecords added to abstract model (OnScheduleModelMixin) without inherit=True\n",
      "  warnings.warn(msg, UserWarning)\n"
     ]
    },
    {
     "name": "stdout",
     "output_type": "stream",
     "text": [
      "Loading Data Encryption ...\n",
      " * found encryption keys in /Users/salahdin/PycharmProjects/flourish/flourish/crypto_fields.\n",
      " * using model django_crypto_fields.crypt.\n",
      " Done loading Data Encryption.\n",
      "Loading Edc Consent ...\n",
      " * checking for site consents ...\n",
      " * registered consents 'consents' from 'flourish_caregiver'\n",
      " * registered consents 'consents' from 'flourish_child'\n",
      " * registered consents 'consents' from 'pre_flourish'\n",
      " * flourish_caregiver.subjectconsent 1 covering 2020-07-01 UTC to 2025-06-30 UTC\n",
      " * flourish_caregiver.subjectconsent 2 covering 2020-07-01 UTC to 2025-06-30 UTC\n",
      " * flourish_caregiver.subjectconsent 3 covering 2020-07-01 UTC to 2025-06-30 UTC\n",
      " * flourish_caregiver.tbadolconsent 1 covering 2020-07-01 UTC to 2025-06-30 UTC\n",
      " * flourish_caregiver.tbinformedconsent 1 covering 2020-07-01 UTC to 2025-06-30 UTC\n",
      " * flourish_child.childdummysubjectconsent 1 covering 2020-07-01 UTC to 2025-06-30 UTC\n",
      " * flourish_child.childdummysubjectconsent 2 covering 2020-07-01 UTC to 2025-06-30 UTC\n",
      " * flourish_child.childdummysubjectconsent 2.1 covering 2020-07-01 UTC to 2025-06-30 UTC\n",
      " * flourish_child.childdummysubjectconsent 3 covering 2020-07-01 UTC to 2025-06-30 UTC\n",
      " * pre_flourish.preflourishcaregiverchildconsent 1 covering 2020-07-01 UTC to 2025-06-30 UTC\n",
      " * pre_flourish.preflourishconsent 1 covering 2020-07-01 UTC to 2025-06-30 UTC\n",
      " Done loading Edc Consent.\n",
      "Loading Edc Device ...\n",
      "  * device id is '99'.\n",
      "  * device role is 'CentralServer'.\n",
      " Done loading Edc Device.\n",
      "Loading Edc Identifier ...\n",
      " Warning: 'identifier_prefix' has not been explicitly set. Using default '999'. See AppConfig.\n",
      " * identifier prefix: 999\n",
      " * check-digit modulus: 7\n",
      " Done loading Edc Identifier\n",
      "Loading Edc Lab ...\n",
      " * checking for labs ...\n",
      " Done loading Edc Lab.\n",
      "Loading Edc Navbar ...\n",
      " * checking for site navbars ...\n",
      " * searching edc_consent           \r         * registered navbars 'navbars' from 'edc_consent'\n",
      " * registered navbars 'navbars' from 'edc_device'\n",
      " * registered navbars 'navbars' from 'edc_navbar'\n",
      " * registered navbars 'navbars' from 'edc_reference'\n",
      " * registered navbars 'navbars' from 'edc_visit_schedule'\n",
      " * registered navbars 'navbars' from 'flourish_export'\n",
      " * registered navbars 'navbars' from 'flourish_dashboard'\n",
      " * registered navbars 'navbars' from 'flourish_follow'\n",
      " * registered navbars 'navbars' from 'pre_flourish_follow'\n",
      " * registered navbars 'navbars' from 'flourish_reports'\n",
      " * registered navbars 'navbars' from 'edc_base'\n",
      " * registered navbars 'navbars' from 'edc_data_manager'\n",
      " * registered navbars 'navbars' from 'edc_odk'\n",
      " * registered navbars 'navbars' from 'edc_protocol'\n",
      " * registered navbars 'navbars' from 'pre_flourish'\n",
      " * registered navbars 'navbars' from 'flourish_calendar'\n",
      " * registered navbars 'navbars' from 'flourish'\n",
      " Done loading Edc Navbar.             \n",
      " * checking for site prn_forms ...\n",
      "Loading Edc Registration ...                   \n",
      "  * using edc_registration.registeredsubject\n",
      " Done loading Edc Registration.\n",
      "Loading Edc Reference ...\n",
      " * checking for reference_model_configs ...\n",
      " * checking for labs ...\n",
      " * registered reference model configs from application 'flourish_reference'\n",
      " * checking for labs ...\n",
      " * registered reference model configs from application 'pre_flourish'\n",
      " Done loading Edc Reference.\n",
      "Loading Visit Schedules ...\n",
      " * checking site for module 'visit_schedules' ...\n",
      " * registered visit schedule from 'flourish_visit_schedule'\n",
      " * registered visit schedule from 'pre_flourish'\n",
      " Done loading Visit Schedules.\n",
      "Loading EDC Call Manager ...\n",
      " * call models are in app edc_call_manager.\n",
      " * checking for site model_callers ...\n",
      " * registered model caller '<class 'flourish_follow.model_callers.model_callers.WorkListFollowUpModelCaller'>'\n",
      " * registered model caller '<class 'pre_flourish_follow.model_callers.model_callers.PreFlourishWorkListFollowUpModelCaller'>'\n",
      " Done loading EDC Call Manager.\n",
      "Loading edc_metadata_rules ...\n",
      " * checking for metadata_rules ...\n",
      "   - imported metadata rules from 'flourish_metadata_rules.metadata_rules'\n",
      " Done loading edc_metadata_rules.\n",
      "Loading Edc Appointments ...\n",
      " * edc_appointment.appointment.\n",
      " * edc_appointment.appointment.\n",
      " * flourish_child.appointment.\n",
      " Done loading Edc Appointments.\n",
      "Loading Edc Base ...\n",
      " * default TIME_ZONE Africa/Gaborone.\n",
      " Done loading Edc Base.\n",
      "Loading Edc Facility ...\n",
      " * 7-Day Clinic MO(100 slots), TU(100 slots), WE(100 slots), TH(100 slots), FR(100 slots), SA(100 slots), SU(100 slots).\n",
      " * 5-Day Clinic MO(100 slots), TU(100 slots), WE(100 slots), TH(100 slots), FR(100 slots).\n",
      " Done loading Edc Facility.\n",
      "Loading Edc Metadata ...\n",
      " * using default metadata models from 'edc_metadata'\n",
      " Done loading Edc Metadata.\n",
      "Loading Edc Protocol ...\n",
      " * BHP142: Flourish.\n",
      " * Study opening date: 2020-07-01 UTC\n",
      " * Expected study closing date: 2025-06-30 UTC\n",
      " Done loading Edc Protocol.\n",
      "Loading Edc Visit Tracking ...\n",
      " * flourish_caregiver.maternalvisit uses model attr 'maternal_visit'\n",
      " * flourish_child.childvisit uses model attr 'child_visit'\n",
      " * pre_flourish.preflourishcaregivervisit uses model attr 'maternal_visit'\n",
      " Done loading Edc Visit Tracking.\n",
      "Loading Edc Timepoint ...\n",
      " * 'edc_appointment.appointment' is a timepoint model.\n",
      " * 'edc_appointment.historicalappointment' is a timepoint model.\n",
      " * 'flourish_child.appointment' is a timepoint model.\n",
      " * 'flourish_child.historicalappointment' is a timepoint model.\n",
      " Done loading Edc Timepoint.\n"
     ]
    }
   ],
   "source": [
    "import os, sys\n",
    "import django\n",
    "from datetime import datetime\n",
    "sys.path.append('../') # add path to project root dir\n",
    "\n",
    "os.environ[\"DJANGO_SETTINGS_MODULE\"] = \"flourish.settings\"\n",
    "from django.apps import apps as django_apps\n",
    "os.environ[\"DJANGO_ALLOW_ASYNC_UNSAFE\"] = \"true\"\n",
    "from django.apps import apps as django_appsh\n",
    "\n",
    "django.setup()"
   ],
   "metadata": {
    "collapsed": false
   }
  },
  {
   "cell_type": "markdown",
   "source": [
    "Declare PIDs"
   ],
   "metadata": {
    "collapsed": false
   }
  },
  {
   "cell_type": "code",
   "execution_count": 2,
   "outputs": [],
   "source": [
    "mother_pid = \"B142-040990116-1\"\n",
    "child_c_pid = \"B142-040990116-1-10\"\n",
    "child_b_pid = \"B142-040990116-1-60\""
   ],
   "metadata": {
    "collapsed": false
   }
  },
  {
   "cell_type": "markdown",
   "source": [
    "Clone CRF's and assign them to a different schedule"
   ],
   "metadata": {
    "collapsed": false
   }
  },
  {
   "cell_type": "code",
   "execution_count": 3,
   "outputs": [],
   "source": [
    "from flourish_caregiver.models import MaternalVisit\n",
    "from edc_appointment.models import Appointment\n",
    "from edc_metadata.models import CrfMetadata\n",
    "from edc_metadata import DO_NOTHING, KEYED\n",
    "from edc_appointment.constants import NEW_APPT\n",
    "from pprint import pprint\n",
    "\n",
    "# list of visits in quarterly calls that are supposed to be moved\n",
    "visit_list = ['2002M', '2003M', '2004M', '2005M','2006M']\n",
    "visit_crf = []\n",
    "\n",
    "for visit in visit_list:\n",
    "\n",
    "    # find all the crfs on a specific visit at schedule b_quarterly1_schedule1\n",
    "    crf_list = [i.model for i in CrfMetadata.objects.filter(subject_identifier=mother_pid,\n",
    "                                                            visit_code=visit,schedule_name='b_quarterly1_schedule1')]\n",
    "    # create a dict of visit with a list of existing crf objects\n",
    "    visit_crf.append({visit : crf_list})"
   ],
   "metadata": {
    "collapsed": false
   }
  },
  {
   "cell_type": "code",
   "execution_count": 4,
   "outputs": [
    {
     "name": "stdout",
     "output_type": "stream",
     "text": [
      "Processing 2002M\n",
      "Processing 2003M\n",
      "Processing 2004M\n",
      "Processing 2005M\n",
      "Processing 2006M\n"
     ]
    }
   ],
   "source": [
    "for d in visit_crf:\n",
    "    for key, value in d.items():\n",
    "        visit_code = key\n",
    "        print(\"Processing\", visit_code)\n",
    "\n",
    "        matenal_visit_b = MaternalVisit.objects.filter(subject_identifier=mother_pid,visit_code=visit_code, schedule_name='b_quarterly1_schedule1').first()\n",
    "\n",
    "        # find appointment on cohort c since it already exists\n",
    "        appointment_c = Appointment.objects.filter(subject_identifier=mother_pid,visit_code=visit_code, schedule_name='c_quarterly1_schedule1').first()\n",
    "\n",
    "        # corresponding appointment\n",
    "        appointment_b = Appointment.objects.filter(subject_identifier=mother_pid,visit_code=visit_code, schedule_name='b_quarterly1_schedule1').first()\n",
    "\n",
    "        #cloning maternal visit and associate with appointment from cohort c\n",
    "        matenal_visit_b.id = None\n",
    "        matenal_visit_b.schedule_name = appointment_c.schedule_name\n",
    "        matenal_visit_b.visit_schedule_name = appointment_c.visit_schedule_name\n",
    "        matenal_visit_b.appointment = appointment_c\n",
    "        matenal_visit_b.save()\n",
    "\n",
    "        for model in value:\n",
    "            try:\n",
    "                crf = django_apps.get_model(model).objects.get(maternal_visit__subject_identifier=mother_pid,maternal_visit__visit_code=visit_code, maternal_visit__schedule_name='b_quarterly1_schedule1')\n",
    "\n",
    "            except django_apps.get_model(model).DoesNotExist:\n",
    "                pass\n",
    "            else:\n",
    "                crf.id = None\n",
    "                crf.maternal_visit = matenal_visit_b\n",
    "                crf.save()\n",
    "\n",
    "                # delete old crf\n",
    "                old_crf = django_apps.get_model(model).objects.get(maternal_visit__subject_identifier=mother_pid,maternal_visit__visit_code=visit_code, maternal_visit__schedule_name='b_quarterly1_schedule1')\n",
    "                old_crf.delete()\n",
    "\n",
    "        # Match appointment details\n",
    "        appointment_c.appt_type = appointment_b.appt_type\n",
    "        appointment_c.appt_datetime = appointment_b.appt_datetime\n",
    "        appointment_c.appt_status = appointment_b.appt_status\n",
    "        appointment_c.appt_reason = appointment_b.appt_reason\n",
    "        appointment_c.save()"
   ],
   "metadata": {
    "collapsed": false
   }
  },
  {
   "cell_type": "markdown",
   "source": [
    "Delete old maternal visit for child and save appointments"
   ],
   "metadata": {
    "collapsed": false
   }
  },
  {
   "cell_type": "code",
   "execution_count": 5,
   "outputs": [
    {
     "name": "stdout",
     "output_type": "stream",
     "text": [
      "B142-040990116-1 2002M.0\n",
      "B142-040990116-1 2003M.0\n",
      "B142-040990116-1 2004M.0\n",
      "B142-040990116-1 2005M.0\n",
      "B142-040990116-1 2006M.0\n"
     ]
    }
   ],
   "source": [
    "visit_list = ['2002M', '2003M', '2004M', '2005M','2006M']\n",
    "\n",
    "for visit_code in visit_list:\n",
    "    maternal_vist_b = MaternalVisit.objects.filter(subject_identifier='B142-040990116-1',visit_code=visit_code, schedule_name='b_quarterly1_schedule1').first()\n",
    "    if maternal_vist_b:\n",
    "        for i in maternal_vist_b.metadata['crf']:\n",
    "            if i.entry_status == 'KEYED':\n",
    "                i.entry_status=''\n",
    "                i.save()\n",
    "        maternal_vist_b.metadata_delete_for_visit()\n",
    "        appointment = maternal_vist_b.appointment\n",
    "        maternal_vist_b.delete()\n",
    "\n",
    "        print(appointment.maternalvisit)\n",
    "        appointment.maternalvisit = None\n",
    "        appointment.appt_status = NEW_APPT\n",
    "        appointment.save()\n",
    "\n"
   ],
   "metadata": {
    "collapsed": false
   }
  },
  {
   "cell_type": "markdown",
   "source": [
    "put other child on follow-up schedule"
   ],
   "metadata": {
    "collapsed": false
   }
  },
  {
   "cell_type": "code",
   "execution_count": 6,
   "outputs": [
    {
     "name": "stdout",
     "output_type": "stream",
     "text": [
      "Going well..\n",
      "Done!\n"
     ]
    }
   ],
   "source": [
    "from flourish_caregiver.helper_classes.fu_onschedule_helper import FollowUpEnrolmentHelper\n",
    "\n",
    "\n",
    "class CustomEnrolmentHelper(FollowUpEnrolmentHelper):\n",
    "\n",
    "        def get_latest_completed_appointment(self, subject_identifier, cohort, schedule_number):\n",
    "\n",
    "            appts = Appointment.objects.filter(subject_identifier = mother_pid, visit_code='2002M' ,schedule_name='c_quarterly1_schedule1')\n",
    "\n",
    "            if appts:\n",
    "                latest = appts.order_by('timepoint').last()\n",
    "                return latest\n",
    "\n",
    "\n",
    "schedule_enrol_helper = CustomEnrolmentHelper(\n",
    "            subject_identifier=mother_pid,\n",
    "            cohort='c')\n",
    "\n",
    "# put child on follow-up schedule\n",
    "\n",
    "schedule_enrol_helper.activate_fu_schedule()"
   ],
   "metadata": {
    "collapsed": false
   }
  },
  {
   "cell_type": "markdown",
   "source": [
    "Move crf on follow-up schedule from child on cohort b to cohort c\n"
   ],
   "metadata": {
    "collapsed": false
   }
  },
  {
   "cell_type": "code",
   "execution_count": 7,
   "outputs": [],
   "source": [
    "from edc_metadata.models import CrfMetadata\n",
    "from flourish_caregiver.models import MaternalVisit"
   ],
   "metadata": {
    "collapsed": false
   }
  },
  {
   "cell_type": "code",
   "execution_count": 8,
   "outputs": [
    {
     "data": {
      "text/plain": "[['flourish_caregiver.sociodemographicdata',\n  'flourish_caregiver.medicalhistory',\n  'flourish_caregiver.caregiverclinicalmeasurements',\n  'flourish_caregiver.hivdisclosurestatusa',\n  'flourish_caregiver.hivdisclosurestatusb',\n  'flourish_caregiver.hivdisclosurestatusc',\n  'flourish_caregiver.caregiverphqdeprscreening',\n  'flourish_caregiver.caregivergadanxietyscreening',\n  'flourish_caregiver.caregiverphqreferral',\n  'flourish_caregiver.caregiverphqreferralfu',\n  'flourish_caregiver.caregivergadreferral',\n  'flourish_caregiver.caregivergadreferralfu',\n  'flourish_caregiver.caregiveredinburghreferral',\n  'flourish_caregiver.caregiveredinburghreferralfu',\n  'flourish_caregiver.cliniciannotes',\n  'flourish_caregiver.covid19',\n  'flourish_caregiver.relationshipfatherinvolvement',\n  'flourish_caregiver.maternalarvpostadherence']]"
     },
     "execution_count": 8,
     "metadata": {},
     "output_type": "execute_result"
    }
   ],
   "source": [
    "# create subjectschedule history again\n",
    "\n",
    "b_fu1_schedule1_visits = ['3000M']\n",
    "\n",
    "b_fu1_schedule1_visit_crf = []\n",
    "for visit in b_fu1_schedule1_visits:\n",
    "\n",
    "    # find all the crfs on a specific visit at schedule b_quarterly1_schedule1\n",
    "    crf_list = [i.model for i in CrfMetadata.objects.filter(subject_identifier=mother_pid,\n",
    "                                                            visit_code=visit,schedule_name='b_fu1_schedule1')]\n",
    "    # create a dict of visit with a list of existing crf objects\n",
    "    b_fu1_schedule1_visit_crf.append({visit : crf_list})\n",
    "\n",
    "list(b_fu1_schedule1_visit_crf[0].values())"
   ],
   "metadata": {
    "collapsed": false
   }
  },
  {
   "cell_type": "markdown",
   "source": [
    "Match date on onshedule model"
   ],
   "metadata": {
    "collapsed": false
   }
  },
  {
   "cell_type": "code",
   "execution_count": 9,
   "outputs": [],
   "source": [
    "from flourish_caregiver.models import OnScheduleCohortCFU\n",
    "from flourish_caregiver.models import OnScheduleCohortBFU\n",
    "\n",
    "onsch_c = OnScheduleCohortCFU.objects.filter(\n",
    "    subject_identifier=mother_pid, schedule_name='c_fu1_schedule1'\n",
    ").first()\n",
    "\n",
    "onsch_b = OnScheduleCohortBFU.objects.filter(\n",
    "    subject_identifier=mother_pid, schedule_name='b_fu1_schedule1'\n",
    ").first()\n",
    "\n",
    "\n",
    "from edc_visit_schedule.models import SubjectScheduleHistory\n",
    "\n",
    "subj_sch_history_c = SubjectScheduleHistory.objects.filter(subject_identifier=mother_pid,schedule_name='c_fu1_schedule1').first()\n",
    "\n",
    "subj_sch_history_b = SubjectScheduleHistory.objects.filter(subject_identifier=mother_pid,schedule_name='b_fu1_schedule1').first()\n",
    "\n",
    "subj_sch_history_c.onschedule_datetime = subj_sch_history_b.onschedule_datetime\n",
    "subj_sch_history_c.save()"
   ],
   "metadata": {
    "collapsed": false
   }
  },
  {
   "cell_type": "markdown",
   "source": [
    "Transfer crf on follow up cohor c"
   ],
   "metadata": {
    "collapsed": false
   }
  },
  {
   "cell_type": "code",
   "execution_count": 10,
   "outputs": [
    {
     "name": "stdout",
     "output_type": "stream",
     "text": [
      "Processing 3000M\n"
     ]
    }
   ],
   "source": [
    "visit_code = '3000M'\n",
    "print(\"Processing\", visit_code)\n",
    "\n",
    "matenal_visit_b = MaternalVisit.objects.filter(subject_identifier=mother_pid,visit_code=visit_code, schedule_name='b_fu1_schedule1').first()\n",
    "\n",
    "# find appointment on cohort c since it already exists\n",
    "appointment_c = Appointment.objects.filter(subject_identifier=mother_pid,visit_code=visit_code, schedule_name='c_fu1_schedule1').first()\n",
    "\n",
    "# corresponding appointment\n",
    "appointment_b = Appointment.objects.filter(subject_identifier=mother_pid,visit_code=visit_code, schedule_name='b_fu1_schedule1').first()\n",
    "\n",
    "appointment_c.appt_type = appointment_b.appt_type\n",
    "appointment_c.appt_datetime = appointment_b.appt_datetime\n",
    "appointment_c.appt_status = appointment_b.appt_status\n",
    "appointment_c.appt_reason = appointment_b.appt_reason\n",
    "appointment_c.save()\n",
    "\n",
    "#clone\n",
    "matenal_visit_b.id = None\n",
    "matenal_visit_b.schedule_name = 'c_fu1_schedule1'\n",
    "matenal_visit_b.visit_schedule_name = 'c1_visit_schedule1'\n",
    "matenal_visit_b.appointment = appointment_c\n",
    "matenal_visit_b.save()\n",
    "\n",
    "\n",
    "crf_list_fu = list(b_fu1_schedule1_visit_crf[0].values())\n"
   ],
   "metadata": {
    "collapsed": false
   }
  },
  {
   "cell_type": "markdown",
   "source": [
    "transfer crfs on followup visit to other child"
   ],
   "metadata": {
    "collapsed": false
   }
  },
  {
   "cell_type": "code",
   "execution_count": 11,
   "outputs": [
    {
     "name": "stdout",
     "output_type": "stream",
     "text": [
      "transferring flourish_caregiver.sociodemographicdata\n",
      "transferring flourish_caregiver.medicalhistory\n",
      "transferring flourish_caregiver.caregiverclinicalmeasurements\n",
      "flourish_caregiver.hivdisclosurestatusa crf not found\n",
      "flourish_caregiver.hivdisclosurestatusb crf not found\n",
      "flourish_caregiver.hivdisclosurestatusc crf not found\n",
      "transferring flourish_caregiver.caregiverphqdeprscreening\n",
      "transferring flourish_caregiver.caregivergadanxietyscreening\n",
      "flourish_caregiver.caregiverphqreferral crf not found\n",
      "flourish_caregiver.caregiverphqreferralfu crf not found\n",
      "flourish_caregiver.caregivergadreferral crf not found\n",
      "flourish_caregiver.caregivergadreferralfu crf not found\n",
      "flourish_caregiver.caregiveredinburghreferral crf not found\n",
      "flourish_caregiver.caregiveredinburghreferralfu crf not found\n",
      "flourish_caregiver.cliniciannotes crf not found\n",
      "transferring flourish_caregiver.covid19\n",
      "transferring flourish_caregiver.relationshipfatherinvolvement\n",
      "transferring flourish_caregiver.maternalarvpostadherence\n"
     ]
    }
   ],
   "source": [
    "\n",
    "for model in crf_list_fu[0]:\n",
    "    if model:\n",
    "        try:\n",
    "            crf = django_apps.get_model(model).objects.get(maternal_visit__subject_identifier=mother_pid, maternal_visit__visit_code=visit_code, maternal_visit__schedule_name='b_fu1_schedule1')\n",
    "\n",
    "        except django_apps.get_model(model).DoesNotExist:\n",
    "            print(model,\"crf not found\")\n",
    "        else:\n",
    "            print(\"transferring\",model)\n",
    "            crf.id = None\n",
    "            crf.maternal_visit = matenal_visit_b\n",
    "            crf.save()\n",
    "\n",
    "            # delete old crf\n",
    "            old_crf = django_apps.get_model(model).objects.get(maternal_visit__subject_identifier=mother_pid,maternal_visit__visit_code=visit_code, maternal_visit__schedule_name='b_fu1_schedule1')\n",
    "            old_crf.delete()"
   ],
   "metadata": {
    "collapsed": false
   }
  },
  {
   "cell_type": "code",
   "execution_count": 12,
   "outputs": [],
   "source": [
    "\n",
    "# delete old maternal visit\n",
    "maternal_vist_b = MaternalVisit.objects.filter(subject_identifier='B142-040990116-1',visit_code=visit_code, schedule_name='b_quarterly1_schedule1').first()\n",
    "\n",
    "if maternal_vist_b:\n",
    "    for i in maternal_vist_b.metadata['crf']:\n",
    "        if i.entry_status == 'KEYED':\n",
    "            i.entry_status=''\n",
    "            i.save()\n",
    "    maternal_vist_b.metadata_delete_for_visit()\n",
    "    appointment = maternal_vist_b.appointment\n",
    "    maternal_vist_b.delete()\n",
    "\n",
    "    print(appointment.maternalvisit)\n",
    "    appointment.maternalvisit = None\n",
    "    appointment.appt_status = NEW_APPT\n",
    "    appointment.save()"
   ],
   "metadata": {
    "collapsed": false
   }
  },
  {
   "cell_type": "markdown",
   "source": [
    "delete followup onschedule , offshcedule, subjectschedulehistory for cohort b"
   ],
   "metadata": {
    "collapsed": false
   }
  },
  {
   "cell_type": "code",
   "execution_count": 13,
   "outputs": [
    {
     "name": "stdout",
     "output_type": "stream",
     "text": [
      "B142-040990116-1 2021-08-05\n",
      "onschedule_object delete\n",
      "onschedule_object_fu delete\n"
     ]
    }
   ],
   "source": [
    "\n",
    "\n",
    "from flourish_caregiver.models import CaregiverOffSchedule,OnScheduleCohortBFU,OnScheduleCohortBFUQuarterly, OnScheduleCohortBQuarterly\n",
    "from edc_visit_schedule.models import SubjectScheduleHistory\n",
    "\n",
    "# get quarterly onsched\n",
    "try:\n",
    "    onschedule_object = OnScheduleCohortBQuarterly.objects.get(subject_identifier=mother_pid,child_subject_identifier=child_b_pid)\n",
    "except:\n",
    "    pass\n",
    "else:\n",
    "    print(onschedule_object)\n",
    "\n",
    "# delete fu onschedule\n",
    "try:\n",
    "    onschedule_object = OnScheduleCohortBFU.objects.get(subject_identifier=mother_pid,child_subject_identifier=child_b_pid)\n",
    "except:\n",
    "    pass\n",
    "else:\n",
    "    print(\"onschedule_object delete\")\n",
    "    onschedule_object.delete()\n",
    "\n",
    "\n",
    "try:\n",
    "    onschedule_object_fu = OnScheduleCohortBFUQuarterly.objects.get(subject_identifier=mother_pid,child_subject_identifier=child_b_pid)\n",
    "except:\n",
    "    pass\n",
    "else:\n",
    "\n",
    "    print(\"onschedule_object_fu delete\")\n",
    "    onschedule_object_fu.delete()\n",
    "\n",
    "\n",
    "\n",
    "# put cohor b child back on b_quarterly1_schedule1 schedule\n",
    "try:\n",
    "    subj_sch_history_b = SubjectScheduleHistory.objects.get(\n",
    "        subject_identifier=mother_pid,\n",
    "        schedule_name =  'b_quarterly1_schedule1',\n",
    "        schedule_status = 'offschedule'\n",
    "    )\n",
    "\n",
    "except:\n",
    "    pass\n",
    "else:\n",
    "    subj_sch_history_b.offschedule_datetime=None\n",
    "    subj_sch_history_b.schedule_status='onschedule'\n",
    "    subj_sch_history_b.save()\n"
   ],
   "metadata": {
    "collapsed": false
   }
  },
  {
   "cell_type": "code",
   "execution_count": null,
   "outputs": [],
   "source": [],
   "metadata": {
    "collapsed": false
   }
  }
 ],
 "metadata": {
  "kernelspec": {
   "display_name": "Python 3",
   "language": "python",
   "name": "python3"
  },
  "language_info": {
   "codemirror_mode": {
    "name": "ipython",
    "version": 2
   },
   "file_extension": ".py",
   "mimetype": "text/x-python",
   "name": "python",
   "nbconvert_exporter": "python",
   "pygments_lexer": "ipython2",
   "version": "2.7.6"
  }
 },
 "nbformat": 4,
 "nbformat_minor": 0
}
