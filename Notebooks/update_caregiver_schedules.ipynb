{
 "cells": [
  {
   "cell_type": "code",
   "execution_count": 17,
   "id": "287b4776",
   "metadata": {},
   "outputs": [],
   "source": [
    "import os\n",
    "import pytz\n",
    "os.environ[\"DJANGO_ALLOW_ASYNC_UNSAFE\"] = \"true\"\n",
    "\n",
    "from django.apps import apps as django_apps\n",
    "from edc_appointment.models import Appointment\n",
    "from edc_visit_schedule.site_visit_schedules import site_visit_schedules\n",
    "\n",
    "tz = pytz.timezone('Africa/Gaborone')"
   ]
  },
  {
   "cell_type": "code",
   "execution_count": 18,
   "id": "ef13861a",
   "metadata": {},
   "outputs": [],
   "source": [
    "subject_identifier = 'B142-040990341-5'\n",
    "child_identifier = 'B142-040990341-5-10'\n",
    "\n",
    "enrol_onsch_obj = OnScheduleCohortBEnrollment.objects.get(\n",
    "    subject_identifier=subject_identifier,\n",
    "    child_subject_identifier=child_identifier)\n",
    "\n",
    "quart_onsch_obj = OnScheduleCohortBQuarterly.objects.get(\n",
    "    subject_identifier=subject_identifier,\n",
    "    child_subject_identifier=child_identifier)"
   ]
  },
  {
   "cell_type": "code",
   "execution_count": 19,
   "id": "d85c0da9",
   "metadata": {},
   "outputs": [],
   "source": [
    "def get_cohort_schedule(schedule_type='enrollment'):\n",
    "    current_cohort = Cohort.objects.get(subject_identifier=child_identifier, current_cohort=True)\n",
    "    try:\n",
    "        cohort_schedule = CohortSchedules.objects.get(cohort_name=current_cohort.name,\n",
    "                                                      schedule_type=schedule_type,\n",
    "                                                      onschedule_model__startswith='flourish_caregiver',\n",
    "                                                      child_count=1, )\n",
    "    except CohortSchedules.DoesNotExist:\n",
    "        print('weh!')\n",
    "    else:\n",
    "        return cohort_schedule"
   ]
  },
  {
   "cell_type": "code",
   "execution_count": 8,
   "id": "cf5a2cee",
   "metadata": {},
   "outputs": [],
   "source": [
    "cohort_schedule = get_cohort_schedule()\n",
    "\n",
    "model_cls = django_apps.get_model(cohort_schedule.onschedule_model)\n",
    "_, schedule = site_visit_schedules.get_by_onschedule_model_schedule_name(\n",
    "    onschedule_model=cohort_schedule.onschedule_model,\n",
    "    name=cohort_schedule.schedule_name)\n",
    "\n",
    "schedule.put_on_schedule(\n",
    "    subject_identifier=subject_identifier,\n",
    "    onschedule_datetime=enrol_onsch_obj.onschedule_datetime.astimezone(tz),\n",
    "    schedule_name=cohort_schedule.schedule_name,\n",
    "    base_appt_datetime=enrol_onsch_obj.onschedule_datetime.astimezone(tz))"
   ]
  },
  {
   "cell_type": "code",
   "execution_count": 9,
   "id": "269a1655",
   "metadata": {},
   "outputs": [],
   "source": [
    "enrol_appt = Appointment.objects.get(subject_identifier=subject_identifier,\n",
    "                                     schedule_name=cohort_schedule.schedule_name)\n",
    "\n",
    "enrol_visit = MaternalVisit.objects.get(subject_identifier=subject_identifier,\n",
    "                                        schedule_name=enrol_onsch_obj.schedule_name)\n",
    "old_appt = enrol_visit.appointment\n",
    "\n",
    "enrol_appt.appt_datetime = old_appt.appt_datetime\n",
    "enrol_appt.appt_type = old_appt.appt_type\n",
    "enrol_appt.appt_status = old_appt.appt_status\n",
    "enrol_appt.appt_reason = old_appt.appt_reason\n",
    "enrol_appt.comment = old_appt.comment\n",
    "enrol_appt.save()\n",
    "\n",
    "enrol_visit.appointment = enrol_appt\n",
    "enrol_visit.schedule_name = enrol_appt.schedule_name\n",
    "enrol_visit.visit_schedule_name = enrol_appt.visit_schedule_name\n",
    "enrol_visit.save()"
   ]
  },
  {
   "cell_type": "code",
   "execution_count": 20,
   "id": "4faf0443",
   "metadata": {},
   "outputs": [],
   "source": [
    "cohort_schedule = get_cohort_schedule(schedule_type='quarterly')\n",
    "\n",
    "model_cls = django_apps.get_model(cohort_schedule.onschedule_model)\n",
    "_, schedule = site_visit_schedules.get_by_onschedule_model_schedule_name(\n",
    "    onschedule_model=cohort_schedule.onschedule_model,\n",
    "    name=cohort_schedule.schedule_name)\n",
    "\n",
    "schedule.put_on_schedule(\n",
    "    subject_identifier=subject_identifier,\n",
    "    onschedule_datetime=quart_onsch_obj.onschedule_datetime.astimezone(tz),\n",
    "    schedule_name=cohort_schedule.schedule_name,\n",
    "    base_appt_datetime=quart_onsch_obj.onschedule_datetime.astimezone(tz))"
   ]
  },
  {
   "cell_type": "code",
   "execution_count": 22,
   "id": "d398d02c",
   "metadata": {},
   "outputs": [],
   "source": [
    "quart_appts = Appointment.objects.filter(subject_identifier=subject_identifier,\n",
    "                                         schedule_name=cohort_schedule.schedule_name)\n",
    "\n",
    "quart_visits = MaternalVisit.objects.filter(subject_identifier=subject_identifier,\n",
    "                                            schedule_name=quart_onsch_obj.schedule_name)\n",
    "\n",
    "for quart_visit in quart_visits:\n",
    "    old_appt = quart_visit.appointment\n",
    "    quart_appt = quart_appts.get(\n",
    "        visit_code=old_appt.visit_code,\n",
    "        visit_code_sequence=old_appt.visit_code_sequence)\n",
    "\n",
    "    quart_appt.appt_datetime = old_appt.appt_datetime\n",
    "    quart_appt.appt_type = old_appt.appt_type\n",
    "    quart_appt.appt_status = old_appt.appt_status\n",
    "    quart_appt.appt_reason = old_appt.appt_reason\n",
    "    quart_appt.comment = old_appt.comment\n",
    "    quart_appt.save()\n",
    "\n",
    "    quart_visit.appointment = quart_appt\n",
    "    quart_visit.schedule_name = quart_appt.schedule_name\n",
    "    quart_visit.visit_schedule_name = quart_appt.visit_schedule_name\n",
    "    quart_visit.save()"
   ]
  },
  {
   "cell_type": "code",
   "execution_count": 23,
   "id": "9e1a7619",
   "metadata": {},
   "outputs": [],
   "source": [
    "def delete_old_schedules(onschedule_obj):\n",
    "    appts = Appointment.objects.filter(\n",
    "        subject_identifier=onschedule_obj.subject_identifier,\n",
    "        schedule_name=onschedule_obj.schedule_name)\n",
    "    ssh = SubjectScheduleHistory.objects.filter(\n",
    "        subject_identifier=onschedule_obj.subject_identifier,\n",
    "        schedule_name=onschedule_obj.schedule_name)\n",
    "    appts.delete()\n",
    "    ssh.delete()\n",
    "    onschedule_obj.delete()\n",
    "\n",
    "delete_old_schedules(enrol_onsch_obj)\n",
    "delete_old_schedules(quart_onsch_obj)"
   ]
  },
  {
   "cell_type": "code",
   "execution_count": 24,
   "id": "c3db6b8f",
   "metadata": {},
   "outputs": [
    {
     "data": {
      "text/plain": [
       "15"
      ]
     },
     "execution_count": 24,
     "metadata": {},
     "output_type": "execute_result"
    }
   ],
   "source": [
    "quart_appts.update(appt_status='incomplete')"
   ]
  },
  {
   "cell_type": "code",
   "execution_count": null,
   "id": "c2ef601d",
   "metadata": {},
   "outputs": [],
   "source": []
  }
 ],
 "metadata": {
  "kernelspec": {
   "display_name": "Django Shell-Plus",
   "language": "python",
   "name": "django_extensions"
  },
  "language_info": {
   "codemirror_mode": {
    "name": "ipython",
    "version": 3
   },
   "file_extension": ".py",
   "mimetype": "text/x-python",
   "name": "python",
   "nbconvert_exporter": "python",
   "pygments_lexer": "ipython3",
   "version": "3.8.13"
  }
 },
 "nbformat": 4,
 "nbformat_minor": 5
}
