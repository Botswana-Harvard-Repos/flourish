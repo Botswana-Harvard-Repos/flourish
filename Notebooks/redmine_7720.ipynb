{
 "cells": [
  {
   "cell_type": "code",
   "execution_count": 1,
   "id": "4da24cfd",
   "metadata": {},
   "outputs": [],
   "source": [
    "# Imports\n",
    "import os, pytz\n",
    "from django.apps import apps as django_apps\n",
    "from edc_visit_schedule.site_visit_schedules import site_visit_schedules\n",
    "\n",
    "os.environ[\"DJANGO_ALLOW_ASYNC_UNSAFE\"] = \"true\"\n",
    "\n",
    "tz = pytz.timezone('Africa/Gaborone')\n",
    "\n",
    "subject_identifier = 'B142-040990712-7'"
   ]
  },
  {
   "cell_type": "code",
   "execution_count": 2,
   "id": "c4ce0fc1",
   "metadata": {},
   "outputs": [],
   "source": [
    "delv_visit = MaternalVisit.objects.get(subject_identifier=subject_identifier, visit_code='2000D')\n",
    "report_datetime = delv_visit.report_datetime\n",
    "report_datetime = report_datetime.astimezone(tz)\n",
    "\n",
    "onsch = OnScheduleCohortAQuarterly.objects.get(subject_identifier=subject_identifier)\n",
    "ssh = SubjectScheduleHistory.objects.get(\n",
    "    subject_identifier=subject_identifier, schedule_name=onsch.schedule_name)\n",
    "ssh.delete()\n",
    "onsch.delete()\n",
    "\n",
    "_, schedule = site_visit_schedules.get_by_onschedule_model_schedule_name(\n",
    "    onschedule_model=ssh.onschedule_model, name=ssh.schedule_name)\n",
    "schedule.put_on_schedule(\n",
    "    subject_identifier=onsch.subject_identifier, onschedule_datetime=report_datetime,\n",
    "    schedule_name=onsch.schedule_name, base_appt_datetime=report_datetime)\n",
    "\n",
    "onsch = OnScheduleCohortAQuarterly.objects.get(subject_identifier=subject_identifier)\n",
    "onsch.child_subject_identifier = 'B142-040990712-7-10'\n",
    "onsch.save()"
   ]
  },
  {
   "cell_type": "code",
   "execution_count": 18,
   "id": "793809f3",
   "metadata": {},
   "outputs": [
    {
     "name": "stdout",
     "output_type": "stream",
     "text": [
      "2002M 2023-06-16 16:10:34+02:00 2023-08-03 09:29:09+02:00 2023-09-13 16:10:34+02:00 2004M\n",
      "2002M updated.\n",
      "here\n",
      "2005M 2023-09-14 16:10:34+02:00 2023-11-20 18:30:27+02:00 2023-12-12 16:10:34+02:00 2005M\n",
      "2005M updated.\n",
      "here\n",
      "2006M 2023-12-13 16:10:34+02:00 2023-12-22 12:18:51+02:00 2024-03-11 16:10:34+02:00 2006M\n",
      "2006M updated.\n",
      "here\n",
      "2007M 2024-03-12 16:10:34+02:00 2024-04-17 13:07:16+02:00 2024-06-09 16:10:34+02:00 2007M\n",
      "2007M updated.\n",
      "here\n",
      "2008M 2024-06-10 16:10:34+02:00 2024-08-13 09:23:41+02:00 2024-09-07 16:10:34+02:00 2008M\n",
      "2008M updated.\n",
      "here\n"
     ]
    }
   ],
   "source": [
    "from django.db import IntegrityError\n",
    "from edc_appointment.models import Appointment\n",
    "\n",
    "lower_visit = 2001\n",
    "\n",
    "visits = MaternalVisit.objects.filter(\n",
    "    subject_identifier=subject_identifier, schedule_name='a_quarterly1_schedule1')\n",
    "for visit in visits:\n",
    "    visit_code = 2001\n",
    "    while visit_code >= lower_visit:\n",
    "        try:\n",
    "            appt = Appointment.objects.get(subject_identifier=subject_identifier,\n",
    "                                           visit_code=f'{visit_code}M')\n",
    "        except Appointment.DoesNotExist:\n",
    "            print('here')\n",
    "            break\n",
    "        else:\n",
    "            earliest_start = (appt.timepoint_datetime -\n",
    "                               appt.visits.get(appt.visit_code).rlower).astimezone(tz)\n",
    "    \n",
    "            latest_start = (appt.timepoint_datetime +\n",
    "                            appt.visits.get(appt.visit_code).rupper).astimezone(tz)\n",
    "            visit_dt = visit.report_datetime.astimezone(tz)\n",
    "\n",
    "            if visit_dt >= earliest_start and visit_dt <= latest_start:\n",
    "                if visit.reason == 'missed' and visit.visit_code != appt.visit_code:\n",
    "                    visit.delete()\n",
    "                else:\n",
    "                    print(visit.visit_code, earliest_start, visit_dt, latest_start, appt.visit_code)\n",
    "                    try:\n",
    "                        visit.appointment = appt\n",
    "                        visit.save_base(raw=True)\n",
    "                        appt.appt_datetime = visit_dt\n",
    "                        appt.save()\n",
    "                    except IntegrityError:\n",
    "                        print(visit.visit_code, 'failing..')\n",
    "                        break\n",
    "                    else:\n",
    "                        print(visit.visit_code, 'updated.')\n",
    "\n",
    "            visit_code += 1"
   ]
  },
  {
   "cell_type": "code",
   "execution_count": 20,
   "id": "1d9c8114",
   "metadata": {},
   "outputs": [
    {
     "data": {
      "text/plain": [
       "(20, {'edc_metadata.CrfMetadata': 20})"
      ]
     },
     "execution_count": 20,
     "metadata": {},
     "output_type": "execute_result"
    }
   ],
   "source": [
    "CrfMetadata.objects.filter(subject_identifier=subject_identifier, visit_code='2002M').delete()"
   ]
  },
  {
   "cell_type": "code",
   "execution_count": 21,
   "id": "67c5622b",
   "metadata": {},
   "outputs": [
    {
     "data": {
      "text/plain": [
       "(20, {'edc_metadata.CrfMetadata': 20})"
      ]
     },
     "execution_count": 21,
     "metadata": {},
     "output_type": "execute_result"
    }
   ],
   "source": [
    "CrfMetadata.objects.filter(subject_identifier=subject_identifier, visit_code='2003M').delete()"
   ]
  }
 ],
 "metadata": {
  "kernelspec": {
   "display_name": "Django Shell-Plus",
   "language": "python",
   "name": "django_extensions"
  },
  "language_info": {
   "codemirror_mode": {
    "name": "ipython",
    "version": 3
   },
   "file_extension": ".py",
   "mimetype": "text/x-python",
   "name": "python",
   "nbconvert_exporter": "python",
   "pygments_lexer": "ipython3",
   "version": "3.8.13"
  }
 },
 "nbformat": 4,
 "nbformat_minor": 5
}
