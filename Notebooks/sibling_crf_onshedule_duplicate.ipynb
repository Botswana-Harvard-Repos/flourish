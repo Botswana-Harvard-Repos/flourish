{
 "cells": [
  {
   "cell_type": "code",
   "execution_count": 7,
   "metadata": {
    "collapsed": true
   },
   "outputs": [],
   "source": [
    "import os, sys\n",
    "import django\n",
    "from datetime import datetime\n",
    "sys.path.append('../..') # add path to project root dir\n",
    "os.environ[\"DJANGO_SETTINGS_MODULE\"] = \"flourish.settings\"\n",
    "from django.apps import apps as django_apps\n",
    "os.environ[\"DJANGO_ALLOW_ASYNC_UNSAFE\"] = \"true\"\n",
    "from django.apps import apps as django_apps\n",
    "\n",
    "django.setup()\n"
   ]
  },
  {
   "cell_type": "markdown",
   "source": [
    "Same child appearing on onschedule model for both cohort c and b"
   ],
   "metadata": {
    "collapsed": false
   }
  },
  {
   "cell_type": "code",
   "execution_count": 8,
   "outputs": [],
   "source": [
    "b_child_subject_identifier = 'B142-040990666-5-60'\n",
    "c_child_subject_identifier = 'B142-040990666-5-10'\n",
    "maternal_subject_identifier = b_child_subject_identifier[:-3]\n",
    "child_visit = '2000'\n",
    "maternal_visit_code = str(child_visit) + 'M'"
   ],
   "metadata": {
    "collapsed": false
   }
  },
  {
   "cell_type": "markdown",
   "source": [
    "Replace child identifier on onschedule model with the correct child subject identifier"
   ],
   "metadata": {
    "collapsed": false
   }
  },
  {
   "cell_type": "code",
   "execution_count": 9,
   "outputs": [],
   "source": [
    "b_onschedule_cls =  django_apps.get_model('flourish_caregiver.onschedulecohortbsec')\n",
    "c_onschedule_cls =  django_apps.get_model('flourish_caregiver.onschedulecohortcsec')\n",
    "\n",
    "try:\n",
    "    c_maternal_obschedule_model = c_onschedule_cls.objects.get(\n",
    "    subject_identifier = maternal_subject_identifier,\n",
    "    child_subject_identifier = b_child_subject_identifier,\n",
    "    schedule_name = 'c_sec1_schedule1'\n",
    "    )\n",
    "except c_onschedule_cls.DoesNotExist:\n",
    "    pass\n",
    "else:\n",
    "    pass\n",
    "    c_maternal_obschedule_model.child_subject_identifier = c_child_subject_identifier\n",
    "    #c_maternal_obschedule_model.save()\n"
   ],
   "metadata": {
    "collapsed": false
   }
  },
  {
   "cell_type": "markdown",
   "source": [
    "correct child subject identifier on quarterly onschedule for cohort c"
   ],
   "metadata": {
    "collapsed": false
   }
  },
  {
   "cell_type": "markdown",
   "source": [
    "quarterly schedule"
   ],
   "metadata": {
    "collapsed": false
   }
  },
  {
   "cell_type": "code",
   "execution_count": 21,
   "outputs": [
    {
     "name": "stdout",
     "output_type": "stream",
     "text": [
      "{'_state': <django.db.models.base.ModelState object at 0x125053f10>, 'created': datetime.datetime(2022, 2, 24, 9, 31, 38, 578018, tzinfo=<UTC>), 'modified': datetime.datetime(2022, 12, 5, 14, 37, 58, 649408, tzinfo=<UTC>), 'user_created': 'flourish', 'user_modified': 'flourish', 'hostname_created': 'flourish', 'hostname_modified': 'flourish-dev', 'revision': '', 'device_created': '99', 'device_modified': '99', 'id': UUID('4a99b3c3-e3b0-472d-b8cd-5c63f8d516c0'), 'site_id': 40, 'report_datetime': datetime.datetime(2022, 2, 24, 9, 31, 38, tzinfo=<UTC>), 'onschedule_datetime': datetime.datetime(2022, 2, 24, 9, 31, 38, tzinfo=<UTC>), 'subject_identifier': 'B142-040990666-5', 'child_subject_identifier': 'B142-040990666-5-60', 'schedule_name': 'c_sec_quart1_schedule1'}\n"
     ]
    }
   ],
   "source": [
    "#OnScheduleCohortBQuarterly\n",
    "\n",
    "c_quarterly_onschedule_cls =  django_apps.get_model('flourish_caregiver.onschedulecohortcsecquart')\n",
    "\n",
    "try:\n",
    "    c_quarterly_onschedule_model = c_quarterly_onschedule_cls.objects.get(\n",
    "    subject_identifier = maternal_subject_identifier,\n",
    "    child_subject_identifier = b_child_subject_identifier,\n",
    "    schedule_name = 'c_sec_quart1_schedule1'\n",
    "    )\n",
    "except c_onschedule_cls.DoesNotExist:\n",
    "    pass\n",
    "else:\n",
    "    c_quarterly_onschedule_model.child_subject_identifier = c_child_subject_identifier\n",
    "    c_quarterly_onschedule_model.save()"
   ],
   "metadata": {
    "collapsed": false
   }
  }
 ],
 "metadata": {
  "kernelspec": {
   "display_name": "Python 3",
   "language": "python",
   "name": "python3"
  },
  "language_info": {
   "codemirror_mode": {
    "name": "ipython",
    "version": 2
   },
   "file_extension": ".py",
   "mimetype": "text/x-python",
   "name": "python",
   "nbconvert_exporter": "python",
   "pygments_lexer": "ipython2",
   "version": "2.7.6"
  }
 },
 "nbformat": 4,
 "nbformat_minor": 0
}
