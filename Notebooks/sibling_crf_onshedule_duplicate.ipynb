{
 "cells": [
  {
   "cell_type": "code",
   "execution_count": 70,
   "metadata": {
    "collapsed": true
   },
   "outputs": [],
   "source": [
    "import os, sys\n",
    "import django\n",
    "from datetime import datetime\n",
    "sys.path.append('../..') # add path to project root dir\n",
    "os.environ[\"DJANGO_SETTINGS_MODULE\"] = \"flourish.settings\"\n",
    "from django.apps import apps as django_apps\n",
    "os.environ[\"DJANGO_ALLOW_ASYNC_UNSAFE\"] = \"true\"\n",
    "from django.apps import apps as django_apps\n",
    "\n",
    "django.setup()\n"
   ]
  },
  {
   "cell_type": "markdown",
   "source": [
    "Get participant"
   ],
   "metadata": {
    "collapsed": false
   }
  },
  {
   "cell_type": "code",
   "execution_count": 71,
   "outputs": [],
   "source": [
    "b_child_subject_identifier = 'B142-040990666-5-60'\n",
    "c_child_subject_identifier = 'B142-040990666-5-10'\n",
    "maternal_subject_identifier = b_child_subject_identifier[:-3]\n",
    "child_visit = '2000'\n",
    "maternal_visit_code = str(child_visit) + 'M'"
   ],
   "metadata": {
    "collapsed": false
   }
  },
  {
   "cell_type": "markdown",
   "source": [
    "Getting onscheduel model"
   ],
   "metadata": {
    "collapsed": false
   }
  },
  {
   "cell_type": "code",
   "execution_count": 72,
   "outputs": [],
   "source": [
    "b_onschedule_cls =  django_apps.get_model('flourish_caregiver.onschedulecohortbsec')\n",
    "c_onschedule_cls =  django_apps.get_model('flourish_caregiver.onschedulecohortcsec')\n",
    "\n",
    "\n",
    "b_maternal_obschedule_model = b_onschedule_cls.objects.get(\n",
    "    subject_identifier = maternal_subject_identifier,\n",
    "    child_subject_identifier = b_child_subject_identifier,\n",
    "    schedule_name = 'b_sec1_schedule1'\n",
    ")\n",
    "\n",
    "c_maternal_obschedule_model = c_onschedule_cls.objects.get(\n",
    "    subject_identifier = maternal_subject_identifier,\n",
    "    child_subject_identifier = c_child_subject_identifier,\n",
    "    schedule_name = 'c_sec1_schedule1'\n",
    ")"
   ],
   "metadata": {
    "collapsed": false
   }
  },
  {
   "cell_type": "markdown",
   "source": [
    "Replace child subject identifier with the right child"
   ],
   "metadata": {
    "collapsed": false
   }
  },
  {
   "cell_type": "code",
   "execution_count": 73,
   "outputs": [],
   "source": [
    "b_maternal_obschedule_model.child_subject_identifier = b_child_subject_identifier\n",
    "b_maternal_obschedule_model.save()\n",
    "\n",
    "c_maternal_obschedule_model.child_subject_identifier = c_child_subject_identifier\n",
    "c_maternal_obschedule_model.save()"
   ],
   "metadata": {
    "collapsed": false
   }
  },
  {
   "cell_type": "markdown",
   "source": [],
   "metadata": {
    "collapsed": false
   }
  },
  {
   "cell_type": "code",
   "execution_count": 74,
   "outputs": [],
   "source": [],
   "metadata": {
    "collapsed": false
   }
  }
 ],
 "metadata": {
  "kernelspec": {
   "display_name": "Python 3",
   "language": "python",
   "name": "python3"
  },
  "language_info": {
   "codemirror_mode": {
    "name": "ipython",
    "version": 2
   },
   "file_extension": ".py",
   "mimetype": "text/x-python",
   "name": "python",
   "nbconvert_exporter": "python",
   "pygments_lexer": "ipython2",
   "version": "2.7.6"
  }
 },
 "nbformat": 4,
 "nbformat_minor": 0
}
