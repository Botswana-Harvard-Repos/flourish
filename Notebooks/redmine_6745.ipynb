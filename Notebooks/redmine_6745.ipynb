{
 "cells": [
  {
   "cell_type": "code",
   "execution_count": 2,
   "id": "7d1ce7bd",
   "metadata": {},
   "outputs": [],
   "source": [
    "# Redmine ticket 6745 - Migrate choice options to m2m\n",
    "# !IMPORTANT **Dump the data for model to json before running any migrations\n",
    "\n",
    "# Imports\n",
    "import json\n",
    "import os \n",
    "import pandas as pd\n",
    "from django.apps import apps as django_apps\n",
    "from django.core.exceptions import ValidationError\n",
    "os.environ[\"DJANGO_ALLOW_ASYNC_UNSAFE\"] = \"true\""
   ]
  },
  {
   "cell_type": "code",
   "execution_count": 7,
   "id": "2d751296",
   "metadata": {},
   "outputs": [],
   "source": [
    "file_path = 'relationshipfatherinvolvement.json'\n",
    "json_file = open(file_path)\n",
    "data = json.load(json_file)\n",
    "json_file.close()\n",
    "\n",
    "for item in data:\n",
    "    model_obj = RelationshipFatherInvolvement.objects.get(pk=item.get('pk'))\n",
    "    m2m_fields = model_obj._meta.many_to_many\n",
    "    \n",
    "    fields_data = item.get('fields')\n",
    "    for field in m2m_fields:\n",
    "        name = field.name\n",
    "        # Get response from choice field\n",
    "        original_response = fields_data.get(f'{name}')\n",
    "        # Add related m2m response to m2m field\n",
    "        related_model = field.related_model\n",
    "        response_obj = related_model.objects.get(short_name=original_response)\n",
    "        getattr(model_obj, f'{name}').add(response_obj)\n",
    "    "
   ]
  },
  {
   "cell_type": "code",
   "execution_count": null,
   "id": "03b3f3e3",
   "metadata": {},
   "outputs": [],
   "source": []
  }
 ],
 "metadata": {
  "kernelspec": {
   "display_name": "Django Shell-Plus",
   "language": "python",
   "name": "django_extensions"
  },
  "language_info": {
   "codemirror_mode": {
    "name": "ipython",
    "version": 3
   },
   "file_extension": ".py",
   "mimetype": "text/x-python",
   "name": "python",
   "nbconvert_exporter": "python",
   "pygments_lexer": "ipython3",
   "version": "3.6.6"
  }
 },
 "nbformat": 4,
 "nbformat_minor": 5
}
