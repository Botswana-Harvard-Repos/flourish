{
 "cells": [
  {
   "cell_type": "code",
   "execution_count": 7,
   "id": "136afe9c",
   "metadata": {},
   "outputs": [],
   "source": [
    "# Imports\n",
    "import os\n",
    "from tqdm import tqdm\n",
    "from flourish_child.models import Appointment as ChildAppointment\n",
    "from edc_appointment.models import Appointment as CaregiverAppointment\n",
    "from dateutil.relativedelta import relativedelta\n",
    "\n",
    "os.environ[\"DJANGO_ALLOW_ASYNC_UNSAFE\"] = \"true\""
   ]
  },
  {
   "cell_type": "code",
   "execution_count": 8,
   "id": "0a826f9b",
   "metadata": {},
   "outputs": [],
   "source": [
    "# Query participants who have been sequentially enrolled\n",
    "sq_enrolled = Cohort.objects.values(\n",
    "    'subject_identifier').annotate(cohort_count=Count('subject_identifier')).filter(cohort_count__gt=1)\n",
    "child_identifiers = sq_enrolled.values_list('subject_identifier', flat=True)\n",
    "child_identifiers = set(child_identifiers)"
   ]
  },
  {
   "cell_type": "code",
   "execution_count": 9,
   "id": "43f24de5",
   "metadata": {},
   "outputs": [
    {
     "name": "stderr",
     "output_type": "stream",
     "text": [
      "100%|██████████| 470/470 [00:18<00:00, 25.39it/s]\n"
     ]
    }
   ],
   "source": [
    "for child in tqdm(child_identifiers):\n",
    "    child_consent = CaregiverChildConsent.objects.filter(subject_identifier=child).latest('consent_datetime')\n",
    "    fu_schedules = SubjectScheduleHistory.objects.filter(\n",
    "        subject_identifier=child, schedule_name__icontains='fu').exclude(\n",
    "        Q(schedule_name__icontains='qt') | Q(schedule_name__icontains='quart'))\n",
    "\n",
    "    if fu_schedules.count() > 1:\n",
    "        try:\n",
    "            appt_1 = ChildAppointment.objects.get(\n",
    "                subject_identifier=child, schedule_name=fu_schedules[0].schedule_name, visit_code_sequence=0)\n",
    "        except ChildAppointment.DoesNotExist:\n",
    "            print(f'Missing appt: {fu_schedules[0].schedule_name}')\n",
    "            break\n",
    "        try:\n",
    "            appt_2 = ChildAppointment.objects.get(\n",
    "                subject_identifier=child, schedule_name=fu_schedules[1].schedule_name)\n",
    "        except ChildAppointment.DoesNotExist:\n",
    "            print(f'Missing appt: {fu_schedules[1].schedule_name}')\n",
    "            break\n",
    "\n",
    "        try:\n",
    "            visit = ChildVisit.objects.get(appointment=appt_1)\n",
    "        except ChildVisit.DoesNotExist:\n",
    "            dt1 = appt_1.appt_datetime + relativedelta(months=12)\n",
    "\n",
    "            if appt_2.appt_datetime <= dt1:\n",
    "                print(child, appt_1.appt_datetime, appt_2.appt_datetime)\n",
    "        else:\n",
    "            dt1 = visit.report_datetime + relativedelta(months=12)\n",
    "    \n",
    "            if appt_2.appt_datetime <= dt1:\n",
    "                print(child, visit.report_datetime, appt_2.appt_datetime)"
   ]
  },
  {
   "cell_type": "code",
   "execution_count": null,
   "id": "0e6c9de4",
   "metadata": {},
   "outputs": [],
   "source": []
  }
 ],
 "metadata": {
  "kernelspec": {
   "display_name": "Django Shell-Plus",
   "language": "python",
   "name": "django_extensions"
  },
  "language_info": {
   "codemirror_mode": {
    "name": "ipython",
    "version": 3
   },
   "file_extension": ".py",
   "mimetype": "text/x-python",
   "name": "python",
   "nbconvert_exporter": "python",
   "pygments_lexer": "ipython3",
   "version": "3.6.15"
  }
 },
 "nbformat": 4,
 "nbformat_minor": 5
}
