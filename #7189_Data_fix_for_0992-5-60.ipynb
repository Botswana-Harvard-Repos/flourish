{
 "cells": [
  {
   "cell_type": "code",
   "execution_count": 1,
   "id": "c8ea1ca2",
   "metadata": {},
   "outputs": [],
   "source": [
    "# Imports\n",
    "import os \n",
    "import pandas as pd\n",
    "from django.core.exceptions import ValidationError\n",
    "os.environ[\"DJANGO_ALLOW_ASYNC_UNSAFE\"] = \"true\"\n",
    "from datetime import date"
   ]
  },
  {
   "cell_type": "code",
   "execution_count": 3,
   "id": "7826579b",
   "metadata": {},
   "outputs": [],
   "source": [
    "from flourish_child.models import Appointment as ChildAppointments\n",
    "\n",
    "subject_identifier = 'B142-040990992-5-60'\n",
    "\n",
    "try:\n",
    "    onschedule_obj = OnScheduleChildCohortAEnrollment.objects.get(\n",
    "        subject_identifier=subject_identifier)\n",
    "    \n",
    "except OnScheduleChildCohortAEnrollment.DoesNotExist:\n",
    "    pass\n",
    "else:\n",
    "    \n",
    "    schedule_name = onschedule_obj.schedule_name\n",
    "    \n",
    "    SubjectScheduleHistory.objects.filter(\n",
    "        subject_identifier = subject_identifier,\n",
    "        schedule_name = schedule_name).delete()\n",
    "    \n",
    "    ChildAppointments.objects.filter(\n",
    "        subject_identifier = subject_identifier,\n",
    "        schedule_name = schedule_name).delete()\n",
    "    \n",
    "    \n",
    "    \n",
    "    onschedule_obj.delete()\n",
    "    "
   ]
  },
  {
   "cell_type": "code",
   "execution_count": null,
   "id": "53294230",
   "metadata": {},
   "outputs": [],
   "source": []
  }
 ],
 "metadata": {
  "kernelspec": {
   "display_name": "Django Shell-Plus",
   "language": "python",
   "name": "django_extensions"
  },
  "language_info": {
   "codemirror_mode": {
    "name": "ipython",
    "version": 3
   },
   "file_extension": ".py",
   "mimetype": "text/x-python",
   "name": "python",
   "nbconvert_exporter": "python",
   "pygments_lexer": "ipython3",
   "version": "3.11.3"
  }
 },
 "nbformat": 4,
 "nbformat_minor": 5
}
