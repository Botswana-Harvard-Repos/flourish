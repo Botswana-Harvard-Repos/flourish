{
 "cells": [
  {
   "cell_type": "code",
   "execution_count": null,
   "metadata": {},
   "outputs": [],
   "source": [
    "import os, sys,pytz\n",
    "import django\n",
    "from datetime import datetime\n",
    "sys.path.append('../..') # add path to project root dir\n",
    "os.environ[\"DJANGO_SETTINGS_MODULE\"] = \"flourish.settings\"\n",
    "from django.apps import apps as django_apps\n",
    "os.environ[\"DJANGO_ALLOW_ASYNC_UNSAFE\"] = \"true\"\n",
    "from django.apps import apps as django_apps\n",
    "\n",
    "django.setup()"
   ]
  },
  {
   "cell_type": "markdown",
   "metadata": {},
   "source": [
    "Remove mother from the c_sec_quart1_schedule1 schedule and put her in the c_sec_fu_quart1_schedule1 schedule,which aligns with the child ,then link the mothers schdule to the child"
   ]
  },
  {
   "cell_type": "code",
   "execution_count": null,
   "metadata": {},
   "outputs": [],
   "source": [
    "from edc_visit_schedule.models import SubjectScheduleHistory\n",
    "\n",
    "subject_identifier = 'B142-040990112-0'\n",
    "schedule_name_previous = 'c_sec_quart1_schedule1'\n",
    "\n",
    "subject_history_obj = SubjectScheduleHistory.objects.get(\n",
    "subject_identifier=subject_identifier,\n",
    "schedule_name = schedule_name_previous\n",
    ")\n",
    "\n",
    "onschedule_model_cls= django_apps.get_model(subject_history_obj.onschedule_model)\n",
    "\n",
    "onschedule_model_obj = onschedule_model_cls.objects.get(\n",
    "    subject_identifier=subject_identifier,\n",
    "    schedule_name=schedule_name_previous,\n",
    "    onschedule_datetime=subject_history_obj.onschedule_datetime,\n",
    ")\n",
    "\n",
    "onschedule_model_obj.delete()\n",
    "subject_history_obj.delete()"
   ]
  },
  {
   "cell_type": "code",
   "execution_count": null,
   "metadata": {},
   "outputs": [],
   "source": [
    "from edc_visit_schedule.site_visit_schedules import site_visit_schedules\n",
    "from flourish_caregiver.models.onschedule import OnScheduleCohortCSecSeq\n",
    "from flourish_child.models.onschedule import OnScheduleChildCohortCSecSeq\n",
    "\n",
    "tz = pytz.timezone('Africa/Gaborone')\n",
    "\n",
    "child_schedule = OnScheduleChildCohortCSecSeq.objects.get(subject_identifier='B142-040990112-0-10')\n",
    "report_datetime = child_schedule.onschedule_datetime\n",
    "report_datetime = report_datetime.astimezone(tz)\n",
    "schedule_name='c_sec_fu_quart1_schedule1'\n",
    "\n",
    "_, schedule = site_visit_schedules.get_by_onschedule_model_schedule_name(\n",
    "    onschedule_model='flourish_caregiver.onschedulecohortcsecseq',name=schedule_name\n",
    ")\n",
    "schedule.put_on_schedule(\n",
    "    subject_identifier=subject_identifier,onschedule_datetime=report_datetime,\n",
    "    schedule_name=schedule_name,base_appt_datetime=report_datetime\n",
    ")\n",
    "print(\"Schedule created for\",schedule)\n",
    "onschdule_mother= OnScheduleCohortCSecSeq.objects.get(subject_identifier=subject_identifier)\n",
    "onschdule_mother.child_subject_identifier =child_schedule.subject_identifier\n",
    "onschdule_mother.save()\n",
    "\n",
    "print(\"Linked with child\")\n",
    "\n",
    "\n"
   ]
  }
 ],
 "metadata": {
  "kernelspec": {
   "display_name": "flourish",
   "language": "python",
   "name": "python3"
  },
  "language_info": {
   "codemirror_mode": {
    "name": "ipython",
    "version": 3
   },
   "file_extension": ".py",
   "mimetype": "text/x-python",
   "name": "python",
   "nbconvert_exporter": "python",
   "pygments_lexer": "ipython3",
   "version": "3.11.3"
  },
  "orig_nbformat": 4
 },
 "nbformat": 4,
 "nbformat_minor": 2
}
