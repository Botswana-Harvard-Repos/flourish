{
 "cells": [
  {
   "cell_type": "code",
   "execution_count": null,
   "id": "designing-navigation",
   "metadata": {},
   "outputs": [],
   "source": [
    "import pandas as pd\n",
    "\n",
    "path = '/home/django/source/'\n",
    "fname = path + 'identifiers.csv'\n",
    "f = open(fname, 'r')\n",
    "lines = f.readlines()\n",
    "\n",
    "identifiers = []\n",
    "count = 0\n",
    "identifiers_dict = {}\n",
    "for line in lines:\n",
    "    line = line.strip()\n",
    "    line = line.split(',')\n",
    "    identifiers.append([line[1])\n",
    "    identifiers_dict.update(line[1], line[2]])\n",
    "maternal_locators = MaternalLocator.objects.filter(maternal_visit__appointment__registered_subject__subject_identifier__in=identifiers)\n",
    "data = []\n",
    "for maternal_locator in maternal_locators:\n",
    "    d = maternal_locator.__dict__\n",
    "    mail_address = d.get('mail_address')\n",
    "    mail_address = mail_address.replace('\\r\\n', ' ')\n",
    "    d.update(mail_address=mail_address)\n",
    "    physical_address = d.get('physical_address')\n",
    "    physical_address = physical_address.replace('\\r\\n', ' ')\n",
    "    d.update(physical_address=physical_address)\n",
    "    contact_physical_address = d.get('contact_physical_address')\n",
    "    contact_physical_address = contact_physical_address.replace('\\r\\n', ' ')\n",
    "    d.update(contact_physical_address=contact_physical_address)\n",
    "    subject_work_place = d.get('subject_work_place')\n",
    "    subject_work_place = subject_work_place.replace('\\r\\n', ' ')\n",
    "    d.update(subject_work_place=subject_work_place)\n",
    "    d.update(subject_identifier=maternal_locator.maternal_visit.appointment.registered_subject.subject_identifier)\n",
    "    consent = MaternalConsent.objects.filter(subject_identifier=maternal_locator.maternal_visit.appointment.registered_subject.subject_identifier).last()\n",
    "    d.update(first_name=consent.first_name)\n",
    "    d.update(last_name=consent.last_name)\n",
    "    infant = InfantBirth.objects.get(registered_subject__relative_identifier=maternal_locator.maternal_visit.appointment.registered_subject.subject_identifier)\n",
    "    d.update(child_first_name=infant.first_name)\n",
    "    data.append(d)\n",
    "df = pd.DataFrame(data)\n",
    "df.to_csv('maternal_locator.csv', sep='|', encoding='utf-8')"
   ]
  }
 ],
 "metadata": {
  "kernelspec": {
   "display_name": "Django Shell-Plus",
   "language": "python",
   "name": "django_extensions"
  },
  "language_info": {
   "codemirror_mode": {
    "name": "ipython",
    "version": 3
   },
   "file_extension": ".py",
   "mimetype": "text/x-python",
   "name": "python",
   "nbconvert_exporter": "python",
   "pygments_lexer": "ipython3",
   "version": "3.7.6"
  }
 },
 "nbformat": 4,
 "nbformat_minor": 5
}
