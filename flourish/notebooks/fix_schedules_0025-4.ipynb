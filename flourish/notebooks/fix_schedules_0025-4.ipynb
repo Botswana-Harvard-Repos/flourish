{
 "cells": [
  {
   "cell_type": "code",
   "execution_count": null,
   "metadata": {},
   "outputs": [],
   "source": [
    "import os, sys,pytz\n",
    "import django\n",
    "from datetime import datetime\n",
    "sys.path.append('../..') # add path to project root dir\n",
    "os.environ[\"DJANGO_SETTINGS_MODULE\"] = \"flourish.settings\"\n",
    "from django.apps import apps as django_apps\n",
    "os.environ[\"DJANGO_ALLOW_ASYNC_UNSAFE\"] = \"true\"\n",
    "from django.apps import apps as django_apps\n",
    "\n",
    "django.setup()"
   ]
  },
  {
   "cell_type": "markdown",
   "metadata": {},
   "source": [
    "Remove mother from the c_sec_quart1_schedule1 schedule and put her in again on c_sec_quart1_schedule1 schedule,\n",
    "Remove mother from the child_c_sec_qt_schedule1 schedule and put her in again on child_c_sec_qt_schedule1 schedule,\n",
    "which corrects both mother and child schedules ,then link the mothers schdule to the child\n",
    "\n",
    "\n",
    "And remove the already done appointments\n"
   ]
  },
  {
   "cell_type": "code",
   "execution_count": null,
   "metadata": {},
   "outputs": [],
   "source": [
    "from edc_visit_schedule.models import SubjectScheduleHistory\n",
    "\n",
    "subject_identifier = 'B142-040990025-4'\n",
    "child_subject_identifier ='B142-040990025-4-10'\n",
    "schedule_name_mother = 'c_sec_quart1_schedule1'\n",
    "schedule_name_child = 'child_c_sec_qt_schedule1'\n",
    "\n",
    "subject_history_obj = SubjectScheduleHistory.objects.get(\n",
    "subject_identifier=subject_identifier,\n",
    "schedule_name = schedule_name_mother\n",
    ")\n",
    "\n",
    "subject_history_obj_child = SubjectScheduleHistory.objects.get(\n",
    "subject_identifier=child_subject_identifier,\n",
    "schedule_name = schedule_name_child\n",
    ")\n",
    "\n",
    "onschedule_model_cls= django_apps.get_model(subject_history_obj.onschedule_model)\n",
    "onschedule_model_cls_child= django_apps.get_model(subject_history_obj_child.onschedule_model)\n",
    "\n",
    "onschedule_model_obj_child = onschedule_model_cls_child.objects.get(\n",
    "    subject_identifier=child_subject_identifier,\n",
    "    schedule_name=schedule_name_child,\n",
    "    onschedule_datetime=subject_history_obj_child.onschedule_datetime,\n",
    ")\n",
    "onschedule_model_obj = onschedule_model_cls.objects.get(\n",
    "    subject_identifier=subject_identifier,\n",
    "    schedule_name=schedule_name_mother,\n",
    "    onschedule_datetime=subject_history_obj.onschedule_datetime,\n",
    ")\n",
    "onschedule_datetime = onschedule_model_obj_child.onschedule_datetime\n",
    "onschedule_model_obj.delete()\n",
    "onschedule_model_obj_child.delete()\n",
    "subject_history_obj.delete()\n",
    "subject_history_obj_child.delete()"
   ]
  },
  {
   "cell_type": "code",
   "execution_count": null,
   "metadata": {},
   "outputs": [],
   "source": [
    "from edc_visit_schedule.site_visit_schedules import site_visit_schedules\n",
    "from flourish_caregiver.models import MaternalVisit\n",
    "tz = pytz.timezone('Africa/Gaborone')\n",
    "\n",
    "maternal_visit = MaternalVisit.objects.get(subject_identifier=subject_identifier,visit_code='2000M')\n",
    "report_datetime = maternal_visit.report_datetime\n",
    "report_datetime = report_datetime.astimezone(tz)\n",
    "\n",
    "_, schedule = site_visit_schedules.get_by_onschedule_model_schedule_name(\n",
    "    onschedule_model='flourish_caregiver.onschedulecohortcsecquart',name=schedule_name_mother\n",
    ")\n",
    "schedule.put_on_schedule(\n",
    "    subject_identifier=subject_identifier,onschedule_datetime=onschedule_datetime,\n",
    "    schedule_name=schedule_name_mother,base_appt_datetime=report_datetime\n",
    ")\n",
    "print(\"Schedule created for\",schedule)"
   ]
  },
  {
   "cell_type": "code",
   "execution_count": null,
   "metadata": {},
   "outputs": [],
   "source": [
    "from edc_visit_schedule.site_visit_schedules import site_visit_schedules\n",
    "\n",
    "_, schedule = site_visit_schedules.get_by_onschedule_model_schedule_name(\n",
    "    onschedule_model='flourish_child.onschedulechildcohortcsecquart',name=schedule_name_child\n",
    ")\n",
    "schedule.put_on_schedule(\n",
    "    subject_identifier=child_subject_identifier,onschedule_datetime=onschedule_datetime,\n",
    "    schedule_name=schedule_name_child,base_appt_datetime=report_datetime\n",
    ")\n",
    "print(\"Schedule created for\",schedule)\n"
   ]
  },
  {
   "cell_type": "code",
   "execution_count": null,
   "metadata": {},
   "outputs": [],
   "source": [
    "from flourish_child.models.onschedule import OnScheduleChildCohortCSecQuart\n",
    "from flourish_caregiver.models import OnScheduleCohortCSecQuart\n",
    "child_schedule = OnScheduleChildCohortCSecQuart.objects.get(subject_identifier=child_subject_identifier)\n",
    "\n",
    "\n",
    "onschdule_mother= OnScheduleCohortCSecQuart.objects.get(subject_identifier=subject_identifier)\n",
    "onschdule_mother.child_subject_identifier =child_schedule.subject_identifier\n",
    "onschdule_mother.save()\n",
    "\n",
    "print(\"Linked with child\")"
   ]
  },
  {
   "cell_type": "code",
   "execution_count": null,
   "metadata": {},
   "outputs": [],
   "source": [
    "from edc_appointment.models import Appointment\n",
    "\n",
    "appointments_visit_codes = ['2013M','2014M','2015M','2016M']\n",
    "mother_appointments = Appointment.objects.filter(subject_identifier=subject_identifier,\n",
    "                                                 schedule_name=schedule_name_mother)\n",
    "\n",
    "for appointemnt in mother_appointments:\n",
    "    if appointemnt.visit_code not in appointments_visit_codes:\n",
    "        print(f'Deleting {appointemnt.visit_code}')\n",
    "        appointemnt.delete()"
   ]
  },
  {
   "cell_type": "code",
   "execution_count": null,
   "metadata": {},
   "outputs": [],
   "source": [
    "from flourish_child.models import Appointment \n",
    "\n",
    "appointments_visit_codes = ['2013','2014','2015','2016']\n",
    "child_appointments = Appointment.objects.filter(subject_identifier=child_subject_identifier,\n",
    "                                                 schedule_name=schedule_name_child)\n",
    "\n",
    "for appointemnt in child_appointments:\n",
    "    if appointemnt.visit_code not in appointments_visit_codes:\n",
    "        print(f'Deleting {appointemnt.visit_code}')\n",
    "        appointemnt.delete()"
   ]
  }
 ],
 "metadata": {
  "kernelspec": {
   "display_name": "flourish",
   "language": "python",
   "name": "python3"
  },
  "language_info": {
   "codemirror_mode": {
    "name": "ipython",
    "version": 3
   },
   "file_extension": ".py",
   "mimetype": "text/x-python",
   "name": "python",
   "nbconvert_exporter": "python",
   "pygments_lexer": "ipython3",
   "version": "3.11.3"
  },
  "orig_nbformat": 4
 },
 "nbformat": 4,
 "nbformat_minor": 2
}
