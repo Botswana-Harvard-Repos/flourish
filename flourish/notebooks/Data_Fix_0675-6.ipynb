{
 "cells": [
  {
   "cell_type": "code",
   "execution_count": null,
   "metadata": {
    "collapsed": false
   },
   "outputs": [],
   "source": [
    "import os, sys\n",
    "import django\n",
    "from datetime import datetime\n",
    "sys.path.append('../..') # add path to project root dir\n",
    "os.environ[\"DJANGO_SETTINGS_MODULE\"] = \"flourish.settings\"\n",
    "from django.apps import apps as django_apps\n",
    "os.environ[\"DJANGO_ALLOW_ASYNC_UNSAFE\"] = \"true\"\n",
    "from django.apps import apps as django_apps\n",
    "\n",
    "django.setup()"
   ]
  },
  {
   "attachments": {},
   "cell_type": "markdown",
   "metadata": {
    "collapsed": false
   },
   "source": [
    "redmine ticket 7730\n",
    "Corrent date weaned"
   ]
  },
  {
   "cell_type": "code",
   "execution_count": 3,
   "metadata": {
    "collapsed": false
   },
   "outputs": [],
   "source": [
    "from flourish_child.models import InfantFeeding\n",
    "from datetime import date\n",
    "\n",
    "subject_id = 'B142-040990675-6-10'\n",
    "correct_dt_weaned = date(2022,8,2)\n",
    "\n",
    "try:\n",
    "    infant_feeding = InfantFeeding.objects.get(\n",
    "        child_visit__subject_identifier='B142-040990675-6-10',child_visit__visit_code=2001)\n",
    "except InfantFeeding.DoesNotExist:\n",
    "    pass\n",
    "else:\n",
    "    infant_feeding.dt_weaned = correct_dt_weaned\n",
    "    infant_feeding.save()\n",
    "\n",
    "\n"
   ]
  }
 ],
 "metadata": {
  "kernelspec": {
   "display_name": "Python 3",
   "language": "python",
   "name": "python3"
  },
  "language_info": {
   "codemirror_mode": {
    "name": "ipython",
    "version": 3
   },
   "file_extension": ".py",
   "mimetype": "text/x-python",
   "name": "python",
   "nbconvert_exporter": "python",
   "pygments_lexer": "ipython3",
   "version": "3.11.3"
  }
 },
 "nbformat": 4,
 "nbformat_minor": 0
}
