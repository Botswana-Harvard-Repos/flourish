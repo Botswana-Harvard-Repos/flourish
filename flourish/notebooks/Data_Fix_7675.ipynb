{
 "cells": [
  {
   "cell_type": "code",
   "execution_count": null,
   "metadata": {
    "collapsed": false
   },
   "outputs": [],
   "source": [
    "import os, sys\n",
    "import django\n",
    "from datetime import datetime\n",
    "sys.path.append('../..') # add path to project root dir\n",
    "os.environ[\"DJANGO_SETTINGS_MODULE\"] = \"flourish.settings\"\n",
    "from django.apps import apps as django_apps\n",
    "os.environ[\"DJANGO_ALLOW_ASYNC_UNSAFE\"] = \"true\"\n",
    "from django.apps import apps as django_apps\n",
    "\n",
    "django.setup()"
   ]
  },
  {
   "attachments": {},
   "cell_type": "markdown",
   "metadata": {
    "collapsed": false
   },
   "source": [
    "redmine ticket 7675\n",
    "Change subject firstname name"
   ]
  },
  {
   "cell_type": "code",
   "execution_count": null,
   "metadata": {
    "collapsed": false
   },
   "outputs": [],
   "source": [
    "from flourish_caregiver.models import SubjectConsent, MaternalDataset, CaregiverLocator\n",
    "from edc_registration.models import RegisteredSubject\n",
    "\n",
    "subject_id = 'B142-040991130-1'\n",
    "first_name = 'GOABAONE'\n",
    "\n",
    "for model_class in [SubjectConsent, MaternalDataset, CaregiverLocator, RegisteredSubject]:\n",
    "    consent_objs = model_class.objects.filter(subject_identifier=subject_id)\n",
    "    for instance in consent_objs:\n",
    "        instance.first_name = first_name\n",
    "        print(model_class, instance.first_name)\n",
    "        instance.save()"
   ]
  }
 ],
 "metadata": {
  "kernelspec": {
   "display_name": "Python 3",
   "language": "python",
   "name": "python3"
  },
  "language_info": {
   "codemirror_mode": {
    "name": "ipython",
    "version": 3
   },
   "file_extension": ".py",
   "mimetype": "text/x-python",
   "name": "python",
   "nbconvert_exporter": "python",
   "pygments_lexer": "ipython3",
   "version": "3.11.3"
  }
 },
 "nbformat": 4,
 "nbformat_minor": 0
}
